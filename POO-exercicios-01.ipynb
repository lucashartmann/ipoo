{
 "cells": [
  {
   "cell_type": "markdown",
   "metadata": {},
   "source": [
    "# Exercício 1: Classe Pessoa\n",
    "Crie uma classe chamada `Pessoa` que tenha os atributos `nome` e `idade`. O construtor deve inicializar esses atributos. Adicione um método para exibir as informações da pessoa."
   ]
  },
  {
   "cell_type": "code",
   "execution_count": null,
   "metadata": {},
   "outputs": [],
   "source": [
    "# Exercício 1: Classe Pessoa\n",
    "\n",
    "# Definição da classe Pessoa\n",
    "class Pessoa:\n",
    "    def __init__(self, nome, idade):\n",
    "        # Inicializa os atributos nome e idade\n",
    "        self.nome = nome\n",
    "        self.idade = idade\n",
    "\n",
    "    def exibir_informacoes(self):\n",
    "        # Método para exibir as informações da pessoa\n",
    "        print(f\"Nome: {self.nome}, Idade: {self.idade}\")\n",
    "\n",
    "# Exemplo de uso da classe Pessoa\n",
    "pessoa1 = Pessoa(\"João\", 25)\n",
    "pessoa1.exibir_informacoes()\n",
    "\n",
    "pessoa2 = Pessoa(\"Maria\", 30)\n",
    "pessoa2.exibir_informacoes()"
   ]
  },
  {
   "cell_type": "markdown",
   "metadata": {},
   "source": [
    "# Exercício 2: Classe Produto\n",
    "Crie uma classe chamada `Produto` que tenha os atributos `nome`, `preco` e `quantidade`. O construtor deve inicializar esses atributos. Adicione um método para calcular o valor total do estoque do produto."
   ]
  },
  {
   "cell_type": "code",
   "execution_count": null,
   "metadata": {},
   "outputs": [],
   "source": [
    "# Exercício 2: Classe Produto\n",
    "\n",
    "# Definição da classe Produto\n",
    "class Produto:\n",
    "    def __init__(self, nome, preco, quantidade):\n",
    "        # Inicializa os atributos nome, preco e quantidade\n",
    "        self.nome = nome\n",
    "        self.preco = preco\n",
    "        self.quantidade = quantidade\n",
    "\n",
    "    def calcular_valor_estoque(self):\n",
    "        # Método para calcular o valor total do estoque\n",
    "        return self.preco * self.quantidade\n",
    "\n",
    "# Exemplo de uso da classe Produto\n",
    "produto1 = Produto(\"Notebook\", 3500.00, 10)\n",
    "print(f\"Produto: {produto1.nome}, Valor total do estoque: R${produto1.calcular_valor_estoque():.2f}\")\n",
    "\n",
    "produto2 = Produto(\"Smartphone\", 1500.00, 20)\n",
    "print(f\"Produto: {produto2.nome}, Valor total do estoque: R${produto2.calcular_valor_estoque():.2f}\")"
   ]
  },
  {
   "cell_type": "markdown",
   "metadata": {},
   "source": [
    "# Exercício 3: Classe ContaBancaria\n",
    "Crie uma classe chamada `ContaBancaria` que tenha os atributos `titular` e `saldo`. O construtor deve inicializar esses atributos. Adicione métodos para depositar e sacar valores, garantindo que o saldo nunca fique negativo."
   ]
  },
  {
   "cell_type": "code",
   "execution_count": null,
   "metadata": {},
   "outputs": [],
   "source": [
    "# Exercício 3: Classe ContaBancaria\n",
    "\n",
    "# Definição da classe ContaBancaria\n",
    "class ContaBancaria:\n",
    "    def __init__(self, titular, saldo):\n",
    "        # Inicializa os atributos titular e saldo\n",
    "        self.titular = titular\n",
    "        self.saldo = saldo\n",
    "\n",
    "    def depositar(self, valor):\n",
    "        # Método para depositar um valor na conta\n",
    "        if valor > 0:\n",
    "            self.saldo += valor\n",
    "            print(f\"Depósito de R${valor:.2f} realizado com sucesso.\")\n",
    "        else:\n",
    "            print(\"O valor do depósito deve ser positivo.\")\n",
    "\n",
    "    def sacar(self, valor):\n",
    "        # Método para sacar um valor da conta, garantindo que o saldo não fique negativo\n",
    "        if valor > 0:\n",
    "            if self.saldo >= valor:\n",
    "                self.saldo -= valor\n",
    "                print(f\"Saque de R${valor:.2f} realizado com sucesso.\")\n",
    "            else:\n",
    "                print(\"Saldo insuficiente para realizar o saque.\")\n",
    "        else:\n",
    "            print(\"O valor do saque deve ser positivo.\")\n",
    "\n",
    "    def exibir_saldo(self):\n",
    "        # Método para exibir o saldo atual da conta\n",
    "        print(f\"Titular: {self.titular}, Saldo: R${self.saldo:.2f}\")\n",
    "\n",
    "# Exemplo de uso da classe ContaBancaria\n",
    "conta1 = ContaBancaria(\"Carlos\", 1000.00)\n",
    "conta1.exibir_saldo()\n",
    "conta1.depositar(500.00)\n",
    "conta1.exibir_saldo()\n",
    "conta1.sacar(300.00)\n",
    "conta1.exibir_saldo()\n",
    "conta1.sacar(1500.00)  # Tentativa de saque com saldo insuficiente\n",
    "conta1.exibir_saldo()"
   ]
  }
 ],
 "metadata": {
  "kernelspec": {
   "display_name": "Python 3",
   "language": "python",
   "name": "python3"
  },
  "language_info": {
   "name": "python",
   "version": "3.13.2"
  },
  "orig_nbformat": 4
 },
 "nbformat": 4,
 "nbformat_minor": 2
}
