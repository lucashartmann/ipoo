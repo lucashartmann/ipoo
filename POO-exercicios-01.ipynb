{
 "cells": [
  {
   "cell_type": "markdown",
   "metadata": {},
   "source": [
    "# POO - Exercícios de Interpretação e Codificação\n",
    "\n",
    "Este notebook contém 5 exercícios de interpretação de código e 5 exercícios de codificação relacionados a Programação Orientada a Objetos (POO). Os tópicos abordados incluem definição de classes, construtores, instanciação, getters e setters, e invocação de métodos."
   ]
  },
  {
   "cell_type": "markdown",
   "metadata": {},
   "source": [
    "## Parte 1: Exercícios de Interpretação de Código"
   ]
  },
  {
   "cell_type": "markdown",
   "metadata": {},
   "source": [
    "### Exercício 1: Definição de Classe com Propriedades Padrão\n",
    "\n",
    "Considere o seguinte exemplo de código:\n",
    "\n",
    "```python\n",
    "class Pessoa:\n",
    "    nome = \"Desconhecido\"\n",
    "    idade = 0\n",
    "\n",
    "p = Pessoa()\n",
    "print(p.nome, p.idade)\n",
    "```\n",
    "\n",
    "**Pergunta:** O que será exibido ao executar o código acima? Explique o motivo."
   ]
  },
  {
   "cell_type": "markdown",
   "metadata": {},
   "source": [
    "### Exercício 2: Classe com Construtor\n",
    "\n",
    "Considere o seguinte exemplo de código:\n",
    "\n",
    "```python\n",
    "class Produto:\n",
    "    def __init__(self, nome, preco):\n",
    "        self.nome = nome\n",
    "        self.preco = preco\n",
    "\n",
    "p = Produto(\"Caneta\", 1.50)\n",
    "print(p.nome, p.preco)\n",
    "```\n",
    "\n",
    "**Pergunta:** O que será exibido ao executar o código acima? Explique como o construtor funciona."
   ]
  },
  {
   "cell_type": "markdown",
   "metadata": {},
   "source": [
    "### Exercício 3: Instanciação de Objetos\n",
    "\n",
    "Considere o seguinte exemplo de código:\n",
    "\n",
    "```python\n",
    "class Animal:\n",
    "    def __init__(self, especie):\n",
    "        self.especie = especie\n",
    "\n",
    "a1 = Animal(\"Cachorro\")\n",
    "a2 = Animal(\"Gato\")\n",
    "print(a1.especie, a2.especie)\n",
    "```\n",
    "\n",
    "**Pergunta:** O que será exibido ao executar o código acima? Explique como a instanciação funciona."
   ]
  },
  {
   "cell_type": "markdown",
   "metadata": {},
   "source": [
    "### Exercício 4: Getters e Setters\n",
    "\n",
    "Considere o seguinte exemplo de código:\n",
    "\n",
    "```python\n",
    "class Conta:\n",
    "    def __init__(self, saldo):\n",
    "        self.__saldo = saldo\n",
    "\n",
    "    def get_saldo(self):\n",
    "        return self.__saldo\n",
    "\n",
    "    def set_saldo(self, valor):\n",
    "        if valor >= 0:\n",
    "            self.__saldo = valor\n",
    "\n",
    "c = Conta(100)\n",
    "print(c.get_saldo())\n",
    "c.set_saldo(200)\n",
    "print(c.get_saldo())\n",
    "```\n",
    "\n",
    "**Pergunta:** O que será exibido ao executar o código acima? Explique o papel dos métodos `get_saldo` e `set_saldo`."
   ]
  },
  {
   "cell_type": "markdown",
   "metadata": {},
   "source": [
    "### Exercício 5: Invocação de Métodos\n",
    "\n",
    "Considere o seguinte exemplo de código:\n",
    "\n",
    "```python\n",
    "class Calculadora:\n",
    "    def somar(self, a, b):\n",
    "        return a + b\n",
    "\n",
    "calc = Calculadora()\n",
    "resultado = calc.somar(5, 3)\n",
    "print(resultado)\n",
    "```\n",
    "\n",
    "**Pergunta:** O que será exibido ao executar o código acima? Explique como o método `somar` é invocado."
   ]
  },
  {
   "cell_type": "markdown",
   "metadata": {},
   "source": [
    "## Parte 2: Exercícios de Codificação"
   ]
  },
  {
   "cell_type": "markdown",
   "metadata": {},
   "source": [
    "### Exercício 1: Criar uma Classe com Propriedades Padrão\n",
    "\n",
    "Crie uma classe chamada `Carro` com as propriedades padrão `marca` e `ano`. Instancie um objeto dessa classe e exiba os valores das propriedades."
   ]
  },
  {
   "cell_type": "markdown",
   "metadata": {},
   "source": [
    "### Exercício 2: Criar uma Classe com Construtor\n",
    "\n",
    "Crie uma classe chamada `Livro` com um construtor que receba os parâmetros `titulo` e `autor`. Instancie um objeto dessa classe e exiba os valores das propriedades."
   ]
  },
  {
   "cell_type": "markdown",
   "metadata": {},
   "source": [
    "### Exercício 3: Instanciar Objetos e Acessar Propriedades\n",
    "\n",
    "Crie uma classe chamada `Aluno` com as propriedades `nome` e `matricula`. Instancie dois objetos dessa classe com valores diferentes e exiba os valores das propriedades de cada objeto."
   ]
  },
  {
   "cell_type": "markdown",
   "metadata": {},
   "source": [
    "### Exercício 4: Implementar Getters e Setters\n",
    "\n",
    "Crie uma classe chamada `ContaBancaria` com uma propriedade `saldo`. Implemente métodos `get_saldo` e `set_saldo` para acessar e modificar o saldo, garantindo que o saldo nunca seja negativo."
   ]
  },
  {
   "cell_type": "markdown",
   "metadata": {},
   "source": [
    "### Exercício 5: Criar Métodos e Invocá-los\n",
    "\n",
    "Crie uma classe chamada `Retangulo` com as propriedades `largura` e `altura`. Adicione um método chamado `calcular_area` que retorna a área do retângulo. Instancie um objeto dessa classe, defina os valores de largura e altura, e exiba a área calculada."
   ]
  }
 ],
 "metadata": {
  "kernelspec": {
   "display_name": "Python 3",
   "language": "python",
   "name": "python3"
  },
  "language_info": {
   "codemirror_mode": {
    "name": "ipython",
    "version": 3
   },
   "file_extension": ".py",
   "mimetype": "text/x-python",
   "name": "python",
   "nbconvert_exporter": "python",
   "pygments_lexer": "ipython3",
   "version": "3.8.5"
  }
 },
 "nbformat": 4,
 "nbformat_minor": 4
}
