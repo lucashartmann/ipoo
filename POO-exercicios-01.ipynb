{
 "cells": [
  {
   "cell_type": "markdown",
   "metadata": {},
   "source": [
    "# POO - Exercícios de Interpretação e Codificação\n",
    "\n",
    "Este notebook contém 5 exercícios de interpretação de código e 5 exercícios de codificação relacionados a Programação Orientada a Objetos (POO). Os tópicos abordados incluem definição de classes, construtores, instanciação, getters e setters, e invocação de métodos."
   ]
  },
  {
   "cell_type": "markdown",
   "metadata": {},
   "source": [
    "## Parte 1: Exercícios de Interpretação de Código"
   ]
  },
  {
   "cell_type": "markdown",
   "metadata": {},
   "source": [
    "### Exercício 1: Definição de Classe com Propriedades Padrão\n",
    "\n",
    "Considere o seguinte exemplo de código:\n",
    "\n",
    "```python\n",
    "class Pessoa:\n",
    "    nome = \"Desconhecido\"\n",
    "    idade = 0\n",
    "\n",
    "p = Pessoa()\n",
    "print(p.nome, p.idade)\n",
    "```\n",
    "\n",
    "**Pergunta:** O que será exibido ao executar o código acima? Explique o motivo."
   ]
  },
  {
   "cell_type": "markdown",
   "metadata": {},
   "source": [
    "**Resposta:** Será exibido \"Desconhecida 0\" \n",
    "\n",
    "pois o código está criando um objeto \"Pessoa\" e armazenando ele em uma váriavel \"p\". Depois o código está imprimindo na tela os atributos \"nome\" e \"idade\" da Pessoa \"p\". No construtor podemos ver que os atributos ja estão definidos com valores. \"nome\" é \"Desconhecido\" e \"idade\" é 0. Esses valores não são alterados depois. Portanto o código imprime eles. "
   ]
  },
  {
   "cell_type": "markdown",
   "metadata": {},
   "source": [
    "### Exercício 2: Classe com Construtor\n",
    "\n",
    "Considere o seguinte exemplo de código:\n",
    "\n",
    "```python\n",
    "class Produto:\n",
    "    def __init__(self, nome, preco):\n",
    "        self.nome = nome\n",
    "        self.preco = preco\n",
    "\n",
    "p = Produto(\"Caneta\", 1.50)\n",
    "print(p.nome, p.preco)\n",
    "```\n",
    "\n",
    "**Pergunta:** O que será exibido ao executar o código acima? Explique como o construtor funciona."
   ]
  },
  {
   "cell_type": "markdown",
   "metadata": {},
   "source": [
    "**Resposta:** Será exibido \"Caneta 1.50\" \n",
    "\n",
    "O código está criando um objeto \"Produto\" e armazenando ele em uma váriavel \"p\". Depois o código está imprimindo na tela os atributos \"nome\" e \"preco\" do Produto \"p\". No construtor podemos ver que ele possui atributos mas eles não tem um valor pré definido no código, o valor deles é definido quando o objeto é criado e instanciado. Quando os atributos estão entre os parenteses no construtor significa que eles devem ser obrigatoriamente inseridos ao instanciar o objeto como ocorre quando o Produto é criado, é passado para ele entre parenteses \"Caneta\", 1.50. Caneta corresponde ao atributo nome, e preco corresponde ao atributo preco"
   ]
  },
  {
   "cell_type": "markdown",
   "metadata": {},
   "source": [
    "### Exercício 3: Instanciação de Objetos\n",
    "\n",
    "Considere o seguinte exemplo de código:\n",
    "\n",
    "```python\n",
    "class Animal:\n",
    "    def __init__(self, especie):\n",
    "        self.especie = especie\n",
    "\n",
    "a1 = Animal(\"Cachorro\")\n",
    "a2 = Animal(\"Gato\")\n",
    "print(a1.especie, a2.especie)\n",
    "```\n",
    "\n",
    "**Pergunta:** O que será exibido ao executar o código acima? Explique como a instanciação funciona."
   ]
  },
  {
   "cell_type": "markdown",
   "metadata": {},
   "source": [
    "**Resposta:** Será exibido \"Cachorro Gato\" \n",
    "\n",
    "Duas váriaveis estão sendo criadas no código, as duas são do tipo Animal e passam o valor do atributo entre os parenteses. a1 passa \"Cachorro\", a2 passa \"Gato\". Mas as duas váriaveis são do mesmo tipo Animal, elas possuem o mesmo construtor e atributos, que é a \"especie\". \n",
    "\n",
    "São dois objetos na memória mas do mesmo tipo e com valores diferentes.\n",
    "\n",
    "O construtor possui o atributo especie que é pedido na hora de instanciar o objeto. a1 e a2 passam o atributo. O print exibe a especie do a1 e depois do a2\n"
   ]
  },
  {
   "cell_type": "markdown",
   "metadata": {},
   "source": [
    "### Exercício 4: Getters e Setters\n",
    "\n",
    "Considere o seguinte exemplo de código:\n",
    "\n",
    "```python\n",
    "class Conta:\n",
    "    def __init__(self, saldo):\n",
    "        self.__saldo = saldo\n",
    "\n",
    "    def get_saldo(self):\n",
    "        return self.__saldo\n",
    "\n",
    "    def set_saldo(self, valor):\n",
    "        if valor >= 0:\n",
    "            self.__saldo = valor\n",
    "\n",
    "c = Conta(100)\n",
    "print(c.get_saldo())\n",
    "c.set_saldo(200)\n",
    "print(c.get_saldo())\n",
    "```\n",
    "\n",
    "**Pergunta:** O que será exibido ao executar o código acima? Explique o papel dos métodos `get_saldo` e `set_saldo`."
   ]
  },
  {
   "cell_type": "markdown",
   "metadata": {},
   "source": [
    "**Resposta:** \n",
    "\n",
    "Será exibido: \n",
    "\n",
    "100\n",
    "\n",
    "200\n",
    "\n",
    "O código cria uma váriavel chamada \"c\" do tipo Conta. Ele define que o valor do atributo \"saldo\" dessa váriavel é 100. Então ele pede para o \"saldo\" ser exibido na tela. Será exibido 100 pois esse foi o valor definido na hora de instanciar o objeto. Depois o código ira mudar o valor do \"saldo\" da váriavel \"c\" para 200, então pede para imprimir o valor do saldo que agora é 200 pois foi mudado usando o método \"set_saldo()\"\n",
    "\n",
    "O get_saldo() só retorna o valor do saldo que é definido quando o objeto for instanciado ou quando o set_saldo() for usado. Quando o get_saldo() é usado, ele retorna o saldo da conta. Não é preciso passar nenhum valor para ele.\n",
    "\n",
    "O set_saldo() recebe um valor, se esse valor for maior ou igual á 0, ele susbtitui o valor do saldo por esse valor passado para o método. Quando esse método é usado, o código deve passar um valor para ele que ira susbtituir o saldo da conta. "
   ]
  },
  {
   "cell_type": "markdown",
   "metadata": {},
   "source": [
    "### Exercício 5: Invocação de Métodos\n",
    "\n",
    "Considere o seguinte exemplo de código:\n",
    "\n",
    "```python\n",
    "class Calculadora:\n",
    "    def somar(self, a, b):\n",
    "        return a + b\n",
    "\n",
    "calc = Calculadora()\n",
    "resultado = calc.somar(5, 3)\n",
    "print(resultado)\n",
    "```\n",
    "\n",
    "**Pergunta:** O que será exibido ao executar o código acima? Explique como o método `somar` é invocado."
   ]
  },
  {
   "cell_type": "markdown",
   "metadata": {},
   "source": [
    "**Resposta:** Será exibido: 8\n",
    "\n",
    "O código cria uma váriavel \"calc\" do tipo \"Calculadora\", após isso ele cria outra variável \"resultado\" que chama o método \"somar\" da \"Calculadora\" passando dois números: 5 e 3. Depois o código imprime o valor da váriavel \"resultado\", que é 8 pois é a soma de 5 e 3\n",
    "\n",
    "O método somar recebe dois valores, então retorna a soma desses dois valores. Esse método está dentro da classe \"Calculadora\". No código, \"calc\" é do tipo \"Calculadora\". Como o método está dentro da \"Calculadora\" tem que ser chamado assim \"calc.somar(valor1, valor2)\", quando se bota \"calc.\" você consegue acessar todos os métodos do objeto \"Calculadora\", aí basta completar com o nome do método desejado \"calc.somar\" não esquecendo que o método deve receber dois valores \"calc.somar(valor1, valor2)\""
   ]
  },
  {
   "cell_type": "markdown",
   "metadata": {},
   "source": [
    "## Parte 2: Exercícios de Codificação"
   ]
  },
  {
   "cell_type": "markdown",
   "metadata": {},
   "source": [
    "### Exercício 1: Criar uma Classe com Propriedades Padrão\n",
    "\n",
    "Crie uma classe chamada `Carro` com as propriedades padrão `marca` e `ano`. Instancie um objeto dessa classe e exiba os valores das propriedades."
   ]
  },
  {
   "cell_type": "code",
   "execution_count": 3,
   "metadata": {},
   "outputs": [
    {
     "name": "stdout",
     "output_type": "stream",
     "text": [
      "Renault\n",
      "2008\n"
     ]
    }
   ],
   "source": [
    "class Carro:\n",
    "    marca = \"Renault\"\n",
    "    ano = 2008\n",
    "\n",
    "car = Carro()\n",
    "print(car.marca)\n",
    "print(car.ano)"
   ]
  },
  {
   "cell_type": "markdown",
   "metadata": {},
   "source": [
    "### Exercício 2: Criar uma Classe com Construtor\n",
    "\n",
    "Crie uma classe chamada `Livro` com um construtor que receba os parâmetros `titulo` e `autor`. Instancie um objeto dessa classe e exiba os valores das propriedades."
   ]
  },
  {
   "cell_type": "code",
   "execution_count": 7,
   "metadata": {},
   "outputs": [
    {
     "name": "stdout",
     "output_type": "stream",
     "text": [
      "Sitio do Pica Pau Amarelo\n",
      "Monteiro Lobato\n"
     ]
    }
   ],
   "source": [
    "class Livro:\n",
    "    def __init__(self, titulo, autor):\n",
    "        self.titulo = titulo\n",
    "        self.autor = autor\n",
    "\n",
    "book = Livro(\"Sitio do Pica Pau Amarelo\", \"Monteiro Lobato\")\n",
    "print(book.titulo)\n",
    "print(book.autor)"
   ]
  },
  {
   "cell_type": "markdown",
   "metadata": {},
   "source": [
    "### Exercício 3: Instanciar Objetos e Acessar Propriedades\n",
    "\n",
    "Crie uma classe chamada `Aluno` com as propriedades `nome` e `matricula`. Instancie dois objetos dessa classe com valores diferentes e exiba os valores das propriedades de cada objeto."
   ]
  },
  {
   "cell_type": "markdown",
   "metadata": {},
   "source": [
    "### Exercício 4: Implementar Getters e Setters\n",
    "\n",
    "Crie uma classe chamada `ContaBancaria` com uma propriedade `saldo`. Implemente métodos `get_saldo` e `set_saldo` para acessar e modificar o saldo, garantindo que o saldo nunca seja negativo."
   ]
  },
  {
   "cell_type": "markdown",
   "metadata": {},
   "source": [
    "### Exercício 5: Criar Métodos e Invocá-los\n",
    "\n",
    "Crie uma classe chamada `Retangulo` com as propriedades `largura` e `altura`. Adicione um método chamado `calcular_area` que retorna a área do retângulo. Instancie um objeto dessa classe, defina os valores de largura e altura, e exiba a área calculada."
   ]
  }
 ],
 "metadata": {
  "kernelspec": {
   "display_name": "Python 3",
   "language": "python",
   "name": "python3"
  },
  "language_info": {
   "codemirror_mode": {
    "name": "ipython",
    "version": 3
   },
   "file_extension": ".py",
   "mimetype": "text/x-python",
   "name": "python",
   "nbconvert_exporter": "python",
   "pygments_lexer": "ipython3",
   "version": "3.13.3"
  }
 },
 "nbformat": 4,
 "nbformat_minor": 4
}
