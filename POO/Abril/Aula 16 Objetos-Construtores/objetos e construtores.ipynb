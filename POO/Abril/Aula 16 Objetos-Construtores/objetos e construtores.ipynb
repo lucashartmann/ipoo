{
 "cells": [
  {
   "cell_type": "code",
   "execution_count": 10,
   "metadata": {},
   "outputs": [],
   "source": [
    "class DiscoVoador:\n",
    "    velocidade = 0\n",
    "    carga_dos_lasers = 0\n",
    "    quant_canhoes = 2"
   ]
  },
  {
   "cell_type": "code",
   "execution_count": 2,
   "metadata": {},
   "outputs": [],
   "source": [
    "disco1 = DiscoVoador()\n",
    "disco2 = DiscoVoador()"
   ]
  },
  {
   "cell_type": "code",
   "execution_count": 4,
   "metadata": {},
   "outputs": [],
   "source": [
    "disco1.velocidade = 10 # Set no java"
   ]
  },
  {
   "cell_type": "code",
   "execution_count": 5,
   "metadata": {},
   "outputs": [
    {
     "data": {
      "text/plain": [
       "10"
      ]
     },
     "execution_count": 5,
     "metadata": {},
     "output_type": "execute_result"
    }
   ],
   "source": [
    "disco1.velocidade # Get no java"
   ]
  },
  {
   "cell_type": "code",
   "execution_count": 6,
   "metadata": {},
   "outputs": [
    {
     "data": {
      "text/plain": [
       "0"
      ]
     },
     "execution_count": 6,
     "metadata": {},
     "output_type": "execute_result"
    }
   ],
   "source": [
    "disco2.velocidade "
   ]
  },
  {
   "cell_type": "code",
   "execution_count": 7,
   "metadata": {},
   "outputs": [
    {
     "ename": "AttributeError",
     "evalue": "'DiscoVoador' object has no attribute 'quant_canhoes'",
     "output_type": "error",
     "traceback": [
      "\u001b[31m---------------------------------------------------------------------------\u001b[39m",
      "\u001b[31mAttributeError\u001b[39m                            Traceback (most recent call last)",
      "\u001b[36mCell\u001b[39m\u001b[36m \u001b[39m\u001b[32mIn[7]\u001b[39m\u001b[32m, line 1\u001b[39m\n\u001b[32m----> \u001b[39m\u001b[32m1\u001b[39m \u001b[43mdisco1\u001b[49m\u001b[43m.\u001b[49m\u001b[43mquant_canhoes\u001b[49m\n",
      "\u001b[31mAttributeError\u001b[39m: 'DiscoVoador' object has no attribute 'quant_canhoes'"
     ]
    }
   ],
   "source": [
    "disco1.quant_canhoes # Disco1 foi criado antes do atributo quant_canhoes existir, por isso, não possui acesso ao atributo, ele teria que ser instanciado novamente"
   ]
  },
  {
   "cell_type": "code",
   "execution_count": 11,
   "metadata": {},
   "outputs": [],
   "source": [
    "disco3 = DiscoVoador() # Disco3 foi criado depois do atributo quant_canhoes existir"
   ]
  },
  {
   "cell_type": "code",
   "execution_count": 12,
   "metadata": {},
   "outputs": [
    {
     "data": {
      "text/plain": [
       "2"
      ]
     },
     "execution_count": 12,
     "metadata": {},
     "output_type": "execute_result"
    }
   ],
   "source": [
    "disco3.quant_canhoes"
   ]
  },
  {
   "cell_type": "code",
   "execution_count": 13,
   "metadata": {},
   "outputs": [
    {
     "name": "stdout",
     "output_type": "stream",
     "text": [
      "0\n",
      "2\n",
      "0\n"
     ]
    }
   ],
   "source": [
    "disco1 = DiscoVoador()\n",
    "print(disco1.carga_dos_lasers)\n",
    "print(disco1.quant_canhoes)\n",
    "print(disco1.velocidade)"
   ]
  },
  {
   "cell_type": "code",
   "execution_count": 14,
   "metadata": {},
   "outputs": [
    {
     "name": "stdout",
     "output_type": "stream",
     "text": [
      "0\n",
      "2\n",
      "0\n",
      "True\n"
     ]
    }
   ],
   "source": [
    "disco2 = DiscoVoador()\n",
    "disco2.voando = True\n",
    "print(disco2.carga_dos_lasers)\n",
    "print(disco2.quant_canhoes)\n",
    "print(disco2.velocidade)\n",
    "print(disco2.voando)"
   ]
  },
  {
   "cell_type": "markdown",
   "metadata": {},
   "source": [
    "### Construtor"
   ]
  },
  {
   "cell_type": "code",
   "execution_count": 15,
   "metadata": {},
   "outputs": [],
   "source": [
    "class DiscoVoador:\n",
    "    def __init__(self):\n",
    "        self.velocidade = 0\n",
    "        self.carga_lasers = 20\n",
    "        self.quant_canhoes = 2"
   ]
  },
  {
   "cell_type": "markdown",
   "metadata": {},
   "source": [
    "#### Inicialização"
   ]
  },
  {
   "cell_type": "code",
   "execution_count": 16,
   "metadata": {},
   "outputs": [],
   "source": [
    "disco = DiscoVoador()"
   ]
  },
  {
   "cell_type": "markdown",
   "metadata": {},
   "source": [
    "#### Ver valores dos atributos"
   ]
  },
  {
   "cell_type": "code",
   "execution_count": 17,
   "metadata": {},
   "outputs": [
    {
     "name": "stdout",
     "output_type": "stream",
     "text": [
      "0\n",
      "20\n",
      "2\n"
     ]
    }
   ],
   "source": [
    "print(disco.velocidade)\n",
    "print(disco.carga_lasers)\n",
    "print(disco.quant_canhoes)"
   ]
  },
  {
   "cell_type": "code",
   "execution_count": 18,
   "metadata": {},
   "outputs": [],
   "source": [
    "class Livro:\n",
    "    def __init__(self, titulo):\n",
    "        self.titulo = titulo\n",
    "        self.autor = \"\"\n",
    "        self.isbn = 0"
   ]
  },
  {
   "cell_type": "code",
   "execution_count": 19,
   "metadata": {},
   "outputs": [
    {
     "ename": "TypeError",
     "evalue": "Livro.__init__() missing 1 required positional argument: 'titulo'",
     "output_type": "error",
     "traceback": [
      "\u001b[31m---------------------------------------------------------------------------\u001b[39m",
      "\u001b[31mTypeError\u001b[39m                                 Traceback (most recent call last)",
      "\u001b[36mCell\u001b[39m\u001b[36m \u001b[39m\u001b[32mIn[19]\u001b[39m\u001b[32m, line 1\u001b[39m\n\u001b[32m----> \u001b[39m\u001b[32m1\u001b[39m livro = \u001b[43mLivro\u001b[49m\u001b[43m(\u001b[49m\u001b[43m)\u001b[49m\n",
      "\u001b[31mTypeError\u001b[39m: Livro.__init__() missing 1 required positional argument: 'titulo'"
     ]
    }
   ],
   "source": [
    "livro = Livro()"
   ]
  },
  {
   "cell_type": "code",
   "execution_count": 20,
   "metadata": {},
   "outputs": [],
   "source": [
    "livro = Livro(\"Harry Potter\")"
   ]
  },
  {
   "cell_type": "code",
   "execution_count": 21,
   "metadata": {},
   "outputs": [
    {
     "data": {
      "text/plain": [
       "'Harry Potter'"
      ]
     },
     "execution_count": 21,
     "metadata": {},
     "output_type": "execute_result"
    }
   ],
   "source": [
    "livro.titulo"
   ]
  },
  {
   "cell_type": "code",
   "execution_count": 22,
   "metadata": {},
   "outputs": [
    {
     "data": {
      "text/plain": [
       "0"
      ]
     },
     "execution_count": 22,
     "metadata": {},
     "output_type": "execute_result"
    }
   ],
   "source": [
    "livro.isbn"
   ]
  },
  {
   "cell_type": "code",
   "execution_count": 23,
   "metadata": {},
   "outputs": [],
   "source": [
    "livro2 = Livro(\"Senhor dos Anéis\")"
   ]
  },
  {
   "cell_type": "code",
   "execution_count": 24,
   "metadata": {},
   "outputs": [],
   "source": [
    "livros = []"
   ]
  },
  {
   "cell_type": "code",
   "execution_count": 25,
   "metadata": {},
   "outputs": [],
   "source": [
    "livros.append(livro)\n",
    "livros.append(livro2)"
   ]
  },
  {
   "cell_type": "code",
   "execution_count": 28,
   "metadata": {},
   "outputs": [
    {
     "name": "stdout",
     "output_type": "stream",
     "text": [
      "Titulo:  Harry Potter\n",
      "Autor: \n",
      "BN: 0\n",
      "---------\n",
      "Titulo:  Senhor dos Anéis\n",
      "Autor: \n",
      "BN: 0\n",
      "---------\n"
     ]
    }
   ],
   "source": [
    "for livro in livros:\n",
    "    print(f\"Titulo:  {livro.titulo}\")\n",
    "    print(f\"Autor: {livro.autor}\")\n",
    "    print(f\"BN: {livro.isbn}\")\n",
    "    print(\"---------\")"
   ]
  },
  {
   "cell_type": "code",
   "execution_count": 32,
   "metadata": {},
   "outputs": [
    {
     "name": "stdout",
     "output_type": "stream",
     "text": [
      "\n",
      "    Titulo:  Harry Potter\n",
      "    Autor: \n",
      "    BN: 0\n",
      "    --------- \n",
      "\n",
      "    Titulo:  Senhor dos Anéis\n",
      "    Autor: \n",
      "    BN: 0\n",
      "    --------- \n"
     ]
    }
   ],
   "source": [
    "for livro in livros:\n",
    "    print(f'''\n",
    "    Titulo:  {livro.titulo}\n",
    "    Autor: {livro.autor}\n",
    "    BN: {livro.isbn}\n",
    "    --------- ''')"
   ]
  },
  {
   "cell_type": "code",
   "execution_count": 57,
   "metadata": {},
   "outputs": [],
   "source": [
    "class Livro:\n",
    "    def __init__(self, titulo):\n",
    "        self.titulo = titulo\n",
    "        self.autor = \"\"\n",
    "        self.isbn = 0\n",
    "\n",
    "    def setAutor(self, nome):\n",
    "        if nome != \"\":\n",
    "            self.autor = nome\n"
   ]
  },
  {
   "cell_type": "code",
   "execution_count": 52,
   "metadata": {},
   "outputs": [],
   "source": [
    "maus = Livro(\"Maus\")"
   ]
  },
  {
   "cell_type": "code",
   "execution_count": 53,
   "metadata": {},
   "outputs": [],
   "source": [
    "maus.setAutor(\"Napolean\")"
   ]
  },
  {
   "cell_type": "code",
   "execution_count": 54,
   "metadata": {},
   "outputs": [
    {
     "data": {
      "text/plain": [
       "'Napolean'"
      ]
     },
     "execution_count": 54,
     "metadata": {},
     "output_type": "execute_result"
    }
   ],
   "source": [
    "maus.autor"
   ]
  },
  {
   "cell_type": "code",
   "execution_count": 55,
   "metadata": {},
   "outputs": [],
   "source": [
    "maus.setAutor(\"\")"
   ]
  },
  {
   "cell_type": "code",
   "execution_count": 56,
   "metadata": {},
   "outputs": [
    {
     "data": {
      "text/plain": [
       "'Napolean'"
      ]
     },
     "execution_count": 56,
     "metadata": {},
     "output_type": "execute_result"
    }
   ],
   "source": [
    "maus.autor"
   ]
  },
  {
   "cell_type": "code",
   "execution_count": 59,
   "metadata": {},
   "outputs": [],
   "source": [
    "class Biblioteca:\n",
    "    def __init__(self):\n",
    "        self.livros = []\n",
    "\n",
    "    def cadastrar(self, livro):\n",
    "        if livro not in self.livros:\n",
    "            self.livros.append(livro)\n",
    "            return True\n",
    "        return False\n",
    "    \n",
    "    def consultar(self, titulo):\n",
    "        for livro in self.livros:\n",
    "            if livro.titulo == titulo:\n",
    "                return livro\n",
    "        return None\n",
    "\n",
    "    def emprestar(self, livro):\n",
    "        if livro in self.livros:\n",
    "            livros.remove(livro)\n",
    "            return True\n",
    "        return False"
   ]
  },
  {
   "cell_type": "code",
   "execution_count": 60,
   "metadata": {},
   "outputs": [],
   "source": [
    "biblio1 = Biblioteca()"
   ]
  },
  {
   "cell_type": "code",
   "execution_count": 61,
   "metadata": {},
   "outputs": [],
   "source": [
    "livro1 = Livro(\"Maus\")"
   ]
  },
  {
   "cell_type": "code",
   "execution_count": 62,
   "metadata": {},
   "outputs": [
    {
     "data": {
      "text/plain": [
       "True"
      ]
     },
     "execution_count": 62,
     "metadata": {},
     "output_type": "execute_result"
    }
   ],
   "source": [
    "biblio1.cadastrar(livro1)"
   ]
  },
  {
   "cell_type": "code",
   "execution_count": 63,
   "metadata": {},
   "outputs": [
    {
     "name": "stdout",
     "output_type": "stream",
     "text": [
      "Maus\n"
     ]
    }
   ],
   "source": [
    "livro = biblio1.consultar(\"Maus\")\n",
    "print(livro.titulo)"
   ]
  }
 ],
 "metadata": {
  "kernelspec": {
   "display_name": "Python 3",
   "language": "python",
   "name": "python3"
  },
  "language_info": {
   "codemirror_mode": {
    "name": "ipython",
    "version": 3
   },
   "file_extension": ".py",
   "mimetype": "text/x-python",
   "name": "python",
   "nbconvert_exporter": "python",
   "pygments_lexer": "ipython3",
   "version": "3.13.3"
  }
 },
 "nbformat": 4,
 "nbformat_minor": 2
}
