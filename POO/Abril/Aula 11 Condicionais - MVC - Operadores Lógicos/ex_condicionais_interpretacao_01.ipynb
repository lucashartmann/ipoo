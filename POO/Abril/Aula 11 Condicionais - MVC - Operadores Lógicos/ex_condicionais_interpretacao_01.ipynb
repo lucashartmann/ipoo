{
 "cells": [
  {
   "cell_type": "markdown",
   "metadata": {},
   "source": [
    "### Exercício 1: Interpretação de Código - Verificação de Número Positivo ou Negativo\n",
    "\n",
    "**Código:**\n",
    "```python\n",
    "numero = int(input(\"Digite um número: \"))\n",
    "\n",
    "if numero >= 0:\n",
    "    print(\"O número é positivo.\")\n",
    "else:\n",
    "    print(\"O número é negativo.\")\n",
    "```\n",
    "\n",
    "**Instruções:**\n",
    "1. Explique o que o código faz.\n",
    "2. Dê exemplos de entrada e saída.\n",
    "3. Modifique o código para que ele também verifique se o número é zero e imprima \"O número é zero.\"\n"
   ]
  },
  {
   "cell_type": "markdown",
   "metadata": {},
   "source": [
    "1. O código pede para o usuário digitar um número. Depois do número ser digitado, ele guarda esse número em uma váriavel na memória chamada numero. Após isso, ele verifica se o valor da variável numero é maior ou igual a 0. Se for maior ou igual a zero, ele exibe na tela um texto dizendo que o número é positivo, caso contrário ele exibe na tela que o número é negativo\n",
    "\n",
    "2. - Exemplo: Usuário digitou o número 2. Variável passa a ser 2. O programa verifica que 2 é maior que zero, então imprime \"o número é positivo.\"\n",
    "    - Outro Exemplo: Usuário digitou -1, o programa guarda esse numero na variável numero. Ele verifica se o numero é maior ou igual a 0, -1 é menor que zero, portanto a condição é falsa. O programa exibe \"o número é negativo\""
   ]
  },
  {
   "cell_type": "markdown",
   "metadata": {},
   "source": [
    "3."
   ]
  },
  {
   "cell_type": "code",
   "execution_count": 3,
   "metadata": {},
   "outputs": [
    {
     "name": "stdout",
     "output_type": "stream",
     "text": [
      "O número é positivo.\n"
     ]
    }
   ],
   "source": [
    "numero = int(input(\"Digite um número: \"))\n",
    "\n",
    "if numero == 0:\n",
    "    print(\"O número é zero\")\n",
    "elif numero >= 0:\n",
    "    print(\"O número é positivo.\")\n",
    "else:\n",
    "    print(\"O número é negativo.\")"
   ]
  },
  {
   "cell_type": "markdown",
   "metadata": {},
   "source": [
    "\n",
    "### Exercício 2: Interpretação de Código - Verificação de Dia da Semana\n",
    "\n",
    "**Código:**\n",
    "```python\n",
    "dia = input(\"Digite o nome do dia da semana: \")\n",
    "\n",
    "if dia == \"sábado\" or dia == \"domingo\":\n",
    "    print(\"É fim de semana.\")\n",
    "else:\n",
    "    print(\"É dia de semana.\")\n",
    "```\n",
    "\n",
    "**Instruções:**\n",
    "1. Explique o que o código faz.\n",
    "2. Dê exemplos de entrada e saída.\n",
    "3. Modifique o código para que ele também verifique se o dia é \"segunda-feira\" e imprima \"É segunda-feira, começo de semana!\"\n"
   ]
  },
  {
   "cell_type": "markdown",
   "metadata": {},
   "source": [
    "1. O código pede para o usuário digitar um nome do dia da semana. Depois do nome ser digitado, ele guarda esse nome em uma váriavel na memória chamada dia. Após isso, ele verifica se o valor da variável dia igual á sábado ou domingo. Se igual á pelo menos um desses valores, ele exibe na tela um texto dizendo que É fim de semana, caso contrário ele exibe na tela um texto dizendo que É dia de semana\n",
    "\n",
    "2. - Exemplo: Usuário digitou o nome sábado. Variável passa a ser sábado. O programa verifica se sábado é igual á sábado ou domingo, sábado é igual á sábado, então imprime \"É fim de semana.\"\n",
    "    - Outro Exemplo: Usuário digitou Domingo com d maiúsculo. Variável passa a ser Domingo. O programa verifica se Domingo é igual á sábado ou domingo, Domingo não é igual á nenhum dos dois. Ele é diferente de domingo, pois inicia com letra maiúscula,  portanto a condição é falsa. O programa exibe \"É dia de semana\""
   ]
  },
  {
   "cell_type": "markdown",
   "metadata": {},
   "source": [
    "3."
   ]
  },
  {
   "cell_type": "code",
   "execution_count": 7,
   "metadata": {},
   "outputs": [
    {
     "name": "stdout",
     "output_type": "stream",
     "text": [
      "É fim de semana.\n"
     ]
    }
   ],
   "source": [
    "dia = input(\"Digite o nome do dia da semana: \")\n",
    "\n",
    "if dia == \"segunda-feira\":\n",
    "    print(\"É segunda-feira, começo de semana!\")\n",
    "elif dia == \"sábado\" or dia == \"domingo\":\n",
    "    print(\"É fim de semana.\")\n",
    "else:\n",
    "    print(\"É dia de semana.\")"
   ]
  },
  {
   "cell_type": "markdown",
   "metadata": {},
   "source": [
    "\n",
    "### Exercício 3: Interpretação de Código - Verificação de Nota\n",
    "\n",
    "**Código:**\n",
    "```python\n",
    "nota = float(input(\"Digite a nota do aluno: \"))\n",
    "\n",
    "if nota >= 7:\n",
    "    print(\"Aprovado.\")\n",
    "else:\n",
    "    print(\"Reprovado.\")\n",
    "```\n",
    "\n",
    "**Instruções:**\n",
    "1. Explique o que o código faz.\n",
    "2. Dê exemplos de entrada e saída.\n",
    "3. Modifique o código para que ele também verifique se a nota é menor que 4 e imprima \"Reprovado por falta de frequência.\"\n"
   ]
  },
  {
   "cell_type": "markdown",
   "metadata": {},
   "source": [
    "1. O código pede para o usuário digitar a nota de um aluno. Depois da nota ser digitado, ele guarda esse nota em uma váriavel na memória chamada nota. Após isso, ele verifica se o valor da variável nota é maior ou igual a sete. Se for maior ou igual a sete, ele exibe na tela um texto dizendo que \"Aprovado.\" caso contrário ele exibe na tela \"Reprovado.\"\n",
    "\n",
    "2. - Exemplo: Usuário digitou o número 10. Variável passa a ser 10. O programa verifica que 10 é maior que sete, então imprime \"Aprovado.\"\n",
    "    - Outro Exemplo: Usuário digitou 2, o programa guarda esse numero na variável nota. Ele verifica se a nota é maior ou igual a sete, 2 é menor que sete, portanto a condição é falsa. O programa exibe \"Reprovado.\""
   ]
  },
  {
   "cell_type": "markdown",
   "metadata": {},
   "source": [
    "3."
   ]
  },
  {
   "cell_type": "code",
   "execution_count": 10,
   "metadata": {},
   "outputs": [
    {
     "name": "stdout",
     "output_type": "stream",
     "text": [
      "Reprovado por falta de frequência.\n"
     ]
    }
   ],
   "source": [
    "nota = float(input(\"Digite a nota do aluno: \"))\n",
    "\n",
    "if nota < 4:\n",
    "    print(\"Reprovado por falta de frequência.\")\n",
    "elif nota >= 7:\n",
    "    print(\"Aprovado.\")\n",
    "else:\n",
    "    print(\"Reprovado.\")"
   ]
  }
 ],
 "metadata": {
  "kernelspec": {
   "display_name": "Python 3",
   "language": "python",
   "name": "python3"
  },
  "language_info": {
   "codemirror_mode": {
    "name": "ipython",
    "version": 3
   },
   "file_extension": ".py",
   "mimetype": "text/x-python",
   "name": "python",
   "nbconvert_exporter": "python",
   "pygments_lexer": "ipython3",
   "version": "3.13.3"
  }
 },
 "nbformat": 4,
 "nbformat_minor": 2
}
