{
 "cells": [
  {
   "cell_type": "markdown",
   "metadata": {},
   "source": [
    "## Exemplos com listas"
   ]
  },
  {
   "cell_type": "markdown",
   "metadata": {},
   "source": [
    "Livraria"
   ]
  },
  {
   "cell_type": "markdown",
   "metadata": {},
   "source": [
    "### Inicialização da lista de livros"
   ]
  },
  {
   "cell_type": "code",
   "execution_count": null,
   "metadata": {},
   "outputs": [],
   "source": [
    "livros = [\n",
    "    \"DOM CASMURRO\",\n",
    "    \"O GUARANI\",\n",
    "    \"MEMÓRIAS PÓSTUMAS DE BRÁS CUBAS\",\n",
    "    \"A MORENINHA\",\n",
    "    \"VIDAS SECAS\",\n",
    "    \"O CORTIÇO\",\n",
    "    \"CAPITÃES DA AREIA\",\n",
    "    \"A HORA DA ESTRELA\",\n",
    "    \"IRACEMA\",\n",
    "    \"O PRIMO BASÍLIO\"\n",
    "]\n",
    "\n"
   ]
  },
  {
   "cell_type": "markdown",
   "metadata": {},
   "source": [
    "### Cadastro de livros"
   ]
  },
  {
   "cell_type": "code",
   "execution_count": null,
   "metadata": {},
   "outputs": [],
   "source": [
    "livro_novo = input(\"Digite nome do livro: \")\n",
    "# convertemos o valor para maiúsculas antes de\n",
    "# adicionar à lista. Por questão de normalização.\n",
    "livros.append(livro_novo.upper())\n",
    "\n",
    "# imprimimos a lista invertida para encotrar mais\n",
    "# facilmente o novo ítem inserido, que é o último.\n",
    "print(list(reversed(livros))) "
   ]
  },
  {
   "cell_type": "markdown",
   "metadata": {},
   "source": [
    "Agora, cuidamos para não cadastrar livros duplicados."
   ]
  },
  {
   "cell_type": "code",
   "execution_count": null,
   "metadata": {},
   "outputs": [],
   "source": [
    "livro_novo = input(\"Digite nome do livro: \").upper()\n",
    "\n",
    "## não posso cadastrar livro que já existe na lista\n",
    "if livro_novo not in livros:\n",
    "    livros.append(livro_novo)\n",
    "else:\n",
    "    print(\"Livro já cadastrado\")\n",
    "\n",
    "# imprimimos a lista invertida para encotrar mais\n",
    "# facilmente o novo ítem inserido, que é o último.\n",
    "print(list(reversed(livros))) "
   ]
  },
  {
   "cell_type": "code",
   "execution_count": null,
   "metadata": {},
   "outputs": [],
   "source": [
    "\"TIETA\" not in livros"
   ]
  },
  {
   "cell_type": "markdown",
   "metadata": {},
   "source": [
    "### Pesquisar livro"
   ]
  },
  {
   "cell_type": "code",
   "execution_count": null,
   "metadata": {},
   "outputs": [],
   "source": [
    "livro_pesquisado = input(\"Digite o título do livro procurado: \").upper()\n",
    "\n",
    "if livro_pesquisado in livros:\n",
    "    print(\"Livro encontrado:\", livro_pesquisado)\n",
    "else:\n",
    "    print(\"Livro não encontrado\")\n"
   ]
  },
  {
   "cell_type": "code",
   "execution_count": null,
   "metadata": {},
   "outputs": [],
   "source": [
    "livro_pesquisado.upper()\n"
   ]
  },
  {
   "cell_type": "markdown",
   "metadata": {},
   "source": [
    "### Excluir livros"
   ]
  },
  {
   "cell_type": "code",
   "execution_count": null,
   "metadata": {},
   "outputs": [],
   "source": [
    "livro_a_excluir = input(\"Digite o título do livro a excluir: \").upper()\n",
    "\n",
    "if livro_a_excluir in livros:\n",
    "    livros.remove(livro_a_excluir)\n",
    "    print(\"Livro excluído com sucesso.\")\n",
    "    print(list(reversed(livros))) \n",
    "else:\n",
    "    print(\"Livro não encontrado.\")"
   ]
  },
  {
   "cell_type": "markdown",
   "metadata": {},
   "source": [
    "### Modificar livro da lista"
   ]
  },
  {
   "cell_type": "code",
   "execution_count": null,
   "metadata": {},
   "outputs": [],
   "source": [
    "# Modificar é substituir um valor por outro\n",
    "valor_a_modificar   = input(\"Digite título do livro a modificar\").upper()\n",
    "novo_valor          = input(\"Digite novo título: \").upper()\n",
    "\n",
    "i = livros.index(valor_a_modificar)\n",
    "livros[i]  = novo_valor"
   ]
  },
  {
   "cell_type": "code",
   "execution_count": null,
   "metadata": {},
   "outputs": [],
   "source": [
    "i = livros.index(\"Dom Casmurro\")\n",
    "livros[i] = \"Tieta\""
   ]
  }
 ],
 "metadata": {
  "kernelspec": {
   "display_name": "Python 3",
   "language": "python",
   "name": "python3"
  },
  "language_info": {
   "codemirror_mode": {
    "name": "ipython",
    "version": 3
   },
   "file_extension": ".py",
   "mimetype": "text/x-python",
   "name": "python",
   "nbconvert_exporter": "python",
   "pygments_lexer": "ipython3",
   "version": "3.13.2"
  }
 },
 "nbformat": 4,
 "nbformat_minor": 2
}
