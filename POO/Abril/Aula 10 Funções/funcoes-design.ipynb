{
 "cells": [
  {
   "cell_type": "markdown",
   "metadata": {},
   "source": [
    "## Funções e design\n",
    "\n",
    "Vamos reescrever o programa que cadastra um livro na `list` livros transformando ele em uma função.\n"
   ]
  },
  {
   "cell_type": "markdown",
   "metadata": {},
   "source": [
    "### Inicialização da `list`"
   ]
  },
  {
   "cell_type": "code",
   "execution_count": null,
   "metadata": {},
   "outputs": [],
   "source": [
    "livros = [\n",
    "    \"DOM CASMURRO\",\n",
    "    \"O GUARANI\",\n",
    "    \"MEMÓRIAS PÓSTUMAS DE BRÁS CUBAS\",\n",
    "    \"A MORENINHA\",\n",
    "    \"VIDAS SECAS\",\n",
    "    \"O CORTIÇO\",\n",
    "    \"CAPITÃES DA AREIA\",\n",
    "    \"A HORA DA ESTRELA\",\n",
    "    \"IRACEMA\",\n",
    "    \"O PRIMO BASÍLIO\"\n",
    "]"
   ]
  },
  {
   "cell_type": "markdown",
   "metadata": {},
   "source": [
    "## Cadastrar livro"
   ]
  },
  {
   "cell_type": "markdown",
   "metadata": {},
   "source": [
    "Este é o programa que haviamos escrito."
   ]
  },
  {
   "cell_type": "code",
   "execution_count": null,
   "metadata": {},
   "outputs": [],
   "source": [
    "livro_novo = input(\"Digite nome do livro: \")\n",
    "# convertemos o valor para maiúsculas antes de\n",
    "# adicionar à lista. Por questão de normalização.\n",
    "livros.append(livro_novo.upper())\n",
    "\n",
    "# imprimimos a lista invertida para encotrar mais\n",
    "# facilmente o novo ítem inserido, que é o último.\n",
    "print(list(reversed(livros))) "
   ]
  },
  {
   "cell_type": "markdown",
   "metadata": {},
   "source": [
    "Esta função executa exatamente as mesmas operações. O código foi só copiado para o bloco de código da função (removendo-se os comentários)."
   ]
  },
  {
   "cell_type": "code",
   "execution_count": null,
   "metadata": {},
   "outputs": [],
   "source": [
    "def cadastrar_livro():\n",
    "    livro_novo = input(\"Digite nome do livro: \").upper()    \n",
    "    if livro_novo not in livros:\n",
    "        livros.append(livro_novo)\n",
    "    else:\n",
    "        print(\"Livro já cadastrado\")\n",
    "    print(list(reversed(livros))) "
   ]
  },
  {
   "cell_type": "markdown",
   "metadata": {},
   "source": [
    "Para executar esse código, chamamos a função `cadastrar_livro()`"
   ]
  },
  {
   "cell_type": "code",
   "execution_count": null,
   "metadata": {},
   "outputs": [],
   "source": [
    "cadastrar_livro()"
   ]
  },
  {
   "cell_type": "markdown",
   "metadata": {},
   "source": [
    "Note que o efeito, para quem usa o programa, é o mesmo:\n",
    "\n",
    "- foi pedido o nome de um livro\n",
    "- foi escrita uma resposta no terminal dizendo se o livro foi ou não cadastrado\n",
    "- foi escrita a lista completa de livros no final da operação"
   ]
  },
  {
   "cell_type": "markdown",
   "metadata": {},
   "source": [
    "### Separando os códigos de `View`"
   ]
  },
  {
   "cell_type": "markdown",
   "metadata": {},
   "source": [
    "Os trechos de código que fazem interface com o usuário, neste caso os que usam `print()` e `input()` são de responsabilidade da `View` do sistema. \n",
    "\n",
    "> `View` é tudo no sistema que tenha responsabilidade de interagir com o usuário do sistema, seja via texto, gráficos, som, etc.. Botões, caixas de texto e janelas são exemplos de Views."
   ]
  },
  {
   "cell_type": "markdown",
   "metadata": {},
   "source": [
    "#### Entrada de dados para a função"
   ]
  },
  {
   "cell_type": "markdown",
   "metadata": {},
   "source": [
    "Não vamos delegar à função a tarefa de pedir os dados que ela precisa para executar sua operação. Essa vai ser tarefa de uma outra parte do sistema - a View.\n",
    "\n",
    "A função vai ter parâmetros.\n",
    "\n",
    "> Um `parâmetro` de uma função é um dado que a função precisa para executar sua operação. \n",
    "\n",
    "Para a função não importa de onde foi obtido o valor do parâmetro. O que importa é que ele seja passado para ela. Por isso não vamos escrever `na própria função` o código que solicita o nome do livro ao usuário. Para ela não importa. O que importa é que ela receba uma `string` com esse nome, venha ela de onde vier."
   ]
  },
  {
   "cell_type": "code",
   "execution_count": null,
   "metadata": {},
   "outputs": [],
   "source": [
    "# livro é uma variável criada no escopo da função\n",
    "# e que será destruída após a execução da função\n",
    "# \n",
    "\n",
    "def cadastrar_livro(livro):\n",
    "    livro_novo = livro.upper()\n",
    "    if livro_novo not in livros:\n",
    "        livros.append(livro_novo)\n",
    "    else:\n",
    "        print(\"Livro já cadastrado\")\n",
    "    print(list(reversed(livros))) "
   ]
  },
  {
   "cell_type": "markdown",
   "metadata": {},
   "source": [
    "Agora, para chamar a função, precisamos passar o parâmetro que ela pede."
   ]
  },
  {
   "cell_type": "code",
   "execution_count": null,
   "metadata": {},
   "outputs": [],
   "source": [
    "cadastrar_livro(\"Tieta do Agreste\")"
   ]
  },
  {
   "cell_type": "markdown",
   "metadata": {},
   "source": [
    "Note que o efeito é diferente. Agora não temos mais a parte do programa que `pede ao usuário os dados`. Por isso tivemos que passar a `string` literal para a função como argumento."
   ]
  },
  {
   "cell_type": "markdown",
   "metadata": {},
   "source": [
    "> Vamos precisar escrever em outro local do programa o código que se comunica com o usuário -  na `View` (logo adiante). "
   ]
  },
  {
   "cell_type": "markdown",
   "metadata": {},
   "source": [
    "#### Saída de dados da função"
   ]
  },
  {
   "cell_type": "markdown",
   "metadata": {},
   "source": [
    "Agora vamos tirar de dentro da função o código que dá informações ao usuário sobre o sucesso da execução da função."
   ]
  },
  {
   "cell_type": "code",
   "execution_count": null,
   "metadata": {},
   "outputs": [],
   "source": [
    "def cadastrar_livro(livro):\n",
    "    livro_novo = livro.upper()\n",
    "    if livro_novo not in livros:\n",
    "        livros.append(livro_novo)\n",
    "        return True\n",
    "    else:\n",
    "        return False"
   ]
  },
  {
   "cell_type": "code",
   "execution_count": null,
   "metadata": {},
   "outputs": [],
   "source": [
    "def excluir(livro):\n",
    "    if livro in livros:\n",
    "        livros.remove(livro)\n",
    "        return True\n",
    "    else: \n",
    "        return False"
   ]
  },
  {
   "cell_type": "code",
   "execution_count": null,
   "metadata": {},
   "outputs": [],
   "source": [
    "def possuiLivro(livro):\n",
    "    if livro in livros:\n",
    "        return True\n",
    "    else:\n",
    "        return False"
   ]
  },
  {
   "cell_type": "code",
   "execution_count": null,
   "metadata": {},
   "outputs": [],
   "source": [
    "def pesquisar(texto):\n",
    "    livro = texto.upper()\n",
    "    if livro in livros:\n",
    "        return livro\n",
    "    else:\n",
    "        return None"
   ]
  },
  {
   "cell_type": "code",
   "execution_count": null,
   "metadata": {},
   "outputs": [],
   "source": [
    "def substituir(novo_titulo, livro):\n",
    "    novo_livro = novo_titulo\n",
    "    if livro in livros:\n",
    "        i = livros.index[livro]\n",
    "        livros[i] = novo_livro\n",
    "        return True\n",
    "    else:\n",
    "        return False"
   ]
  },
  {
   "cell_type": "markdown",
   "metadata": {},
   "source": [
    "Para isso trocamos as saídas com `print()` por `valores de retorno` da função. Neste caso usamos valores `bool` para indicar se `True`, a função teve sucesso, ou `False` se a função não teve sucesso.\n",
    "\n",
    "Esses valores serão usados como no exemplo abaixo. Uma outra parte do programa, chamada `Controller` usará essas respostas para decidir o que fazer após a execução da função `cadastrar_livro()`."
   ]
  },
  {
   "cell_type": "markdown",
   "metadata": {},
   "source": [
    "#### Código do Controller"
   ]
  },
  {
   "cell_type": "markdown",
   "metadata": {},
   "source": [
    "E trecho de código abaixo faz o papel do `Controlador` do sistema. \n",
    "\n",
    "Isto é o que ele faz:\n",
    "\n",
    "- pede à `View` (neste caso o console) que exiba ao usuário a mensagem \"Nome do livro:\"\n",
    "- recebe da `View` a resposta do usuário (neste caso em formato `string`)\n",
    "- faz o pedido à função `cadastrar_livro` (que pertence à `Model` do sistema)\n",
    "- recebe a resposta da `Model`\n",
    "- decide, em função da resposta, se pede à `View` que exiba uma mensagem de sucesso ou falha\n",
    "- pede à View que exiba a lista de livro\n",
    "- encerra o procedimento de cadastro"
   ]
  },
  {
   "cell_type": "code",
   "execution_count": null,
   "metadata": {},
   "outputs": [],
   "source": [
    "livro_novo = input(\"Nome do livro\")\n",
    "\n",
    "cadastrou = cadastrar_livro(livro_novo)\n",
    "\n",
    "if cadastrou:\n",
    "    print(\"Livro cadastrado\")\n",
    "else:\n",
    "    print(\"livro já cadastrado\")\n",
    "\n",
    "print(list(reversed(livros))) "
   ]
  }
 ],
 "metadata": {
  "kernelspec": {
   "display_name": "Python 3",
   "language": "python",
   "name": "python3"
  },
  "language_info": {
   "codemirror_mode": {
    "name": "ipython",
    "version": 3
   },
   "file_extension": ".py",
   "mimetype": "text/x-python",
   "name": "python",
   "nbconvert_exporter": "python",
   "pygments_lexer": "ipython3",
   "version": "3.13.2"
  }
 },
 "nbformat": 4,
 "nbformat_minor": 2
}
