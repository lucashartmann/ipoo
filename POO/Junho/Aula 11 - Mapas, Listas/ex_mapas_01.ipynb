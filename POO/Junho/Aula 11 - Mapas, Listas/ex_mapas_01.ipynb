{
 "cells": [
  {
   "cell_type": "markdown",
   "id": "d117836a",
   "metadata": {},
   "source": [
    "# Exercícios com Mapas\n",
    "\n",
    "Estes exercícios utilizam mapas (dicionários) para manipulação de dados em Python."
   ]
  },
  {
   "cell_type": "markdown",
   "id": "6fe609d5",
   "metadata": {},
   "source": [
    "### Exercício 1: Contar Palavras em um Texto\n",
    "Crie um programa que receba um texto e conte a frequência de cada palavra, armazenando os resultados em um mapa. Por exemplo, para o texto `\"eu gosto de python e eu gosto de programar\"`, o mapa resultante deve ser `{\"eu\": 2, \"gosto\": 2, \"de\": 2, \"python\": 1, \"e\": 1, \"programar\": 1}`."
   ]
  },
  {
   "cell_type": "code",
   "execution_count": null,
   "id": "bfed6e88",
   "metadata": {},
   "outputs": [
    {
     "name": "stdout",
     "output_type": "stream",
     "text": [
      "{'eu': 2, 'gosto': 2, 'de': 2, 'python': 1, 'e': 1, 'programar': 1}\n"
     ]
    }
   ],
   "source": [
    "texto = \"eu gosto de python e eu gosto de programar\".split()\n",
    "ja_adicionadas = {}\n",
    "\n",
    "for palavra in texto:\n",
    "    if palavra not in ja_adicionadas:\n",
    "        ja_adicionadas[palavra] = 1\n",
    "    else:\n",
    "        ja_adicionadas[palavra] += 1\n",
    "\n",
    "print(ja_adicionadas)\n"
   ]
  },
  {
   "cell_type": "markdown",
   "id": "7f5794ee",
   "metadata": {},
   "source": [
    "### Exercício 2: Tradutor de Palavras\n",
    "Implemente um tradutor simples que utilize um mapa para armazenar palavras em português como chaves e suas traduções em inglês como valores. O programa deve permitir que o usuário insira uma palavra em português e exiba sua tradução."
   ]
  },
  {
   "cell_type": "code",
   "execution_count": 11,
   "id": "e1535e00",
   "metadata": {},
   "outputs": [
    {
     "name": "stdout",
     "output_type": "stream",
     "text": [
      "Palavra: Maça, Palavra em Inglês: Apple\n"
     ]
    }
   ],
   "source": [
    "dicionario = {\n",
    "    \"maça\": \"apple\",\n",
    "    \"budista\": \"buddhist\",\n",
    "    \"mamute\": \"mammoth\",\n",
    "    \"rinoceronte\": \"rhinoceros\",\n",
    "    \"meteorologista\": \"meteorologist\"\n",
    "}\n",
    "\n",
    "palavra_recebida = input(\"Palavra: \").lower()\n",
    "\n",
    "if palavra_recebida in dicionario:\n",
    "    print(\n",
    "        f\"Palavra: {palavra_recebida.capitalize()}, Palavra em Inglês: {dicionario[palavra_recebida].capitalize()}\")\n",
    "else:\n",
    "    print(f\"A {palavra_recebida.capitalize()} não está no dicionário\")"
   ]
  },
  {
   "cell_type": "markdown",
   "id": "70c2531b",
   "metadata": {},
   "source": [
    "### Exercício 3: Gerenciar Contatos\n",
    "Crie um programa que utilize um mapa para armazenar nomes de contatos como chaves e números de telefone como valores. O programa deve permitir adicionar, remover e buscar contatos."
   ]
  },
  {
   "cell_type": "code",
   "execution_count": null,
   "id": "b02d0d6f",
   "metadata": {},
   "outputs": [
    {
     "name": "stdout",
     "output_type": "stream",
     "text": [
      "Contato criado com sucesso!\n",
      "[lucas : 123]\n",
      "\n",
      "Contato criado com sucesso!\n",
      "[leo : 345]\n",
      "\n",
      "CONTATOS NA AGENDA:\n",
      "[lucas : 123]\n",
      "[leo : 345]\n",
      "\n",
      "leo removido com sucesso!\n",
      "\n",
      "Telefone esta na agenda\n",
      "chave tem telefone\n",
      "123 removido com sucesso!\n",
      "\n",
      "A agenda está vazia\n"
     ]
    }
   ],
   "source": [
    "# MODEL\n",
    "\n",
    "agenda = {\n",
    "}\n",
    "\n",
    "\n",
    "def adicionar(nome, telefone):\n",
    "    if telefone not in agenda and nome not in agenda:\n",
    "        agenda[nome] = telefone\n",
    "        return True\n",
    "    return False\n",
    "\n",
    "\n",
    "def remover_por_nome(nome):\n",
    "    if nome in agenda:\n",
    "        del agenda[nome]\n",
    "        return True\n",
    "    return False\n",
    "\n",
    "\n",
    "def remover_por_telefone(telefone):\n",
    "    if telefone in agenda.values():\n",
    "        for chave in agenda.keys():\n",
    "            if agenda[chave] == telefone:\n",
    "                del agenda[chave]\n",
    "                return True\n",
    "    return False\n",
    "\n",
    "\n",
    "def consultar_por_nome(nome):\n",
    "    if nome in agenda.keys():\n",
    "        return nome, agenda[nome]\n",
    "    return None\n",
    "\n",
    "\n",
    "def consultar_por_telefone(telefone):\n",
    "    for chave in agenda.keys():\n",
    "        if agenda[chave] == telefone:\n",
    "            return chave, agenda[chave]\n",
    "    return None\n",
    "\n",
    "def get_agenda():\n",
    "    if len(agenda) > 0:\n",
    "        return agenda\n",
    "    return None\n",
    "\n",
    "# VIEW\n",
    "\n",
    "def imprimir(string):\n",
    "    print(string)\n",
    "\n",
    "def imprimir_dicionario(dicionario):\n",
    "    for chave, item in dicionario.items():\n",
    "        imprimir(f\"[{chave} : {item}]\")\n",
    "\n",
    "# CONTROLLER\n",
    "\n",
    "def adicionar_ctrll():\n",
    "    nome = input(\"Nome: \")\n",
    "    telefone = int(input(\"Telefone: \"))\n",
    "    add = adicionar(nome, telefone)\n",
    "    if add:\n",
    "        imprimir(\"Contato criado com sucesso!\")\n",
    "        chave, valor = consultar_por_nome(nome)\n",
    "        imprimir(f\"[{chave} : {valor}]\")\n",
    "    else: \n",
    "        imprimir(\"ERRO!\")\n",
    "\n",
    "def ver_agenda_ctrll():\n",
    "    agenda = get_agenda()\n",
    "    if agenda:\n",
    "        imprimir(\"CONTATOS NA AGENDA:\")\n",
    "        imprimir_dicionario(agenda)\n",
    "    else:\n",
    "        imprimir(\"A agenda está vazia\")\n",
    "\n",
    "def remover_por_nome_ctrll():\n",
    "    nome = input(\"Nome: \")\n",
    "    remocao = remover_por_nome(nome)\n",
    "    if remocao:\n",
    "        imprimir(f\"{nome} removido com sucesso!\")\n",
    "    else:\n",
    "        imprimir(\"ERRO!\")\n",
    "\n",
    "def remover_por_telefone_ctrll():\n",
    "    telefone = int(input(\"Telefone: \"))\n",
    "    remocao = remover_por_telefone(telefone)\n",
    "    if remocao:\n",
    "        imprimir(f\"{telefone} removido com sucesso!\")\n",
    "    else:\n",
    "        imprimir(\"ERRO!\")\n",
    "\n",
    "def consultar_por_nome_ctrll():\n",
    "    nome = input(\"Nome: \")\n",
    "    chave, valor = consultar_por_nome(nome)\n",
    "    if chave and valor:\n",
    "        imprimir(\"Contato encontrado\")\n",
    "        imprimir(f\"[{chave} : {valor}]\")\n",
    "    else: \n",
    "        imprimir(\"ERRO!\")\n",
    "\n",
    "def consultar_por_telefone_ctrll():\n",
    "    telefone = int(input(\"Telefone: \"))\n",
    "    chave, valor = consultar_por_telefone(telefone)\n",
    "    if chave and valor:\n",
    "        imprimir(\"Contato encontrado\")\n",
    "        imprimir(f\"[{chave} : {valor}]\")\n",
    "    else: \n",
    "        imprimir(\"ERRO!\")\n",
    "\n",
    "\n",
    "\n",
    "adicionar_ctrll()\n",
    "print()\n",
    "adicionar_ctrll()\n",
    "print()\n",
    "ver_agenda_ctrll()\n",
    "print()\n",
    "remover_por_nome_ctrll()\n",
    "print()\n",
    "ver_agenda_ctrll()\n",
    "print()\n",
    "remover_por_telefone_ctrll()\n",
    "print()\n",
    "ver_agenda_ctrll()\n"
   ]
  },
  {
   "cell_type": "markdown",
   "id": "2c855024",
   "metadata": {},
   "source": [
    "### Exercício 4: Organizar Produtos por Categoria\n",
    "Receba uma lista de produtos e suas categorias e organize-os em um mapa onde as categorias são as chaves e os valores são listas de produtos pertencentes a cada categoria. Por exemplo, para a entrada `[('maçã', 'fruta'), ('cenoura', 'legume'), ('banana', 'fruta')]`, o mapa resultante deve ser `{\"fruta\": ['maçã', 'banana'], \"legume\": ['cenoura']}`."
   ]
  },
  {
   "cell_type": "code",
   "execution_count": 1,
   "id": "6be3a793",
   "metadata": {},
   "outputs": [
    {
     "name": "stdout",
     "output_type": "stream",
     "text": [
      "{'fruta': 'maçãbanana', 'legume': 'cenoura'}\n"
     ]
    }
   ],
   "source": [
    "lista_produtos = [('maçã', 'fruta'), ('cenoura', 'legume'), ('banana', 'fruta')]\n",
    "mapa_produtos = {}\n",
    "\n",
    "for valor, chave in lista_produtos:\n",
    "    if chave in mapa_produtos.keys():\n",
    "        mapa_produtos[chave] += valor\n",
    "    else:\n",
    "        mapa_produtos[chave] = valor\n",
    "\n",
    "print(mapa_produtos)"
   ]
  },
  {
   "cell_type": "markdown",
   "id": "4b983bcd",
   "metadata": {},
   "source": [
    "### Exercício 5: Contar Caracteres em uma String\n",
    "Crie um programa que receba uma string e conte a frequência de cada caractere, armazenando os resultados em um mapa. Por exemplo, para a string `\"banana\"`, o mapa resultante deve ser `{\"b\": 1, \"a\": 3, \"n\": 2}`."
   ]
  },
  {
   "cell_type": "code",
   "execution_count": 50,
   "id": "0e1914c7",
   "metadata": {},
   "outputs": [
    {
     "name": "stdout",
     "output_type": "stream",
     "text": [
      "{'b': 1, 'a': 3, 'n': 2}\n"
     ]
    }
   ],
   "source": [
    "texto = \"banana\"\n",
    "ja_adicionadas = {}\n",
    "\n",
    "for palavra in texto:\n",
    "    if palavra not in ja_adicionadas:\n",
    "        ja_adicionadas[palavra] = 1\n",
    "    else:\n",
    "        ja_adicionadas[palavra] += 1\n",
    "\n",
    "print(ja_adicionadas)\n"
   ]
  }
 ],
 "metadata": {
  "kernelspec": {
   "display_name": "Python 3",
   "language": "python",
   "name": "python3"
  },
  "language_info": {
   "codemirror_mode": {
    "name": "ipython",
    "version": 3
   },
   "file_extension": ".py",
   "mimetype": "text/x-python",
   "name": "python",
   "nbconvert_exporter": "python",
   "pygments_lexer": "ipython3",
   "version": "3.13.3"
  }
 },
 "nbformat": 4,
 "nbformat_minor": 5
}
