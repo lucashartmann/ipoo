{
 "cells": [
  {
   "cell_type": "code",
   "execution_count": 3,
   "id": "e9d10cfd",
   "metadata": {},
   "outputs": [],
   "source": [
    "def coisas():\n",
    "    return \"coisas 1\""
   ]
  },
  {
   "cell_type": "code",
   "execution_count": 16,
   "id": "fa28f2e7",
   "metadata": {},
   "outputs": [],
   "source": [
    "def coisas():\n",
    "    yield \"coisas 1\"\n",
    "    yield \"coisas 2\"\n",
    "\n",
    "gerador = coisas()"
   ]
  },
  {
   "cell_type": "code",
   "execution_count": 18,
   "id": "d0dbb5e1",
   "metadata": {},
   "outputs": [
    {
     "data": {
      "text/plain": [
       "'coisas 2'"
      ]
     },
     "execution_count": 18,
     "metadata": {},
     "output_type": "execute_result"
    }
   ],
   "source": [
    "next(gerador)"
   ]
  },
  {
   "cell_type": "code",
   "execution_count": 23,
   "id": "6fc5229e",
   "metadata": {},
   "outputs": [],
   "source": [
    "def coisas(qualidade):\n",
    "    yield \"coisas 1 \" + qualidade\n",
    "    yield \"coisas 2 \" + qualidade\n",
    "    yield \"coisa 3 \" + qualidade\n"
   ]
  },
  {
   "cell_type": "code",
   "execution_count": 24,
   "id": "4a824035",
   "metadata": {},
   "outputs": [
    {
     "name": "stdout",
     "output_type": "stream",
     "text": [
      "coisas 1 azul\n",
      "coisas 2 azul\n",
      "coisa 3 azul\n"
     ]
    }
   ],
   "source": [
    "for coisa in coisas(\"azul\"):\n",
    "    print(coisa)"
   ]
  },
  {
   "cell_type": "code",
   "execution_count": 29,
   "id": "b1865f10",
   "metadata": {},
   "outputs": [],
   "source": [
    "def coisas(qualidade, cont):\n",
    "    for i in range(cont):\n",
    "        yield f\"coisas {i} \" + qualidade"
   ]
  },
  {
   "cell_type": "code",
   "execution_count": 30,
   "id": "3a4e89a5",
   "metadata": {},
   "outputs": [
    {
     "name": "stdout",
     "output_type": "stream",
     "text": [
      "coisas 0 azul\n",
      "coisas 1 azul\n",
      "coisas 2 azul\n",
      "coisas 3 azul\n",
      "coisas 4 azul\n",
      "coisas 5 azul\n",
      "coisas 6 azul\n",
      "coisas 7 azul\n",
      "coisas 8 azul\n",
      "coisas 9 azul\n"
     ]
    }
   ],
   "source": [
    "for coisa in coisas(\"azul\", 10):\n",
    "    print(coisa)"
   ]
  }
 ],
 "metadata": {
  "kernelspec": {
   "display_name": "Python 3",
   "language": "python",
   "name": "python3"
  },
  "language_info": {
   "codemirror_mode": {
    "name": "ipython",
    "version": 3
   },
   "file_extension": ".py",
   "mimetype": "text/x-python",
   "name": "python",
   "nbconvert_exporter": "python",
   "pygments_lexer": "ipython3",
   "version": "3.13.3"
  }
 },
 "nbformat": 4,
 "nbformat_minor": 5
}
