{
 "cells": [
  {
   "cell_type": "markdown",
   "metadata": {},
   "source": [
    "# Exercícios sobre Funções\n",
    "\n",
    "Dê um nome apropriado para cada função abaixo. Substitua o nome atual da função (x, y, z, etc.) por um nome que descreva o que a função faz."
   ]
  },
  {
   "cell_type": "code",
   "execution_count": null,
   "metadata": {},
   "outputs": [],
   "source": [
    "# Exercício 1\n",
    "def x(a, b):\n",
    "    return a + b\n",
    "\n",
    "# Dê um nome apropriado para a função acima."
   ]
  },
  {
   "cell_type": "markdown",
   "id": "9ae75ca0",
   "metadata": {},
   "source": [
    "Resposta:\n",
    "- soma\n",
    "- adição"
   ]
  },
  {
   "cell_type": "code",
   "execution_count": null,
   "metadata": {},
   "outputs": [
    {
     "data": {
      "text/plain": [
       "10"
      ]
     },
     "execution_count": 4,
     "metadata": {},
     "output_type": "execute_result"
    }
   ],
   "source": [
    "# Exercício 2\n",
    "def y(lista):\n",
    "    return max(lista)\n",
    "\n",
    "# Dê um nome apropriado para a função acima."
   ]
  },
  {
   "cell_type": "markdown",
   "id": "adcc59c4",
   "metadata": {},
   "source": [
    "Resposta:\n",
    "- valor_mais_alto\n",
    "- get_valor_mais_alto"
   ]
  },
  {
   "cell_type": "code",
   "execution_count": null,
   "metadata": {},
   "outputs": [],
   "source": [
    "# Exercício 3\n",
    "def z(texto):\n",
    "    return texto.upper()\n",
    "\n",
    "# Dê um nome apropriado para a função acima."
   ]
  },
  {
   "cell_type": "markdown",
   "id": "053e42c6",
   "metadata": {},
   "source": [
    "Resposta:\n",
    "- maiúsculo"
   ]
  },
  {
   "cell_type": "code",
   "execution_count": null,
   "metadata": {},
   "outputs": [],
   "source": [
    "# Exercício 4\n",
    "def w(n):\n",
    "    return n ** 2\n",
    "\n",
    "# Dê um nome apropriado para a função acima."
   ]
  },
  {
   "cell_type": "markdown",
   "id": "d584071f",
   "metadata": {},
   "source": [
    "Resposta:\n",
    "- potencia_de_dois\n",
    "- elevar_a_dois"
   ]
  },
  {
   "cell_type": "code",
   "execution_count": null,
   "metadata": {},
   "outputs": [],
   "source": [
    "# Exercício 5\n",
    "def v(a, b):\n",
    "    return a * b\n",
    "\n",
    "# Dê um nome apropriado para a função acima."
   ]
  },
  {
   "cell_type": "markdown",
   "id": "c0e03ecb",
   "metadata": {},
   "source": [
    "Resposta:\n",
    "- multiplicacao\n",
    "- multiplicar\n",
    "- multiplicador\n",
    "- multiplica_dois_valores"
   ]
  },
  {
   "cell_type": "code",
   "execution_count": null,
   "metadata": {},
   "outputs": [],
   "source": [
    "# Exercício 6\n",
    "def u(lista):\n",
    "    return sum(lista)\n",
    "\n",
    "# Dê um nome apropriado para a função acima."
   ]
  },
  {
   "cell_type": "markdown",
   "id": "504892eb",
   "metadata": {},
   "source": [
    "Resposta:\n",
    "- soma_valores_da_lista"
   ]
  },
  {
   "cell_type": "code",
   "execution_count": null,
   "metadata": {},
   "outputs": [],
   "source": [
    "# Exercício 7\n",
    "def t(texto):\n",
    "    return texto[::-1]\n",
    "\n",
    "# Dê um nome apropriado para a função acima."
   ]
  },
  {
   "cell_type": "markdown",
   "id": "e0a62c74",
   "metadata": {},
   "source": [
    "Resposta:\n",
    "- inverter\n",
    "- inverte_texto"
   ]
  },
  {
   "cell_type": "code",
   "execution_count": null,
   "metadata": {},
   "outputs": [],
   "source": [
    "# Exercício 8\n",
    "def s(n):\n",
    "    return n % 2 == 0\n",
    "\n",
    "# Dê um nome apropriado para a função acima."
   ]
  },
  {
   "cell_type": "markdown",
   "id": "e0a83a2d",
   "metadata": {},
   "source": [
    "- isPar\n",
    "- par\n",
    "- isEven"
   ]
  },
  {
   "cell_type": "code",
   "execution_count": null,
   "metadata": {},
   "outputs": [],
   "source": [
    "# Exercício 9\n",
    "def r(base, altura):\n",
    "    return 0.5 * base * altura\n",
    "\n",
    "# Dê um nome apropriado para a função acima."
   ]
  },
  {
   "cell_type": "markdown",
   "id": "97244df0",
   "metadata": {},
   "source": [
    "Resposta:\n",
    "- area_triangulo\n",
    "- get_area_triangulo\n",
    "- calcula_area_triangulo"
   ]
  },
  {
   "cell_type": "code",
   "execution_count": null,
   "metadata": {},
   "outputs": [],
   "source": [
    "# Exercício 10\n",
    "def q(temperatura):\n",
    "    return (temperatura * 9/5) + 32\n",
    "\n",
    "# Dê um nome apropriado para a função acima."
   ]
  },
  {
   "cell_type": "markdown",
   "id": "269d6f54",
   "metadata": {},
   "source": [
    "Resposta:\n",
    "- celcius_to_farhentinete"
   ]
  }
 ],
 "metadata": {
  "kernelspec": {
   "display_name": "Python 3",
   "language": "python",
   "name": "python3"
  },
  "language_info": {
   "codemirror_mode": {
    "name": "ipython",
    "version": 3
   },
   "file_extension": ".py",
   "mimetype": "text/x-python",
   "name": "python",
   "nbconvert_exporter": "python",
   "pygments_lexer": "ipython3",
   "version": "3.13.3"
  }
 },
 "nbformat": 4,
 "nbformat_minor": 5
}
