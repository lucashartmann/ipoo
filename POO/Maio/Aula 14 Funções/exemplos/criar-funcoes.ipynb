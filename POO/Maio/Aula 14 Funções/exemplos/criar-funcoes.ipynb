{
 "cells": [
  {
   "cell_type": "markdown",
   "metadata": {},
   "source": [
    "## Criação de funções"
   ]
  },
  {
   "cell_type": "code",
   "execution_count": 1,
   "metadata": {},
   "outputs": [
    {
     "name": "stdout",
     "output_type": "stream",
     "text": [
      "Soma = 30\n"
     ]
    }
   ],
   "source": [
    "valor1 = 10\n",
    "valor2 = 20\n",
    "soma = valor1 + valor2\n",
    "print(f'Soma = {soma}')"
   ]
  },
  {
   "cell_type": "code",
   "execution_count": 26,
   "metadata": {},
   "outputs": [
    {
     "name": "stdout",
     "output_type": "stream",
     "text": [
      "Soma = 30\n",
      "soma = 30\n",
      "Soma = 30\n"
     ]
    }
   ],
   "source": [
    "valor1 = 10\n",
    "valor2 = 20\n",
    "soma = valor1 + valor2\n",
    "print(f'Soma = {soma}')\n",
    "\n",
    "valor1 = 10\n",
    "valor2 = 20\n",
    "soma = valor1 + valor2\n",
    "print(f'soma = {soma}')\n",
    "\n",
    "valor1 = 10\n",
    "valor2 = 20\n",
    "soma = valor1 + valor2\n",
    "print(f'Soma = {soma}')"
   ]
  },
  {
   "cell_type": "code",
   "execution_count": 3,
   "metadata": {},
   "outputs": [
    {
     "name": "stdout",
     "output_type": "stream",
     "text": [
      "Soma = 30\n",
      "Soma = 30\n",
      "Soma = 30\n"
     ]
    }
   ],
   "source": [
    "for i in range(3):\n",
    "    valor1 = 10\n",
    "    valor2 = 20\n",
    "    soma = valor1 + valor2\n",
    "    print(f'Soma = {soma}')"
   ]
  },
  {
   "cell_type": "code",
   "execution_count": 5,
   "metadata": {},
   "outputs": [
    {
     "name": "stdout",
     "output_type": "stream",
     "text": [
      "Soma = 30\n"
     ]
    }
   ],
   "source": [
    "somar_dois_valores()"
   ]
  },
  {
   "cell_type": "code",
   "execution_count": 6,
   "metadata": {},
   "outputs": [
    {
     "name": "stdout",
     "output_type": "stream",
     "text": [
      "Soma = 30\n",
      "Soma = 30\n",
      "Soma = 30\n"
     ]
    }
   ],
   "source": [
    "somar_dois_valores()\n",
    "somar_dois_valores()\n",
    "somar_dois_valores()"
   ]
  },
  {
   "cell_type": "code",
   "execution_count": 7,
   "metadata": {},
   "outputs": [
    {
     "name": "stdout",
     "output_type": "stream",
     "text": [
      "Soma = 30\n",
      "Soma = 30\n",
      "Soma = 30\n"
     ]
    }
   ],
   "source": [
    "for i in range(3):\n",
    "    somar_dois_valores()"
   ]
  },
  {
   "cell_type": "code",
   "execution_count": 27,
   "metadata": {},
   "outputs": [],
   "source": [
    "def somar_dois_valores():\n",
    "    valor1 = 10\n",
    "    valor2 = 20\n",
    "    soma = valor1 + valor2\n",
    "    print(f'Somatório = {soma}')\n"
   ]
  },
  {
   "cell_type": "code",
   "execution_count": 28,
   "metadata": {},
   "outputs": [
    {
     "name": "stdout",
     "output_type": "stream",
     "text": [
      "Somando dois valores\n",
      "--------------------\n",
      "Somatório = 30\n",
      "---------------------\n",
      "fim\n"
     ]
    }
   ],
   "source": [
    "print('Somando dois valores')\n",
    "print('--------------------')\n",
    "somar_dois_valores()\n",
    "print('---------------------')\n",
    "print('fim')\n"
   ]
  },
  {
   "cell_type": "code",
   "execution_count": 30,
   "metadata": {},
   "outputs": [],
   "source": [
    "def somar_dois_valores(a, b):\n",
    "    valor1 = a\n",
    "    valor2 = b\n",
    "    soma = valor1 + valor2\n",
    "    print(f'Somatório = {soma}')\n"
   ]
  },
  {
   "cell_type": "code",
   "execution_count": 31,
   "metadata": {},
   "outputs": [
    {
     "name": "stdout",
     "output_type": "stream",
     "text": [
      "Somatório = 15\n",
      "Somatório = 26\n",
      "Somatório = 25\n"
     ]
    }
   ],
   "source": [
    "somar_dois_valores(5, 10)\n",
    "somar_dois_valores(4, 22)\n",
    "somar_dois_valores(15, 10)"
   ]
  },
  {
   "cell_type": "code",
   "execution_count": null,
   "metadata": {},
   "outputs": [
    {
     "name": "stdout",
     "output_type": "stream",
     "text": [
      "Somatório = 11\n"
     ]
    }
   ],
   "source": [
    "x = int(input('Valor1'))\n",
    "y = int(input('Valor2'))\n",
    "somar_dois_valores(x, y)\n"
   ]
  },
  {
   "cell_type": "code",
   "execution_count": 16,
   "metadata": {},
   "outputs": [],
   "source": [
    "def somar_dois_valores(a, b):\n",
    "    soma = a + b\n",
    "    return soma"
   ]
  },
  {
   "cell_type": "code",
   "execution_count": 19,
   "metadata": {},
   "outputs": [
    {
     "name": "stdout",
     "output_type": "stream",
     "text": [
      "Soma com acrescimo de 20 = 50\n"
     ]
    }
   ],
   "source": [
    "resultado = somar_dois_valores(10, 20)\n",
    "\n",
    "acrescimo = resultado + 20\n",
    "print(f'Soma com acrescimo de 20 = {acrescimo}')"
   ]
  },
  {
   "cell_type": "code",
   "execution_count": 24,
   "metadata": {},
   "outputs": [],
   "source": [
    "def multiplicacao_de(a, b):\n",
    "    return a * b\n"
   ]
  },
  {
   "cell_type": "code",
   "execution_count": 25,
   "metadata": {},
   "outputs": [
    {
     "name": "stdout",
     "output_type": "stream",
     "text": [
      "8\n",
      "15\n",
      "50\n"
     ]
    }
   ],
   "source": [
    "print(multiplicacao_de(2, 4))\n",
    "print(multiplicacao_de(5, 3))\n",
    "print(multiplicacao_de(10, 5))"
   ]
  }
 ],
 "metadata": {
  "kernelspec": {
   "display_name": "Python 3",
   "language": "python",
   "name": "python3"
  },
  "language_info": {
   "codemirror_mode": {
    "name": "ipython",
    "version": 3
   },
   "file_extension": ".py",
   "mimetype": "text/x-python",
   "name": "python",
   "nbconvert_exporter": "python",
   "pygments_lexer": "ipython3",
   "version": "3.12.6"
  }
 },
 "nbformat": 4,
 "nbformat_minor": 2
}
