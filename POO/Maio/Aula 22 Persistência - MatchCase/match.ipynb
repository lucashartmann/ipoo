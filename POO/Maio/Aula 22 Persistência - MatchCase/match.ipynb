{
 "cells": [
  {
   "cell_type": "code",
   "execution_count": 4,
   "id": "d22eb0e1",
   "metadata": {},
   "outputs": [
    {
     "name": "stdout",
     "output_type": "stream",
     "text": [
      "listar\n"
     ]
    }
   ],
   "source": [
    "comando = \"listar\"\n",
    "match comando:\n",
    "    case \"listar\":\n",
    "        print(\"listar\")\n",
    "    case \"ajuda\":\n",
    "        pint(\"ajuda\")\n",
    "    case _:\n",
    "        print(\"Comando inválido\")"
   ]
  },
  {
   "cell_type": "code",
   "execution_count": 8,
   "id": "96913f66",
   "metadata": {},
   "outputs": [
    {
     "name": "stdout",
     "output_type": "stream",
     "text": [
      "recebi acao com parametro\n"
     ]
    }
   ],
   "source": [
    "argv = [\"agenda.py\", \"consultar\", \"srx@email.com\"]\n",
    "comando = argv[1:]\n",
    "\n",
    "match comando:\n",
    "    case [acao]:\n",
    "        print(\"so recebi o comando\")\n",
    "    case [acao, email]:\n",
    "        print(\"recebi acao com parametro\")\n",
    "    case _:\n",
    "        print(\"Comando inválido\")"
   ]
  }
 ],
 "metadata": {
  "kernelspec": {
   "display_name": "Python 3",
   "language": "python",
   "name": "python3"
  },
  "language_info": {
   "codemirror_mode": {
    "name": "ipython",
    "version": 3
   },
   "file_extension": ".py",
   "mimetype": "text/x-python",
   "name": "python",
   "nbconvert_exporter": "python",
   "pygments_lexer": "ipython3",
   "version": "3.13.3"
  }
 },
 "nbformat": 4,
 "nbformat_minor": 5
}
