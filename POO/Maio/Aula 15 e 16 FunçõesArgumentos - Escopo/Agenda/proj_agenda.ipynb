{
 "cells": [
  {
   "cell_type": "markdown",
   "id": "8423eae8",
   "metadata": {},
   "source": [
    "## Agenda de endereços"
   ]
  },
  {
   "cell_type": "markdown",
   "id": "41b61b96",
   "metadata": {},
   "source": [
    "O sistema será de uma agenda de endreços.\n",
    "\n",
    "Ela será suportada por um `map` do Python. Por isso teremos `registros` com a estrutura `chave:valor` do mapa. \n",
    "\n",
    "Onde:\n",
    "\n",
    "- chave: email\n",
    "- valor: todos os dados da pessoa (Ex. nome, idade, endereço, favorito)\n",
    "\n",
    "Ele será acessado pela linha de comando em modo texto.\n",
    "\n",
    "```\n",
    "> python agenda.py listar\n",
    "> python agenda.py consultar <email>\n",
    "> python agenda.py cadastrar <email>, <nome>, <idade>, <endereço> [favorito]\n",
    "> python agenda.py apagar <email>\n",
    "> python agenda.py atualizar <email>, <nome>, <idade>, <endereço> [favorito]\n",
    "> python agenda.py favoritar <email>\n",
    "\n",
    "```\n",
    "\n",
    "### API\n",
    "\n",
    "```python\n",
    "listar(agenda)\n",
    "consultar(agenda, email)\n",
    "cadastrar(agenda, \"sdkfj@ekj.com\", \"nome x\", 30, \"Rua x.\", F)\n",
    "apagar(agenda, email)\n",
    "atualizar(agenda, email, [])\n",
    "favoritar(agenda, email)\n",
    "```\n",
    "\n",
    "\n",
    "\n",
    "\n"
   ]
  },
  {
   "cell_type": "markdown",
   "id": "68900ff3",
   "metadata": {},
   "source": [
    "### Implementação"
   ]
  },
  {
   "cell_type": "code",
   "execution_count": 6,
   "id": "47438e3a",
   "metadata": {},
   "outputs": [],
   "source": [
    "# Nossos dados\n",
    "minha_agenda = {}"
   ]
  },
  {
   "cell_type": "markdown",
   "id": "ad3906fb",
   "metadata": {},
   "source": [
    "#### Cadastrar"
   ]
  },
  {
   "cell_type": "code",
   "execution_count": 12,
   "id": "d2484378",
   "metadata": {},
   "outputs": [],
   "source": [
    "def cadastrar(agenda, email, nome, idade, endereco, favorito=False):    \n",
    "    agenda[email] = [nome, idade, endereco, favorito]"
   ]
  },
  {
   "cell_type": "code",
   "execution_count": 69,
   "id": "003219c2",
   "metadata": {},
   "outputs": [],
   "source": [
    "cadastrar(minha_agenda, 'srx@email.com', 'Sr. X', 30, 'Rua x')\n",
    "cadastrar(minha_agenda, 'sryemail.com', 'Sr. Y', 31, 'Rua y', True)\n",
    "cadastrar(minha_agenda, 'srz@email.com', 'Sr. Z', 32, 'Rua z')"
   ]
  },
  {
   "cell_type": "markdown",
   "id": "65eec312",
   "metadata": {},
   "source": [
    "#### Listar"
   ]
  },
  {
   "cell_type": "code",
   "execution_count": 41,
   "id": "d5c38af5",
   "metadata": {},
   "outputs": [],
   "source": [
    "def listar(agenda):\n",
    "    for email, dados in agenda.items():        \n",
    "        print(f'''e-mail: {email}\n",
    "    Nome: {dados[0]}        \n",
    "    Endereço: {dados[2]}\n",
    "    Idade: {dados[1]}\n",
    "    Favorito: {dados[3]}        \n",
    "    ''')\n"
   ]
  },
  {
   "cell_type": "code",
   "execution_count": 42,
   "id": "004f3f1a",
   "metadata": {},
   "outputs": [
    {
     "name": "stdout",
     "output_type": "stream",
     "text": [
      "e-mail: srx@email.com\n",
      "    Nome: Sr. X        \n",
      "    Endereço: Rua x\n",
      "    Idade: 30\n",
      "    Favorito: False        \n",
      "    \n",
      "e-mail: sryemail.com\n",
      "    Nome: Sr. Y        \n",
      "    Endereço: Rua y\n",
      "    Idade: 31\n",
      "    Favorito: True        \n",
      "    \n",
      "e-mail: srz@email.com\n",
      "    Nome: Sr. Z        \n",
      "    Endereço: Rua z\n",
      "    Idade: 32\n",
      "    Favorito: False        \n",
      "    \n"
     ]
    }
   ],
   "source": [
    "listar(minha_agenda)"
   ]
  },
  {
   "cell_type": "markdown",
   "id": "6a635846",
   "metadata": {},
   "source": [
    "#### Consultar"
   ]
  },
  {
   "cell_type": "code",
   "execution_count": 45,
   "id": "f970903b",
   "metadata": {},
   "outputs": [],
   "source": [
    "def consultar(agenda, email):\n",
    "    dados = agenda[email]\n",
    "    print(f'''e-mail: {email}\n",
    "    Nome: {dados[0]}        \n",
    "    Endereço: {dados[2]}\n",
    "    Idade: {dados[1]}\n",
    "    Favorito: {dados[3]}        \n",
    "    ''')"
   ]
  },
  {
   "cell_type": "code",
   "execution_count": 47,
   "id": "fb450057",
   "metadata": {},
   "outputs": [
    {
     "name": "stdout",
     "output_type": "stream",
     "text": [
      "e-mail: srz@email.com\n",
      "    Nome: Sr. Z        \n",
      "    Endereço: Rua z\n",
      "    Idade: 32\n",
      "    Favorito: False        \n",
      "    \n"
     ]
    }
   ],
   "source": [
    "consultar(minha_agenda, 'srz@email.com')"
   ]
  },
  {
   "cell_type": "markdown",
   "id": "35daed92",
   "metadata": {},
   "source": [
    "#### Apagar"
   ]
  },
  {
   "cell_type": "code",
   "execution_count": 48,
   "id": "25771315",
   "metadata": {},
   "outputs": [],
   "source": [
    "def apagar(agenda, email):\n",
    "    del agenda[email]"
   ]
  },
  {
   "cell_type": "code",
   "execution_count": 52,
   "id": "a1af6895",
   "metadata": {},
   "outputs": [
    {
     "name": "stdout",
     "output_type": "stream",
     "text": [
      "e-mail: srx@email.com\n",
      "    Nome: Sr. X        \n",
      "    Endereço: Rua x\n",
      "    Idade: 30\n",
      "    Favorito: False        \n",
      "    \n",
      "e-mail: srz@email.com\n",
      "    Nome: Sr. Z        \n",
      "    Endereço: Rua z\n",
      "    Idade: 32\n",
      "    Favorito: False        \n",
      "    \n",
      "e-mail: sryemail.com\n",
      "    Nome: Sr. Y        \n",
      "    Endereço: Rua y\n",
      "    Idade: 31\n",
      "    Favorito: True        \n",
      "    \n",
      "--- apagando ---\n",
      "e-mail: srx@email.com\n",
      "    Nome: Sr. X        \n",
      "    Endereço: Rua x\n",
      "    Idade: 30\n",
      "    Favorito: False        \n",
      "    \n",
      "e-mail: srz@email.com\n",
      "    Nome: Sr. Z        \n",
      "    Endereço: Rua z\n",
      "    Idade: 32\n",
      "    Favorito: False        \n",
      "    \n"
     ]
    }
   ],
   "source": [
    "listar(minha_agenda)\n",
    "print('--- apagando ---')\n",
    "apagar(minha_agenda, 'sryemail.com')\n",
    "listar(minha_agenda)\n"
   ]
  },
  {
   "cell_type": "markdown",
   "id": "3215485c",
   "metadata": {},
   "source": [
    "#### Atualizar"
   ]
  },
  {
   "cell_type": "code",
   "execution_count": 61,
   "id": "e8130e06",
   "metadata": {},
   "outputs": [],
   "source": [
    "notas = {\n",
    "    \"will\": 9,\n",
    "    \"leo\": 8,\n",
    "    \"yuri\": 4,\n",
    "    \"chris\": 5,\n",
    "    \"prof\": 4,\n",
    "    \"prof\": 5,\n",
    "    \"prof\": 8\n",
    "}"
   ]
  },
  {
   "cell_type": "code",
   "execution_count": 62,
   "id": "6fb0fd93",
   "metadata": {},
   "outputs": [
    {
     "data": {
      "text/plain": [
       "{'will': 9, 'leo': 8, 'yuri': 4, 'chris': 5, 'prof': 8}"
      ]
     },
     "execution_count": 62,
     "metadata": {},
     "output_type": "execute_result"
    }
   ],
   "source": [
    "notas"
   ]
  },
  {
   "cell_type": "code",
   "execution_count": 63,
   "id": "52d75b77",
   "metadata": {},
   "outputs": [],
   "source": [
    "def atualizar(agenda, email, nome, idade, endereco, favorito=False):    \n",
    "    agenda[email] = [nome, idade, endereco, favorito]"
   ]
  },
  {
   "cell_type": "code",
   "execution_count": 70,
   "id": "8346711c",
   "metadata": {},
   "outputs": [
    {
     "name": "stdout",
     "output_type": "stream",
     "text": [
      "e-mail: srz@email.com\n",
      "    Nome: Sr. Z        \n",
      "    Endereço: Rua z\n",
      "    Idade: 32\n",
      "    Favorito: False        \n",
      "    \n",
      "--- atualizando Sr Z ---\n",
      "e-mail: srz@email.com\n",
      "    Nome: Senhor Ze        \n",
      "    Endereço: Rua Ze\n",
      "    Idade: 33\n",
      "    Favorito: True        \n",
      "    \n"
     ]
    }
   ],
   "source": [
    "consultar(minha_agenda, 'srz@email.com')\n",
    "print('--- atualizando Sr Z ---')\n",
    "atualizar(minha_agenda, 'srz@email.com', 'Senhor Ze', 33, \"Rua Ze\", True)\n",
    "consultar(minha_agenda, 'srz@email.com')"
   ]
  },
  {
   "cell_type": "markdown",
   "id": "7dfd7c3c",
   "metadata": {},
   "source": [
    "#### Favoritar\n"
   ]
  },
  {
   "cell_type": "code",
   "execution_count": null,
   "id": "72b0c715",
   "metadata": {},
   "outputs": [],
   "source": [
    "def favoritar(agenda, email):    \n",
    "    agenda[email][3] = True"
   ]
  },
  {
   "cell_type": "code",
   "execution_count": 76,
   "id": "d3d149df",
   "metadata": {},
   "outputs": [
    {
     "name": "stdout",
     "output_type": "stream",
     "text": [
      "e-mail: srx@email.com\n",
      "    Nome: Sr. X        \n",
      "    Endereço: Rua x\n",
      "    Idade: 30\n",
      "    Favorito: False        \n",
      "    \n",
      "e-mail: srx@email.com\n",
      "    Nome: Sr. X        \n",
      "    Endereço: Rua x\n",
      "    Idade: 30\n",
      "    Favorito: True        \n",
      "    \n"
     ]
    }
   ],
   "source": [
    "consultar(minha_agenda,'srx@email.com')\n",
    "favoritar(minha_agenda, 'srx@email.com')\n",
    "consultar(minha_agenda,'srx@email.com')"
   ]
  },
  {
   "cell_type": "markdown",
   "id": "6d2a93c7",
   "metadata": {},
   "source": [
    "#### Juntando tudo\n"
   ]
  },
  {
   "cell_type": "code",
   "execution_count": null,
   "id": "3fe12f05",
   "metadata": {},
   "outputs": [],
   "source": [
    "# Nossos dados\n",
    "minha_agenda = {}\n",
    "\n",
    "def cadastrar(agenda, email, nome, idade, endereco, favorito=False):    \n",
    "    agenda[email] = [nome, idade, endereco, favorito]\n",
    "\n",
    "def atualizar(agenda, email, nome, idade, endereco, favorito=False):    \n",
    "    agenda[email] = [nome, idade, endereco, favorito]\n",
    "\n",
    "def favoritar(agenda, email):    \n",
    "    agenda[email][3] = True\n",
    "\n",
    "def apagar(agenda, email):\n",
    "    del agenda[email]\n",
    "\n",
    "def consultar(agenda, email):\n",
    "    dados = agenda[email]\n",
    "    print(f'''e-mail: {email}\n",
    "    Nome: {dados[0]}        \n",
    "    Endereço: {dados[2]}\n",
    "    Idade: {dados[1]}\n",
    "    Favorito: {dados[3]}        \n",
    "    ''')\n",
    "\n",
    "def listar(agenda):\n",
    "    for email, dados in agenda.items():        \n",
    "        print(f'''e-mail: {email}\n",
    "    Nome: {dados[0]}        \n",
    "    Endereço: {dados[2]}\n",
    "    Idade: {dados[1]}\n",
    "    Favorito: {dados[3]}        \n",
    "    ''')\n",
    "\n"
   ]
  }
 ],
 "metadata": {
  "kernelspec": {
   "display_name": "Python 3",
   "language": "python",
   "name": "python3"
  },
  "language_info": {
   "codemirror_mode": {
    "name": "ipython",
    "version": 3
   },
   "file_extension": ".py",
   "mimetype": "text/x-python",
   "name": "python",
   "nbconvert_exporter": "python",
   "pygments_lexer": "ipython3",
   "version": "3.13.3"
  }
 },
 "nbformat": 4,
 "nbformat_minor": 5
}
