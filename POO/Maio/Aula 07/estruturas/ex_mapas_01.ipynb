{
 "cells": [
  {
   "cell_type": "markdown",
   "id": "d117836a",
   "metadata": {},
   "source": [
    "# Exercícios com Mapas\n",
    "\n",
    "Estes exercícios utilizam mapas (dicionários) para manipulação de dados em Python."
   ]
  },
  {
   "cell_type": "markdown",
   "id": "6fe609d5",
   "metadata": {},
   "source": [
    "### Exercício 1: Contar Palavras em um Texto\n",
    "Crie um programa que receba um texto e conte a frequência de cada palavra, armazenando os resultados em um mapa. Por exemplo, para o texto `\"eu gosto de python e eu gosto de programar\"`, o mapa resultante deve ser `{\"eu\": 2, \"gosto\": 2, \"de\": 2, \"python\": 1, \"e\": 1, \"programar\": 1}`."
   ]
  },
  {
   "cell_type": "markdown",
   "id": "7f5794ee",
   "metadata": {},
   "source": [
    "### Exercício 2: Tradutor de Palavras\n",
    "Implemente um tradutor simples que utilize um mapa para armazenar palavras em português como chaves e suas traduções em inglês como valores. O programa deve permitir que o usuário insira uma palavra em português e exiba sua tradução."
   ]
  },
  {
   "cell_type": "markdown",
   "id": "70c2531b",
   "metadata": {},
   "source": [
    "### Exercício 3: Gerenciar Contatos\n",
    "Crie um programa que utilize um mapa para armazenar nomes de contatos como chaves e números de telefone como valores. O programa deve permitir adicionar, remover e buscar contatos."
   ]
  },
  {
   "cell_type": "markdown",
   "id": "2c855024",
   "metadata": {},
   "source": [
    "### Exercício 4: Organizar Produtos por Categoria\n",
    "Receba uma lista de produtos e suas categorias e organize-os em um mapa onde as categorias são as chaves e os valores são listas de produtos pertencentes a cada categoria. Por exemplo, para a entrada `[('maçã', 'fruta'), ('cenoura', 'legume'), ('banana', 'fruta')]`, o mapa resultante deve ser `{\"fruta\": ['maçã', 'banana'], \"legume\": ['cenoura']}`."
   ]
  },
  {
   "cell_type": "markdown",
   "id": "4b983bcd",
   "metadata": {},
   "source": [
    "### Exercício 5: Contar Caracteres em uma String\n",
    "Crie um programa que receba uma string e conte a frequência de cada caractere, armazenando os resultados em um mapa. Por exemplo, para a string `\"banana\"`, o mapa resultante deve ser `{\"b\": 1, \"a\": 3, \"n\": 2}`."
   ]
  }
 ],
 "metadata": {
  "language_info": {
   "name": "python"
  }
 },
 "nbformat": 4,
 "nbformat_minor": 5
}
