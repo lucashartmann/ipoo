{
 "cells": [
  {
   "cell_type": "markdown",
   "id": "09cc6757",
   "metadata": {},
   "source": [
    "## Loops\n",
    "\n",
    "\n",
    "Um loop repete um bloco de código várias vezes.\n",
    "\n",
    "Existem dois tipos principais de loops em Python: `for` e `while`. Vamos começar com o loop `for`.\n",
    "\n",
    "### Loop `for`\n",
    "\n",
    "O loop `for` é usado quando você sabe exatamente quantas vezes quer repetir algo. Ele é como uma lista de tarefas que você precisa fazer uma após a outra.\n",
    "\n",
    "Vamos ver um exemplo simples:\n",
    "\n",
    "```python\n",
    "for i in range(5):\n",
    "    print(\"Olá, mundo!\")\n",
    "```\n",
    "\n",
    "Neste exemplo, o loop `for` repete o bloco de código 5 vezes. A variável `i` assume os valores 0, 1, 2, 3 e 4, e a mensagem \"Olá, mundo!\" é impressa em cada iteração.\n",
    "\n",
    "### Loop `while`\n",
    "\n",
    "O loop `while` é usado quando você quer repetir algo até que uma condição seja falsa. Ele é como uma tarefa que você continua fazendo enquanto uma certa condição for verdadeira.\n",
    "\n",
    "Vamos ver um exemplo:\n",
    "\n",
    "```python\n",
    "contador = 0\n",
    "\n",
    "while contador < 5:\n",
    "    print(\"Olá, mundo!\")\n",
    "    contador += 1\n",
    "```\n",
    "\n",
    "Neste exemplo, o loop `while` repete o bloco de código enquanto a variável `contador` for menor que 5. A cada iteração, a mensagem \"Olá, mundo!\" é impressa e o valor de `contador` é incrementado em 1. Quando `contador` chega a 5, a condição se torna falsa e o loop para.\n",
    "\n",
    "### Exemplo Prático: Contando de 1 a 10\n",
    "\n",
    "Vamos ver como podemos usar um loop `for` para contar de 1 a 10:\n",
    "\n",
    "```python\n",
    "for i in range(1, 11):\n",
    "    print(i)\n",
    "```\n"
   ]
  },
  {
   "cell_type": "code",
   "execution_count": 4,
   "id": "58fce5aa",
   "metadata": {},
   "outputs": [
    {
     "name": "stdout",
     "output_type": "stream",
     "text": [
      "1,2,3,"
     ]
    }
   ],
   "source": [
    "for i in range(1, 4):\n",
    "    print(i, end=',')"
   ]
  },
  {
   "cell_type": "code",
   "execution_count": 5,
   "id": "db3108d5",
   "metadata": {},
   "outputs": [
    {
     "name": "stdout",
     "output_type": "stream",
     "text": [
      "123"
     ]
    }
   ],
   "source": [
    "for i in range(1, 4):\n",
    "    print(i, end='')"
   ]
  },
  {
   "cell_type": "code",
   "execution_count": 7,
   "id": "de9490e2",
   "metadata": {},
   "outputs": [
    {
     "name": "stdout",
     "output_type": "stream",
     "text": [
      "(0, 'Abelardo')\n",
      "(1, 'José')\n",
      "(2, 'Fernando')\n",
      "(3, 'Pedro')\n"
     ]
    }
   ],
   "source": [
    "for e in enumerate([\"Abelardo\", \"José\", \"Fernando\", \"Pedro\"]):\n",
    "    print(e)"
   ]
  },
  {
   "cell_type": "code",
   "execution_count": 8,
   "id": "e456684c",
   "metadata": {},
   "outputs": [
    {
     "name": "stdout",
     "output_type": "stream",
     "text": [
      "0\n",
      "1\n",
      "2\n",
      "3\n"
     ]
    }
   ],
   "source": [
    "for e in enumerate([\"Abelardo\", \"José\", \"Fernando\", \"Pedro\"]):\n",
    "    print(e[0])"
   ]
  },
  {
   "cell_type": "code",
   "execution_count": 9,
   "id": "3a66972d",
   "metadata": {},
   "outputs": [
    {
     "name": "stdout",
     "output_type": "stream",
     "text": [
      "40\n",
      "50\n"
     ]
    }
   ],
   "source": [
    "posicaoXY = (40, 50)\n",
    "x, y = posicaoXY\n",
    "print(x)\n",
    "print(y)"
   ]
  },
  {
   "cell_type": "code",
   "execution_count": 10,
   "id": "27639229",
   "metadata": {},
   "outputs": [
    {
     "name": "stdout",
     "output_type": "stream",
     "text": [
      "i = 0, nome: Abelardo\n",
      "i = 1, nome: José\n",
      "i = 2, nome: Fernando\n",
      "i = 3, nome: Pedro\n"
     ]
    }
   ],
   "source": [
    "for i, nome in enumerate([\"Abelardo\", \"José\", \"Fernando\", \"Pedro\"]):\n",
    "    print(f\"i = {i}, nome: {nome}\")"
   ]
  },
  {
   "cell_type": "code",
   "execution_count": 11,
   "id": "f6a0410c",
   "metadata": {},
   "outputs": [
    {
     "name": "stdout",
     "output_type": "stream",
     "text": [
      "10\n",
      "15\n",
      "20\n",
      "25\n",
      "30\n",
      "35\n",
      "40\n",
      "45\n",
      "50\n",
      "55\n"
     ]
    }
   ],
   "source": [
    "for i in range(10, 60, 5):\n",
    "    print(i)"
   ]
  },
  {
   "cell_type": "code",
   "execution_count": 13,
   "id": "fcf75003",
   "metadata": {},
   "outputs": [
    {
     "name": "stdout",
     "output_type": "stream",
     "text": [
      "0 10\n",
      "1 15\n",
      "2 20\n",
      "3 25\n",
      "4 30\n",
      "5 35\n",
      "6 40\n",
      "7 45\n",
      "8 50\n",
      "9 55\n",
      "10 60\n"
     ]
    }
   ],
   "source": [
    "for idice, valor in  enumerate(range(10, 61, 5)):\n",
    "    print(idice,valor)"
   ]
  },
  {
   "cell_type": "markdown",
   "id": "bf174cd4",
   "metadata": {},
   "source": [
    "\n",
    "Neste exemplo, o loop `for` começa em 1 e vai até 10. A variável `i` assume os valores 1, 2, 3, ..., 10, e cada valor é impresso.\n",
    "\n",
    "### Exemplo Prático: Pedindo Senha\n",
    "\n",
    "Vamos ver como podemos usar um loop `while` para pedir uma senha até que a senha correta seja digitada:\n",
    "\n",
    "```python\n",
    "senha_correta = \"1234\"\n",
    "senha_digitada = \"\"\n",
    "\n",
    "while senha_digitada != senha_correta:\n",
    "    senha_digitada = input(\"Digite a senha: \")\n",
    "    if senha_digitada == senha_correta:\n",
    "        print(\"Senha correta! Acesso permitido.\")\n",
    "    else:\n",
    "        print(\"Senha incorreta. Tente novamente.\")\n",
    "```\n",
    "\n",
    "Neste exemplo, o loop `while` continua pedindo a senha até que a senha correta seja digitada. Se a senha digitada for correta, a mensagem \"Senha correta! Acesso permitido.\" é impressa e o loop para. Se a senha for incorreta, a mensagem \"Senha incorreta. Tente novamente.\" é impressa e o loop continua.\n",
    "\n"
   ]
  }
 ],
 "metadata": {
  "kernelspec": {
   "display_name": "Python 3",
   "language": "python",
   "name": "python3"
  },
  "language_info": {
   "codemirror_mode": {
    "name": "ipython",
    "version": 3
   },
   "file_extension": ".py",
   "mimetype": "text/x-python",
   "name": "python",
   "nbconvert_exporter": "python",
   "pygments_lexer": "ipython3",
   "version": "3.13.3"
  }
 },
 "nbformat": 4,
 "nbformat_minor": 5
}
