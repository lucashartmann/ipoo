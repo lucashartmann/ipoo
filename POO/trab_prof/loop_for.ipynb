{
 "cells": [
  {
   "cell_type": "markdown",
   "id": "34fbfc9a",
   "metadata": {},
   "source": [
    "## Loop com for"
   ]
  },
  {
   "cell_type": "code",
   "execution_count": 5,
   "id": "56ded7f5",
   "metadata": {},
   "outputs": [
    {
     "name": "stdout",
     "output_type": "stream",
     "text": [
      "Oi Bicho!\n",
      "Oi Galinha!\n",
      "Oi pato!\n"
     ]
    }
   ],
   "source": [
    "for x in ['Bicho','Galinha',\"pato\"]:\n",
    "    print(f\"Oi {x}!\")"
   ]
  },
  {
   "cell_type": "code",
   "execution_count": 6,
   "id": "bb1aabdc",
   "metadata": {},
   "outputs": [
    {
     "name": "stdout",
     "output_type": "stream",
     "text": [
      "Oie!!\n",
      "Oie!!\n",
      "Oie!!\n",
      "Oie!!\n",
      "Oie!!\n"
     ]
    }
   ],
   "source": [
    "for _ in range(5):\n",
    "    print(\"Oie!!\")"
   ]
  }
 ],
 "metadata": {
  "kernelspec": {
   "display_name": "Python 3",
   "language": "python",
   "name": "python3"
  },
  "language_info": {
   "codemirror_mode": {
    "name": "ipython",
    "version": 3
   },
   "file_extension": ".py",
   "mimetype": "text/x-python",
   "name": "python",
   "nbconvert_exporter": "python",
   "pygments_lexer": "ipython3",
   "version": "3.13.2"
  }
 },
 "nbformat": 4,
 "nbformat_minor": 5
}
