{
 "cells": [
  {
   "cell_type": "markdown",
   "metadata": {},
   "source": [
    "# f-strings e DocStrings"
   ]
  },
  {
   "cell_type": "code",
   "execution_count": 4,
   "metadata": {},
   "outputs": [
    {
     "name": "stdout",
     "output_type": "stream",
     "text": [
      "nome = Willnota = 8.5\n"
     ]
    }
   ],
   "source": [
    "nome1 = \"Will\"\n",
    "nota1 = 8.5\n",
    "média1 = 8.5\n",
    "situacao1 = True\n",
    "\n",
    "linha1 = \"nome = \" + nome1 + \"nota = \"+ str(nota1)\n",
    "\n",
    "print(linha1)"
   ]
  },
  {
   "cell_type": "code",
   "execution_count": 8,
   "metadata": {},
   "outputs": [
    {
     "name": "stdout",
     "output_type": "stream",
     "text": [
      "nome = Will nota = 8.5 média = 8.5 situação = True\n"
     ]
    }
   ],
   "source": [
    "linha2 = f\"nome = {nome1} nota = {nota1} média = {média1} situação = {situacao1}\"\n",
    "print(linha2)"
   ]
  },
  {
   "cell_type": "code",
   "execution_count": 9,
   "metadata": {},
   "outputs": [
    {
     "name": "stdout",
     "output_type": "stream",
     "text": [
      "nome = Will nota = 8.5 média = 8.5 situação = True\n"
     ]
    }
   ],
   "source": [
    "linha3 = f\"nome\\t nota\\t média\\t situação\\nnome = {nome1} nota = {nota1} média = {média1} situação = {situacao1}\"\n",
    "print(linha2)"
   ]
  },
  {
   "cell_type": "code",
   "execution_count": 14,
   "metadata": {},
   "outputs": [
    {
     "data": {
      "text/plain": [
       "'\\nEstas strings são chamadas de DOCSTRINGS\\ne tem a grande vantagem de aceitarem\\nformatação!\\n\\nNome        Nota        Média\\nWill         8.5     8.5\\n\\n'"
      ]
     },
     "execution_count": 14,
     "metadata": {},
     "output_type": "execute_result"
    }
   ],
   "source": [
    "linha4 = f\"\"\"\n",
    "Estas strings são chamadas de DOCSTRINGS\n",
    "e tem a grande vantagem de aceitarem\n",
    "formatação!\n",
    "\n",
    "Nome        Nota        Média\n",
    "{nome1}         {nota1}     {média1}\n",
    "\n",
    "\"\"\"\n",
    "\n",
    "linha4"
   ]
  },
  {
   "cell_type": "markdown",
   "metadata": {},
   "source": []
  }
 ],
 "metadata": {
  "kernelspec": {
   "display_name": "Python 3",
   "language": "python",
   "name": "python3"
  },
  "language_info": {
   "codemirror_mode": {
    "name": "ipython",
    "version": 3
   },
   "file_extension": ".py",
   "mimetype": "text/x-python",
   "name": "python",
   "nbconvert_exporter": "python",
   "pygments_lexer": "ipython3",
   "version": "3.13.2"
  }
 },
 "nbformat": 4,
 "nbformat_minor": 2
}
