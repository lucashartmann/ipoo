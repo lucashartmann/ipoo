{
 "cells": [
  {
   "cell_type": "markdown",
   "id": "3153b019",
   "metadata": {},
   "source": [
    "# Algorítmos sequenciais"
   ]
  },
  {
   "cell_type": "markdown",
   "id": "e7a391fd",
   "metadata": {},
   "source": [
    "Algorítmos sequenciais são sequencias de operações que são executadas uma por uma, em sequencia.\n",
    "\n",
    "Vamos aprender o que são algorítmos sequenciais estudando o exemplo de um algorítmo que soma 2 valores."
   ]
  },
  {
   "cell_type": "markdown",
   "id": "7758925c",
   "metadata": {},
   "source": [
    "## Algoritmo - Soma 2 valores\n",
    "Algoritmo para somar dois valores. \n",
    "\n",
    "Operações:\n",
    "- pegar dois valores \n",
    "- fazer a soma deles\n",
    "- dar o resultado da soma"
   ]
  },
  {
   "cell_type": "markdown",
   "id": "6420b88c",
   "metadata": {},
   "source": []
  },
  {
   "cell_type": "markdown",
   "id": "c61d0063",
   "metadata": {},
   "source": [
    "Podemos escrever de diversas formas as etapas para somar 2 valores.\n",
    "\n",
    "### Soma 2 valores - Forma 1:\n",
    "\n",
    "- Escolhemos dois valores que daramos ao programa\n",
    "- Aplicamos a operação matemática de adição\n",
    "- Recebemos a resposta do programa"
   ]
  },
  {
   "cell_type": "code",
   "execution_count": null,
   "id": "e8fcd65c",
   "metadata": {},
   "outputs": [],
   "source": [
    "1 + 2"
   ]
  },
  {
   "cell_type": "markdown",
   "id": "79b0ed0a",
   "metadata": {},
   "source": [
    "### Soma 2 valores - Forma 2:\n",
    "\n",
    "- Usando uma variável que representa o resultado da operação de adição\n",
    "- Exibindo o valor dessa variável como saída"
   ]
  },
  {
   "cell_type": "code",
   "execution_count": null,
   "id": "4f85bcaf",
   "metadata": {},
   "outputs": [],
   "source": [
    "x = 1 + 2"
   ]
  },
  {
   "cell_type": "markdown",
   "id": "f1764cb6",
   "metadata": {},
   "source": [
    "Note que o valor da variável <code>x</code> não apareceu sozinho como resposta, como aconteceu no trecho de código anterior.\n",
    "\n",
    "Isso aconteceu porque o valor de uma variável fica armazenado na memória do computador."
   ]
  },
  {
   "cell_type": "markdown",
   "id": "d4e4a722",
   "metadata": {},
   "source": [
    "### Função <code>print()</code>"
   ]
  },
  {
   "cell_type": "markdown",
   "id": "bdd3e359",
   "metadata": {},
   "source": [
    "Para imprimir o valor de uma variável usamos a função <code>print()</code>.\n",
    "\n",
    "> *print* significa \"imprima\"\n",
    "\n",
    "Passamos como parâmetro para essa função a variável que queremos imprimir."
   ]
  },
  {
   "cell_type": "code",
   "execution_count": null,
   "id": "be493fdc",
   "metadata": {},
   "outputs": [],
   "source": [
    "# Imprima o valor de x\n",
    "print(x)"
   ]
  },
  {
   "cell_type": "markdown",
   "id": "4385c526",
   "metadata": {},
   "source": [
    "### Soma 2 valores - Forma 3:\n",
    "\n",
    "- Usando uma variável para cada valor\n",
    "- Efetuando a operação de adição com as variáveis"
   ]
  },
  {
   "cell_type": "code",
   "execution_count": null,
   "id": "4583b766",
   "metadata": {},
   "outputs": [],
   "source": [
    "a = 1\n",
    "b = 2\n",
    "\n",
    "x = a + b \n",
    "\n",
    "print(x)"
   ]
  },
  {
   "cell_type": "markdown",
   "id": "61d9c602",
   "metadata": {},
   "source": [
    "Nessa nova implementação do algoritmo Soma2 pudemos usar a função `print()` para mostrar uma resposta ao usuário do programa, para que ele não tenha que usar um debugger para ver na memória qual o valor de x!"
   ]
  },
  {
   "cell_type": "markdown",
   "id": "12812ec5",
   "metadata": {},
   "source": [
    "### Função <code>input()</code>"
   ]
  },
  {
   "cell_type": "markdown",
   "id": "30e9a007",
   "metadata": {},
   "source": [
    "A *função* chamada <code>input()</code> é usada para recebermos dados via teclado.\n",
    "\n",
    "> *input* significa \"entrada\"\n",
    "\n",
    "Essa função pára a execução do programa e aguarda a entrada de dados via teclado."
   ]
  },
  {
   "cell_type": "code",
   "execution_count": null,
   "id": "03e1da14",
   "metadata": {},
   "outputs": [],
   "source": [
    "input()"
   ]
  },
  {
   "cell_type": "markdown",
   "id": "5e02cc6d",
   "metadata": {},
   "source": [
    "Após teclarmos *enter*/*return* os dados são enviados para o programa.\n",
    "\n",
    "A função <code>input()</code> é uma das funções daquele tipo que dão como resposta um valor ao programa que as chamou. \n",
    "Isso permite que esses valores de resposta sejam armazenados, por exemplo, em uma variável ou usados imediatamente pelo programa que chamou a função."
   ]
  },
  {
   "cell_type": "code",
   "execution_count": null,
   "id": "914fa526",
   "metadata": {},
   "outputs": [],
   "source": [
    "nome = input()"
   ]
  },
  {
   "cell_type": "markdown",
   "id": "803ef651",
   "metadata": {},
   "source": [
    "O valor recebido via teclado pela função <code>input()</code> foi retornado por ela ao programa que a chamou e armazenado pelo programa em uma nova variável chamada <code>nome</code> e guardado na memória.\n",
    "\n",
    "Podemos acessar esse valor usando o nome da variável."
   ]
  },
  {
   "cell_type": "code",
   "execution_count": null,
   "id": "03238c4f",
   "metadata": {},
   "outputs": [],
   "source": [
    "nome"
   ]
  },
  {
   "cell_type": "markdown",
   "id": "d3e66701",
   "metadata": {},
   "source": [
    "### Soma 2 valores - Forma 4:\n",
    "\n",
    "- Entrando os dados via teclado \n",
    "- Armazenando cada dado em uma variável\n",
    "- Fazendo a adição usando as variáveis"
   ]
  },
  {
   "cell_type": "code",
   "execution_count": null,
   "id": "ae4175ae",
   "metadata": {},
   "outputs": [],
   "source": [
    "# entradas via teclado\n",
    "a = input()\n",
    "b = input()\n",
    "\n",
    "# fazemos a soma dos dados\n",
    "x = a + b \n",
    "\n",
    "# resultado da soma\n",
    "print(x)"
   ]
  },
  {
   "cell_type": "markdown",
   "id": "cd6a9aa1",
   "metadata": {},
   "source": [
    "O resultado não é o que esperávamos, não é? Esperávamos que o programa nos informasse o resultado da soma de dois números. O que aconteceu?"
   ]
  },
  {
   "cell_type": "markdown",
   "id": "5f69e165",
   "metadata": {},
   "source": [
    "## Tipos de dados\n",
    "\n",
    "Para entender o problema no programa acima precisamos saber que dados podem ser de *tipos* diferentes.\n",
    "\n",
    "O que aconteceu foi que o programa entendeu que os dados eram *caracteres* e não *números*. Interpretando os dados como caracteres, o programa concatenou os valores ao invés de efetuar a adição deles."
   ]
  },
  {
   "cell_type": "markdown",
   "id": "b30b1627",
   "metadata": {},
   "source": [
    "### Função <code>type()</code>\n",
    "\n",
    "Para saber qual é o tipo de um dado usamos a função <code>type()</code>"
   ]
  },
  {
   "cell_type": "code",
   "execution_count": null,
   "id": "72f48b75",
   "metadata": {},
   "outputs": [],
   "source": [
    "# retorna que 10 é int\n",
    "type(10)"
   ]
  },
  {
   "cell_type": "code",
   "execution_count": null,
   "id": "a0c3f4b2",
   "metadata": {},
   "outputs": [],
   "source": [
    "# retorna que 'ab12' é str\n",
    "type('ab12')"
   ]
  },
  {
   "cell_type": "markdown",
   "id": "e059e262",
   "metadata": {},
   "source": [
    "Também podemos passar uma variável para a função <code>type()</code> ela retornará o tipo do dado armazenado na variável."
   ]
  },
  {
   "cell_type": "code",
   "execution_count": null,
   "id": "8f2b7c0f",
   "metadata": {},
   "outputs": [],
   "source": [
    "# retorna o tipo do dado\n",
    "# contido em a\n",
    "type(a)"
   ]
  },
  {
   "cell_type": "code",
   "execution_count": null,
   "id": "137382c7",
   "metadata": {},
   "outputs": [],
   "source": [
    "type(x) "
   ]
  },
  {
   "cell_type": "markdown",
   "id": "2a57d289",
   "metadata": {},
   "source": [
    "### str - String\n",
    "\n",
    "<code>str</code> é um tipo de dado chamado *String*.\n",
    "\n",
    "> Uma *String* é um conjunto de caracteres em sequência.\n",
    "\n",
    "- 'abc'\n",
    "- '123'\n",
    "- 'abc123'\n",
    "- 'Gustavo'\n",
    "\n",
    "Não podemos fazer operações matemáticas com Strings.\n",
    "\n",
    "O operador <code>+</code> pode ser usado com Strings mas seu efeito é o de *concatenar* o conteúdo de cada String, não importando se são letras ou números."
   ]
  },
  {
   "cell_type": "code",
   "execution_count": null,
   "id": "52f4b562",
   "metadata": {},
   "outputs": [],
   "source": [
    "'Gustavo' + 'Razzera'"
   ]
  },
  {
   "cell_type": "markdown",
   "id": "9091b45e",
   "metadata": {},
   "source": [
    "### int - Inteiro\n",
    "<code>int</code> é um tipo de dado que respresenta valores numéricos inteiros.\n",
    "\n",
    "> Inteiros são números que não tem uma parte decimal."
   ]
  },
  {
   "cell_type": "code",
   "execution_count": null,
   "id": "221df373",
   "metadata": {},
   "outputs": [],
   "source": [
    "# Podemos fazer operações\n",
    "# aritméticas com números\n",
    "1 + 1"
   ]
  },
  {
   "cell_type": "code",
   "execution_count": null,
   "id": "e3f9088a",
   "metadata": {},
   "outputs": [],
   "source": [
    "1000 + 1000"
   ]
  },
  {
   "cell_type": "markdown",
   "id": "8b5adfa7",
   "metadata": {},
   "source": [
    "Repare que não colocamos ponto nem vírgula para separar as centanas, milhares, etc..."
   ]
  },
  {
   "cell_type": "markdown",
   "id": "078faeb2",
   "metadata": {},
   "source": [
    "### float - Decimal com ponto flutuante\n",
    "\n",
    "Caso coloquemos um ponto no número mil querendo separar o milhar da centena, acabaremos sem querer criando um outro valor, do tipo <code>float</code>."
   ]
  },
  {
   "cell_type": "code",
   "execution_count": null,
   "id": "aa3f77b0",
   "metadata": {},
   "outputs": [],
   "source": [
    "type(1.000)"
   ]
  },
  {
   "cell_type": "markdown",
   "id": "500eeade",
   "metadata": {},
   "source": [
    "Isso acontece por 3 razões:\n",
    "- segundo o padrão americano (USA) o ponto é usado para separar a parte decimal da parte inteira de um número. No Brasil usamos a vírgula\n",
    "- segundo a sintaxe do Python, não separamos as centenas, milhares, etc... com pontuação alguma\n",
    "- sendo o inglês a linguagem padrão do Python, a sintaxe da linguagem referente a representação de valores numéricos segue o padrão USA, por isso o ponto é interpretado como separador da parte *decimal* de um número\n",
    "\n",
    "O que acontece, então, quando escrevemos <code>1.000</code> é que não apenas esse valor é interpretado como um número com parte decimal (um <code>float</code>) mas também como sendo o valor do número um! \n",
    "\n",
    "Confira"
   ]
  },
  {
   "cell_type": "code",
   "execution_count": null,
   "id": "ed921984",
   "metadata": {},
   "outputs": [],
   "source": [
    "1.000 + 1.000"
   ]
  },
  {
   "cell_type": "markdown",
   "id": "eafdff8c",
   "metadata": {},
   "source": [
    "O resultado é 2.0, o que significa o valor 2, só que com uma parte decimal. Nesse caso, a parte decimal é igual a zero."
   ]
  },
  {
   "cell_type": "markdown",
   "id": "537e2dfb",
   "metadata": {},
   "source": [
    "## Conversão de tipo\n",
    "\n",
    "Se temos caracteres que representam números e queremos fazer uma operação aritmética com eles, precisamos converter os valores para algum tipo de dado numérico."
   ]
  },
  {
   "cell_type": "code",
   "execution_count": null,
   "id": "109218e6",
   "metadata": {},
   "outputs": [],
   "source": [
    "valor1 = int(a)\n",
    "type(valor1)"
   ]
  },
  {
   "cell_type": "markdown",
   "id": "6643bade",
   "metadata": {},
   "source": [
    "Aqui, convertemos um valor para o tipo <code>int</code> usando a função chamada <code>int()</code>.\n",
    "\n",
    "Essa operação de conversão é chamada de *mascaramento de tipo*."
   ]
  },
  {
   "cell_type": "markdown",
   "id": "39165538",
   "metadata": {},
   "source": [
    "Convertendo também o <code>valor2</code> para inteiro poderemos fazer a soma dos dois valores e assim a variável <code>soma</code> também será de tipo <code>int</code>."
   ]
  },
  {
   "cell_type": "code",
   "execution_count": null,
   "id": "2c63d8d1",
   "metadata": {},
   "outputs": [],
   "source": [
    "valor2 = int(b)\n",
    "soma = valor1 + valor2\n",
    "\n",
    "type(soma)"
   ]
  },
  {
   "cell_type": "markdown",
   "id": "df96c6b2",
   "metadata": {},
   "source": [
    "> O Python determina qual o tipo de uma variável no momento que atribuímos um valor a ela. A variável assume o tipo do valor."
   ]
  },
  {
   "cell_type": "markdown",
   "id": "3ec070e9",
   "metadata": {},
   "source": [
    "## Soma 2 valores - Forma 5:\n",
    "\n",
    "Agora podemos reescrever o programa para termos o resultado que esperávamos."
   ]
  },
  {
   "cell_type": "code",
   "execution_count": null,
   "id": "01c5c381",
   "metadata": {},
   "outputs": [],
   "source": [
    "# Soma2:\n",
    "# Entrada: 2 valores, a e b\n",
    "#          via teclado\n",
    "# Saída: a soma de a e b\n",
    "###########################\n",
    "a = input()\n",
    "b = input()\n",
    "\n",
    "valor1 = int(a)\n",
    "valor2 = int(b)\n",
    "\n",
    "soma = valor1 + valor2\n",
    "\n",
    "print(soma)"
   ]
  },
  {
   "cell_type": "markdown",
   "id": "53b96690",
   "metadata": {},
   "source": [
    "## Outras operações matemáticas básicas\n",
    "\n",
    "Até agora os exemplos de código usaram apenas a operação de adição. Na lista abaixo estão os outros operadores aritméticos básicos do Python. Você vai precisar deles nos exercícios a seguir.\n",
    "\n",
    "- `+` Adição\n",
    "\n",
    "> `x = a + b`\n",
    "\n",
    "- `-` Subtração\n",
    "\n",
    "> `y = a - x`\n",
    "\n",
    "- `*` Multiplicação\n",
    "\n",
    "> `a = 2 * y`\n",
    "\n",
    "- `/` Divisão\n",
    "\n",
    "> `a = 1/x`\n"
   ]
  },
  {
   "cell_type": "markdown",
   "id": "6ed6ebe4",
   "metadata": {},
   "source": [
    "## Observações e Conclusões"
   ]
  },
  {
   "cell_type": "markdown",
   "id": "1a619de8",
   "metadata": {},
   "source": [
    "### Um mesmo algorítimo pode ser implementado de várias formas\n",
    "\n",
    "Observe que a operação de conversão de String para Inteiro não é essencial para a definição do algorítimo. Esse passo foi inserido no código por causa do modo como o computador entende os dados.\n",
    "\n",
    "Isso mostra a diferença entre escrever um algorítmo em *pseudocódigo* e de fato *codificar* um algorítmo em alguma linguagem de programação.\n",
    "\n",
    "> Um *mesmo* algoritmo pode ser escrito em diversas linguagens. Passos a mais poderão surgir ou até desaparecer, dependendo da linguagem usada. \n",
    "\n",
    "Por exemplo, uma linguagem de programação poderia identificar automaticamente que os valores entrados são do tipo Inteiro e, assim, nessa linguagem não precisaríamos das operação de conversão que tipo que usamos. "
   ]
  },
  {
   "cell_type": "markdown",
   "id": "c229a961",
   "metadata": {},
   "source": [
    "### Em Python, o tipo de dado de uma variável pode mudar\n",
    "\n",
    "As variáveis em Python podem conter qualquer tipo de dado.\n",
    "\n",
    "Qualquer variável, a cada etapa da execução de um programa, sempre vai ter algum tipo. Porém, esse tipo pode mudar conforme o valor que ela guarda naquela etapa de execução em particular.\n",
    "\n",
    "A qualquer momento outro valor pode ser atribuído a uma variável e o tipo dela mudará para ficar igual ao tipo do valor."
   ]
  },
  {
   "cell_type": "markdown",
   "id": "24482324",
   "metadata": {},
   "source": [
    "### Funções executam operações complexas sem que precisemos escrever o código delas\n",
    "\n",
    "Note como uma função como <code>input()</code> executa várias operações:\n",
    "- suspender a execução do programa\n",
    "- pedir um dado (mostrando um *prompt* para o usuário)\n",
    "- receber um dado via teclado\n",
    "- enviar o dado recebido de volta ao programa que executou a função\n",
    "- retomar a execução do programa\n",
    "\n",
    "Todas essas operações foram executadas sem que precisássemos escrever o código para elas. Esse código já está escrito para nós.\n",
    "\n",
    "O uso de funções facilita a codificação de algoritmos e simplifica a programação. O código final fica mais simples de ser lido porque a complexidade das operações envolvidas em uma de suas etapas - nesse caso, a etapa de leitura de dados via teclado - ficou como que \"escondida na função\"."
   ]
  },
  {
   "cell_type": "markdown",
   "id": "08719c12",
   "metadata": {},
   "source": [
    "### O Python tem operadores e funções prontas para uso - Biblioteca de funções\n",
    "\n",
    "Vimos algumas funções que fazem parte de uma biblioteca de código que vem junto com o Python.\n",
    "\n",
    "- <code>print()</code>\n",
    "- <code>input()</code>\n",
    "- <code>int()</code>\n",
    "- <code>type()</code>\n",
    "\n",
    "Além de funções também usamos alguns operadores que fazem parte da linguagem Python.\n",
    "\n",
    "- operador de adição <code>+</code>\n",
    "- operador de atribuição <code>=</code>\n"
   ]
  },
  {
   "cell_type": "markdown",
   "id": "14256990",
   "metadata": {},
   "source": [
    "## Exercícios\n",
    "(LIVI, EDELWEISS, 2014, pg. 23)\n",
    "\n",
    "Usando apenas os operadores e funções vistos até agora, escreva um programa que calcule e informe:"
   ]
  },
  {
   "cell_type": "markdown",
   "id": "af7ccb5f",
   "metadata": {},
   "source": [
    "- a. o produto de três valores obtidos do teclado"
   ]
  },
  {
   "cell_type": "code",
   "execution_count": null,
   "id": "2caf2122",
   "metadata": {},
   "outputs": [],
   "source": []
  },
  {
   "cell_type": "markdown",
   "id": "12497aed",
   "metadata": {},
   "source": [
    "- b. o valor a pagar em uma loja, recebendo como entradas o preço de um produto e o número de unidades compradas"
   ]
  },
  {
   "cell_type": "code",
   "execution_count": null,
   "id": "0edd4d58",
   "metadata": {},
   "outputs": [],
   "source": []
  },
  {
   "cell_type": "markdown",
   "id": "393a6ed2",
   "metadata": {},
   "source": [
    "- c. o preço final de um produto, com um desconto de 10%. O preço sem desconto é obtido do teclado"
   ]
  },
  {
   "cell_type": "code",
   "execution_count": null,
   "id": "7de9d8d4",
   "metadata": {},
   "outputs": [],
   "source": []
  },
  {
   "cell_type": "markdown",
   "id": "f329e7ac",
   "metadata": {},
   "source": [
    "- d. o valor em reais de um valor informado em dólares. Além do valor em dólares, deve ser informada a taxa de conversão."
   ]
  },
  {
   "cell_type": "code",
   "execution_count": null,
   "id": "c73a4dbf",
   "metadata": {},
   "outputs": [],
   "source": []
  }
 ],
 "metadata": {
  "language_info": {
   "name": "python"
  }
 },
 "nbformat": 4,
 "nbformat_minor": 5
}
