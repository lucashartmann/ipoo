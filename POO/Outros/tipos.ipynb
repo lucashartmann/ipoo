{
 "cells": [
  {
   "cell_type": "markdown",
   "id": "e4ac310a",
   "metadata": {},
   "source": [
    "## Tipos de dados\n",
    "\n",
    "As variáveis em Python podem conter qualquer tipo de valor. Elas não são \"tipadas\". \n"
   ]
  },
  {
   "cell_type": "code",
   "execution_count": null,
   "id": "39bf06c3",
   "metadata": {},
   "outputs": [],
   "source": [
    "# criação da variável x inicializada com valor 10\n",
    "x = 10 \n",
    "\n",
    "# criação da variável s contendo uma string\n",
    "s = \"uma string\""
   ]
  },
  {
   "cell_type": "markdown",
   "id": "6a1d268b",
   "metadata": {},
   "source": [
    "As variáveis também não precisam conter sempre o mesmo tipo de valor. Se atribuirmos a uma variável já existente um valor de tipo diferente ela passa a ser daquele tipo."
   ]
  },
  {
   "cell_type": "code",
   "execution_count": null,
   "id": "bb596da7",
   "metadata": {},
   "outputs": [],
   "source": [
    "# a mesma variável x agora é uma string\n",
    "x = \"agora uma string\"\n",
    "\n",
    "# a variável que antes era uma string agora é um inteiro\n",
    "s = 20"
   ]
  },
  {
   "cell_type": "markdown",
   "id": "8a311e83",
   "metadata": {},
   "source": [
    "\n",
    "A variável x é criada mas agora seu tipo é String. Strings são uma cadeia de caracteres, como veremos adiante. Ou seja, aqui a variável x não contém um número inteiro - o número 10 - mas sim dois caracteres - o caracter 1 e caracter 0 - assim: '10'. Seu valor é, portanto, um texto e não um número."
   ]
  },
  {
   "cell_type": "markdown",
   "id": "c472e3f5",
   "metadata": {},
   "source": [
    "### Conversão de tipo\n",
    "\n",
    "Aqui a variável y armazena um valor numérico de tipo inteiro, um int."
   ]
  },
  {
   "cell_type": "code",
   "execution_count": null,
   "id": "a9673c0e",
   "metadata": {},
   "outputs": [],
   "source": [
    "x = str(20)\n",
    "y = int('10')"
   ]
  },
  {
   "cell_type": "code",
   "execution_count": null,
   "id": "2c217b67",
   "metadata": {},
   "outputs": [],
   "source": [
    "# Rode esta célula para ver o valor de x\n",
    "# note que é uma string (está entre aspas)\n",
    "x"
   ]
  },
  {
   "cell_type": "code",
   "execution_count": null,
   "id": "91e573ac",
   "metadata": {},
   "outputs": [],
   "source": [
    "# Rode esta célula para ver o valor de y\n",
    "# note que é um int (não está entre aspas)\n",
    "y"
   ]
  },
  {
   "cell_type": "markdown",
   "id": "6378d457",
   "metadata": {},
   "source": [
    "\n",
    "Para saber qual o tipo de uma variável usamos a função <code>type()</code>"
   ]
  },
  {
   "cell_type": "code",
   "execution_count": null,
   "id": "19604ec5",
   "metadata": {},
   "outputs": [],
   "source": [
    "# imprime o tipo da variável x\n",
    "type(x)"
   ]
  },
  {
   "cell_type": "markdown",
   "id": "5c6644cc",
   "metadata": {},
   "source": [
    "\n",
    "## Tipos de dados comuns do Python\n",
    "\n",
    "Estes são alguns tipos de dado comuns do Python, separados em grupos:"
   ]
  },
  {
   "cell_type": "markdown",
   "id": "8b912d27",
   "metadata": {},
   "source": [
    "### Texto: <code>str</code>"
   ]
  },
  {
   "cell_type": "code",
   "execution_count": null,
   "id": "73560b6c",
   "metadata": {},
   "outputs": [],
   "source": [
    "nome = \"Gustavo\""
   ]
  },
  {
   "cell_type": "markdown",
   "id": "86f0f98b",
   "metadata": {},
   "source": [
    "\n",
    "### Números: <code>int, float</code>"
   ]
  },
  {
   "cell_type": "code",
   "execution_count": null,
   "id": "f6403e45",
   "metadata": {},
   "outputs": [],
   "source": [
    "x = 10 # este é um inteiro\n",
    "y = 10.5 # este é um float"
   ]
  },
  {
   "cell_type": "markdown",
   "id": "9238162b",
   "metadata": {},
   "source": [
    "### Lógicos: <code>bool</code>"
   ]
  },
  {
   "cell_type": "code",
   "execution_count": null,
   "id": "d4c21574",
   "metadata": {},
   "outputs": [],
   "source": [
    "pronto = True\n",
    "# Booleano com valor de verdade True (verdadeiro)\n",
    "\n",
    "acabou = False\n",
    "# booleano com valor Falso"
   ]
  }
 ],
 "metadata": {
  "language_info": {
   "name": "python"
  }
 },
 "nbformat": 4,
 "nbformat_minor": 5
}
