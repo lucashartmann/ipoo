{
 "cells": [
  {
   "cell_type": "code",
   "execution_count": 2,
   "metadata": {},
   "outputs": [],
   "source": [
    "livros = [\n",
    "    \"DOM CASMURRO - MACHADO DE ASSIS\",\n",
    "    \"GRANDE SERTÃO: VEREDAS - JOÃO GUIMARÃES ROSA\",\n",
    "    \"MEMÓRIAS PÓSTUMAS DE BRÁS CUBAS - MACHADO DE ASSIS\",\n",
    "    \"VIDAS SECAS - GRACILIANO RAMOS\",\n",
    "    \"O CORTIÇO - ALUÍSIO AZEVEDO\",\n",
    "    \"CAPITÃES DA AREIA - JORGE AMADO\",\n",
    "    \"A HORA DA ESTRELA - CLARICE LISPECTOR\",\n",
    "    \"OS SERTÕES - EUCLIDES DA CUNHA\",\n",
    "    \"O TEMPO E O VENTO - ERICO VERISSIMO\",\n",
    "    \"QUINCAS BORBA - MACHADO DE ASSIS\",\n",
    "    \"MACUNAÍMA - MÁRIO DE ANDRADE\",\n",
    "    \"SENHORA - JOSÉ DE ALENCAR\",\n",
    "    \"IRACEMA - JOSÉ DE ALENCAR\",\n",
    "    \"MAYOMBE - PEPETELA (EMBORA SEJA ANGOLANO, É MUITO ESTUDADO NO BRASIL)\",\n",
    "    \"AUTO DA COMPADECIDA - ARIANO SUASSUNA\"\n",
    "]"
   ]
  },
  {
   "cell_type": "code",
   "execution_count": 4,
   "metadata": {},
   "outputs": [],
   "source": [
    "def cadastrar_livro(livro):\n",
    "  livro_novo = livro.upper()\n",
    "  if livro_novo not in livros:\n",
    "    livros.append(livro_novo)\n",
    "    return True \n",
    "  else:\n",
    "    return False"
   ]
  },
  {
   "cell_type": "code",
   "execution_count": null,
   "metadata": {},
   "outputs": [
    {
     "name": "stdout",
     "output_type": "stream",
     "text": [
      "livro já cadastrado\n",
      "['MAUS', 'AUTO DA COMPADECIDA - ARIANO SUASSUNA', 'MAYOMBE - PEPETELA (EMBORA SEJA ANGOLANO, É MUITO ESTUDADO NO BRASIL)', 'IRACEMA - JOSÉ DE ALENCAR', 'SENHORA - JOSÉ DE ALENCAR', 'MACUNAÍMA - MÁRIO DE ANDRADE', 'QUINCAS BORBA - MACHADO DE ASSIS', 'O TEMPO E O VENTO - ERICO VERISSIMO', 'OS SERTÕES - EUCLIDES DA CUNHA', 'A HORA DA ESTRELA - CLARICE LISPECTOR', 'CAPITÃES DA AREIA - JORGE AMADO', 'O CORTIÇO - ALUÍSIO AZEVEDO', 'VIDAS SECAS - GRACILIANO RAMOS', 'MEMÓRIAS PÓSTUMAS DE BRÁS CUBAS - MACHADO DE ASSIS', 'GRANDE SERTÃO: VEREDAS - JOÃO GUIMARÃES ROSA', 'DOM CASMURRO - MACHADO DE ASSIS']\n"
     ]
    }
   ],
   "source": [
    "livro_novo = input(\"Digite o nome do livro: \")\n",
    "\n",
    "cadastrar_livro(livro_novo)\n",
    "\n",
    "cadastrou = cadastrar_livro(livro_novo)\n",
    "\n",
    "if cadastrou:\n",
    "  print(\"Livro cadastrado com sucesso\")\n",
    "else:\n",
    "  print(\"Erro. livro já cadastrado\")\n",
    "  \n",
    "  print(list(reversed(livros)))"
   ]
  }
 ],
 "metadata": {
  "kernelspec": {
   "display_name": "Python 3",
   "language": "python",
   "name": "python3"
  },
  "language_info": {
   "codemirror_mode": {
    "name": "ipython",
    "version": 3
   },
   "file_extension": ".py",
   "mimetype": "text/x-python",
   "name": "python",
   "nbconvert_exporter": "python",
   "pygments_lexer": "ipython3",
   "version": "3.13.2"
  }
 },
 "nbformat": 4,
 "nbformat_minor": 2
}
