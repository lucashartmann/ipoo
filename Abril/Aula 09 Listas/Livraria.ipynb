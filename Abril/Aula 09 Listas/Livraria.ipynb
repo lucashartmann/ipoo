{
 "cells": [
  {
   "cell_type": "code",
   "execution_count": null,
   "metadata": {},
   "outputs": [],
   "source": [
    "lista = [\"Lucas, Pedro, Fernando\"]\n",
    "if \"Lucas\" not in lista: # Se não está na lista\n",
    "    print(\"Não está na lista\")\n",
    "nome =  'Alexandre'\n",
    "if nome in lista: # Se está na lista\n",
    "    print(\"Está na lista\")"
   ]
  },
  {
   "cell_type": "code",
   "execution_count": null,
   "metadata": {},
   "outputs": [],
   "source": [
    "livro_novo = 'lucas'\n",
    "livro_novo.upper()"
   ]
  },
  {
   "cell_type": "markdown",
   "metadata": {},
   "source": [
    "### Inicializa Lista"
   ]
  },
  {
   "cell_type": "code",
   "execution_count": 5,
   "metadata": {},
   "outputs": [],
   "source": [
    "livros = [\"DIÁRIO DE UM BANANA\", \"MAUS\", \"MÃOS DE CAVALO\", \"DOM CASMURRO\"]"
   ]
  },
  {
   "cell_type": "markdown",
   "metadata": {},
   "source": [
    "### Cadastro"
   ]
  },
  {
   "cell_type": "code",
   "execution_count": 3,
   "metadata": {},
   "outputs": [
    {
     "name": "stdout",
     "output_type": "stream",
     "text": [
      "['MAUMAU', 'DOM CASMURRO', 'MÃOS DE CAVALO', 'MAUS', 'DIÁRIO DE UM BANANA']\n"
     ]
    }
   ],
   "source": [
    "# Cadastro\n",
    "livro_novo = input(\"Digite o nome do livro: \")\n",
    "if livro_novo not in livros:\n",
    "    livros.append(livro_novo.upper())\n",
    "    print(list(reversed(livros)))\n",
    "else:\n",
    "    print(\"Livro já está cadastrado\") "
   ]
  },
  {
   "cell_type": "markdown",
   "metadata": {},
   "source": [
    "### Pesquisa"
   ]
  },
  {
   "cell_type": "code",
   "execution_count": 4,
   "metadata": {},
   "outputs": [
    {
     "name": "stdout",
     "output_type": "stream",
     "text": [
      "Livro encontrado\n"
     ]
    }
   ],
   "source": [
    "# Pesquisa\n",
    "livro_pesquisado = input(\"Digite o titulo do livro desejado: \").upper()\n",
    "if livro_pesquisado in livros:\n",
    "    print(\"Livro encontrado: \", livro_pesquisado)\n",
    "else: \n",
    "    print(\"Livro não encontrado\")"
   ]
  },
  {
   "cell_type": "markdown",
   "metadata": {},
   "source": [
    "### Remoção"
   ]
  },
  {
   "cell_type": "code",
   "execution_count": null,
   "metadata": {},
   "outputs": [],
   "source": [
    "livro_pesquisado = input(\"Digite o titulo do livro que deseja excluir: \").upper()\n",
    "if livro_pesquisado in livros:\n",
    "    livros.remove(livro_pesquisado)\n",
    "    print(\"Livro removido com sucesso\")\n",
    "else: \n",
    "    print(\"Livro não encontrado\")"
   ]
  },
  {
   "cell_type": "markdown",
   "metadata": {},
   "source": [
    "### Modificar "
   ]
  },
  {
   "cell_type": "code",
   "execution_count": 7,
   "metadata": {},
   "outputs": [],
   "source": [
    "titulo = input(\"Digite o livro que deseja modificar: \").upper()\n",
    "novo_titulo = input(\"Digite o novo titulo: \").upper()\n",
    "i = livros.index(titulo)\n",
    "livros[i] = novo_titulo"
   ]
  }
 ],
 "metadata": {
  "kernelspec": {
   "display_name": "Python 3",
   "language": "python",
   "name": "python3"
  },
  "language_info": {
   "codemirror_mode": {
    "name": "ipython",
    "version": 3
   },
   "file_extension": ".py",
   "mimetype": "text/x-python",
   "name": "python",
   "nbconvert_exporter": "python",
   "pygments_lexer": "ipython3",
   "version": "3.13.3"
  }
 },
 "nbformat": 4,
 "nbformat_minor": 2
}
