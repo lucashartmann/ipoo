{
 "cells": [
  {
   "cell_type": "code",
   "execution_count": 2,
   "metadata": {},
   "outputs": [],
   "source": [
    "lista = [\"Pedro\", \"Junior\", \"Leandra\"]"
   ]
  },
  {
   "cell_type": "code",
   "execution_count": 4,
   "metadata": {},
   "outputs": [
    {
     "data": {
      "text/plain": [
       "'Oi, Junior'"
      ]
     },
     "execution_count": 4,
     "metadata": {},
     "output_type": "execute_result"
    }
   ],
   "source": [
    "lista = [\"Pedro\", \"Junior\", \"Leandra\"]\n",
    "\"Oi, \" + lista[1]"
   ]
  },
  {
   "cell_type": "code",
   "execution_count": 5,
   "metadata": {},
   "outputs": [
    {
     "data": {
      "text/plain": [
       "'Oi, Leandra'"
      ]
     },
     "execution_count": 5,
     "metadata": {},
     "output_type": "execute_result"
    }
   ],
   "source": [
    "lista = [\"Pedro\", \"Junior\", \"Leandra\"]\n",
    "\"Oi, \" + lista[-1]"
   ]
  },
  {
   "cell_type": "markdown",
   "metadata": {},
   "source": [
    "Acessar a lista entre intervalos"
   ]
  },
  {
   "cell_type": "code",
   "execution_count": 6,
   "metadata": {},
   "outputs": [
    {
     "data": {
      "text/plain": [
       "['Pedro', 'Junior', 'Leandra']"
      ]
     },
     "execution_count": 6,
     "metadata": {},
     "output_type": "execute_result"
    }
   ],
   "source": [
    "lista = [\"Pedro\", \"Junior\", \"Leandra\"]\n",
    "lista[0:3] # Retorna os elementos da posição 0 até a 3"
   ]
  },
  {
   "cell_type": "code",
   "execution_count": 7,
   "metadata": {},
   "outputs": [],
   "source": [
    "lista = [\"Pedro\", \"Junior\", \"Leandra\"]\n",
    "lista[0] = \"William\" # Adicionar elemento na posição 0 da lista"
   ]
  },
  {
   "cell_type": "code",
   "execution_count": 15,
   "metadata": {},
   "outputs": [],
   "source": [
    "lista = [\"Pedro\", \"Junior\", \"Leandra\"]\n",
    "lista.append(\"Emilio\") # Adicionar elemento na última posição da lista"
   ]
  },
  {
   "cell_type": "code",
   "execution_count": 11,
   "metadata": {},
   "outputs": [
    {
     "data": {
      "text/plain": [
       "3"
      ]
     },
     "execution_count": 11,
     "metadata": {},
     "output_type": "execute_result"
    }
   ],
   "source": [
    "lista = [\"Pedro\", \"Junior\", \"Leandra\"]\n",
    "len(lista) # Tamanho da lista"
   ]
  },
  {
   "cell_type": "code",
   "execution_count": null,
   "metadata": {},
   "outputs": [],
   "source": [
    "lista = [\"Pedro\", \"Junior\", \"Leandra\"]\n",
    "lista.remove(\"Leandra\")"
   ]
  },
  {
   "cell_type": "code",
   "execution_count": 10,
   "metadata": {},
   "outputs": [
    {
     "data": {
      "text/plain": [
       "'Emilio'"
      ]
     },
     "execution_count": 10,
     "metadata": {},
     "output_type": "execute_result"
    }
   ],
   "source": [
    "lista = [\"Pedro\", \"Junior\", \"Leandra\"]\n",
    "lista.pop() # Remover último elemento da lista"
   ]
  },
  {
   "cell_type": "code",
   "execution_count": 12,
   "metadata": {},
   "outputs": [],
   "source": [
    "lista = [\"Pedro\", \"Junior\", \"Leandra\"]\n",
    "del lista[1] # Remover elemento da lista pela sua posição (index)"
   ]
  },
  {
   "cell_type": "code",
   "execution_count": null,
   "metadata": {},
   "outputs": [],
   "source": [
    "lista = [\"Pedro\", \"Junior\", \"Leandra\"]\n",
    "lista.clear() # Limpa a lista"
   ]
  },
  {
   "cell_type": "code",
   "execution_count": 16,
   "metadata": {},
   "outputs": [
    {
     "data": {
      "text/plain": [
       "3"
      ]
     },
     "execution_count": 16,
     "metadata": {},
     "output_type": "execute_result"
    }
   ],
   "source": [
    "lista = [\"Pedro\", \"Junior\", \"Leandra\"]\n",
    "lista.count(\"Emilio\") # Conta quantas vezes o elemento aparece na lista"
   ]
  },
  {
   "cell_type": "code",
   "execution_count": 17,
   "metadata": {},
   "outputs": [
    {
     "data": {
      "text/plain": [
       "1"
      ]
     },
     "execution_count": 17,
     "metadata": {},
     "output_type": "execute_result"
    }
   ],
   "source": [
    "lista = [\"Pedro\", \"Junior\", \"Leandra\"]\n",
    "lista.index(\"Leandra\") # Diz qual posição está o elemento"
   ]
  },
  {
   "cell_type": "code",
   "execution_count": 18,
   "metadata": {},
   "outputs": [],
   "source": [
    "lista = [\"Pedro\", \"Junior\", \"Leandra\"]\n",
    "lista.insert(3, \"Pedro\") # Insere o elemento na posição, ele não substitui um elemento, só adiciona"
   ]
  },
  {
   "cell_type": "code",
   "execution_count": 19,
   "metadata": {},
   "outputs": [
    {
     "data": {
      "text/plain": [
       "'Oi, Emilio'"
      ]
     },
     "execution_count": 19,
     "metadata": {},
     "output_type": "execute_result"
    }
   ],
   "source": [
    "lista = [\"Pedro\", \"Junior\", \"Leandra\"]\n",
    "nome = lista.pop() # Pega o elemento na última lista e adiciona na variável nome. Remove da lista e bota no nome\n",
    "\"Oi, \" + nome"
   ]
  },
  {
   "cell_type": "code",
   "execution_count": 20,
   "metadata": {},
   "outputs": [],
   "source": [
    "lista = [\"Pedro\", \"Junior\", \"Leandra\"]\n",
    "lista.sort() # Bota a lista em ordem alfabética, alternando (trocando, mudando, substituindo) os valores da lista"
   ]
  },
  {
   "cell_type": "code",
   "execution_count": null,
   "metadata": {},
   "outputs": [],
   "source": [
    "lista = [\"Pedro\", \"Junior\", \"Leandra\"]\n",
    "sorted(lista) # Cria uma lista nova com os elementos em ordem alfabética, a função não altera a lista original, ela cria uma nova"
   ]
  },
  {
   "cell_type": "code",
   "execution_count": 21,
   "metadata": {},
   "outputs": [],
   "source": [
    "lista = [\"Pedro\", \"Junior\", \"Leandra\"]\n",
    "lista_ordenada = sorted(lista)\n",
    "\n",
    "# Crio duas listas que tem os mesmos valores, porém, uma é ordenada"
   ]
  },
  {
   "cell_type": "code",
   "execution_count": 22,
   "metadata": {},
   "outputs": [],
   "source": [
    "lista = [\"Pedro\", \"Junior\", \"Leandra\"]\n",
    "lista.reverse() # Inverte os valores da lista"
   ]
  },
  {
   "cell_type": "code",
   "execution_count": 33,
   "metadata": {},
   "outputs": [
    {
     "data": {
      "text/plain": [
       "<list_reverseiterator at 0x26d60468a00>"
      ]
     },
     "execution_count": 33,
     "metadata": {},
     "output_type": "execute_result"
    }
   ],
   "source": [
    "lista = [\"Pedro\", \"Junior\", \"Leandra\"]\n",
    "reversed(lista) # Retorna um objeto iterador"
   ]
  },
  {
   "cell_type": "code",
   "execution_count": 34,
   "metadata": {},
   "outputs": [
    {
     "data": {
      "text/plain": [
       "['Leandra', 'Junior', 'Pedro']"
      ]
     },
     "execution_count": 34,
     "metadata": {},
     "output_type": "execute_result"
    }
   ],
   "source": [
    "lista = [\"Pedro\", \"Junior\", \"Leandra\"]\n",
    "list(reversed(lista)) # '.reversed()' retorna um objeto iterador, 'list()' converte esse objeto para uma lista"
   ]
  },
  {
   "cell_type": "code",
   "execution_count": 44,
   "metadata": {},
   "outputs": [
    {
     "name": "stdout",
     "output_type": "stream",
     "text": [
      "<class 'str'>\n",
      "<class 'float'>\n"
     ]
    }
   ],
   "source": [
    "# Isso é a mesma coisa que \n",
    "numero = '2.19' # Isso é uma string\n",
    "# numero = input()  Isso é uma string\n",
    "float(numero)"
   ]
  },
  {
   "cell_type": "code",
   "execution_count": 32,
   "metadata": {},
   "outputs": [],
   "source": [
    "lista = [\"Pedro\", \"Junior\", \"Leandra\"]\n",
    "lista_revertida = list(reversed(lista)) "
   ]
  },
  {
   "cell_type": "code",
   "execution_count": 45,
   "metadata": {},
   "outputs": [],
   "source": [
    "del lista # Deleta uma lista"
   ]
  }
 ],
 "metadata": {
  "kernelspec": {
   "display_name": "Python 3",
   "language": "python",
   "name": "python3"
  },
  "language_info": {
   "codemirror_mode": {
    "name": "ipython",
    "version": 3
   },
   "file_extension": ".py",
   "mimetype": "text/x-python",
   "name": "python",
   "nbconvert_exporter": "python",
   "pygments_lexer": "ipython3",
   "version": "3.13.3"
  }
 },
 "nbformat": 4,
 "nbformat_minor": 2
}
