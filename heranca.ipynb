{
 "cells": [
  {
   "cell_type": "markdown",
   "metadata": {},
   "source": [
    "# O que é Herança?\n",
    "\n",
    "Herança é um conceito fundamental em Programação Orientada a Objetos (POO).\n",
    "Ela permite que uma classe (chamada de classe derivada ou subclasse) herde atributos e métodos de outra classe (chamada de classe base ou superclasse).\n",
    "\n",
    "Esse mecanismo possibilita a reutilização de código e facilita a extensibilidade."
   ]
  },
  {
   "cell_type": "markdown",
   "metadata": {},
   "source": [
    "### Definindo a superclasse (classe base)"
   ]
  },
  {
   "cell_type": "code",
   "execution_count": null,
   "metadata": {},
   "outputs": [],
   "source": [
    "class Animal:\n",
    "    def __init__(self, nome):\n",
    "        self.nome = nome  # Atributo comum a todos os animais\n",
    "\n",
    "    def fazer_som(self):\n",
    "        return \"Algum som genérico\"  # Método genérico para som\n",
    "    \n",
    "    def mover(self):\n",
    "        return f\"{self.nome} está se movendo.\"  # Método genérico para movimento\n"
   ]
  },
  {
   "cell_type": "markdown",
   "metadata": {},
   "source": [
    "### Exemplo de uso da classe base"
   ]
  },
  {
   "cell_type": "code",
   "execution_count": null,
   "metadata": {},
   "outputs": [],
   "source": [
    "# Definindo a classe base (superclasse)\n",
    "class Animal:\n",
    "    def __init__(self, nome):\n",
    "        self.nome = nome  # Atributo comum a todos os animais\n",
    "\n",
    "    def fazer_som(self):\n",
    "        return \"Algum som genérico\"  # Método genérico para som\n",
    "\n",
    "    def mover(self):\n",
    "        return f\"{self.nome} está se movendo.\"  # Método genérico para movimento\n"
   ]
  },
  {
   "cell_type": "code",
   "execution_count": null,
   "metadata": {},
   "outputs": [],
   "source": [
    "# Exemplo de uso da classe base\n",
    "animal_generico = Animal(\"Animal Genérico\")\n",
    "print(animal_generico.fazer_som())  # Chama o método fazer_som\n",
    "print(animal_generico.mover())  # Chama o método mover"
   ]
  },
  {
   "cell_type": "markdown",
   "metadata": {},
   "source": [
    "### Definindo uma subclasse que herda de Animal"
   ]
  },
  {
   "cell_type": "markdown",
   "metadata": {},
   "source": [
    "As classes abaixo definem novos tipos de objetos. Eles terão todos os métodos definidos na superclasse mais os métodos definidos em suas próprias classes (classes Cachorro e Gato)."
   ]
  },
  {
   "cell_type": "code",
   "execution_count": null,
   "metadata": {},
   "outputs": [],
   "source": [
    "class Cachorro(Animal):\n",
    "   def buscar_bola(self):\n",
    "        return f\"{self.nome} está buscando a bola!\"  # Método específico da classe Cachorro\n"
   ]
  },
  {
   "cell_type": "markdown",
   "metadata": {},
   "source": [
    "Cachorro terá os métodos:\n",
    "- fazer_som() - de Animal\n",
    "- mover() - de Animal\n",
    "- buscar_bola()"
   ]
  },
  {
   "cell_type": "markdown",
   "metadata": {},
   "source": [
    "### Outra classe derivada que herda de Animal"
   ]
  },
  {
   "cell_type": "code",
   "execution_count": null,
   "metadata": {},
   "outputs": [],
   "source": [
    "class Gato(Animal):\n",
    "    def escalar(self):\n",
    "        return f\"{self.nome} está escalando uma árvore!\"  # Método específico da classe Gato"
   ]
  },
  {
   "cell_type": "markdown",
   "metadata": {},
   "source": [
    "Gato terá os métodos:\n",
    "- fazer_som() - de Animal\n",
    "- mover() - de Animal\n",
    "- escalar()"
   ]
  },
  {
   "cell_type": "markdown",
   "metadata": {},
   "source": [
    "### Exemplo de uso das subclasses"
   ]
  },
  {
   "cell_type": "code",
   "execution_count": null,
   "metadata": {},
   "outputs": [],
   "source": [
    "# Criando instâncias das classes derivadas\n",
    "cachorro = Cachorro(\"Rex\")\n",
    "gato = Gato(\"Mingau\")\n"
   ]
  },
  {
   "cell_type": "code",
   "execution_count": null,
   "metadata": {},
   "outputs": [],
   "source": [
    "# Demonstrando o comportamento das classes derivadas\n",
    "print(cachorro.fazer_som())  # Chama o método sobrescrito fazer_som\n",
    "print(cachorro.buscar_bola())  # Chama o método específico buscar_bola"
   ]
  },
  {
   "cell_type": "code",
   "execution_count": null,
   "metadata": {},
   "outputs": [],
   "source": [
    "print(gato.fazer_som())  # Chama o método sobrescrito fazer_som\n",
    "print(gato.escalar())  # Chama o método específico escalar"
   ]
  },
  {
   "cell_type": "markdown",
   "metadata": {},
   "source": [
    "# Sobrescrita de Métodos\n",
    "\n",
    "A sobrescrita de métodos permite que uma classe derivada altere ou estenda o comportamento de um método definido na classe base.\n",
    "\n",
    "Vamos demonstrar isso assim: \n",
    "- vamos substituir na classe `Animal` o método `fazer_som()` por um método `falar()`\n",
    "- vamos sobrescrever o método `falar()` nas classes `Cachorro` e `Gato`.\n"
   ]
  },
  {
   "cell_type": "code",
   "execution_count": null,
   "metadata": {},
   "outputs": [],
   "source": [
    "# Definindo o método `falar` na classe base Animal\n",
    "class Animal:\n",
    "    def __init__(self, nome):\n",
    "        self.nome = nome\n",
    "\n",
    "    def falar(self):\n",
    "        return \"O animal faz um som genérico.\"  # Método genérico para falar\n"
   ]
  },
  {
   "cell_type": "code",
   "execution_count": null,
   "metadata": {},
   "outputs": [],
   "source": [
    "# Sobrescrevendo o método `falar` na classe Cachorro\n",
    "class Cachorro(Animal):\n",
    "    def falar(self):\n",
    "        return f\"{self.nome} diz: Au au!\"  # Comportamento específico para Cachorro\n",
    "\n",
    "# Sobrescrevendo o método `falar` na classe Gato\n",
    "class Gato(Animal):\n",
    "    def falar(self):\n",
    "        return f\"{self.nome} diz: Miau!\"  # Comportamento específico para Gato\n"
   ]
  },
  {
   "cell_type": "code",
   "execution_count": null,
   "metadata": {},
   "outputs": [],
   "source": [
    "# Criando instâncias das classes derivadas\n",
    "bicho = Animal(\"Bicho\")\n",
    "cachorro = Cachorro(\"Rex\")\n",
    "gato = Gato(\"Mingau\")\n"
   ]
  },
  {
   "cell_type": "code",
   "execution_count": null,
   "metadata": {},
   "outputs": [],
   "source": [
    "# Demonstrando a sobrescrita de métodos\n",
    "print(bicho.falar())\n",
    "print(cachorro.falar())  # Chama o método sobrescrito falar na classe Cachorro\n",
    "print(gato.falar())  # Chama o método sobrescrito falar na classe Gato"
   ]
  },
  {
   "cell_type": "markdown",
   "metadata": {},
   "source": [
    "# Uso da Função `super()`\n",
    "\n",
    "A função `super()` é usada para acessar métodos da classe base a partir de uma classe derivada.\n",
    "\n",
    "Vamos demonstrar como utilizá-la para inicializar atributos da classe base no construtor da classe derivada.\n"
   ]
  },
  {
   "cell_type": "markdown",
   "metadata": {},
   "source": [
    "## Definindo a classe base Veiculo"
   ]
  },
  {
   "cell_type": "code",
   "execution_count": null,
   "metadata": {},
   "outputs": [],
   "source": [
    "class Veiculo:\n",
    "    def __init__(self, marca, modelo):\n",
    "        self.marca = marca  # Atributo comum a todos os veículos\n",
    "        self.modelo = modelo  # Atributo comum a todos os veículos\n",
    "\n",
    "    def descricao(self):\n",
    "        return f\"Veículo: {self.marca} {self.modelo}\"  # Método genérico para descrição\n"
   ]
  },
  {
   "cell_type": "markdown",
   "metadata": {},
   "source": [
    "### Definindo a classe derivada Carro que herda de Veiculo"
   ]
  },
  {
   "cell_type": "code",
   "execution_count": null,
   "metadata": {},
   "outputs": [],
   "source": [
    "class Carro(Veiculo):\n",
    "    def __init__(self, marca, modelo, portas):\n",
    "        super().__init__(marca, modelo)  # Chamando o construtor da classe base\n",
    "        self.portas = portas  # Atributo específico da classe Carro\n",
    "\n",
    "    def descricao(self):\n",
    "        # Extendendo o método descricao da classe base\n",
    "        return f\"{super().descricao()}, Portas: {self.portas}\"\n"
   ]
  },
  {
   "cell_type": "markdown",
   "metadata": {},
   "source": [
    "### Definindo a classe derivada Moto que herda de Veiculo"
   ]
  },
  {
   "cell_type": "code",
   "execution_count": null,
   "metadata": {},
   "outputs": [],
   "source": [
    "class Moto(Veiculo):\n",
    "    def __init__(self, marca, modelo, cilindradas):\n",
    "        super().__init__(marca, modelo)  # Chamando o construtor da classe base\n",
    "        self.cilindradas = cilindradas  # Atributo específico da classe Moto\n",
    "\n",
    "    def descricao(self):\n",
    "        # Extendendo o método descricao da classe base\n",
    "        return f\"{super().descricao()}, Cilindradas: {self.cilindradas}cc\"\n"
   ]
  },
  {
   "cell_type": "markdown",
   "metadata": {},
   "source": [
    "### Criando instâncias das classes derivadas"
   ]
  },
  {
   "cell_type": "code",
   "execution_count": null,
   "metadata": {},
   "outputs": [],
   "source": [
    "veiculo = Veiculo(\"Genérico\", \"que se move\")\n",
    "carro = Carro(\"Toyota\", \"Corolla\", 4)\n",
    "moto = Moto(\"Honda\", \"CB500\", 500)"
   ]
  },
  {
   "cell_type": "markdown",
   "metadata": {},
   "source": [
    "### Demonstrando o uso da função `super()` nas classes derivadas"
   ]
  },
  {
   "cell_type": "code",
   "execution_count": null,
   "metadata": {},
   "outputs": [],
   "source": [
    "print(veiculo.descricao())\n",
    "print(carro.descricao())  # Exibe a descrição do carro\n",
    "print(moto.descricao())  # Exibe a descrição da moto"
   ]
  },
  {
   "cell_type": "markdown",
   "metadata": {},
   "source": [
    "# Verificando Hierarquias de Classes\n",
    "\n",
    "A função `isinstance()` verifica se um objeto é uma instância de uma classe ou de suas subclasses.\n",
    "\n",
    "A função `issubclass()` verifica se uma classe é uma subclasse de outra."
   ]
  },
  {
   "cell_type": "markdown",
   "metadata": {},
   "source": [
    "### Exemplos usando a hierarquia de Animal"
   ]
  },
  {
   "cell_type": "code",
   "execution_count": null,
   "metadata": {},
   "outputs": [],
   "source": [
    "# Definindo a classe derivada Cachorro que herda de Animal\n",
    "class Cachorro(Animal):\n",
    "    def __init__(self, nome, raca):\n",
    "        super().__init__(nome)  # Chamando o construtor da classe base\n",
    "        self.raca = raca  # Atributo específico da classe Cachorro\n",
    "\n",
    "    def fazer_som(self):\n",
    "        return \"Latido\"  # Sobrescrevendo o método fazer_som\n",
    "\n",
    "    def buscar_bola(self):\n",
    "        return f\"{self.nome} está buscando a bola!\"  # Método específico da classe Cachorro\n",
    "\n",
    "    def __str__(self):\n",
    "        return f\"Cachorro: {self.nome}, Raça: {self.raca}\"  # Representação em string da classe Cachorro\n",
    "\n",
    "# Definindo a classe derivada Gato que herda de Animal\n",
    "class Gato(Animal):\n",
    "    def __init__(self, nome, cor):\n",
    "        super().__init__(nome)  # Chamando o construtor da classe base\n",
    "        self.cor = cor  # Atributo específico da classe Gato\n",
    "\n",
    "    def fazer_som(self):\n",
    "        return \"Miau\"  # Sobrescrevendo o método fazer_som\n",
    "\n",
    "    def escalar(self):\n",
    "        return f\"{self.nome} está escalando uma árvore!\"  # Método específico da classe Gato\n",
    "\n",
    "    def __str__(self):\n",
    "        return f\"Gato: {self.nome}, Cor: {self.cor}\"  # Representação em string da classe Gato\n"
   ]
  },
  {
   "cell_type": "markdown",
   "metadata": {},
   "source": [
    "### Exemplo 1: Verificando se um objeto é uma instância de uma classe"
   ]
  },
  {
   "cell_type": "code",
   "execution_count": null,
   "metadata": {},
   "outputs": [],
   "source": [
    "cachorro = Cachorro(\"Rex\", \"Caramelo\")\n",
    "gato = Gato(\"Mingau\", \"Branco\")\n",
    "\n",
    "print(isinstance(cachorro, Cachorro))  # True, pois cachorro é uma instância de Cachorro\n",
    "print(isinstance(cachorro, Animal))   # True, pois Cachorro herda de Animal\n",
    "print(isinstance(gato, Gato))         # True, pois gato é uma instância de Gato\n",
    "print(isinstance(gato, Animal))       # True, pois Gato herda de Animal\n",
    "print(isinstance(cachorro, Gato))     # False, pois cachorro não é uma instância de Gato\n"
   ]
  },
  {
   "cell_type": "markdown",
   "metadata": {},
   "source": [
    "### Exemplo 2: Verificando se uma classe é uma subclasse de outra"
   ]
  },
  {
   "cell_type": "code",
   "execution_count": null,
   "metadata": {},
   "outputs": [],
   "source": [
    "print(issubclass(Cachorro, Animal))  # True, pois Cachorro herda de Animal\n",
    "print(issubclass(Gato, Animal))      # True, pois Gato herda de Animal\n",
    "print(issubclass(Cachorro, Gato))    # False, pois Cachorro não herda de Gato\n",
    "print(issubclass(Animal, Cachorro))  # False, pois Animal não herda de Cachorro\n"
   ]
  },
  {
   "cell_type": "markdown",
   "metadata": {},
   "source": [
    "### Exemplo 3: Verificando hierarquias mais complexas"
   ]
  },
  {
   "cell_type": "code",
   "execution_count": null,
   "metadata": {},
   "outputs": [],
   "source": [
    "class Poodle(Cachorro):\n",
    "    pass\n",
    "\n",
    "poodle = Poodle(\"Fifi\", \"Branco\")\n",
    "\n",
    "print(isinstance(poodle, Poodle))    # True, pois poodle é uma instância de Poodle\n",
    "print(isinstance(poodle, Cachorro))  # True, pois Poodle herda de Cachorro\n",
    "print(isinstance(poodle, Animal))    # True, pois Poodle herda de Cachorro, que herda de Animal\n",
    "print(issubclass(Poodle, Cachorro))  # True, pois Poodle herda de Cachorro\n",
    "print(issubclass(Poodle, Animal))    # True, pois Poodle herda de Cachorro, que herda de Animal"
   ]
  }
 ],
 "metadata": {
  "kernelspec": {
   "display_name": "Python 3",
   "language": "python",
   "name": "python3"
  },
  "language_info": {
   "codemirror_mode": {
    "name": "ipython",
    "version": 3
   },
   "file_extension": ".py",
   "mimetype": "text/x-python",
   "name": "python",
   "nbconvert_exporter": "python",
   "pygments_lexer": "ipython3",
   "version": "3.13.2"
  },
  "orig_nbformat": 4
 },
 "nbformat": 4,
 "nbformat_minor": 2
}
