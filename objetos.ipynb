{
 "cells": [
  {
   "cell_type": "markdown",
   "metadata": {},
   "source": [
    "### Classe DiscoVoador: Definição e Propriedades\n",
    "A classe `DiscoVoador` é definida com três propriedades: `velocidade`, `carga_dos_lasers` e `numero_de_canhoes`. Essas propriedades representam o estado inicial de um disco voador."
   ]
  },
  {
   "cell_type": "code",
   "execution_count": 1,
   "metadata": {},
   "outputs": [],
   "source": [
    "class DiscoVoador:\n",
    "    velocidade = 0\n",
    "    carga_dos_lasers = 0\n",
    "    numero_de_canhoes = 2\n",
    "\n",
    "    "
   ]
  },
  {
   "cell_type": "markdown",
   "metadata": {},
   "source": [
    "### Instanciando e Acessando Propriedades de DiscoVoador\n",
    "Aqui, criamos uma instância da classe `DiscoVoador` chamada `disco1` e acessamos suas propriedades para verificar os valores iniciais."
   ]
  },
  {
   "cell_type": "code",
   "execution_count": 2,
   "metadata": {},
   "outputs": [
    {
     "name": "stdout",
     "output_type": "stream",
     "text": [
      "0\n",
      "2\n",
      "0\n"
     ]
    }
   ],
   "source": [
    "disco1 = DiscoVoador()\n",
    "print(disco1.carga_dos_lasers)\n",
    "print(disco1.numero_de_canhoes)\n",
    "print(disco1.velocidade)"
   ]
  },
  {
   "cell_type": "markdown",
   "metadata": {},
   "source": [
    "### Modificando Propriedades de um Objeto\n",
    "Nesta célula, criamos outra instância de `DiscoVoador` chamada `disco2` e adicionamos uma nova propriedade `voando`. Também alteramos o valor de `carga_dos_lasers` para 30."
   ]
  },
  {
   "cell_type": "code",
   "execution_count": 3,
   "metadata": {},
   "outputs": [
    {
     "name": "stdout",
     "output_type": "stream",
     "text": [
      "0\n",
      "2\n",
      "0\n",
      "True\n"
     ]
    }
   ],
   "source": [
    "disco2 = DiscoVoador()\n",
    "disco2.voando = True\n",
    "disco2.carga_lasers = 30\n",
    "\n",
    "print(disco2.carga_dos_lasers)\n",
    "print(disco2.numero_de_canhoes)\n",
    "print(disco2.velocidade)\n",
    "print(disco2.voando)\n"
   ]
  },
  {
   "cell_type": "markdown",
   "metadata": {},
   "source": [
    "### Acessando Propriedades de Objetos\n",
    "Aqui, acessamos a propriedade `numero_de_canhoes` de diferentes instâncias de `DiscoVoador`."
   ]
  },
  {
   "cell_type": "code",
   "execution_count": 4,
   "metadata": {},
   "outputs": [
    {
     "data": {
      "text/plain": [
       "2"
      ]
     },
     "execution_count": 4,
     "metadata": {},
     "output_type": "execute_result"
    }
   ],
   "source": [
    "disco1.numero_de_canhoes"
   ]
  },
  {
   "cell_type": "code",
   "execution_count": 5,
   "metadata": {},
   "outputs": [
    {
     "data": {
      "text/plain": [
       "2"
      ]
     },
     "execution_count": 5,
     "metadata": {},
     "output_type": "execute_result"
    }
   ],
   "source": [
    "disco2 = DiscoVoador()\n",
    "disco2.numero_de_canhoes"
   ]
  },
  {
   "cell_type": "markdown",
   "metadata": {},
   "source": [
    "### Adicionando um Construtor à Classe\n",
    "A classe `DiscoVoador` é redefinida com um método construtor (`__init__`) que inicializa as propriedades de cada instância. Isso permite que cada objeto tenha valores iniciais definidos no momento da criação."
   ]
  },
  {
   "cell_type": "code",
   "execution_count": 6,
   "metadata": {},
   "outputs": [
    {
     "name": "stdout",
     "output_type": "stream",
     "text": [
      "0\n",
      "20\n",
      "2\n"
     ]
    }
   ],
   "source": [
    "class DiscoVoador:\n",
    "    def __init__(self):\n",
    "        self.velocidade = 0\n",
    "        self.carga_dos_lasers = 20\n",
    "        self.numero_de_canhoes = 2\n",
    "\n",
    "\n",
    "disco = DiscoVoador()\n",
    "disco3 = DiscoVoador()\n",
    "\n",
    "print(disco.velocidade)\n",
    "print(disco.carga_dos_lasers)\n",
    "print(disco.numero_de_canhoes)"
   ]
  },
  {
   "cell_type": "markdown",
   "metadata": {},
   "source": [
    "### Classe Livro: Definição e Instanciação\n",
    "A classe `Livro` é definida com um construtor que aceita um título como parâmetro. Criamos três instâncias de `Livro` com diferentes títulos."
   ]
  },
  {
   "cell_type": "code",
   "execution_count": 7,
   "metadata": {},
   "outputs": [],
   "source": [
    "class Livro:\n",
    "    def __init__(self, titulo):\n",
    "        self.titulo = titulo\n",
    "        self.autor = \"\"\n",
    "        self.isbn = 0\n",
    "\n",
    "livro1 = Livro(\"Dom Casmurro\")\n",
    "livro2 = Livro(\"Memórias Póstumas de Brás Cubas\")\n",
    "livro3 = Livro(\"Tieta do Agreste\")\n"
   ]
  },
  {
   "cell_type": "markdown",
   "metadata": {},
   "source": [
    "### Acessando Propriedades de Livros\n",
    "Aqui, acessamos a propriedade `titulo` de diferentes instâncias da classe `Livro`."
   ]
  },
  {
   "cell_type": "code",
   "execution_count": 8,
   "metadata": {},
   "outputs": [
    {
     "data": {
      "text/plain": [
       "'Memórias Póstumas de Brás Cubas'"
      ]
     },
     "execution_count": 8,
     "metadata": {},
     "output_type": "execute_result"
    }
   ],
   "source": [
    "livro2.titulo"
   ]
  },
  {
   "cell_type": "code",
   "execution_count": 9,
   "metadata": {},
   "outputs": [
    {
     "data": {
      "text/plain": [
       "'Tieta do Agreste'"
      ]
     },
     "execution_count": 9,
     "metadata": {},
     "output_type": "execute_result"
    }
   ],
   "source": [
    "livro3.titulo"
   ]
  },
  {
   "cell_type": "markdown",
   "metadata": {},
   "source": [
    "### Trabalhando com Listas de Objetos\n",
    "Criamos uma lista chamada `livros` e adicionamos as instâncias de `Livro` a ela. Em seguida, iteramos sobre a lista para exibir as propriedades de cada livro."
   ]
  },
  {
   "cell_type": "code",
   "execution_count": 10,
   "metadata": {},
   "outputs": [],
   "source": [
    "livros = []"
   ]
  },
  {
   "cell_type": "code",
   "execution_count": 11,
   "metadata": {},
   "outputs": [],
   "source": [
    "livros.append(livro1)\n",
    "livros.append(livro2)\n",
    "livros.append(livro3)\n",
    "\n"
   ]
  },
  {
   "cell_type": "code",
   "execution_count": 12,
   "metadata": {},
   "outputs": [
    {
     "data": {
      "text/plain": [
       "'Dom Casmurro'"
      ]
     },
     "execution_count": 12,
     "metadata": {},
     "output_type": "execute_result"
    }
   ],
   "source": [
    "livros[0].titulo"
   ]
  },
  {
   "cell_type": "code",
   "execution_count": 13,
   "metadata": {},
   "outputs": [
    {
     "data": {
      "text/plain": [
       "'Memórias Póstumas de Brás Cubas'"
      ]
     },
     "execution_count": 13,
     "metadata": {},
     "output_type": "execute_result"
    }
   ],
   "source": [
    "livros[1].titulo"
   ]
  },
  {
   "cell_type": "code",
   "execution_count": 14,
   "metadata": {},
   "outputs": [
    {
     "name": "stdout",
     "output_type": "stream",
     "text": [
      "\n",
      "    - Dom Casmurro\n",
      "    - \n",
      "    - 0\n",
      "    -----------------------\n",
      "\n",
      "    - Memórias Póstumas de Brás Cubas\n",
      "    - \n",
      "    - 0\n",
      "    -----------------------\n",
      "\n",
      "    - Tieta do Agreste\n",
      "    - \n",
      "    - 0\n",
      "    -----------------------\n"
     ]
    }
   ],
   "source": [
    "for um_livro in livros:    \n",
    "    print(f'''\n",
    "    - {um_livro.titulo}\n",
    "    - {um_livro.autor}\n",
    "    - {um_livro.isbn}\n",
    "    -----------------------''')"
   ]
  },
  {
   "cell_type": "markdown",
   "metadata": {},
   "source": [
    "### Adicionando Métodos à Classe Livro\n",
    "A classe `Livro` é expandida com um método chamado `mudar_autor`, que permite alterar o autor de um livro, desde que o nome fornecido não seja vazio."
   ]
  },
  {
   "cell_type": "code",
   "execution_count": 15,
   "metadata": {},
   "outputs": [],
   "source": [
    "class Livro:\n",
    "    def __init__(self, titulo):\n",
    "        self.titulo = titulo\n",
    "        self.autor = \"\"\n",
    "        self.isbn = 0\n",
    "\n",
    "    def mudar_autor(self, nome):\n",
    "        if not nome == \"\":\n",
    "            self.autor = nome\n",
    "            return True\n",
    "        return False\n",
    "        \n"
   ]
  },
  {
   "cell_type": "code",
   "execution_count": 16,
   "metadata": {},
   "outputs": [],
   "source": [
    "tieta = Livro(\"Tieta do Agreste\")"
   ]
  },
  {
   "cell_type": "code",
   "execution_count": 17,
   "metadata": {},
   "outputs": [
    {
     "data": {
      "text/plain": [
       "False"
      ]
     },
     "execution_count": 17,
     "metadata": {},
     "output_type": "execute_result"
    }
   ],
   "source": [
    "tieta.mudar_autor(\"\")"
   ]
  },
  {
   "cell_type": "code",
   "execution_count": 18,
   "metadata": {},
   "outputs": [
    {
     "data": {
      "text/plain": [
       "''"
      ]
     },
     "execution_count": 18,
     "metadata": {},
     "output_type": "execute_result"
    }
   ],
   "source": [
    "tieta.autor"
   ]
  },
  {
   "cell_type": "markdown",
   "metadata": {},
   "source": [
    "### Classe Biblioteca: Gerenciando Livros\n",
    "A classe `Biblioteca` é definida para gerenciar uma coleção de livros. Ela possui métodos para cadastrar, consultar, emprestar e descadastrar livros."
   ]
  },
  {
   "cell_type": "code",
   "execution_count": 19,
   "metadata": {},
   "outputs": [],
   "source": [
    "class Biblioteca:\n",
    "\n",
    "    def __init__(self):\n",
    "        self.livros = []\n",
    "\n",
    "    def cadastrar(self, um_livro):\n",
    "        self.livros.append(um_livro)\n",
    "\n",
    "    def consultar(self, titulo):\n",
    "        for livro in self.livros:\n",
    "            if livro.titulo == titulo:\n",
    "                return \"Título encontrado\"\n",
    "        \n",
    "        return \"Título não encontrado\"\n",
    "\n",
    "    def emprestar(self, um_livro):\n",
    "        pass\n",
    "   \n",
    "    def descadastrar(self, um_livro):\n",
    "        pass\n",
    "  "
   ]
  },
  {
   "cell_type": "markdown",
   "metadata": {},
   "source": [
    "### Consultando Livros na Biblioteca\n",
    "Nesta célula, criamos uma instância de `Biblioteca` e utilizamos o método `consultar` para verificar se um livro com um título específico está cadastrado."
   ]
  },
  {
   "cell_type": "code",
   "execution_count": 20,
   "metadata": {},
   "outputs": [
    {
     "data": {
      "text/plain": [
       "'Título não encontrado'"
      ]
     },
     "execution_count": 20,
     "metadata": {},
     "output_type": "execute_result"
    }
   ],
   "source": [
    "minha_biblioteca = Biblioteca()\n",
    "\n",
    "minha_biblioteca.consultar(\"Tieta\")"
   ]
  },
  {
   "cell_type": "code",
   "execution_count": 21,
   "metadata": {},
   "outputs": [],
   "source": [
    "livro3.titulo\n",
    "minha_biblioteca.cadastrar(livro3)"
   ]
  },
  {
   "cell_type": "markdown",
   "metadata": {},
   "source": [
    "### Cadastrando Livros na Biblioteca\n",
    "Aqui, utilizamos o método `cadastrar` para adicionar instâncias de `Livro` à biblioteca."
   ]
  },
  {
   "cell_type": "code",
   "execution_count": 22,
   "metadata": {},
   "outputs": [],
   "source": [
    "minha_biblioteca.cadastrar(livro1)\n",
    "minha_biblioteca.cadastrar(livro2)"
   ]
  },
  {
   "cell_type": "code",
   "execution_count": 23,
   "metadata": {},
   "outputs": [
    {
     "data": {
      "text/plain": [
       "'Título não encontrado'"
      ]
     },
     "execution_count": 23,
     "metadata": {},
     "output_type": "execute_result"
    }
   ],
   "source": [
    "minha_biblioteca.consultar(\"Dom Casmuro\")"
   ]
  },
  {
   "cell_type": "markdown",
   "metadata": {},
   "source": [
    "### Consultando Livros em Diferentes Bibliotecas\n",
    "Criamos múltiplas instâncias de `Biblioteca` e verificamos se um livro específico está cadastrado em cada uma delas."
   ]
  },
  {
   "cell_type": "code",
   "execution_count": 24,
   "metadata": {},
   "outputs": [],
   "source": [
    "tua_biblioteca = Biblioteca()\n",
    "biblioteca_dele = Biblioteca()"
   ]
  },
  {
   "cell_type": "code",
   "execution_count": 25,
   "metadata": {},
   "outputs": [],
   "source": [
    "tua_biblioteca.cadastrar(livro2)\n",
    "biblioteca_dele.cadastrar(livro1)"
   ]
  },
  {
   "cell_type": "code",
   "execution_count": 26,
   "metadata": {},
   "outputs": [],
   "source": [
    "tua_biblioteca.cadastrar(livro3)"
   ]
  },
  {
   "cell_type": "code",
   "execution_count": 27,
   "metadata": {},
   "outputs": [
    {
     "name": "stdout",
     "output_type": "stream",
     "text": [
      "Título encontrado\n",
      "Título encontrado\n",
      "Título não encontrado\n"
     ]
    }
   ],
   "source": [
    "print(minha_biblioteca.consultar(\"Tieta do Agreste\"))\n",
    "print(tua_biblioteca.consultar(\"Tieta do Agreste\"))\n",
    "print(biblioteca_dele.consultar(\"Tieta do Agreste\"))"
   ]
  }
 ],
 "metadata": {
  "kernelspec": {
   "display_name": "Python 3",
   "language": "python",
   "name": "python3"
  },
  "language_info": {
   "codemirror_mode": {
    "name": "ipython",
    "version": 3
   },
   "file_extension": ".py",
   "mimetype": "text/x-python",
   "name": "python",
   "nbconvert_exporter": "python",
   "pygments_lexer": "ipython3",
   "version": "3.13.2"
  }
 },
 "nbformat": 4,
 "nbformat_minor": 2
}
