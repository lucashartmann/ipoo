{
 "cells": [
  {
   "cell_type": "code",
   "execution_count": 9,
   "metadata": {},
   "outputs": [],
   "source": [
    "class DiscoVoador:\n",
    "    velocidade = 0\n",
    "    carga_dos_lasers = 0\n",
    "    numero_de_canhoes = 2\n",
    "\n",
    "    "
   ]
  },
  {
   "cell_type": "code",
   "execution_count": 15,
   "metadata": {},
   "outputs": [
    {
     "name": "stdout",
     "output_type": "stream",
     "text": [
      "0\n",
      "2\n",
      "0\n"
     ]
    }
   ],
   "source": [
    "disco1 = DiscoVoador()\n",
    "print(disco1.carga_dos_lasers)\n",
    "print(disco1.numero_de_canhoes)\n",
    "print(disco1.velocidade)"
   ]
  },
  {
   "cell_type": "code",
   "execution_count": 19,
   "metadata": {},
   "outputs": [
    {
     "name": "stdout",
     "output_type": "stream",
     "text": [
      "0\n",
      "2\n",
      "0\n",
      "True\n"
     ]
    }
   ],
   "source": [
    "disco2 = DiscoVoador()\n",
    "disco2.voando = True\n",
    "disco2.carga_lasers = 30\n",
    "\n",
    "print(disco2.carga_dos_lasers)\n",
    "print(disco2.numero_de_canhoes)\n",
    "print(disco2.velocidade)\n",
    "print(disco2.voando)\n"
   ]
  },
  {
   "cell_type": "code",
   "execution_count": 12,
   "metadata": {},
   "outputs": [
    {
     "data": {
      "text/plain": [
       "2"
      ]
     },
     "execution_count": 12,
     "metadata": {},
     "output_type": "execute_result"
    }
   ],
   "source": [
    "disco1.numero_de_canhoes"
   ]
  },
  {
   "cell_type": "code",
   "execution_count": 14,
   "metadata": {},
   "outputs": [
    {
     "data": {
      "text/plain": [
       "2"
      ]
     },
     "execution_count": 14,
     "metadata": {},
     "output_type": "execute_result"
    }
   ],
   "source": [
    "disco2 = DiscoVoador()\n",
    "disco2.numero_de_canhoes"
   ]
  },
  {
   "cell_type": "markdown",
   "metadata": {},
   "source": [
    "### Definição da classe DiscoVoador com construtor"
   ]
  },
  {
   "cell_type": "code",
   "execution_count": 24,
   "metadata": {},
   "outputs": [
    {
     "name": "stdout",
     "output_type": "stream",
     "text": [
      "0\n",
      "20\n",
      "2\n"
     ]
    }
   ],
   "source": [
    "class DiscoVoador:\n",
    "    def __init__(self):\n",
    "        self.velocidade = 0\n",
    "        self.carga_dos_lasers = 20\n",
    "        self.numero_de_canhoes = 2\n",
    "\n",
    "\n",
    "disco = DiscoVoador()\n",
    "disco3 = DiscoVoador()\n",
    "\n",
    "print(disco.velocidade)\n",
    "print(disco.carga_dos_lasers)\n",
    "print(disco.numero_de_canhoes)"
   ]
  },
  {
   "cell_type": "code",
   "execution_count": 27,
   "metadata": {},
   "outputs": [],
   "source": [
    "class Livro:\n",
    "    def __init__(self, titulo):\n",
    "        self.titulo = titulo\n",
    "        self.autor = \"\"\n",
    "        self.isbn = 0\n",
    "\n",
    "livro1 = Livro(\"Dom Casmurro\")\n",
    "livro2 = Livro(\"Memórias Póstumas de Brás Cubas\")\n",
    "livro3 = Livro(\"Tieta do Agreste\")\n"
   ]
  },
  {
   "cell_type": "code",
   "execution_count": 28,
   "metadata": {},
   "outputs": [
    {
     "data": {
      "text/plain": [
       "'Memórias Póstumas de Brás Cubas'"
      ]
     },
     "execution_count": 28,
     "metadata": {},
     "output_type": "execute_result"
    }
   ],
   "source": [
    "livro2.titulo"
   ]
  },
  {
   "cell_type": "code",
   "execution_count": 29,
   "metadata": {},
   "outputs": [
    {
     "data": {
      "text/plain": [
       "'Tieta do Agreste'"
      ]
     },
     "execution_count": 29,
     "metadata": {},
     "output_type": "execute_result"
    }
   ],
   "source": [
    "livro3.titulo"
   ]
  },
  {
   "cell_type": "code",
   "execution_count": 30,
   "metadata": {},
   "outputs": [],
   "source": [
    "livros = []"
   ]
  },
  {
   "cell_type": "code",
   "execution_count": 31,
   "metadata": {},
   "outputs": [],
   "source": [
    "livros.append(livro1)\n",
    "livros.append(livro2)\n",
    "livros.append(livro3)\n",
    "\n"
   ]
  },
  {
   "cell_type": "code",
   "execution_count": 34,
   "metadata": {},
   "outputs": [
    {
     "data": {
      "text/plain": [
       "'Dom Casmurro'"
      ]
     },
     "execution_count": 34,
     "metadata": {},
     "output_type": "execute_result"
    }
   ],
   "source": [
    "livros[0].titulo"
   ]
  },
  {
   "cell_type": "code",
   "execution_count": 35,
   "metadata": {},
   "outputs": [
    {
     "data": {
      "text/plain": [
       "'Memórias Póstumas de Brás Cubas'"
      ]
     },
     "execution_count": 35,
     "metadata": {},
     "output_type": "execute_result"
    }
   ],
   "source": [
    "livros[1].titulo"
   ]
  },
  {
   "cell_type": "code",
   "execution_count": 37,
   "metadata": {},
   "outputs": [
    {
     "name": "stdout",
     "output_type": "stream",
     "text": [
      "\n",
      "    - Dom Casmurro\n",
      "    - Desconhecido\n",
      "    - 0\n",
      "    -----------------------\n",
      "          \n",
      "\n",
      "    - Memórias Póstumas de Brás Cubas\n",
      "    - Desconhecido\n",
      "    - 0\n",
      "    -----------------------\n",
      "          \n",
      "\n",
      "    - Tieta do Agreste\n",
      "    - Desconhecido\n",
      "    - 0\n",
      "    -----------------------\n",
      "          \n"
     ]
    }
   ],
   "source": [
    "for um_livro in livros:\n",
    "    um_livro.autor = \"Desconhecido\"\n",
    "    print(f'''\n",
    "    - {um_livro.titulo}\n",
    "    - {um_livro.autor}\n",
    "    - {um_livro.isbn}\n",
    "    -----------------------\n",
    "          ''')"
   ]
  },
  {
   "cell_type": "code",
   "execution_count": 39,
   "metadata": {},
   "outputs": [
    {
     "data": {
      "text/plain": [
       "'Desconhecido'"
      ]
     },
     "execution_count": 39,
     "metadata": {},
     "output_type": "execute_result"
    }
   ],
   "source": [
    "livros[2].autor\n"
   ]
  },
  {
   "cell_type": "code",
   "execution_count": 73,
   "metadata": {},
   "outputs": [],
   "source": [
    "class Livro:\n",
    "    def __init__(self, titulo):\n",
    "        self.titulo = titulo\n",
    "        self.autor = \"\"\n",
    "        self.isbn = 0\n",
    "\n",
    "    def mudar_autor(self, nome):\n",
    "        if not nome == \"\":\n",
    "            self.autor = nome\n",
    "            return True\n",
    "        return False\n",
    "        \n"
   ]
  },
  {
   "cell_type": "code",
   "execution_count": 74,
   "metadata": {},
   "outputs": [],
   "source": [
    "tieta = Livro(\"Tieta do Agreste\")"
   ]
  },
  {
   "cell_type": "code",
   "execution_count": 76,
   "metadata": {},
   "outputs": [
    {
     "data": {
      "text/plain": [
       "False"
      ]
     },
     "execution_count": 76,
     "metadata": {},
     "output_type": "execute_result"
    }
   ],
   "source": [
    "tieta.mudar_autor(\"\")"
   ]
  },
  {
   "cell_type": "code",
   "execution_count": 72,
   "metadata": {},
   "outputs": [
    {
     "data": {
      "text/plain": [
       "'sdfsdf sdf'"
      ]
     },
     "execution_count": 72,
     "metadata": {},
     "output_type": "execute_result"
    }
   ],
   "source": [
    "tieta.autor"
   ]
  },
  {
   "cell_type": "code",
   "execution_count": 79,
   "metadata": {},
   "outputs": [],
   "source": [
    "class Biblioteca:\n",
    "\n",
    "    def __init__(self):\n",
    "        self.livros = []\n",
    "\n",
    "    def cadastrar(self, um_livro):\n",
    "        self.livros.append(um_livro)\n",
    "\n",
    "    def consultar(self, titulo):\n",
    "        for livro in self.livros:\n",
    "            if livro.titulo == titulo:\n",
    "                return \"Título encontrado\"\n",
    "        \n",
    "        return \"Título não encontrado\"\n",
    "\n",
    "    def emprestar(self, um_livro):\n",
    "        pass\n",
    "   \n",
    "    def descadastrar(self, um_livro):\n",
    "        pass\n",
    "  "
   ]
  },
  {
   "cell_type": "code",
   "execution_count": 80,
   "metadata": {},
   "outputs": [
    {
     "data": {
      "text/plain": [
       "'Título não encontrado'"
      ]
     },
     "execution_count": 80,
     "metadata": {},
     "output_type": "execute_result"
    }
   ],
   "source": [
    "minha_biblioteca = Biblioteca()\n",
    "\n",
    "minha_biblioteca.consultar(\"Tieta\")"
   ]
  },
  {
   "cell_type": "code",
   "execution_count": 82,
   "metadata": {},
   "outputs": [],
   "source": [
    "livro3.titulo\n",
    "minha_biblioteca.cadastrar(livro3)"
   ]
  },
  {
   "cell_type": "code",
   "execution_count": 83,
   "metadata": {},
   "outputs": [],
   "source": [
    "minha_biblioteca.cadastrar(livro1)\n",
    "minha_biblioteca.cadastrar(livro2)"
   ]
  },
  {
   "cell_type": "code",
   "execution_count": 87,
   "metadata": {},
   "outputs": [
    {
     "data": {
      "text/plain": [
       "'Título não encontrado'"
      ]
     },
     "execution_count": 87,
     "metadata": {},
     "output_type": "execute_result"
    }
   ],
   "source": [
    "minha_biblioteca.consultar(\"Dom Casmuro\")"
   ]
  },
  {
   "cell_type": "code",
   "execution_count": 90,
   "metadata": {},
   "outputs": [],
   "source": [
    "tua_biblioteca = Biblioteca()\n",
    "biblioteca_dele = Biblioteca()"
   ]
  },
  {
   "cell_type": "code",
   "execution_count": null,
   "metadata": {},
   "outputs": [],
   "source": [
    "tua_biblioteca.cadastrar(livro2)\n",
    "biblioteca_dele.cadastrar(livro1)"
   ]
  },
  {
   "cell_type": "code",
   "execution_count": 93,
   "metadata": {},
   "outputs": [],
   "source": [
    "tua_biblioteca.cadastrar(livro3)"
   ]
  },
  {
   "cell_type": "code",
   "execution_count": 94,
   "metadata": {},
   "outputs": [
    {
     "name": "stdout",
     "output_type": "stream",
     "text": [
      "Título encontrado\n",
      "Título encontrado\n",
      "Título não encontrado\n"
     ]
    }
   ],
   "source": [
    "print(minha_biblioteca.consultar(\"Tieta do Agreste\"))\n",
    "print(tua_biblioteca.consultar(\"Tieta do Agreste\"))\n",
    "print(biblioteca_dele.consultar(\"Tieta do Agreste\"))"
   ]
  }
 ],
 "metadata": {
  "kernelspec": {
   "display_name": "Python 3",
   "language": "python",
   "name": "python3"
  },
  "language_info": {
   "codemirror_mode": {
    "name": "ipython",
    "version": 3
   },
   "file_extension": ".py",
   "mimetype": "text/x-python",
   "name": "python",
   "nbconvert_exporter": "python",
   "pygments_lexer": "ipython3",
   "version": "3.13.2"
  }
 },
 "nbformat": 4,
 "nbformat_minor": 2
}
