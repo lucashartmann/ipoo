{
 "cells": [
  {
   "cell_type": "markdown",
   "id": "9ced3cdb",
   "metadata": {},
   "source": [
    "# Passagem de Argumentos para Funções em Python\n",
    "As funções em Python podem receber argumentos de diferentes formas. Os principais tipos de passagem de argumentos são:\n",
    "\n",
    "1. **Argumentos Posicionais**: São passados para a função na ordem em que são definidos.\n",
    "2. **Argumentos Nomeados (Keyword Arguments)**: São passados com o nome do parâmetro explicitamente.\n",
    "3. **Argumentos Padrão**: São valores padrão atribuídos aos parâmetros, usados quando nenhum valor é fornecido.\n",
    "4. **Argumentos Variáveis**: Permitem que uma função aceite um número variável de argumentos usando `*args` para argumentos posicionais e `**kwargs` para argumentos nomeados."
   ]
  },
  {
   "cell_type": "code",
   "execution_count": null,
   "id": "b967e5f8",
   "metadata": {},
   "outputs": [],
   "source": [
    "# Exemplo de Argumentos Posicionais\n",
    "def saudacao(nome, idade):\n",
    "    print(f'Olá, {nome}! Você tem {idade} anos.')\n",
    "\n",
    "saudacao('Ana', 25)"
   ]
  },
  {
   "cell_type": "code",
   "execution_count": 2,
   "id": "24f033b1",
   "metadata": {},
   "outputs": [
    {
     "name": "stdout",
     "output_type": "stream",
     "text": [
      "Olá, Carlos! Você tem 30 anos.\n",
      "Olá, Carlos! Você tem 30 anos.\n"
     ]
    }
   ],
   "source": [
    "# Exemplo de Argumentos Nomeados\n",
    "def saudacao(nome, idade):\n",
    "    print(f'Olá, {nome}! Você tem {idade} anos.')\n",
    "\n",
    "saudacao(nome='Carlos', idade=30)\n",
    "saudacao(idade=30, nome='Carlos')"
   ]
  },
  {
   "cell_type": "code",
   "execution_count": 5,
   "id": "3c18908c",
   "metadata": {},
   "outputs": [
    {
     "name": "stdout",
     "output_type": "stream",
     "text": [
      "Olá, Beatriz! Você tem 18 anos.\n",
      "Olá, Beatriz! Você tem 20 anos.\n",
      "Olá, Beatriz! Você tem 21 anos.\n"
     ]
    }
   ],
   "source": [
    "# Exemplo de Argumentos Padrão\n",
    "def saudacao(nome, idade=18):\n",
    "    print(f'Olá, {nome}! Você tem {idade} anos.')\n",
    "\n",
    "saudacao('Beatriz')\n",
    "saudacao('Beatriz', 20)\n",
    "saudacao(idade=21, nome='Beatriz')"
   ]
  },
  {
   "cell_type": "code",
   "execution_count": 6,
   "id": "7fbcaa16",
   "metadata": {},
   "outputs": [
    {
     "name": "stdout",
     "output_type": "stream",
     "text": [
      "João tem os seguintes hobbies: futebol, leitura.\n",
      "idade: 22\n",
      "cidade: São Paulo\n"
     ]
    }
   ],
   "source": [
    "# Exemplo de Argumentos Variáveis\n",
    "def listar_hobbies(nome, *hobbies, **detalhes):\n",
    "    print(f'{nome} tem os seguintes hobbies: {', '.join(hobbies)}.')\n",
    "    for chave, valor in detalhes.items():\n",
    "        print(f'{chave}: {valor}')\n",
    "\n",
    "listar_hobbies('João', 'futebol', 'leitura', idade=22, cidade='São Paulo')"
   ]
  }
 ],
 "metadata": {
  "kernelspec": {
   "display_name": "Python 3",
   "language": "python",
   "name": "python3"
  },
  "language_info": {
   "codemirror_mode": {
    "name": "ipython",
    "version": 3
   },
   "file_extension": ".py",
   "mimetype": "text/x-python",
   "name": "python",
   "nbconvert_exporter": "python",
   "pygments_lexer": "ipython3",
   "version": "3.13.3"
  }
 },
 "nbformat": 4,
 "nbformat_minor": 5
}
