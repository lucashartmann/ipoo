{
 "cells": [
  {
   "cell_type": "code",
   "execution_count": 5,
   "metadata": {},
   "outputs": [],
   "source": [
    "def produto():\n",
    "    categoria = \"Placas, Raspberry Pi\"\n",
    "    nome = \"Rasberry pi Pico 2 W\"\n",
    "    img = \"raspberrypiP2.png\"\n",
    "    preco = 79.9\n",
    "    parcelamento = \"2x de R$39,95 sem juros\"\n",
    "    preco_desconto = 75.9\n",
    "\n",
    "    print(f'''\n",
    "    {categoria}\n",
    "    {nome}\n",
    "        <{img}>\n",
    "    R${preco}\n",
    "    {parcelamento}\n",
    "    R${preco_desconto} - no PIX\n",
    "    ''')\n"
   ]
  },
  {
   "cell_type": "code",
   "execution_count": 6,
   "metadata": {},
   "outputs": [
    {
     "name": "stdout",
     "output_type": "stream",
     "text": [
      "\n",
      "    Placas, Raspberry Pi\n",
      "    Rasberry pi Pico 2 W\n",
      "        <raspberrypiP2.png>\n",
      "    R$79.9\n",
      "    2x de R$39,95 sem juros\n",
      "    R$75.9 - no PIX\n",
      "    \n"
     ]
    }
   ],
   "source": [
    "produto()"
   ]
  },
  {
   "cell_type": "code",
   "execution_count": 9,
   "metadata": {},
   "outputs": [],
   "source": [
    "def produto(categoria, nome, img, preco, parcelamento, preco_desconto):\n",
    "     print(f'''\n",
    "-------------------------------\n",
    "    {categoria}\n",
    "    {nome}\n",
    "        <{img}>\n",
    "    R${preco}\n",
    "    {parcelamento}\n",
    "    R${preco_desconto} - no PIX\n",
    "    ''')\n"
   ]
  },
  {
   "cell_type": "code",
   "execution_count": 12,
   "metadata": {},
   "outputs": [
    {
     "name": "stdout",
     "output_type": "stream",
     "text": [
      "\n",
      "-------------------------------\n",
      "    Placas, Raspberry Pi\n",
      "    Raspberry Pi Pico 2 W\n",
      "        <img1.png>\n",
      "    R$79.9\n",
      "    2x de R$39,95 sem juros\n",
      "    R$75.9 - no PIX\n",
      "    \n",
      "\n",
      "-------------------------------\n",
      "    Placas, Raspberry Pi\n",
      "    Raspberry Pi 4 Model B\n",
      "        <img2.png>\n",
      "    R$599.9\n",
      "    3x de R$199,97 sem juros\n",
      "    R$569.9 - no PIX\n",
      "    \n"
     ]
    }
   ],
   "source": [
    "produto(\"Placas, Raspberry Pi\", \n",
    "        \"Raspberry Pi Pico 2 W\",\n",
    "        \"img1.png\",\n",
    "        79.9,\n",
    "        \"2x de R$39,95 sem juros\",\n",
    "        75.9)\n",
    "\n",
    "produto(\"Placas, Raspberry Pi\", \n",
    "        \"Raspberry Pi 4 Model B\",\n",
    "        \"img2.png\",\n",
    "        599.9,\n",
    "        \"3x de R$199,97 sem juros\",\n",
    "        569.90 )"
   ]
  }
 ],
 "metadata": {
  "kernelspec": {
   "display_name": "Python 3",
   "language": "python",
   "name": "python3"
  },
  "language_info": {
   "codemirror_mode": {
    "name": "ipython",
    "version": 3
   },
   "file_extension": ".py",
   "mimetype": "text/x-python",
   "name": "python",
   "nbconvert_exporter": "python",
   "pygments_lexer": "ipython3",
   "version": "3.12.6"
  }
 },
 "nbformat": 4,
 "nbformat_minor": 2
}
