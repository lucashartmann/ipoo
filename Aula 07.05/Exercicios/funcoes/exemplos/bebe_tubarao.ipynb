{
 "cells": [
  {
   "cell_type": "code",
   "execution_count": null,
   "metadata": {},
   "outputs": [],
   "source": [
    "listaA = [\n",
    "    \"Bebê tubarão\",\n",
    "    \"Bebê tubarão\",\n",
    "    \"Bebê tubarão\",\n",
    "    \"Bebê tubarão!\",\n",
    "]\n",
    "\n",
    "listaB = [\n",
    "    \"Mamãe tubarão\",\n",
    "    \"Mamãe tubarão\",\n",
    "    \"Mamãe tubarão\",\n",
    "    \"Mamãe tubarão!\",\n",
    "]\n",
    "\n",
    "lista_tchururu = [\n",
    "    \", tchu tchu ru ru\",\n",
    "    \", tchu tchu ru ru\",\n",
    "    \", tchu tchu ru ru\",\n",
    "    \"\" \n",
    "]\n",
    "\n",
    "for i in range(4):\n",
    "    print(listaA[i] + lista_tchururu[i])\n",
    "\n",
    "for i in range(4):\n",
    "    print(listaB[i] + lista_tchururu[i])"
   ]
  },
  {
   "cell_type": "code",
   "execution_count": null,
   "metadata": {},
   "outputs": [],
   "source": [
    "frase1 = \"Bebê tubarão\"\n",
    "tchururu = f\", tchu tchu ru ru\\n\"\n",
    "\n",
    "print( ((frase1 + tchururu) * 3) + frase1)\n",
    "\n"
   ]
  },
  {
   "cell_type": "code",
   "execution_count": null,
   "metadata": {},
   "outputs": [],
   "source": [
    "x = 'Foge foge'\n",
    "estrofe = f\"\"\"\n",
    "{(f'{x} tubarão, tchu tchu ru ru\\n') * 3}\n",
    "{x}!\n",
    "\"\"\"\n",
    "\n",
    "print(estrofe)"
   ]
  },
  {
   "cell_type": "code",
   "execution_count": 47,
   "metadata": {},
   "outputs": [],
   "source": [
    "# Função para criar uma estrofe do Baby Shark\n",
    "def bebe_tubarao(frase):\n",
    "    return (\n",
    "        (frase + ', tchu tchu ru ru\\n') * 3\n",
    "        + frase + '!\\n'\n",
    "    )"
   ]
  },
  {
   "cell_type": "code",
   "execution_count": null,
   "metadata": {},
   "outputs": [],
   "source": [
    "print(bebe_tubarao(\"Bebê tubarão\"))\n",
    "print(bebe_tubarao(\"Mamãe tubarão\"))\n",
    "print(bebe_tubarao(\"Vovô tubarão\"))"
   ]
  },
  {
   "cell_type": "code",
   "execution_count": 50,
   "metadata": {},
   "outputs": [],
   "source": [
    "# Função para criar uma estrofe do Baby Shark\n",
    "def estrofe(frase):\n",
    "    return (\n",
    "        (frase + ', tchu tchu ru ru\\n') * 3\n",
    "        + frase + '!\\n'\n",
    "    )"
   ]
  },
  {
   "cell_type": "code",
   "execution_count": null,
   "metadata": {},
   "outputs": [],
   "source": [
    "print(estrofe(\"Papai tubarão\"))"
   ]
  },
  {
   "cell_type": "code",
   "execution_count": null,
   "metadata": {},
   "outputs": [],
   "source": [
    "print(estrofe(\"Foge, foge\"))"
   ]
  },
  {
   "cell_type": "code",
   "execution_count": 53,
   "metadata": {},
   "outputs": [],
   "source": [
    "def bebe_tubarao():\n",
    "    print(estrofe(\"Bebê tubarão\"))\n",
    "    print(estrofe(\"Mamãe tubarão\"))\n",
    "    print(estrofe(\"Papai tubarão\"))\n",
    "    print(estrofe(\"Vovó tubarão\"))\n",
    "    print(estrofe(\"Vovô tubarão\"))\n",
    "    print(estrofe(\"Vou caçar\"))\n",
    "    print(estrofe(\"Foge foge\"))\n",
    "    print(estrofe(\"São e salvos\"))\n",
    "    print(estrofe(\"É o fim\"))"
   ]
  },
  {
   "cell_type": "code",
   "execution_count": null,
   "metadata": {},
   "outputs": [],
   "source": [
    "bebe_tubarao()"
   ]
  },
  {
   "cell_type": "code",
   "execution_count": 55,
   "metadata": {},
   "outputs": [],
   "source": [
    "def bebe_tubarao_curta():\n",
    "    print(estrofe(\"Bebê tubarão\"))\n",
    "    print(estrofe(\"Mamãe tubarão\"))\n",
    "    print(estrofe(\"Papai tubarão\"))\n",
    "    print(estrofe(\"Vovó tubarão\"))\n",
    "    print(estrofe(\"Vovô tubarão\"))"
   ]
  },
  {
   "cell_type": "code",
   "execution_count": null,
   "metadata": {},
   "outputs": [],
   "source": [
    "bebe_tubarao_curta()"
   ]
  },
  {
   "cell_type": "code",
   "execution_count": 57,
   "metadata": {},
   "outputs": [],
   "source": [
    "def estrofe(frase):\n",
    "    return (\n",
    "        (frase + ', doo doo doo doo\\n') * 3\n",
    "        + frase + '!\\n'\n",
    "    )"
   ]
  },
  {
   "cell_type": "code",
   "execution_count": 58,
   "metadata": {},
   "outputs": [],
   "source": [
    "def baby_shark():\n",
    "    print(estrofe(\"Baby shark\"))\n",
    "    print(estrofe(\"Mama shark\"))\n",
    "    print(estrofe(\"Papa shark\"))\n",
    "    print(estrofe(\"Grandma shark\"))\n",
    "    print(estrofe(\"Grandpa shark\"))"
   ]
  },
  {
   "cell_type": "code",
   "execution_count": null,
   "metadata": {},
   "outputs": [],
   "source": [
    "baby_shark()"
   ]
  },
  {
   "cell_type": "code",
   "execution_count": 61,
   "metadata": {},
   "outputs": [],
   "source": [
    "def baby_shark(lista_de_frases):\n",
    "    for frase in lista_de_frases:\n",
    "        print(estrofe(frase))"
   ]
  },
  {
   "cell_type": "code",
   "execution_count": 62,
   "metadata": {},
   "outputs": [
    {
     "name": "stdout",
     "output_type": "stream",
     "text": [
      "Baby shark, doo doo doo doo\n",
      "Baby shark, doo doo doo doo\n",
      "Baby shark, doo doo doo doo\n",
      "Baby shark!\n",
      "\n",
      "Mama shark, doo doo doo doo\n",
      "Mama shark, doo doo doo doo\n",
      "Mama shark, doo doo doo doo\n",
      "Mama shark!\n",
      "\n",
      "Papa shark, doo doo doo doo\n",
      "Papa shark, doo doo doo doo\n",
      "Papa shark, doo doo doo doo\n",
      "Papa shark!\n",
      "\n",
      "Grandpa shark, doo doo doo doo\n",
      "Grandpa shark, doo doo doo doo\n",
      "Grandpa shark, doo doo doo doo\n",
      "Grandpa shark!\n",
      "\n"
     ]
    }
   ],
   "source": [
    "baby_shark([\n",
    "    \"Baby shark\",\n",
    "    \"Mama shark\",\n",
    "    \"Papa shark\",\n",
    "    \"Grandpa shark\"\n",
    "])"
   ]
  },
  {
   "cell_type": "code",
   "execution_count": null,
   "metadata": {},
   "outputs": [],
   "source": []
  }
 ],
 "metadata": {
  "kernelspec": {
   "display_name": "Python 3",
   "language": "python",
   "name": "python3"
  },
  "language_info": {
   "codemirror_mode": {
    "name": "ipython",
    "version": 3
   },
   "file_extension": ".py",
   "mimetype": "text/x-python",
   "name": "python",
   "nbconvert_exporter": "python",
   "pygments_lexer": "ipython3",
   "version": "3.12.6"
  }
 },
 "nbformat": 4,
 "nbformat_minor": 2
}
