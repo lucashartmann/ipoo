{
 "cells": [
  {
   "cell_type": "markdown",
   "metadata": {},
   "source": [
    "# Exercícios sobre Funções\n",
    "\n",
    "Dê um nome apropriado para cada função abaixo. Substitua o nome atual da função (x, y, z, etc.) por um nome que descreva o que a função faz."
   ]
  },
  {
   "cell_type": "code",
   "execution_count": null,
   "metadata": {},
   "outputs": [],
   "source": [
    "# Exercício 1\n",
    "def x(a, b):\n",
    "    return a + b\n",
    "\n",
    "# Dê um nome apropriado para a função acima."
   ]
  },
  {
   "cell_type": "code",
   "execution_count": null,
   "metadata": {},
   "outputs": [],
   "source": [
    "# Exercício 2\n",
    "def y(lista):\n",
    "    return max(lista)\n",
    "\n",
    "# Dê um nome apropriado para a função acima."
   ]
  },
  {
   "cell_type": "code",
   "execution_count": null,
   "metadata": {},
   "outputs": [],
   "source": [
    "# Exercício 3\n",
    "def z(texto):\n",
    "    return texto.upper()\n",
    "\n",
    "# Dê um nome apropriado para a função acima."
   ]
  },
  {
   "cell_type": "code",
   "execution_count": null,
   "metadata": {},
   "outputs": [],
   "source": [
    "# Exercício 4\n",
    "def w(n):\n",
    "    return n ** 2\n",
    "\n",
    "# Dê um nome apropriado para a função acima."
   ]
  },
  {
   "cell_type": "code",
   "execution_count": null,
   "metadata": {},
   "outputs": [],
   "source": [
    "# Exercício 5\n",
    "def v(a, b):\n",
    "    return a * b\n",
    "\n",
    "# Dê um nome apropriado para a função acima."
   ]
  },
  {
   "cell_type": "code",
   "execution_count": null,
   "metadata": {},
   "outputs": [],
   "source": [
    "# Exercício 6\n",
    "def u(lista):\n",
    "    return sum(lista)\n",
    "\n",
    "# Dê um nome apropriado para a função acima."
   ]
  },
  {
   "cell_type": "code",
   "execution_count": null,
   "metadata": {},
   "outputs": [],
   "source": [
    "# Exercício 7\n",
    "def t(texto):\n",
    "    return texto[::-1]\n",
    "\n",
    "# Dê um nome apropriado para a função acima."
   ]
  },
  {
   "cell_type": "code",
   "execution_count": null,
   "metadata": {},
   "outputs": [],
   "source": [
    "# Exercício 8\n",
    "def s(n):\n",
    "    return n % 2 == 0\n",
    "\n",
    "# Dê um nome apropriado para a função acima."
   ]
  },
  {
   "cell_type": "code",
   "execution_count": null,
   "metadata": {},
   "outputs": [],
   "source": [
    "# Exercício 9\n",
    "def r(base, altura):\n",
    "    return 0.5 * base * altura\n",
    "\n",
    "# Dê um nome apropriado para a função acima."
   ]
  },
  {
   "cell_type": "code",
   "execution_count": null,
   "metadata": {},
   "outputs": [],
   "source": [
    "# Exercício 10\n",
    "def q(temperatura):\n",
    "    return (temperatura * 9/5) + 32\n",
    "\n",
    "# Dê um nome apropriado para a função acima."
   ]
  }
 ],
 "metadata": {
  "kernelspec": {
   "display_name": "Python 3",
   "language": "python",
   "name": "python3"
  },
  "language_info": {
   "codemirror_mode": {
    "name": "ipython",
    "version": 3
   },
   "file_extension": ".py",
   "mimetype": "text/x-python",
   "name": "python",
   "nbconvert_exporter": "python",
   "pygments_lexer": "ipython3",
   "version": "3.12.6"
  }
 },
 "nbformat": 4,
 "nbformat_minor": 5
}
