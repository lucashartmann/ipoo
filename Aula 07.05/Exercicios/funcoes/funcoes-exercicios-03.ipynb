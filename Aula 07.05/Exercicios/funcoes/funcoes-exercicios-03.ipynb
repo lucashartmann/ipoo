{
 "cells": [
  {
   "cell_type": "markdown",
   "metadata": {},
   "source": [
    "# Exercícios sobre o Uso do Valor de Resposta de Funções\n",
    "\n",
    "Os exercícios abaixo têm como objetivo treinar o uso do valor de retorno de funções para realizar operações novas usando eles."
   ]
  },
  {
   "cell_type": "markdown",
   "metadata": {},
   "source": [
    "## Exercício 1\n",
    "\n",
    "Dada a função abaixo, escreva um programa que use o valor de retorno para calcular o dobro da soma de dois números.\n"
   ]
  },
  {
   "cell_type": "code",
   "execution_count": 29,
   "id": "10fe270a",
   "metadata": {},
   "outputs": [],
   "source": [
    "def soma(a, b):\n",
    "    return a + b"
   ]
  },
  {
   "cell_type": "markdown",
   "id": "8785664a",
   "metadata": {},
   "source": [
    "sua resposta:"
   ]
  },
  {
   "cell_type": "code",
   "execution_count": null,
   "id": "39a7b798",
   "metadata": {},
   "outputs": [],
   "source": []
  },
  {
   "cell_type": "markdown",
   "id": "02aeab2d",
   "metadata": {},
   "source": [
    "dar um nome à nova função"
   ]
  },
  {
   "cell_type": "code",
   "execution_count": 38,
   "id": "d7dcf295",
   "metadata": {},
   "outputs": [],
   "source": [
    "def dobro_da_soma():\n",
    "    soma_de_dois = soma(3, 5)\n",
    "    dobro_da_soma = 2 * soma_de_dois\n",
    "    print(dobro_da_soma)"
   ]
  },
  {
   "cell_type": "markdown",
   "id": "1ced5418",
   "metadata": {},
   "source": [
    "generalizar a função"
   ]
  },
  {
   "cell_type": "code",
   "execution_count": 33,
   "id": "faddfd16",
   "metadata": {},
   "outputs": [],
   "source": []
  },
  {
   "cell_type": "markdown",
   "id": "3d19fd3f",
   "metadata": {},
   "source": [
    "uso:"
   ]
  },
  {
   "cell_type": "code",
   "execution_count": null,
   "id": "31d2bdfd",
   "metadata": {},
   "outputs": [],
   "source": []
  },
  {
   "cell_type": "markdown",
   "metadata": {},
   "source": [
    "## Exercício 2\n",
    "\n",
    "Dada a função abaixo, escreva um programa que use o valor de retorno para verificar se o maior número de uma lista é par ou ímpar."
   ]
  },
  {
   "cell_type": "code",
   "execution_count": 1,
   "id": "1f282472",
   "metadata": {},
   "outputs": [],
   "source": [
    "def maior(lista):\n",
    "    return max(lista)"
   ]
  },
  {
   "cell_type": "markdown",
   "id": "00d2524a",
   "metadata": {},
   "source": [
    "sua resposta:"
   ]
  },
  {
   "cell_type": "code",
   "execution_count": null,
   "id": "16cfc1f2",
   "metadata": {},
   "outputs": [],
   "source": []
  },
  {
   "cell_type": "markdown",
   "metadata": {},
   "source": [
    "## Exercício 3\n",
    "\n",
    "Dada a função abaixo, escreva um programa que use o valor de retorno para contar quantas letras maiúsculas existem em uma string convertida para maiúsculas."
   ]
  },
  {
   "cell_type": "code",
   "execution_count": 7,
   "id": "4631e7fe",
   "metadata": {},
   "outputs": [],
   "source": [
    "def para_maiusculas(texto):\n",
    "    return texto.upper()"
   ]
  },
  {
   "cell_type": "markdown",
   "id": "73b0e1bc",
   "metadata": {},
   "source": [
    "sua resposta:"
   ]
  },
  {
   "cell_type": "code",
   "execution_count": null,
   "id": "e95eb3e9",
   "metadata": {},
   "outputs": [],
   "source": []
  },
  {
   "cell_type": "markdown",
   "metadata": {},
   "source": [
    "## Exercício 4\n",
    "\n",
    "Dada a função abaixo, escreva um programa que use o valor de retorno para calcular a soma dos quadrados de dois números.\n"
   ]
  },
  {
   "cell_type": "code",
   "execution_count": 17,
   "id": "d2df6024",
   "metadata": {},
   "outputs": [],
   "source": [
    "def quadrado(n):\n",
    "    return n ** 2"
   ]
  },
  {
   "cell_type": "markdown",
   "id": "9c1d6848",
   "metadata": {},
   "source": [
    "sua resposta:"
   ]
  },
  {
   "cell_type": "code",
   "execution_count": null,
   "id": "1d8872dd",
   "metadata": {},
   "outputs": [],
   "source": []
  },
  {
   "cell_type": "markdown",
   "metadata": {},
   "source": [
    "## Exercício 5\n",
    "\n",
    "Dada a função abaixo, escreva um programa que use o valor de retorno para calcular a área de um triângulo e verificar se ela é maior que 50."
   ]
  },
  {
   "cell_type": "code",
   "execution_count": 22,
   "id": "291f60a6",
   "metadata": {},
   "outputs": [],
   "source": [
    "def area_triangulo(base, altura):\n",
    "    return 0.5 * base * altura"
   ]
  },
  {
   "cell_type": "markdown",
   "id": "4d1b75f0",
   "metadata": {},
   "source": [
    "sua resposta:"
   ]
  },
  {
   "cell_type": "code",
   "execution_count": null,
   "id": "7d97563e",
   "metadata": {},
   "outputs": [],
   "source": []
  }
 ],
 "metadata": {
  "kernelspec": {
   "display_name": "Python 3",
   "language": "python",
   "name": "python3"
  },
  "language_info": {
   "codemirror_mode": {
    "name": "ipython",
    "version": 3
   },
   "file_extension": ".py",
   "mimetype": "text/x-python",
   "name": "python",
   "nbconvert_exporter": "python",
   "pygments_lexer": "ipython3",
   "version": "3.12.6"
  }
 },
 "nbformat": 4,
 "nbformat_minor": 5
}
