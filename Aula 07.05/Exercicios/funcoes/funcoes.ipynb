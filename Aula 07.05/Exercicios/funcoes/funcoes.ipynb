{
 "cells": [
  {
   "cell_type": "markdown",
   "metadata": {},
   "source": [
    "# Introdução às Funções em Python\n",
    "\n",
    "As funções são blocos de código reutilizáveis que permitem organizar e estruturar melhor os programas. Elas ajudam a reduzir a repetição de código, facilitam a manutenção e possibilitam a abstração de complexidade."
   ]
  },
  {
   "cell_type": "markdown",
   "metadata": {},
   "source": [
    "## Organização do Código\n",
    "\n",
    "Funções permitem dividir o código em partes menores e mais fáceis de gerenciar."
   ]
  },
  {
   "cell_type": "code",
   "execution_count": null,
   "metadata": {},
   "outputs": [],
   "source": [
    "# Exemplo: Organização do Código\n",
    "def obter_dados_usuario():\n",
    "    \"\"\"Obtém o nome e a idade do usuário.\"\"\"\n",
    "    nome = input(\"Digite seu nome: \")\n",
    "    idade = int(input(\"Digite sua idade: \"))\n",
    "    return nome, idade\n",
    "\n",
    "def exibir_mensagem(nome, idade):\n",
    "    \"\"\"Exibe uma mensagem personalizada com base nos dados do usuário.\"\"\"\n",
    "    print(f\"Olá, {nome}! Você tem {idade} anos. Seja bem-vindo!\")\n",
    "\n",
    "# Chamando as funções\n",
    "nome, idade = obter_dados_usuario()\n",
    "exibir_mensagem(nome, idade)"
   ]
  },
  {
   "cell_type": "markdown",
   "metadata": {},
   "source": [
    "No exemplo acima, as funções `obter_dados_usuario` e `exibir_mensagem` dividem o código em partes menores e mais específicas. Isso facilita a reutilização e a manutenção do código."
   ]
  },
  {
   "cell_type": "markdown",
   "metadata": {},
   "source": [
    "## Abstração de Complexidade\n",
    "\n",
    "Funções também ajudam a esconder detalhes complexos, permitindo que você se concentre no que o código faz, em vez de como ele faz. Isso também aumenta a legibilidade do programa, que fica mais fácil de entender. \n",
    "\n",
    "Vamos ver um exemplo que calcula a área de um círculo."
   ]
  },
  {
   "cell_type": "code",
   "execution_count": null,
   "metadata": {},
   "outputs": [],
   "source": [
    "# Exemplo: Abstração de Complexidade\n",
    "import math\n",
    "\n",
    "def calcular_area_circulo(raio):\n",
    "    \"\"\"Calcula a área de um círculo dado o raio.\"\"\"\n",
    "    return math.pi * raio ** 2\n",
    "\n",
    "# Chamando a função\n",
    "raio = 5\n",
    "area = calcular_area_circulo(raio)\n",
    "print(f\"A área do círculo com raio {raio} é {area:.2f}.\")"
   ]
  },
  {
   "cell_type": "markdown",
   "metadata": {},
   "source": [
    "No exemplo acima, a função `calcular_area_circulo` encapsula a fórmula matemática para calcular a área de um círculo. Quem usa a função não precisa se preocupar com os detalhes da fórmula, apenas com o que a função faz."
   ]
  }
 ],
 "metadata": {
  "kernelspec": {
   "display_name": "Python 3",
   "language": "python",
   "name": "python3"
  },
  "language_info": {
   "codemirror_mode": {
    "name": "ipython",
    "version": 3
   },
   "file_extension": ".py",
   "mimetype": "text/x-python",
   "name": "python",
   "nbconvert_exporter": "python",
   "pygments_lexer": "ipython3",
   "version": "3.12.6"
  }
 },
 "nbformat": 4,
 "nbformat_minor": 5
}
