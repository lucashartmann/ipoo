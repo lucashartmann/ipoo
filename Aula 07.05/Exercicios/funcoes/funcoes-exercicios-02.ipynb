{
 "cells": [
  {
   "cell_type": "markdown",
   "metadata": {},
   "source": [
    "# Exercícios sobre Funções com Loops e Condicionais\n",
    "\n",
    "Dê nomes para as funções abaixo"
   ]
  },
  {
   "cell_type": "code",
   "execution_count": 1,
   "metadata": {},
   "outputs": [
    {
     "name": "stdout",
     "output_type": "stream",
     "text": [
      "3\n"
     ]
    }
   ],
   "source": [
    "# Exercício 1\n",
    "def x(lista):\n",
    "    quantidade = 0\n",
    "    for v in lista:\n",
    "        if v % 2 == 0:\n",
    "            quantidade = quantidade + 1\n",
    "    return quantidade\n",
    "\n",
    "# Exemplo de uso\n",
    "\n",
    "r = x([1,1,2,10,4,5])\n",
    "print(r)\n"
   ]
  },
  {
   "cell_type": "markdown",
   "id": "9ca9c7e9",
   "metadata": {},
   "source": [
    "Resposta:\n",
    "- def quantidade_pares_lista\n",
    "- def quant_pares_lista\n",
    "- def quantidade_pares_na_lista"
   ]
  },
  {
   "cell_type": "code",
   "execution_count": 2,
   "metadata": {},
   "outputs": [
    {
     "name": "stdout",
     "output_type": "stream",
     "text": [
      "23\n"
     ]
    }
   ],
   "source": [
    "# Exercício 2\n",
    "def x(lista):\n",
    "    soma = 0\n",
    "    for n in lista:\n",
    "        if n > 0:\n",
    "            soma = soma + n\n",
    "        \n",
    "    return soma\n",
    "\n",
    "# Exemplo de uso\n",
    "\n",
    "r = x([1,1,2,10,4,5])\n",
    "print(r)"
   ]
  },
  {
   "cell_type": "markdown",
   "id": "070d01db",
   "metadata": {},
   "source": [
    "Resposta:\n",
    "- def somar_valores_da_lista\n",
    "- def somar_valores_lista\n",
    "- def soma_valores_da_lista"
   ]
  },
  {
   "cell_type": "code",
   "execution_count": 3,
   "metadata": {},
   "outputs": [
    {
     "name": "stdout",
     "output_type": "stream",
     "text": [
      "1\n"
     ]
    }
   ],
   "source": [
    "# Exercício 3\n",
    "def x(lista):\n",
    "    minimo = lista[0]\n",
    "    for x in lista:\n",
    "        if x < minimo:\n",
    "            minimo = x\n",
    "    return minimo\n",
    "\n",
    "#Exemplo de uso\n",
    "\n",
    "r = x([1,1,2,10,4,5])\n",
    "print(r)"
   ]
  },
  {
   "cell_type": "markdown",
   "id": "92db9a21",
   "metadata": {},
   "source": [
    "Resposta:\n",
    "- def menor_valor_lista\n",
    "- def get_menor_valor_lista\n",
    "- def menor_valor_da_lista"
   ]
  },
  {
   "cell_type": "code",
   "execution_count": 4,
   "metadata": {},
   "outputs": [
    {
     "name": "stdout",
     "output_type": "stream",
     "text": [
      "6\n"
     ]
    }
   ],
   "source": [
    "# Exercício 4\n",
    "def x(texto):\n",
    "    vogais = 'aeiouAEIOU'\n",
    "    numero = 0\n",
    "    for letra in texto:\n",
    "        if letra in vogais:\n",
    "            numero = numero + 1\n",
    "    return numero\n",
    "\n",
    "# Exemplo de uso\n",
    "\n",
    "r = x(\"Oi, oi, oi!!!\")\n",
    "print(r)"
   ]
  },
  {
   "cell_type": "markdown",
   "id": "dd059d3f",
   "metadata": {},
   "source": [
    "Resposta:\n",
    "- def quant_vogais_palavra\n",
    "- def get_quant_vogais"
   ]
  },
  {
   "cell_type": "code",
   "execution_count": 23,
   "metadata": {},
   "outputs": [
    {
     "name": "stdout",
     "output_type": "stream",
     "text": [
      "programação\n"
     ]
    }
   ],
   "source": [
    "# Exercício 5\n",
    "def x(lista):\n",
    "    m = ''\n",
    "    for palavra in lista:\n",
    "        if len(palavra) > len(m):\n",
    "            m = palavra\n",
    "    return m\n",
    "\n",
    "r = x([\n",
    "    'uva',\n",
    "    'chiclete',\n",
    "    'biscoitos',\n",
    "    'programação',\n",
    "    'xixo',\n",
    "    'amendoim'\n",
    "])\n",
    "print(r)"
   ]
  },
  {
   "cell_type": "markdown",
   "id": "39aa7f01",
   "metadata": {},
   "source": [
    "Resposta:\n",
    "- def maior_palavra_lista\n",
    "- def maior_palavra_na_lista"
   ]
  }
 ],
 "metadata": {
  "kernelspec": {
   "display_name": "Python 3",
   "language": "python",
   "name": "python3"
  },
  "language_info": {
   "codemirror_mode": {
    "name": "ipython",
    "version": 3
   },
   "file_extension": ".py",
   "mimetype": "text/x-python",
   "name": "python",
   "nbconvert_exporter": "python",
   "pygments_lexer": "ipython3",
   "version": "3.13.3"
  }
 },
 "nbformat": 4,
 "nbformat_minor": 5
}
