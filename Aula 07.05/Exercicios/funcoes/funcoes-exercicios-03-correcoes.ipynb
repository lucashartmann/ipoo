{
 "cells": [
  {
   "cell_type": "markdown",
   "metadata": {},
   "source": [
    "# Exercícios sobre o Uso do Valor de Resposta de Funções\n",
    "\n",
    "Os exercícios abaixo têm como objetivo treinar o uso do valor de retorno de funções para realizar operações novas usando eles."
   ]
  },
  {
   "cell_type": "markdown",
   "metadata": {},
   "source": [
    "## Exercício 1\n",
    "\n",
    "Dada a função abaixo, escreva um programa que use o valor de retorno para calcular o dobro da soma de dois números.\n"
   ]
  },
  {
   "cell_type": "code",
   "execution_count": 29,
   "id": "10fe270a",
   "metadata": {},
   "outputs": [],
   "source": [
    "def soma(a, b):\n",
    "    return a + b"
   ]
  },
  {
   "cell_type": "markdown",
   "id": "8785664a",
   "metadata": {},
   "source": [
    "sua resposta:"
   ]
  },
  {
   "cell_type": "code",
   "execution_count": 30,
   "id": "39a7b798",
   "metadata": {},
   "outputs": [
    {
     "name": "stdout",
     "output_type": "stream",
     "text": [
      "16\n"
     ]
    }
   ],
   "source": [
    "soma_de_dois = soma(3, 5)\n",
    "dobro_da_soma = 2 * soma_de_dois\n",
    "print(dobro_da_soma)"
   ]
  },
  {
   "cell_type": "markdown",
   "id": "02aeab2d",
   "metadata": {},
   "source": [
    "dar um nome à nova função"
   ]
  },
  {
   "cell_type": "code",
   "execution_count": 38,
   "id": "d7dcf295",
   "metadata": {},
   "outputs": [],
   "source": [
    "def dobro_da_soma():\n",
    "    soma_de_dois = soma(3, 5)\n",
    "    dobro_da_soma = 2 * soma_de_dois\n",
    "    print(dobro_da_soma)"
   ]
  },
  {
   "cell_type": "code",
   "execution_count": 39,
   "id": "2e210bf4",
   "metadata": {},
   "outputs": [
    {
     "name": "stdout",
     "output_type": "stream",
     "text": [
      "16\n",
      "16\n",
      "16\n"
     ]
    }
   ],
   "source": [
    "dobro_da_soma()\n",
    "dobro_da_soma()\n",
    "dobro_da_soma()"
   ]
  },
  {
   "cell_type": "markdown",
   "id": "1ced5418",
   "metadata": {},
   "source": [
    "generalizar a função"
   ]
  },
  {
   "cell_type": "code",
   "execution_count": 33,
   "id": "faddfd16",
   "metadata": {},
   "outputs": [],
   "source": [
    "def dobro_da_soma(valor1, valor2):\n",
    "    soma_de_dois = soma(valor1, valor2)\n",
    "    dobro_da_soma = 2 * soma_de_dois\n",
    "    print(dobro_da_soma)"
   ]
  },
  {
   "cell_type": "code",
   "execution_count": 36,
   "id": "31d2bdfd",
   "metadata": {},
   "outputs": [
    {
     "name": "stdout",
     "output_type": "stream",
     "text": [
      "16\n",
      "160\n",
      "6\n"
     ]
    }
   ],
   "source": [
    "dobro_da_soma(3,5)\n",
    "dobro_da_soma(30,50)\n",
    "dobro_da_soma(1,2)"
   ]
  },
  {
   "cell_type": "markdown",
   "metadata": {},
   "source": [
    "## Exercício 2\n",
    "\n",
    "Dada a função abaixo, escreva um programa que use o valor de retorno para verificar se o maior número de uma lista é par ou ímpar."
   ]
  },
  {
   "cell_type": "code",
   "execution_count": 1,
   "id": "1f282472",
   "metadata": {},
   "outputs": [],
   "source": [
    "def maior(lista):\n",
    "    return max(lista)"
   ]
  },
  {
   "cell_type": "markdown",
   "id": "00d2524a",
   "metadata": {},
   "source": [
    "sua resposta:"
   ]
  },
  {
   "cell_type": "code",
   "execution_count": 4,
   "id": "16cfc1f2",
   "metadata": {},
   "outputs": [
    {
     "name": "stdout",
     "output_type": "stream",
     "text": [
      "É impar\n"
     ]
    }
   ],
   "source": [
    "numeros = [2,63,5456, 12003, 124, 10]\n",
    "um_numero = maior(numeros)\n",
    "if um_numero % 2 == 0:\n",
    "    print(\"É par\")\n",
    "else:\n",
    "    print(\"É impar\")"
   ]
  },
  {
   "cell_type": "code",
   "execution_count": 6,
   "id": "a617de96",
   "metadata": {},
   "outputs": [
    {
     "name": "stdout",
     "output_type": "stream",
     "text": [
      "É impar\n"
     ]
    }
   ],
   "source": [
    "if maior([2,63,5456, 12003, 124, 10]) % 2 == 0:\n",
    "    print(\"É par\")\n",
    "else:\n",
    "    print(\"É impar\")"
   ]
  },
  {
   "cell_type": "markdown",
   "metadata": {},
   "source": [
    "## Exercício 3\n",
    "\n",
    "Dada a função abaixo, escreva um programa que use o valor de retorno para contar quantas letras maiúsculas existem em uma string convertida para maiúsculas."
   ]
  },
  {
   "cell_type": "code",
   "execution_count": 7,
   "id": "4631e7fe",
   "metadata": {},
   "outputs": [],
   "source": [
    "def para_maiusculas(texto):\n",
    "    return texto.upper()"
   ]
  },
  {
   "cell_type": "markdown",
   "id": "73b0e1bc",
   "metadata": {},
   "source": [
    "sua resposta:"
   ]
  },
  {
   "cell_type": "code",
   "execution_count": 10,
   "id": "e95eb3e9",
   "metadata": {},
   "outputs": [
    {
     "name": "stdout",
     "output_type": "stream",
     "text": [
      "O comprimento é:\n",
      "30\n"
     ]
    }
   ],
   "source": [
    "uma_string_em_maiusculas = para_maiusculas(\"Uma string que eu escrevi aqui\")\n",
    "comprimento_da_string = len(uma_string_em_maiusculas)\n",
    "print(\"O comprimento é:\")\n",
    "print(comprimento_da_string)"
   ]
  },
  {
   "cell_type": "code",
   "execution_count": 15,
   "id": "f7eb48aa",
   "metadata": {},
   "outputs": [
    {
     "name": "stdout",
     "output_type": "stream",
     "text": [
      "O comprimento é: 15\n"
     ]
    }
   ],
   "source": [
    "uma_string = \"Uma frase aqui.\"\n",
    "uma_string_em_maiusculas = para_maiusculas(uma_string)\n",
    "comprimento = len(uma_string_em_maiusculas)\n",
    "print(f'O comprimento é: {comprimento}')"
   ]
  },
  {
   "cell_type": "code",
   "execution_count": 14,
   "id": "d13964d8",
   "metadata": {},
   "outputs": [
    {
     "name": "stdout",
     "output_type": "stream",
     "text": [
      "O comprimento é: 15\n"
     ]
    }
   ],
   "source": [
    "comprimento = len(para_maiusculas(\"Uma frase aqui.\"))\n",
    "print(f'O comprimento é: {len(para_maiusculas(\"Uma frase aqui.\"))}')"
   ]
  },
  {
   "cell_type": "code",
   "execution_count": 13,
   "id": "7a50a05d",
   "metadata": {},
   "outputs": [
    {
     "name": "stdout",
     "output_type": "stream",
     "text": [
      "O comprimento é: 15\n"
     ]
    }
   ],
   "source": [
    "print(f'O comprimento é: {len(para_maiusculas(\"Uma frase aqui.\"))}')"
   ]
  },
  {
   "cell_type": "markdown",
   "metadata": {},
   "source": [
    "## Exercício 4\n",
    "\n",
    "Dada a função abaixo, escreva um programa que use o valor de retorno para calcular a soma dos quadrados de dois números.\n"
   ]
  },
  {
   "cell_type": "code",
   "execution_count": 17,
   "id": "d2df6024",
   "metadata": {},
   "outputs": [],
   "source": [
    "def quadrado(n):\n",
    "    return n ** 2"
   ]
  },
  {
   "cell_type": "markdown",
   "id": "9c1d6848",
   "metadata": {},
   "source": [
    "sua resposta:"
   ]
  },
  {
   "cell_type": "code",
   "execution_count": 18,
   "id": "1d8872dd",
   "metadata": {},
   "outputs": [
    {
     "name": "stdout",
     "output_type": "stream",
     "text": [
      "20\n"
     ]
    }
   ],
   "source": [
    "quadrado1 = quadrado(2)\n",
    "quadrado2 = quadrado(4)\n",
    "soma = quadrado1 + quadrado2\n",
    "\n",
    "print(soma)"
   ]
  },
  {
   "cell_type": "code",
   "execution_count": 20,
   "id": "8e69db70",
   "metadata": {},
   "outputs": [
    {
     "name": "stdout",
     "output_type": "stream",
     "text": [
      "20\n"
     ]
    }
   ],
   "source": [
    "print(quadrado(2) + quadrado(4))"
   ]
  },
  {
   "cell_type": "markdown",
   "metadata": {},
   "source": [
    "## Exercício 5\n",
    "\n",
    "Dada a função abaixo, escreva um programa que use o valor de retorno para calcular a área de um triângulo e verificar se ela é maior que 50."
   ]
  },
  {
   "cell_type": "code",
   "execution_count": 22,
   "id": "291f60a6",
   "metadata": {},
   "outputs": [],
   "source": [
    "def area_triangulo(base, altura):\n",
    "    return 0.5 * base * altura"
   ]
  },
  {
   "cell_type": "markdown",
   "id": "4d1b75f0",
   "metadata": {},
   "source": [
    "sua resposta:"
   ]
  },
  {
   "cell_type": "code",
   "execution_count": 23,
   "id": "7d97563e",
   "metadata": {},
   "outputs": [
    {
     "name": "stdout",
     "output_type": "stream",
     "text": [
      "área do triângulo é maior do que 50\n"
     ]
    }
   ],
   "source": [
    "triangulo_qualquer = area_triangulo(24, 32)\n",
    "\n",
    "if triangulo_qualquer > 50:\n",
    "    print(\"área do triângulo é maior do que 50\")\n",
    "else:\n",
    "    print(\"área do triângulo é menor do que 50\")"
   ]
  }
 ],
 "metadata": {
  "kernelspec": {
   "display_name": "Python 3",
   "language": "python",
   "name": "python3"
  },
  "language_info": {
   "codemirror_mode": {
    "name": "ipython",
    "version": 3
   },
   "file_extension": ".py",
   "mimetype": "text/x-python",
   "name": "python",
   "nbconvert_exporter": "python",
   "pygments_lexer": "ipython3",
   "version": "3.12.6"
  }
 },
 "nbformat": 4,
 "nbformat_minor": 5
}
