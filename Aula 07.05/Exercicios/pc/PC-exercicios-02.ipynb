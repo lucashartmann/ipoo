{
 "cells": [
  {
   "cell_type": "markdown",
   "id": "ccd00130",
   "metadata": {},
   "source": [
    "# Novos Exercícios de Pensamento Computacional para Treinar a Concentração\n",
    "\n",
    "## Exercício 1: Sequência de Palavras\n",
    "Complete a sequência lógica de palavras abaixo:\n",
    "```\n",
    "Casa, Casaco, Caderno, Cadeira, ?\n",
    "```\n",
    "Qual é a próxima palavra? Explique seu raciocínio.\n",
    "\n",
    "**Observação:** A sequência pode ter mais de uma resposta correta, dependendo da lógica utilizada. Justifique a sua escolha.\n"
   ]
  },
  {
   "cell_type": "markdown",
   "id": "bc862c44",
   "metadata": {},
   "source": [
    "Qualquer palavra que comece com \"Ca\" , pois é suponho  que é esta regra que está sendo aplicada na lista. Então, a palavra poderia ser \"Caminho\" \"Camisa\""
   ]
  },
  {
   "cell_type": "markdown",
   "id": "febd558d",
   "metadata": {},
   "source": [
    "\n",
    "## Exercício 2: Enigma Numérico\n",
    "Descubra o número que substitui o ponto de interrogação na sequência abaixo:\n",
    "```\n",
    "1, 4, 9, 16, 25, ?\n",
    "```\n",
    "Qual é o número e qual é a lógica por trás da sequência?\n"
   ]
  },
  {
   "cell_type": "markdown",
   "id": "d96b1b93",
   "metadata": {},
   "source": [
    "1 = 1²\n",
    "4 = 2²\n",
    "9 = 3²\n",
    "16 = 4²\n",
    "25 = 5²\n",
    "? = 6² = 36\n",
    "Resposta: 36"
   ]
  },
  {
   "cell_type": "markdown",
   "id": "c60f62de",
   "metadata": {},
   "source": [
    "\n",
    "## Exercício 3: Caminho no Tabuleiro\n",
    "Você está em um tabuleiro 6x6 na posição inicial (3,3). Siga as instruções abaixo e diga em qual posição você termina:\n",
    "- Vá 4 passos para cima.\n",
    "- Vá 2 passos para a esquerda.\n",
    "- Vá 3 passos para baixo.\n",
    "- Vá 1 passo para a direita.\n"
   ]
  },
  {
   "cell_type": "markdown",
   "id": "62a69f3d",
   "metadata": {},
   "source": [
    "(3,3) → (3,2) → (3,1) → (3,0) → (3,-1), fora do tabuleiro"
   ]
  },
  {
   "cell_type": "markdown",
   "id": "46e13e3e",
   "metadata": {},
   "source": [
    "\n",
    "## Exercício 4: Palavras Cruzadas\n",
    "Encontre a palavra que completa a frase abaixo:\n",
    "```\n",
    "O pensamento __________ ajuda a resolver problemas criativamente.\n",
    "```\n",
    "Dica: A palavra tem 8 letras e começa com \"e\". \n"
   ]
  },
  {
   "cell_type": "markdown",
   "id": "676ff91b",
   "metadata": {},
   "source": [
    "estratégico"
   ]
  },
  {
   "cell_type": "markdown",
   "id": "9d980261",
   "metadata": {},
   "source": [
    "\n",
    "## Exercício 5: Desafio de Lógica\n",
    "Cinco pessoas (Ana, Bruno, Carla, Daniel e Elisa) estão em uma fila para comprar ingressos. Sabemos que:\n",
    "- Ana está imediatamente à frente de Bruno.\n",
    "- Carla está entre Daniel e Elisa.\n",
    "- Daniel não está no início da fila.\n",
    "Qual é a ordem correta da fila?\n"
   ]
  },
  {
   "cell_type": "markdown",
   "id": "8c8155fc",
   "metadata": {},
   "source": [
    "[Elisa, Daniel, Carla, Ana, Bruno]"
   ]
  },
  {
   "cell_type": "markdown",
   "id": "0c2ba0ca",
   "metadata": {},
   "source": [
    "\n",
    "## Exercício 6: Contagem de Vogais\n",
    "Quantas vogais existem na frase abaixo? Concentre-se para não errar:\n",
    "```\n",
    "O pensamento computacional é uma habilidade essencial para o futuro.\n",
    "```\n"
   ]
  },
  {
   "cell_type": "markdown",
   "id": "e8b97f00",
   "metadata": {},
   "source": [
    "25"
   ]
  },
  {
   "cell_type": "markdown",
   "id": "ac16e927",
   "metadata": {},
   "source": [
    "\n",
    "## Exercício 7: Código de Formas\n",
    "Você recebeu o seguinte código que associa formas a números:\n",
    "```\n",
    "Círculo = 1, Quadrado = 2, Triângulo = 3, Retângulo = 4\n",
    "```\n",
    "Usando essa lógica, qual é a sequência numérica correspondente à ordem \"Triângulo, Círculo, Retângulo, Quadrado\"?\n"
   ]
  },
  {
   "cell_type": "markdown",
   "id": "f1786473",
   "metadata": {},
   "source": [
    "3, 1, 4, 2"
   ]
  },
  {
   "cell_type": "markdown",
   "id": "f54c448f",
   "metadata": {},
   "source": [
    "\n",
    "## Exercício 8: Operações Misturadas\n",
    "Resolva a expressão matemática abaixo, lembrando-se de seguir a ordem das operações:\n",
    "```\n",
    "(8 ÷ 2) + 3 x (4 - 1) - 5\n",
    "```\n",
    "Qual é o resultado final?\n"
   ]
  },
  {
   "cell_type": "markdown",
   "id": "6c86ecfd",
   "metadata": {},
   "source": [
    " 8"
   ]
  },
  {
   "cell_type": "markdown",
   "id": "79fd5b40",
   "metadata": {},
   "source": [
    "\n",
    "## Exercício 9: Ordenação de Números\n",
    "Você recebeu a seguinte lista de números:\n",
    "```\n",
    "42, 15, 8, 23, 4, 16\n",
    "```\n",
    "Organize os números em ordem crescente e explique o processo utilizado.\n"
   ]
  },
  {
   "cell_type": "markdown",
   "id": "94fe7b80",
   "metadata": {},
   "source": [
    "[4, 8, 15, 16, 23, 42]"
   ]
  },
  {
   "cell_type": "markdown",
   "id": "619b3e06",
   "metadata": {},
   "source": [
    "\n",
    "## Exercício 10: Árvore de Decisões\n",
    "Considere a seguinte árvore de decisões:\n",
    "- No topo da árvore, você deve escolher entre \"Fruta\" ou \"Legume\".\n",
    "- Se escolher \"Fruta\", as opções são \"Maçã\" ou \"Banana\".\n",
    "- Se escolher \"Legume\", as opções são \"Cenoura\" ou \"Batata\".\n",
    "\n",
    "\n",
    "Responda:\n",
    "1. Qual é o caminho para chegar à \"Banana\"?\n",
    "2. Qual é o caminho para chegar à \"Cenoura\"?"
   ]
  },
  {
   "cell_type": "markdown",
   "id": "9e944a46",
   "metadata": {},
   "source": [
    "1. Fruta → Banana\n",
    "2. Legume → Cenoura"
   ]
  },
  {
   "cell_type": "markdown",
   "id": "528fed6d",
   "metadata": {},
   "source": [
    "\n",
    "## Exercício 11: Pesquisa em Lista\n",
    "Você tem a seguinte lista de palavras:\n",
    "```\n",
    "Computação, Estrutura, Dados, Algoritmo, Pensamento\n",
    "```\n",
    "Qual é a posição da palavra \"Dados\" na lista? Explique como você encontrou a resposta.\n"
   ]
  },
  {
   "cell_type": "markdown",
   "id": "d14d7d5a",
   "metadata": {},
   "source": [
    "0: Computação\n",
    "1: Estrutura\n",
    "2: Dados\n",
    "\n",
    "Posição 2"
   ]
  },
  {
   "cell_type": "markdown",
   "id": "4f8fd3f2",
   "metadata": {},
   "source": [
    "\n",
    "## Exercício 12: Pilha de Pratos\n",
    "Imagine que você tem uma pilha de pratos com os seguintes tamanhos:\n",
    "```\n",
    "[Grande, Médio, Pequeno]\n",
    "```\n",
    "Se você adicionar um prato \"Extra Grande\" no topo da pilha e depois remover o prato do topo, qual será o próximo prato disponível? Explique o conceito de pilha usado aqui.\n"
   ]
  },
  {
   "cell_type": "markdown",
   "id": "6b6dcdec",
   "metadata": {},
   "source": [
    "[Extra Grande, Grande, Médio, Pequeno]\n",
    "[Grande, Médio, Pequeno] → próximo prato: **Grande**\n",
    "\n",
    "**Resposta:** **Grande**\n",
    "\n",
    "**Conceito:** Pilha (LIFO – Last In, First Out)\n"
   ]
  },
  {
   "cell_type": "markdown",
   "id": "092af86d",
   "metadata": {},
   "source": [
    "\n",
    "## Exercício 13: Fila de Pessoas\n",
    "Em uma fila de pessoas, a ordem inicial é:\n",
    "```\n",
    "[Ana, Bruno, Carla, Daniel, Elisa]\n",
    "```\n",
    "Se Ana sair da fila e Bruno for atendido, qual será a nova ordem da fila? Explique o conceito de fila usado aqui.\n"
   ]
  },
  {
   "cell_type": "markdown",
   "id": "5510cd23",
   "metadata": {},
   "source": [
    "**[Carla, Daniel, Elisa]**\n",
    "\n",
    "**Conceito:** Fila (FIFO – First In, First Out)"
   ]
  },
  {
   "cell_type": "markdown",
   "id": "433302a1",
   "metadata": {},
   "source": [
    "\n",
    "## Exercício 14: Grafo de Rotas\n",
    "Considere o seguinte grafo representando rotas entre cidades:\n",
    "- Cidade A está conectada à Cidade B e Cidade C.\n",
    "- Cidade B está conectada à Cidade D.\n",
    "- Cidade C está conectada à Cidade E.\n",
    "\n",
    "Responda:\n",
    "1. Quais cidades podem ser alcançadas a partir da Cidade A?\n",
    "2. Qual é o caminho mais curto para ir da Cidade A à Cidade D?\n"
   ]
  },
  {
   "cell_type": "markdown",
   "id": "8bc4c7bf",
   "metadata": {},
   "source": [
    "1. A partir de A → B, C, D (via B), E (via C)  \n",
    "**Resposta:** **B, C, D, E**\n",
    "\n",
    "2. Caminho mais curto A → D:\n",
    "**A → B → D**"
   ]
  },
  {
   "cell_type": "markdown",
   "id": "dbca4a20",
   "metadata": {},
   "source": [
    "\n",
    "## Exercício 15: Conjuntos de Alunos\n",
    "Você tem dois conjuntos de alunos:\n",
    "```\n",
    "Conjunto A = {João, Maria, Pedro}\n",
    "Conjunto B = {Maria, Ana, Pedro}\n",
    "```\n",
    "Responda:\n",
    "1. Quem está presente em ambos os conjuntos?\n",
    "2. Quem está presente apenas no Conjunto A?\n"
   ]
  },
  {
   "cell_type": "markdown",
   "id": "98e580b7",
   "metadata": {},
   "source": [
    "1. Em ambos os conjuntos:\n",
    "**{Maria, Pedro}**\n",
    "\n",
    "2. Apenas no Conjunto A:\n",
    "**{João}**"
   ]
  }
 ],
 "metadata": {
  "language_info": {
   "name": "python"
  }
 },
 "nbformat": 4,
 "nbformat_minor": 5
}
