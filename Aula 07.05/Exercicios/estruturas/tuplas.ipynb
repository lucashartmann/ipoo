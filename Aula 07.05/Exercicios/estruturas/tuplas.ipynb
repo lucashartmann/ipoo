{
 "cells": [
  {
   "cell_type": "markdown",
   "id": "0d3ac21f",
   "metadata": {},
   "source": [
    "# Introdução às Tuplas\n",
    "\n",
    "Tuplas são estruturas de dados imutáveis em Python que permitem armazenar múltiplos valores em uma única variável. Elas são semelhantes às listas, mas, ao contrário destas, não podem ser alteradas após sua criação."
   ]
  },
  {
   "cell_type": "markdown",
   "id": "b2c184f3",
   "metadata": {},
   "source": [
    "### Quando Usar Tuplas?\n",
    "\n",
    "Tuplas são ideais para representar dados que não devem ser alterados, como coordenadas geográficas, registros de banco de dados ou configurações constantes."
   ]
  },
  {
   "cell_type": "markdown",
   "id": "d19f460d",
   "metadata": {},
   "source": [
    "## Criando Tuplas\n",
    "\n",
    "Para criar uma tupla, utilizamos parênteses `()` e separamos os elementos por vírgulas."
   ]
  },
  {
   "cell_type": "code",
   "execution_count": null,
   "id": "23507150",
   "metadata": {},
   "outputs": [],
   "source": [
    "# Exemplo de criação de uma tupla\n",
    "tupla = (1, 2, 3, 4, 5)"
   ]
  },
  {
   "cell_type": "markdown",
   "id": "42beaa83",
   "metadata": {},
   "source": [
    "## Acessando Elementos\n",
    "\n",
    "Os elementos de uma tupla podem ser acessados por seus índices, começando do 0."
   ]
  },
  {
   "cell_type": "code",
   "execution_count": null,
   "id": "1c84ac0f",
   "metadata": {},
   "outputs": [],
   "source": [
    "# Acessando o primeiro elemento\n",
    "print(tupla[0])  # Saída: 1\n",
    "\n",
    "# Acessando o último elemento\n",
    "print(tupla[-1])  # Saída: 5"
   ]
  },
  {
   "cell_type": "markdown",
   "id": "ecd6818c",
   "metadata": {},
   "source": [
    "## Operações com Tuplas\n",
    "\n",
    "Embora as tuplas sejam imutáveis, podemos realizar diversas operações, como concatenar, repetir e verificar a existência de elementos."
   ]
  },
  {
   "cell_type": "code",
   "execution_count": null,
   "id": "369fd78c",
   "metadata": {},
   "outputs": [],
   "source": [
    "# Concatenando tuplas\n",
    "tupla1 = (1, 2, 3)\n",
    "tupla2 = (4, 5, 6)\n",
    "tupla_concatenada = tupla1 + tupla2\n",
    "print(tupla_concatenada)  # Saída: (1, 2, 3, 4, 5, 6)\n",
    "\n",
    "# Verificando a existência de um elemento\n",
    "print(3 in tupla1)  # Saída: True"
   ]
  },
  {
   "cell_type": "markdown",
   "id": "f0614387",
   "metadata": {},
   "source": [
    "### Desempacotamento de Tuplas\n",
    "\n",
    "O desempacotamento de tuplas é uma técnica que permite atribuir os valores de uma tupla diretamente a variáveis individuais. Isso é útil para tornar o código mais legível e organizado."
   ]
  },
  {
   "cell_type": "code",
   "execution_count": null,
   "id": "8b3a166c",
   "metadata": {},
   "outputs": [],
   "source": [
    "# Exemplo de desempacotamento de tupla\n",
    "pessoa = (\"João\", 25, \"Engenheiro\")\n",
    "nome, idade, profissao = pessoa\n",
    "\n",
    "print(f\"Nome: {nome}\")  # Saída: Nome: João\n",
    "print(f\"Idade: {idade}\")  # Saída: Idade: 25\n",
    "print(f\"Profissão: {profissao}\")  # Saída: Profissão: Engenheiro"
   ]
  }
 ],
 "metadata": {
  "language_info": {
   "name": "python"
  }
 },
 "nbformat": 4,
 "nbformat_minor": 5
}
