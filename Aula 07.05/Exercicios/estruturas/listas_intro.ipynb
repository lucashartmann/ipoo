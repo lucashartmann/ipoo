{
 "cells": [
  {
   "cell_type": "markdown",
   "id": "d14b048d",
   "metadata": {},
   "source": [
    "## Listas\n",
    "\n",
    "Listas são uma estrutura de dados fundamental em Python que permite armazenar múltiplos valores em uma única variável. Elas são muito versáteis e amplamente utilizadas em algoritmos e programas para manipulação de dados.\n",
    "\n",
    "### Características das Listas\n",
    "- **Mutáveis**: O conteúdo de uma lista pode ser alterado após sua criação.\n",
    "- **Ordenadas**: Os elementos possuem uma ordem definida e podem ser acessados por índices.\n",
    "- **Aceitam Tipos Diversos**: Uma lista pode conter elementos de diferentes tipos, como números, strings e até outras listas.\n",
    "\n",
    "### Criando Listas\n",
    "Para criar uma lista, utilizamos colchetes `[]` e separamos os elementos por vírgulas:\n",
    "\n"
   ]
  },
  {
   "cell_type": "code",
   "execution_count": null,
   "id": "27f9b26d",
   "metadata": {},
   "outputs": [],
   "source": [
    "# Exemplo de lista com números\n",
    "numeros = [1, 2, 3, 4, 5]"
   ]
  },
  {
   "cell_type": "code",
   "execution_count": null,
   "id": "ffcba5c4",
   "metadata": {},
   "outputs": [],
   "source": [
    "# Exemplo de lista com tipos variados\n",
    "elementos = [1, \"Python\", True, [1, 2, 3]]"
   ]
  },
  {
   "cell_type": "markdown",
   "id": "85e688c6",
   "metadata": {},
   "source": [
    "### Acessando Elementos\n",
    "Os elementos de uma lista podem ser acessados por seus índices, começando do 0:"
   ]
  },
  {
   "cell_type": "code",
   "execution_count": null,
   "id": "6fb01e52",
   "metadata": {},
   "outputs": [],
   "source": [
    "# Acessando o primeiro elemento\n",
    "print(numeros[0])  # Saída: 1\n",
    "\n",
    "# Acessando o último elemento\n",
    "print(numeros[-1])  # Saída: 5\n"
   ]
  },
  {
   "cell_type": "markdown",
   "id": "b414ab58",
   "metadata": {},
   "source": [
    "\n",
    "### Operações Comuns\n",
    "\n",
    "- **Adicionar Elementos**: Utilizamos o método `append` para adicionar um elemento ao final da lista."
   ]
  },
  {
   "cell_type": "code",
   "execution_count": null,
   "id": "db5ed871",
   "metadata": {},
   "outputs": [],
   "source": [
    "numeros.append(6)\n",
    "print(numeros)  # Saída: [1, 2, 3, 4, 5, 6]\n"
   ]
  },
  {
   "cell_type": "markdown",
   "id": "cfa07880",
   "metadata": {},
   "source": [
    "\n",
    "- **Remover Elementos**: Utilizamos o método `remove` para remover um elemento específico.\n"
   ]
  },
  {
   "cell_type": "code",
   "execution_count": null,
   "id": "1c6ee0f4",
   "metadata": {},
   "outputs": [],
   "source": [
    "numeros.remove(3)\n",
    "print(numeros)  # Saída: [1, 2, 4, 5, 6]"
   ]
  },
  {
   "cell_type": "markdown",
   "id": "cf166f46",
   "metadata": {},
   "source": [
    "\n",
    "- **Tamanho da Lista**: Utilizamos a função `len` para obter o número de elementos.\n"
   ]
  },
  {
   "cell_type": "code",
   "execution_count": null,
   "id": "78240c0f",
   "metadata": {},
   "outputs": [],
   "source": [
    "print(len(numeros))  # Saída: 5"
   ]
  },
  {
   "cell_type": "markdown",
   "id": "4c4da2cf",
   "metadata": {},
   "source": [
    "\n",
    "Listas são uma ferramenta poderosa para resolver problemas e organizar dados em Python. Nos próximos exemplos, exploraremos mais operações e usos práticos dessa estrutura de dados.\n"
   ]
  }
 ],
 "metadata": {
  "kernelspec": {
   "display_name": "Python 3",
   "language": "python",
   "name": "python3"
  },
  "language_info": {
   "codemirror_mode": {
    "name": "ipython",
    "version": 3
   },
   "file_extension": ".py",
   "mimetype": "text/x-python",
   "name": "python",
   "nbconvert_exporter": "python",
   "pygments_lexer": "ipython3",
   "version": "3.13.3"
  }
 },
 "nbformat": 4,
 "nbformat_minor": 5
}
