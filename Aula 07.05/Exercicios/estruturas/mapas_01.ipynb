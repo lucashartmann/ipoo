{
 "cells": [
  {
   "cell_type": "markdown",
   "id": "1917f17e",
   "metadata": {},
   "source": [
    "# Introdução a Mapas\n",
    "\n",
    "Mapas, também conhecidos como dicionários em Python, são estruturas de dados que armazenam pares de chave-valor. Eles são úteis para associar informações de forma eficiente e são amplamente utilizados em diversas aplicações."
   ]
  },
  {
   "cell_type": "markdown",
   "id": "45e73a99",
   "metadata": {},
   "source": [
    "## Criando um Mapa\n",
    "\n",
    "Para criar um mapa em Python, utilizamos chaves `{}` e definimos pares de chave-valor separados por dois pontos `:`."
   ]
  },
  {
   "cell_type": "code",
   "execution_count": null,
   "id": "01237673",
   "metadata": {},
   "outputs": [],
   "source": [
    "# Exemplo de criação de um mapa\n",
    "alunos = {\"João\": 8.5, \"Maria\": 9.0, \"Pedro\": 7.5}"
   ]
  },
  {
   "cell_type": "markdown",
   "id": "c859a6b3",
   "metadata": {},
   "source": [
    "## Acessando Valores\n",
    "\n",
    "Os valores podem ser acessados utilizando suas respectivas chaves."
   ]
  },
  {
   "cell_type": "code",
   "execution_count": null,
   "id": "72148afe",
   "metadata": {},
   "outputs": [],
   "source": [
    "# Acessando a nota de João\n",
    "print(alunos[\"João\"])  # Saída: 8.5"
   ]
  },
  {
   "cell_type": "markdown",
   "id": "2573bc73",
   "metadata": {},
   "source": [
    "## Adicionando e Removendo Elementos\n",
    "\n",
    "Podemos adicionar novos pares de chave-valor ou remover elementos existentes."
   ]
  },
  {
   "cell_type": "code",
   "execution_count": null,
   "id": "e5dc4352",
   "metadata": {},
   "outputs": [],
   "source": [
    "# Adicionando um novo aluno\n",
    "alunos[\"Ana\"] = 8.0\n",
    "\n",
    "# Removendo um aluno\n",
    "del alunos[\"Pedro\"]\n",
    "\n",
    "print(alunos)  # Saída: {'João': 8.5, 'Maria': 9.0, 'Ana': 8.0}"
   ]
  },
  {
   "cell_type": "markdown",
   "id": "367e7956",
   "metadata": {},
   "source": [
    "## Iterando sobre um Mapa\n",
    "\n",
    "Podemos iterar sobre as chaves, valores ou ambos em um mapa."
   ]
  },
  {
   "cell_type": "code",
   "execution_count": null,
   "id": "0dbb1cba",
   "metadata": {},
   "outputs": [],
   "source": [
    "# Iterando sobre as chaves e valores\n",
    "for aluno, nota in alunos.items():\n",
    "    print(f\"{aluno}: {nota}\")"
   ]
  }
 ],
 "metadata": {
  "language_info": {
   "name": "python"
  }
 },
 "nbformat": 4,
 "nbformat_minor": 5
}
