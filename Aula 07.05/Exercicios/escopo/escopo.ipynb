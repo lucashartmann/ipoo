{
 "cells": [
  {
   "cell_type": "markdown",
   "id": "d7f51ad9",
   "metadata": {},
   "source": [
    "## Escopo\n"
   ]
  },
  {
   "cell_type": "markdown",
   "id": "f4fdd329",
   "metadata": {
    "vscode": {
     "languageId": "ruby"
    }
   },
   "source": [
    "O \"escopo de variáveis\" é o contexto em que uma variável é definida e pode ser acessada em um programa. Em Python, as variáveis podem ter escopo global, sendo acessíveis em qualquer parte do código, ou escopo local, estando disponíveis apenas dentro do bloco de código onde foram declaradas, como em funções.\n",
    "    \n",
    "Compreender o escopo é essencial para evitar conflitos de nomes e erros, garantindo que as variáveis sejam utilizadas de forma correta e eficiente no desenvolvimento de programas."
   ]
  },
  {
   "cell_type": "markdown",
   "id": "a00b5e6c",
   "metadata": {},
   "source": [
    "### Exemplo"
   ]
  },
  {
   "cell_type": "code",
   "execution_count": 3,
   "id": "9cbeb85b",
   "metadata": {},
   "outputs": [
    {
     "name": "stdout",
     "output_type": "stream",
     "text": [
      "Dentro da função, x (global): 10\n",
      "Dentro da função, y (local): 5\n",
      "Fora da função, x (global): 10\n",
      "Erro: name 'y' is not defined\n"
     ]
    }
   ],
   "source": [
    "# Variável global\n",
    "x = 10\n",
    "\n",
    "def minha_funcao():\n",
    "    # Variável local\n",
    "    y = 5\n",
    "    print(\"Dentro da função, x (global):\", x)\n",
    "    print(\"Dentro da função, y (local):\", y)\n",
    "\n",
    "minha_funcao()\n",
    "\n",
    "# Acessando a variável global fora da função\n",
    "print(\"Fora da função, x (global):\", x)\n",
    "\n",
    "# Tentando acessar a variável local fora da função (gera erro)\n",
    "try:\n",
    "    print(\"Fora da função, y (local):\", y)\n",
    "except NameError as e:\n",
    "    print(\"Erro:\", e)"
   ]
  },
  {
   "cell_type": "markdown",
   "id": "a2d71a02",
   "metadata": {},
   "source": [
    "### Acessar variável global em escopo local"
   ]
  },
  {
   "cell_type": "markdown",
   "id": "bfbdb82d",
   "metadata": {},
   "source": [
    "Para acessar uma variável global dentro de um contexto local, como uma função, basta referenciar o nome da variável diretamente. O Python permite que variáveis globais sejam acessadas dentro de funções, desde que não sejam sobrescritas no escopo local. \n",
    "\n",
    "No entanto, se for necessário modificar o valor de uma variável global dentro de uma função, é preciso usar a palavra-chave `global` antes de fazer uma atribuição à variável. Isso informa ao Python que a variável referenciada pertence ao escopo global.\n",
    "\n",
    "Exemplo:\n",
    "\n",
    "```python\n",
    "# Variável global\n",
    "contador = 0\n",
    "\n",
    "def incrementar():\n",
    "    global contador  # Declara que estamos usando a variável global\n",
    "    contador += 1  # Modifica o valor da variável global\n",
    "\n",
    "incrementar()\n",
    "print(contador)  # Saída: 1\n",
    "```\n",
    "\n",
    "Sem a palavra-chave `global`, o Python criaria uma nova variável local com o mesmo nome, sem alterar a variável global."
   ]
  }
 ],
 "metadata": {
  "kernelspec": {
   "display_name": "Python 3",
   "language": "python",
   "name": "python3"
  },
  "language_info": {
   "codemirror_mode": {
    "name": "ipython",
    "version": 3
   },
   "file_extension": ".py",
   "mimetype": "text/x-python",
   "name": "python",
   "nbconvert_exporter": "python",
   "pygments_lexer": "ipython3",
   "version": "3.13.3"
  }
 },
 "nbformat": 4,
 "nbformat_minor": 5
}
