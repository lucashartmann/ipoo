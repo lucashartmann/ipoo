{
 "cells": [
  {
   "cell_type": "code",
   "execution_count": null,
   "metadata": {},
   "outputs": [],
   "source": [
    "for numero in range(10):\n",
    "    if numero == 5:\n",
    "        print(\"Número 5 encontrado, interrompendo o loop.\")\n",
    "        break\n",
    "    print(f\"Número: {numero}\")"
   ]
  },
  {
   "cell_type": "code",
   "execution_count": 2,
   "metadata": {},
   "outputs": [],
   "source": [
    "class Produto:\n",
    "    def __init__(self, nome, categoria):\n",
    "        self.nome = nome\n",
    "        self.categoria = categoria\n",
    "\n"
   ]
  },
  {
   "cell_type": "code",
   "execution_count": 3,
   "metadata": {},
   "outputs": [],
   "source": [
    "p1 = Produto(\"maçã\", \"hortifruti\")\n",
    "p2 = Produto(\"papel\", \"papelaria\")\n",
    "p3 = Produto(\"sabonete\", \"higiene\")\n",
    "p4 = Produto(\"pão\", \"padaria\")\n",
    "p5 = Produto(\"shampoo\", \"higiene\")"
   ]
  },
  {
   "cell_type": "code",
   "execution_count": 8,
   "metadata": {},
   "outputs": [],
   "source": [
    "produtos = [p1, p2, p3, p4, p5]"
   ]
  },
  {
   "cell_type": "code",
   "execution_count": 10,
   "metadata": {},
   "outputs": [
    {
     "name": "stdout",
     "output_type": "stream",
     "text": [
      "shampoo\n",
      "higiene\n",
      "Produto de higiene encontrado, interrompendo o loop.\n",
      "Produto de higiene não foi encontrado\n"
     ]
    }
   ],
   "source": [
    "p3.categoria=\"limpeza\"\n",
    "\n",
    "for produto in produtos:\n",
    "    if produto.categoria == \"higiene\":\n",
    "        print(produto.nome)\n",
    "        print(produto.categoria)\n",
    "        print(\"Produto de higiene encontrado, interrompendo o loop.\")\n",
    "        break\n",
    "print(\"Produto de higiene não foi encontrado\")"
   ]
  }
 ],
 "metadata": {
  "kernelspec": {
   "display_name": "Python 3 (ipykernel)",
   "language": "python",
   "name": "python3"
  },
  "language_info": {
   "codemirror_mode": {
    "name": "ipython",
    "version": 3
   },
   "file_extension": ".py",
   "mimetype": "text/x-python",
   "name": "python",
   "nbconvert_exporter": "python",
   "pygments_lexer": "ipython3",
   "version": "3.13.3"
  }
 },
 "nbformat": 4,
 "nbformat_minor": 4
}
