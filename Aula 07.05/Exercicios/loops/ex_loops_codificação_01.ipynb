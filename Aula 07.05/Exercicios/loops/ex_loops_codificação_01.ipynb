{
 "cells": [
  {
   "cell_type": "markdown",
   "id": "e643cb44",
   "metadata": {},
   "source": [
    "### Exercício 1: Contando Caracteres em uma String\n",
    "\n",
    "**Descrição:**\n",
    "Escreva um programa que use um loop `for` para contar quantas vezes cada caractere aparece em uma string fornecida pelo usuário.\n",
    "\n",
    "**Exemplo de Entrada:**\n",
    "```\n",
    "Digite uma string: banana\n",
    "```\n",
    "\n",
    "**Exemplo de Saída:**\n",
    "```\n",
    "O caractere 'b' aparece 1 vez.\n",
    "O caractere 'a' aparece 3 vezes.\n",
    "O caractere 'n' aparece 2 vezes.\n",
    "```\n"
   ]
  },
  {
   "cell_type": "code",
   "execution_count": 2,
   "id": "b16b1607",
   "metadata": {},
   "outputs": [
    {
     "name": "stdout",
     "output_type": "stream",
     "text": [
      "O caractere 'b' aparece 1 vezes\n",
      "O caractere 'a' aparece 3 vezes\n",
      "O caractere 'n' aparece 2 vezes\n"
     ]
    }
   ],
   "source": [
    "palavra = input(\"Digite uma palavra: \").lower()\n",
    "ja_mostrados = []\n",
    "\n",
    "for caractere in palavra:\n",
    "    if caractere not in ja_mostrados:\n",
    "        contador = 0\n",
    "        for letra in palavra:\n",
    "            if letra == caractere:\n",
    "                contador += 1\n",
    "        print(f\"O caractere '{caractere}' aparece {contador} vezes\")\n",
    "        ja_mostrados.append(caractere)"
   ]
  },
  {
   "cell_type": "code",
   "execution_count": 8,
   "id": "522116fb",
   "metadata": {},
   "outputs": [
    {
     "name": "stdout",
     "output_type": "stream",
     "text": [
      "O caractere 'b' aparece 1 vezes\n",
      "O caractere 'a' aparece 3 vezes\n",
      "O caractere 'n' aparece 2 vezes\n"
     ]
    }
   ],
   "source": [
    "palavra = input(\"Digite uma palavra: \").lower()\n",
    "\n",
    "contagens = {}\n",
    "\n",
    "for letra in palavra:\n",
    "    if letra not in contagens.keys():\n",
    "        contagens[letra] = 1\n",
    "    else:\n",
    "        contagens[letra] += 1\n",
    "\n",
    "for chave, valor in contagens.items():\n",
    "    print(f\"O caractere '{chave}' aparece {valor} vezes\")\n",
    "\n"
   ]
  },
  {
   "cell_type": "markdown",
   "id": "65832e45",
   "metadata": {},
   "source": [
    "\n",
    "---\n",
    "\n",
    "### Exercício 2: Encontrando Palavras com Determinado Caractere\n",
    "\n",
    "**Descrição:**\n",
    "Escreva um programa que use um loop `for` para iterar sobre uma lista de palavras e imprima apenas as palavras que contêm a letra \"a\".\n",
    "\n",
    "**Exemplo de Entrada:**\n",
    "```\n",
    "Lista de palavras: [\"casa\", \"carro\", \"bicicleta\", \"moto\"]\n",
    "```\n",
    "\n",
    "**Exemplo de Saída:**\n",
    "```\n",
    "Palavras com a letra 'a': casa, carro, bicicleta\n",
    "```\n",
    "\n",
    "---\n"
   ]
  },
  {
   "cell_type": "code",
   "execution_count": null,
   "id": "80a948ea",
   "metadata": {},
   "outputs": [
    {
     "name": "stdout",
     "output_type": "stream",
     "text": [
      "Palavras com a letra a: casa carro bicicleta "
     ]
    }
   ],
   "source": [
    "lista = [\"casa\", \"carro\", \"bicicleta\", \"moto\"]\n",
    "print(\"Palavras com a letra a: \", end='')\n",
    "for palavra in lista:\n",
    "    if \"a\" in palavra:\n",
    "        print(palavra, end=\" \")"
   ]
  },
  {
   "cell_type": "markdown",
   "id": "d2047cff",
   "metadata": {},
   "source": [
    "\n",
    "### Exercício 3: Revertendo Strings\n",
    "\n",
    "**Descrição:**\n",
    "Escreva um programa que use um loop `while` para reverter uma string fornecida pelo usuário.\n",
    "\n",
    "**Exemplo de Entrada:**\n",
    "```\n",
    "Digite uma string: python\n",
    "```\n",
    "\n",
    "**Exemplo de Saída:**\n",
    "```\n",
    "String revertida: nohtyp\n",
    "```\n",
    "\n",
    "---\n"
   ]
  },
  {
   "cell_type": "code",
   "execution_count": null,
   "id": "9ce5bdf4",
   "metadata": {},
   "outputs": [
    {
     "name": "stdout",
     "output_type": "stream",
     "text": [
      "Palavra: banana\n",
      "Palavra revertida: ananab"
     ]
    }
   ],
   "source": [
    "palavra = input(\"Digite uma palavra: \")\n",
    "\n",
    "index = len(palavra) - 1\n",
    "print(\"Palavra revertida:\", end=\" \")\n",
    "while index >= 0:\n",
    "    print(palavra[index], end=\"\")\n",
    "    index -= 1\n",
    "    "
   ]
  },
  {
   "cell_type": "code",
   "execution_count": 23,
   "id": "0f83347b",
   "metadata": {},
   "outputs": [
    {
     "name": "stdout",
     "output_type": "stream",
     "text": [
      "Palavra revertida: nohtyp"
     ]
    }
   ],
   "source": [
    "palavra = input(\"Digite uma palavra: \")\n",
    "\n",
    "index = -1\n",
    "print(\"Palavra revertida:\", end=\" \")\n",
    "while index >= -len(palavra):\n",
    "    print(palavra[index], end=\"\")\n",
    "    index -= 1\n",
    "    "
   ]
  },
  {
   "cell_type": "code",
   "execution_count": 24,
   "id": "641079bb",
   "metadata": {},
   "outputs": [
    {
     "data": {
      "text/plain": [
       "'nohtyp'"
      ]
     },
     "execution_count": 24,
     "metadata": {},
     "output_type": "execute_result"
    }
   ],
   "source": [
    "palavra = \"python\"\n",
    "\"\".join(reversed(palavra))"
   ]
  },
  {
   "cell_type": "code",
   "execution_count": 25,
   "id": "e4b41f33",
   "metadata": {},
   "outputs": [
    {
     "data": {
      "text/plain": [
       "'nohtyp'"
      ]
     },
     "execution_count": 25,
     "metadata": {},
     "output_type": "execute_result"
    }
   ],
   "source": [
    "palavra = \"python\"\n",
    "palavra[::-1]"
   ]
  },
  {
   "cell_type": "markdown",
   "id": "4c417154",
   "metadata": {},
   "source": [
    "\n",
    "### Exercício 4: Filtrando Palavras por Comprimento\n",
    "\n",
    "**Descrição:**\n",
    "Escreva um programa que use um loop `for` para iterar sobre uma lista de palavras e imprima apenas as palavras com mais de 5 caracteres.\n",
    "\n",
    "**Exemplo de Entrada:**\n",
    "```\n",
    "Lista de palavras: [\"gato\", \"elefante\", \"cachorro\", \"pato\"]\n",
    "```\n",
    "\n",
    "**Exemplo de Saída:**\n",
    "```\n",
    "Palavras com mais de 5 caracteres: elefante, cachorro\n",
    "```\n",
    "\n",
    "---\n"
   ]
  },
  {
   "cell_type": "code",
   "execution_count": null,
   "id": "209c0750",
   "metadata": {},
   "outputs": [
    {
     "name": "stdout",
     "output_type": "stream",
     "text": [
      "Palavras com mais de 5 caracteres: elefante ,cachorro ,"
     ]
    }
   ],
   "source": [
    "lista = [\"gato\", \"elefante\", \"cachorro\", \"pato\"]\n",
    "\n",
    "print(\"Palavras com mais de 5 caracteres:\", end=\" \")\n",
    "\n",
    "for palavra in lista:\n",
    "    if len(palavra) > 5:\n",
    "        print(palavra, end=\" \")"
   ]
  },
  {
   "cell_type": "code",
   "execution_count": 28,
   "id": "f90126c9",
   "metadata": {},
   "outputs": [
    {
     "name": "stdout",
     "output_type": "stream",
     "text": [
      "['elefante', 'cachorro']\n"
     ]
    }
   ],
   "source": [
    "lista = [\"gato\", \"elefante\", \"cachorro\", \"pato\"]\n",
    "lista_filtrada = []\n",
    "\n",
    "for animal in lista:\n",
    "    if len(animal) > 5:\n",
    "        lista_filtrada.append(animal)\n",
    "\n",
    "print(lista_filtrada)"
   ]
  },
  {
   "cell_type": "markdown",
   "id": "1c0c41b3",
   "metadata": {},
   "source": [
    "\n",
    "### Exercício 5: Substituindo Caracteres em uma String\n",
    "\n",
    "**Descrição:**\n",
    "Escreva um programa que use um loop `while` para substituir todas as ocorrências de um caractere em uma string por outro caractere, até que o usuário decida parar.\n",
    "\n",
    "**Exemplo de Entrada:**\n",
    "```\n",
    "Digite uma string: abacaxi\n",
    "Caractere a ser substituído: a\n",
    "Novo caractere: o\n",
    "```\n",
    "\n",
    "**Exemplo de Saída:**\n",
    "```\n",
    "String resultante: obocoxi\n",
    "```\n",
    "\n",
    "**Nota:**\n",
    "O programa deve continuar pedindo substituições até que o usuário digite \"sair\"."
   ]
  },
  {
   "cell_type": "code",
   "execution_count": 79,
   "id": "0d2567a4",
   "metadata": {},
   "outputs": [
    {
     "name": "stdout",
     "output_type": "stream",
     "text": [
      "Palavra resultante: obocoxi\n"
     ]
    }
   ],
   "source": [
    "palavra = input(\"Digite uma palavra: \")\n",
    "\n",
    "while True:\n",
    "    caractere = input(\"Caractere a ser substituído (ou 'sair' para encerrar): \")\n",
    "    if caractere == \"sair\":\n",
    "        break\n",
    "    novo_caractere = input(\"Novo caractere: \")\n",
    "    palavra = palavra.replace(caractere, novo_caractere)\n",
    "    print(\"Palavra resultante:\", palavra)\n"
   ]
  }
 ],
 "metadata": {
  "kernelspec": {
   "display_name": "Python 3",
   "language": "python",
   "name": "python3"
  },
  "language_info": {
   "codemirror_mode": {
    "name": "ipython",
    "version": 3
   },
   "file_extension": ".py",
   "mimetype": "text/x-python",
   "name": "python",
   "nbconvert_exporter": "python",
   "pygments_lexer": "ipython3",
   "version": "3.13.3"
  }
 },
 "nbformat": 4,
 "nbformat_minor": 5
}
