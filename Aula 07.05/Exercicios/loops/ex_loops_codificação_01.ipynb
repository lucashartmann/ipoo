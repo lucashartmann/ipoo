{
 "cells": [
  {
   "cell_type": "markdown",
   "id": "e643cb44",
   "metadata": {},
   "source": [
    "### Exercício 1: Contando Caracteres em uma String\n",
    "\n",
    "**Descrição:**\n",
    "Escreva um programa que use um loop `for` para contar quantas vezes cada caractere aparece em uma string fornecida pelo usuário.\n",
    "\n",
    "**Exemplo de Entrada:**\n",
    "```\n",
    "Digite uma string: banana\n",
    "```\n",
    "\n",
    "**Exemplo de Saída:**\n",
    "```\n",
    "O caractere 'b' aparece 1 vez.\n",
    "O caractere 'a' aparece 3 vezes.\n",
    "O caractere 'n' aparece 2 vezes.\n",
    "```\n"
   ]
  },
  {
   "cell_type": "code",
   "execution_count": null,
   "id": "b16b1607",
   "metadata": {},
   "outputs": [
    {
     "name": "stdout",
     "output_type": "stream",
     "text": [
      "'b' aparece 1 vezes\n",
      "'a' aparece 3 vezes\n",
      "'n' aparece 2 vezes\n"
     ]
    }
   ],
   "source": [
    "palavra = input(\"Digite uma palavra: \")\n",
    "ja_mostrados = \"\"\n",
    "\n",
    "for caractere in palavra:\n",
    "    if caractere not in ja_mostrados:\n",
    "        contador = 0\n",
    "        for letra in palavra:\n",
    "            if letra == caractere:\n",
    "                contador += 1\n",
    "        print(f\"O caractere '{caractere}' aparece {contador} vezes\")\n",
    "        ja_mostrados += caractere"
   ]
  },
  {
   "cell_type": "markdown",
   "id": "65832e45",
   "metadata": {},
   "source": [
    "\n",
    "---\n",
    "\n",
    "### Exercício 2: Encontrando Palavras com Determinado Caractere\n",
    "\n",
    "**Descrição:**\n",
    "Escreva um programa que use um loop `for` para iterar sobre uma lista de palavras e imprima apenas as palavras que contêm a letra \"a\".\n",
    "\n",
    "**Exemplo de Entrada:**\n",
    "```\n",
    "Lista de palavras: [\"casa\", \"carro\", \"bicicleta\", \"moto\"]\n",
    "```\n",
    "\n",
    "**Exemplo de Saída:**\n",
    "```\n",
    "Palavras com a letra 'a': casa, carro, bicicleta\n",
    "```\n",
    "\n",
    "---\n"
   ]
  },
  {
   "cell_type": "code",
   "execution_count": null,
   "id": "80a948ea",
   "metadata": {},
   "outputs": [
    {
     "name": "stdout",
     "output_type": "stream",
     "text": [
      "Palavras com a letra a: ['casa', 'carro', 'bicicleta']\n"
     ]
    }
   ],
   "source": [
    "def lista_caractere(lista, caractere):\n",
    "    lista2 = []\n",
    "    for palavra in lista:\n",
    "        if caractere in palavra:\n",
    "            lista2.append(palavra)\n",
    "    return lista2\n",
    "\n",
    "lista = [\"casa\", \"carro\", \"bicicleta\", \"moto\"]\n",
    "caractere = 'a'\n",
    "\n",
    "print(f\"Palavras com a letra {caractere}: {lista_caractere(lista, caractere)}\")\n"
   ]
  },
  {
   "cell_type": "markdown",
   "id": "d2047cff",
   "metadata": {},
   "source": [
    "\n",
    "### Exercício 3: Revertendo Strings\n",
    "\n",
    "**Descrição:**\n",
    "Escreva um programa que use um loop `while` para reverter uma string fornecida pelo usuário.\n",
    "\n",
    "**Exemplo de Entrada:**\n",
    "```\n",
    "Digite uma string: python\n",
    "```\n",
    "\n",
    "**Exemplo de Saída:**\n",
    "```\n",
    "String revertida: nohtyp\n",
    "```\n",
    "\n",
    "---\n"
   ]
  },
  {
   "cell_type": "code",
   "execution_count": null,
   "id": "9ce5bdf4",
   "metadata": {},
   "outputs": [
    {
     "name": "stdout",
     "output_type": "stream",
     "text": [
      "Palavra revertida: ordep\n"
     ]
    }
   ],
   "source": [
    "palavra = input(\"Digite uma palavra: \")\n",
    "\n",
    "index = len(palavra) - 1\n",
    "palavra_revertida = \"\"\n",
    "\n",
    "while index >= 0:\n",
    "    palavra_revertida += palavra[index]\n",
    "    index -= 1\n",
    "    \n",
    "print(\"Palavra revertida:\", palavra_revertida)"
   ]
  },
  {
   "cell_type": "markdown",
   "id": "4c417154",
   "metadata": {},
   "source": [
    "\n",
    "### Exercício 4: Filtrando Palavras por Comprimento\n",
    "\n",
    "**Descrição:**\n",
    "Escreva um programa que use um loop `for` para iterar sobre uma lista de palavras e imprima apenas as palavras com mais de 5 caracteres.\n",
    "\n",
    "**Exemplo de Entrada:**\n",
    "```\n",
    "Lista de palavras: [\"gato\", \"elefante\", \"cachorro\", \"pato\"]\n",
    "```\n",
    "\n",
    "**Exemplo de Saída:**\n",
    "```\n",
    "Palavras com mais de 5 caracteres: elefante, cachorro\n",
    "```\n",
    "\n",
    "---\n"
   ]
  },
  {
   "cell_type": "code",
   "execution_count": null,
   "id": "209c0750",
   "metadata": {},
   "outputs": [
    {
     "name": "stdout",
     "output_type": "stream",
     "text": [
      "Palavras com mais de 5: ['elefante', 'cachorro']\n"
     ]
    }
   ],
   "source": [
    "def lista_tamanho(lista, tamanho):\n",
    "    lista2 = []\n",
    "    for palavra in lista:\n",
    "        if  len(palavra) > tamanho:\n",
    "            lista2.append(palavra)\n",
    "    return lista2\n",
    "\n",
    "lista = [\"gato\", \"elefante\", \"cachorro\", \"pato\"]\n",
    "tamanho = 5\n",
    "\n",
    "print(f\"Palavras com mais de {tamanho} caracteres: {lista_tamanho(lista, tamanho)}\")"
   ]
  },
  {
   "cell_type": "markdown",
   "id": "1c0c41b3",
   "metadata": {},
   "source": [
    "\n",
    "### Exercício 5: Substituindo Caracteres em uma String\n",
    "\n",
    "**Descrição:**\n",
    "Escreva um programa que use um loop `while` para substituir todas as ocorrências de um caractere em uma string por outro caractere, até que o usuário decida parar.\n",
    "\n",
    "**Exemplo de Entrada:**\n",
    "```\n",
    "Digite uma string: abacaxi\n",
    "Caractere a ser substituído: a\n",
    "Novo caractere: o\n",
    "```\n",
    "\n",
    "**Exemplo de Saída:**\n",
    "```\n",
    "String resultante: obocoxi\n",
    "```\n",
    "\n",
    "**Nota:**\n",
    "O programa deve continuar pedindo substituições até que o usuário digite \"sair\"."
   ]
  },
  {
   "cell_type": "code",
   "execution_count": 79,
   "id": "0d2567a4",
   "metadata": {},
   "outputs": [
    {
     "name": "stdout",
     "output_type": "stream",
     "text": [
      "Palavra resultante: obocoxi\n"
     ]
    }
   ],
   "source": [
    "palavra = input(\"Digite uma palavra: \")\n",
    "\n",
    "while True:\n",
    "    caractere = input(\"Caractere a ser substituído (ou 'sair' para encerrar): \")\n",
    "    if caractere == \"sair\":\n",
    "        break\n",
    "    novo_caractere = input(\"Novo caractere: \")\n",
    "    palavra = palavra.replace(caractere, novo_caractere)\n",
    "    print(\"Palavra resultante:\", palavra)\n"
   ]
  }
 ],
 "metadata": {
  "kernelspec": {
   "display_name": "Python 3",
   "language": "python",
   "name": "python3"
  },
  "language_info": {
   "codemirror_mode": {
    "name": "ipython",
    "version": 3
   },
   "file_extension": ".py",
   "mimetype": "text/x-python",
   "name": "python",
   "nbconvert_exporter": "python",
   "pygments_lexer": "ipython3",
   "version": "3.13.3"
  }
 },
 "nbformat": 4,
 "nbformat_minor": 5
}
