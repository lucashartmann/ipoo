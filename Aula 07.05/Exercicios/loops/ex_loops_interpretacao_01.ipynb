{
 "cells": [
  {
   "cell_type": "markdown",
   "id": "5bf44f0f",
   "metadata": {},
   "source": [
    "### Exercício 1: Interpretação de Código - Loop `for` com `range`\n",
    "\n",
    "**Código:**\n",
    "```python\n",
    "for i in range(3):\n",
    "    print(f\"Iteração {i}\")\n",
    "```\n",
    "\n",
    "**Instruções:**\n",
    "1. Explique o que o código faz.\n",
    "2. Dê exemplos de saída.\n",
    "3. Modifique o código para que ele imprima \"Iteração 1\", \"Iteração 2\", \"Iteração 3\" (começando de 1).\n",
    "\n",
    "---\n"
   ]
  },
  {
   "cell_type": "markdown",
   "id": "a9a2fe41",
   "metadata": {},
   "source": [
    "Iteração 0\n",
    "Iteração 1\n",
    "Iteração 2"
   ]
  },
  {
   "cell_type": "code",
   "execution_count": null,
   "id": "a42aaccd",
   "metadata": {},
   "outputs": [
    {
     "name": "stdout",
     "output_type": "stream",
     "text": [
      "Iteração 0\n",
      "Iteração 1\n",
      "Iteração 2\n"
     ]
    }
   ],
   "source": [
    "for i in range(3):\n",
    "    i += 1\n",
    "    print(f\"Iteração {i}\")\n"
   ]
  },
  {
   "cell_type": "markdown",
   "id": "a6d72558",
   "metadata": {},
   "source": [
    "\n",
    "### Exercício 2: Interpretação de Código - Loop `while` com Condição\n",
    "\n",
    "**Código:**\n",
    "```python\n",
    "contador = 0\n",
    "\n",
    "while contador < 3:\n",
    "    print(f\"Contador: {contador}\")\n",
    "    contador += 1\n",
    "```\n",
    "\n",
    "**Instruções:**\n",
    "1. Explique o que o código faz.\n",
    "2. Dê exemplos de saída.\n",
    "3. Modifique o código para que ele pare quando o contador atingir 5.\n",
    "\n",
    "---\n"
   ]
  },
  {
   "cell_type": "markdown",
   "id": "692fd840",
   "metadata": {},
   "source": [
    "Contador: 0\n",
    "Contador: 1\n",
    "Contador: 2"
   ]
  },
  {
   "cell_type": "code",
   "execution_count": 7,
   "id": "1efa665f",
   "metadata": {},
   "outputs": [
    {
     "name": "stdout",
     "output_type": "stream",
     "text": [
      "Contador: 0\n",
      "Contador: 1\n",
      "Contador: 2\n",
      "Contador: 3\n",
      "Contador: 4\n",
      "Contador: 5\n"
     ]
    }
   ],
   "source": [
    "contador = 0\n",
    "\n",
    "while contador < 6:\n",
    "    print(f\"Contador: {contador}\")\n",
    "    contador += 1"
   ]
  },
  {
   "cell_type": "markdown",
   "id": "b3088731",
   "metadata": {},
   "source": [
    "\n",
    "### Exercício 3: Interpretação de Código - Loop `for` com Lista\n",
    "\n",
    "**Código:**\n",
    "```python\n",
    "nomes = [\"Ana\", \"Bruno\", \"Carlos\"]\n",
    "\n",
    "for nome in nomes:\n",
    "    print(f\"Olá, {nome}!\")\n",
    "```\n",
    "\n",
    "**Instruções:**\n",
    "1. Explique o que o código faz.\n",
    "2. Dê exemplos de saída.\n",
    "3. Modifique o código para que ele imprima \"Bem-vindo, {nome}!\" em vez de \"Olá, {nome}!\".\n",
    "\n",
    "---\n"
   ]
  },
  {
   "cell_type": "markdown",
   "id": "ce96a78a",
   "metadata": {},
   "source": [
    "Olá, Ana!\n",
    "Olá, Bruno!\n",
    "Olá, Carlos!"
   ]
  },
  {
   "cell_type": "code",
   "execution_count": null,
   "id": "f3b5643e",
   "metadata": {},
   "outputs": [
    {
     "name": "stdout",
     "output_type": "stream",
     "text": [
      "Olá, Ana!\n",
      "Olá, Bruno!\n",
      "Olá, Carlos!\n"
     ]
    }
   ],
   "source": [
    "nomes = [\"Ana\", \"Bruno\", \"Carlos\"]\n",
    "\n",
    "for nome in nomes:\n",
    "    print(f\"Bem vindo, {nome}!\")"
   ]
  },
  {
   "cell_type": "markdown",
   "id": "42ad7225",
   "metadata": {},
   "source": [
    "\n",
    "### Exercício 4: Interpretação de Código - Loop `while` com Entrada do Usuário\n",
    "\n",
    "**Código:**\n",
    "```python\n",
    "senha = \"1234\"\n",
    "entrada = \"\"\n",
    "\n",
    "while entrada != senha:\n",
    "    entrada = input(\"Digite a senha: \")\n",
    "    if entrada == senha:\n",
    "        print(\"Acesso permitido.\")\n",
    "    else:\n",
    "        print(\"Senha incorreta. Tente novamente.\")\n",
    "```\n",
    "\n",
    "**Instruções:**\n",
    "1. Explique o que o código faz.\n",
    "2. Dê exemplos de entrada e saída.\n",
    "3. Modifique o código para que ele permita apenas 3 tentativas antes de bloquear o acesso.\n",
    "\n",
    "---\n"
   ]
  },
  {
   "cell_type": "code",
   "execution_count": null,
   "id": "6da54ec3",
   "metadata": {},
   "outputs": [
    {
     "name": "stdout",
     "output_type": "stream",
     "text": [
      "Senha incorreta. Tente novamente.\n",
      "Acesso permitido.\n"
     ]
    }
   ],
   "source": [
    "senha = \"1234\"\n",
    "entrada = \"\"\n",
    "tentativas = 0\n",
    "\n",
    "while tentativas < 4:\n",
    "    entrada = input(\"Digite a senha: \")\n",
    "    if entrada == senha:\n",
    "        print(\"Acesso permitido.\")\n",
    "    else:\n",
    "        tentativas += 1\n",
    "        print(\"Senha incorreta. Tente novamente.\")"
   ]
  },
  {
   "cell_type": "markdown",
   "id": "36eaf64e",
   "metadata": {},
   "source": [
    "\n",
    "### Exercício 5: Interpretação de Código - Loop `for` com Condicional\n",
    "\n",
    "**Código:**\n",
    "```python\n",
    "for i in range(1, 6):\n",
    "    if i % 2 == 0:\n",
    "        print(f\"{i} é par.\")\n",
    "    else:\n",
    "        print(f\"{i} é ímpar.\")\n",
    "```\n",
    "\n",
    "**Instruções:**\n",
    "1. Explique o que o código faz.\n",
    "2. Dê exemplos de saída.\n",
    "3. Modifique o código para que ele imprima apenas os números pares."
   ]
  },
  {
   "cell_type": "markdown",
   "id": "9c4f09a9",
   "metadata": {},
   "source": [
    "1 é ímpar.\n",
    "2 é par.\n",
    "3 é ímpar.\n",
    "4 é par.\n",
    "5 é ímpar."
   ]
  },
  {
   "cell_type": "code",
   "execution_count": 4,
   "id": "460ef30a",
   "metadata": {},
   "outputs": [
    {
     "name": "stdout",
     "output_type": "stream",
     "text": [
      "2 é par.\n",
      "4 é par.\n"
     ]
    }
   ],
   "source": [
    "for i in range(1, 6):\n",
    "    if i % 2 == 0:\n",
    "        print(f\"{i} é par.\")"
   ]
  }
 ],
 "metadata": {
  "kernelspec": {
   "display_name": "Python 3",
   "language": "python",
   "name": "python3"
  },
  "language_info": {
   "codemirror_mode": {
    "name": "ipython",
    "version": 3
   },
   "file_extension": ".py",
   "mimetype": "text/x-python",
   "name": "python",
   "nbconvert_exporter": "python",
   "pygments_lexer": "ipython3",
   "version": "3.13.3"
  }
 },
 "nbformat": 4,
 "nbformat_minor": 5
}
