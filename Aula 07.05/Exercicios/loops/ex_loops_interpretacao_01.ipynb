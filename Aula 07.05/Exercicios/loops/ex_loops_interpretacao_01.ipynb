{
 "cells": [
  {
   "cell_type": "markdown",
   "id": "5bf44f0f",
   "metadata": {},
   "source": [
    "### Exercício 1: Interpretação de Código - Loop `for` com `range`\n",
    "\n",
    "**Código:**\n",
    "```python\n",
    "for i in range(3):\n",
    "    print(f\"Iteração {i}\")\n",
    "```\n",
    "\n",
    "**Instruções:**\n",
    "1. Explique o que o código faz.\n",
    "2. Dê exemplos de saída.\n",
    "3. Modifique o código para que ele imprima \"Iteração 1\", \"Iteração 2\", \"Iteração 3\" (começando de 1).\n",
    "\n",
    "---\n"
   ]
  },
  {
   "cell_type": "markdown",
   "id": "a6d72558",
   "metadata": {},
   "source": [
    "\n",
    "### Exercício 2: Interpretação de Código - Loop `while` com Condição\n",
    "\n",
    "**Código:**\n",
    "```python\n",
    "contador = 0\n",
    "\n",
    "while contador < 3:\n",
    "    print(f\"Contador: {contador}\")\n",
    "    contador += 1\n",
    "```\n",
    "\n",
    "**Instruções:**\n",
    "1. Explique o que o código faz.\n",
    "2. Dê exemplos de saída.\n",
    "3. Modifique o código para que ele pare quando o contador atingir 5.\n",
    "\n",
    "---\n"
   ]
  },
  {
   "cell_type": "markdown",
   "id": "b3088731",
   "metadata": {},
   "source": [
    "\n",
    "### Exercício 3: Interpretação de Código - Loop `for` com Lista\n",
    "\n",
    "**Código:**\n",
    "```python\n",
    "nomes = [\"Ana\", \"Bruno\", \"Carlos\"]\n",
    "\n",
    "for nome in nomes:\n",
    "    print(f\"Olá, {nome}!\")\n",
    "```\n",
    "\n",
    "**Instruções:**\n",
    "1. Explique o que o código faz.\n",
    "2. Dê exemplos de saída.\n",
    "3. Modifique o código para que ele imprima \"Bem-vindo, {nome}!\" em vez de \"Olá, {nome}!\".\n",
    "\n",
    "---\n"
   ]
  },
  {
   "cell_type": "markdown",
   "id": "42ad7225",
   "metadata": {},
   "source": [
    "\n",
    "### Exercício 4: Interpretação de Código - Loop `while` com Entrada do Usuário\n",
    "\n",
    "**Código:**\n",
    "```python\n",
    "senha = \"1234\"\n",
    "entrada = \"\"\n",
    "\n",
    "while entrada != senha:\n",
    "    entrada = input(\"Digite a senha: \")\n",
    "    if entrada == senha:\n",
    "        print(\"Acesso permitido.\")\n",
    "    else:\n",
    "        print(\"Senha incorreta. Tente novamente.\")\n",
    "```\n",
    "\n",
    "**Instruções:**\n",
    "1. Explique o que o código faz.\n",
    "2. Dê exemplos de entrada e saída.\n",
    "3. Modifique o código para que ele permita apenas 3 tentativas antes de bloquear o acesso.\n",
    "\n",
    "---\n"
   ]
  },
  {
   "cell_type": "markdown",
   "id": "36eaf64e",
   "metadata": {},
   "source": [
    "\n",
    "### Exercício 5: Interpretação de Código - Loop `for` com Condicional\n",
    "\n",
    "**Código:**\n",
    "```python\n",
    "for i in range(1, 6):\n",
    "    if i % 2 == 0:\n",
    "        print(f\"{i} é par.\")\n",
    "    else:\n",
    "        print(f\"{i} é ímpar.\")\n",
    "```\n",
    "\n",
    "**Instruções:**\n",
    "1. Explique o que o código faz.\n",
    "2. Dê exemplos de saída.\n",
    "3. Modifique o código para que ele imprima apenas os números pares."
   ]
  }
 ],
 "metadata": {
  "language_info": {
   "name": "python"
  }
 },
 "nbformat": 4,
 "nbformat_minor": 5
}
