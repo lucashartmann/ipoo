{
 "cells": [
  {
   "cell_type": "code",
   "execution_count": 1,
   "metadata": {},
   "outputs": [
    {
     "data": {
      "text/plain": [
       "False"
      ]
     },
     "execution_count": 1,
     "metadata": {},
     "output_type": "execute_result"
    }
   ],
   "source": [
    "\"Python\".isupper()"
   ]
  },
  {
   "cell_type": "code",
   "execution_count": 2,
   "metadata": {},
   "outputs": [
    {
     "data": {
      "text/plain": [
       "True"
      ]
     },
     "execution_count": 2,
     "metadata": {},
     "output_type": "execute_result"
    }
   ],
   "source": [
    "\"PYTHON\".isupper()"
   ]
  },
  {
   "cell_type": "code",
   "execution_count": 22,
   "metadata": {},
   "outputs": [],
   "source": [
    "p = \"PYTHON\""
   ]
  },
  {
   "cell_type": "code",
   "execution_count": 25,
   "metadata": {},
   "outputs": [
    {
     "name": "stdout",
     "output_type": "stream",
     "text": [
      "Palavra em maiúsculas\n"
     ]
    }
   ],
   "source": [
    "p    = input(\"Palavra:\")\n",
    "if p == p.upper():\n",
    "    print(\"Palavra em maiúsculas\")\n",
    "else:\n",
    "    print(\"Palavra não está em maiúsculas\")\n"
   ]
  },
  {
   "cell_type": "code",
   "execution_count": 5,
   "metadata": {},
   "outputs": [
    {
     "data": {
      "text/plain": [
       "'Python'"
      ]
     },
     "execution_count": 5,
     "metadata": {},
     "output_type": "execute_result"
    }
   ],
   "source": [
    "p"
   ]
  },
  {
   "cell_type": "code",
   "execution_count": 9,
   "metadata": {},
   "outputs": [
    {
     "data": {
      "text/plain": [
       "True"
      ]
     },
     "execution_count": 9,
     "metadata": {},
     "output_type": "execute_result"
    }
   ],
   "source": [
    "'Abelha' == 'Abelha'"
   ]
  },
  {
   "cell_type": "code",
   "execution_count": 15,
   "metadata": {},
   "outputs": [
    {
     "data": {
      "text/plain": [
       "'ABELHA'"
      ]
     },
     "execution_count": 15,
     "metadata": {},
     "output_type": "execute_result"
    }
   ],
   "source": [
    "p = \"AbeLHA\"\n"
   ]
  },
  {
   "cell_type": "markdown",
   "metadata": {},
   "source": [
    "### Substring"
   ]
  },
  {
   "cell_type": "code",
   "execution_count": 33,
   "metadata": {},
   "outputs": [
    {
     "data": {
      "text/plain": [
       "-1"
      ]
     },
     "execution_count": 33,
     "metadata": {},
     "output_type": "execute_result"
    }
   ],
   "source": [
    "\"Abelha\".find('xe')"
   ]
  },
  {
   "cell_type": "code",
   "execution_count": 39,
   "metadata": {},
   "outputs": [
    {
     "name": "stdout",
     "output_type": "stream",
     "text": [
      "Não é substring\n"
     ]
    }
   ],
   "source": [
    "palavra = \"abelha\"\n",
    "parte_palavra = \"xe\"\n",
    "\n",
    "if palavra.find(parte_palavra) >=0 :\n",
    "    print(\"É substring\")\n",
    "else:\n",
    "    print(\"Não é substring\")"
   ]
  },
  {
   "cell_type": "code",
   "execution_count": 41,
   "metadata": {},
   "outputs": [
    {
     "name": "stdout",
     "output_type": "stream",
     "text": [
      "É substring\n"
     ]
    }
   ],
   "source": [
    "palavra = \"abelha\"\n",
    "parte_palavra = \"be\"\n",
    "\n",
    "if parte_palavra in palavra :\n",
    "    print(\"É substring\")\n",
    "else:\n",
    "    print(\"Não é substring\")"
   ]
  },
  {
   "cell_type": "code",
   "execution_count": 47,
   "metadata": {},
   "outputs": [
    {
     "name": "stdout",
     "output_type": "stream",
     "text": [
      "Não é substring\n"
     ]
    }
   ],
   "source": [
    "palavra = \"abelha\"\n",
    "parte_palavra = \"xe\"\n",
    "\n",
    "if palavra.count(parte_palavra):\n",
    "    print(\"É substring\")\n",
    "else:\n",
    "    print(\"Não é substring\")"
   ]
  },
  {
   "cell_type": "code",
   "execution_count": null,
   "metadata": {},
   "outputs": [],
   "source": [
    "palavra = \"abelha\"\n",
    "parte_palavra = \"xe\"\n",
    "\n",
    "if palavra.count(parte_palavra):\n",
    "    print(\"É substring\")\n",
    "else:\n",
    "    print(\"Não é substring\")"
   ]
  },
  {
   "cell_type": "markdown",
   "metadata": {},
   "source": [
    "### IMC"
   ]
  },
  {
   "cell_type": "code",
   "execution_count": null,
   "metadata": {},
   "outputs": [],
   "source": [
    "peso = float(input(\"Peso: \"))\n",
    "altura = float(input(\"Altura: \"))\n",
    "\n",
    "imc = peso / (altura ** 2)\n",
    "\n",
    "if imc <= 18.4:\n",
    "    print(\"abaixo do normal\")\n",
    "elif imc <= 24.9:\n",
    "    print(\"normal\")\n",
    "else:\n",
    "    print(\"acima do normal\")\n"
   ]
  },
  {
   "cell_type": "code",
   "execution_count": 58,
   "metadata": {},
   "outputs": [],
   "source": [
    "palavra = 'clamor'\n",
    "palavra_ordenada = \"\".join(sorted(palavra))\n"
   ]
  },
  {
   "cell_type": "code",
   "execution_count": 59,
   "metadata": {},
   "outputs": [
    {
     "data": {
      "text/plain": [
       "False"
      ]
     },
     "execution_count": 59,
     "metadata": {},
     "output_type": "execute_result"
    }
   ],
   "source": []
  },
  {
   "cell_type": "code",
   "execution_count": 62,
   "metadata": {},
   "outputs": [
    {
     "data": {
      "text/plain": [
       "False"
      ]
     },
     "execution_count": 62,
     "metadata": {},
     "output_type": "execute_result"
    }
   ],
   "source": [
    "palavra = input(\"Palavra: \")\n",
    "\n",
    "if palavra == \"\".join(sorted(palavra)):\n",
    "    print(\"Está em ordem alfabética\")\n",
    "else:\n",
    "    print(\"Não está em ordem alfabética\")\n"
   ]
  }
 ],
 "metadata": {
  "kernelspec": {
   "display_name": "Python 3",
   "language": "python",
   "name": "python3"
  },
  "language_info": {
   "codemirror_mode": {
    "name": "ipython",
    "version": 3
   },
   "file_extension": ".py",
   "mimetype": "text/x-python",
   "name": "python",
   "nbconvert_exporter": "python",
   "pygments_lexer": "ipython3",
   "version": "3.12.6"
  }
 },
 "nbformat": 4,
 "nbformat_minor": 2
}
