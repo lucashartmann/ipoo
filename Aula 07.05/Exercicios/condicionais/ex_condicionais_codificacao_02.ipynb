{
 "cells": [
  {
   "cell_type": "markdown",
   "id": "a2a97f0f",
   "metadata": {},
   "source": [
    "### Exercício 1: Verificação de Palavra com Todas as Letras Maiúsculas\n",
    "\n",
    "**Instruções:**\n",
    "Escreva um programa que receba uma palavra e verifique se todas as letras estão em maiúsculas. Imprima \"A palavra está em maiúsculas.\" ou \"A palavra não está em maiúsculas.\"\n",
    "\n",
    "**Exemplo de Entrada e Saída:**\n",
    "- Entrada: \"PYTHON\"\n",
    "- Saída: \"A palavra está em maiúsculas.\"\n",
    "- Entrada: \"Python\"\n",
    "- Saída: \"A palavra não está em maiúsculas.\"\n"
   ]
  },
  {
   "cell_type": "code",
   "execution_count": 2,
   "id": "95849485",
   "metadata": {},
   "outputs": [
    {
     "name": "stdout",
     "output_type": "stream",
     "text": [
      "A palavra está em maiúsculas.\n"
     ]
    }
   ],
   "source": [
    "palavra = input(\"Digite uma palavra: \")\n",
    "if palavra == palavra.upper():\n",
    "    print(\"A palavra está em maiúsculas.\")\n",
    "else:\n",
    "    print(\"A palavra não está em maiúsculas.\")"
   ]
  },
  {
   "cell_type": "markdown",
   "id": "d0e63435",
   "metadata": {},
   "source": [
    "\n",
    "### Exercício 2: Verificação de Substring\n",
    "\n",
    "**Instruções:**\n",
    "Escreva um programa que receba duas strings e verifique se a segunda string é uma substring da primeira.\n",
    "\n",
    "**Exemplo de Entrada e Saída:**\n",
    "- Entrada: \"programação\", \"grama\"\n",
    "- Saída: \"A segunda string é uma substring da primeira.\"\n",
    "- Entrada: \"python\", \"java\"\n",
    "- Saída: \"A segunda string não é uma substring da primeira.\"\n"
   ]
  },
  {
   "cell_type": "code",
   "execution_count": null,
   "id": "a11b90c5",
   "metadata": {},
   "outputs": [
    {
     "name": "stdout",
     "output_type": "stream",
     "text": [
      "A segunda string é uma substring da primeira.\n"
     ]
    }
   ],
   "source": [
    "palavra1 = input(\"Digite a primeira palavra: \")\n",
    "palavra2 = input(\"Digite a segunda palavra: \")\n",
    "if palavra2 in palavra1:\n",
    "    print(\"A segunda string é uma substring da primeira.\")\n",
    "else: \n",
    "    print(\"A segunda string não é uma substring da primeira.\")"
   ]
  },
  {
   "cell_type": "code",
   "execution_count": 33,
   "id": "41555ea3",
   "metadata": {},
   "outputs": [
    {
     "data": {
      "text/plain": [
       "0"
      ]
     },
     "execution_count": 33,
     "metadata": {},
     "output_type": "execute_result"
    }
   ],
   "source": [
    "palavra1 = \"chocolate\"\n",
    "palavra2 = \"choco\"\n",
    "palavra1.find(palavra2)"
   ]
  },
  {
   "cell_type": "code",
   "execution_count": null,
   "id": "39413e60",
   "metadata": {},
   "outputs": [
    {
     "name": "stdout",
     "output_type": "stream",
     "text": [
      "A segunda string não é uma substring da primeira.\n"
     ]
    }
   ],
   "source": [
    "palavra1 = input(\"Digite a primeira palavra: \")\n",
    "palavra2 = input(\"Digite a segunda palavra: \")\n",
    "if palavra1.find(palavra2) >= 0:\n",
    "    print(\"A segunda string é uma substring da primeira.\")\n",
    "else: \n",
    "    print(\"A segunda string não é uma substring da primeira.\")"
   ]
  },
  {
   "cell_type": "code",
   "execution_count": 36,
   "id": "5a926e51",
   "metadata": {},
   "outputs": [
    {
     "data": {
      "text/plain": [
       "10"
      ]
     },
     "execution_count": 36,
     "metadata": {},
     "output_type": "execute_result"
    }
   ],
   "source": [
    "palavra1 = \"chocolate-choco\"\n",
    "palavra2 = \"choco\"\n",
    "palavra1.rfind(palavra2)"
   ]
  },
  {
   "cell_type": "code",
   "execution_count": 39,
   "id": "3e2a9d59",
   "metadata": {},
   "outputs": [
    {
     "data": {
      "text/plain": [
       "0"
      ]
     },
     "execution_count": 39,
     "metadata": {},
     "output_type": "execute_result"
    }
   ],
   "source": [
    "palavra1 = \"chocolate-choco\"\n",
    "palavra2 = \"choco\"\n",
    "palavra1.index(palavra2)"
   ]
  },
  {
   "cell_type": "code",
   "execution_count": null,
   "id": "6c5a0735",
   "metadata": {},
   "outputs": [
    {
     "name": "stdout",
     "output_type": "stream",
     "text": [
      "Não é uma substring\n"
     ]
    }
   ],
   "source": [
    "palavra1 = input(\"Digite a primeira palavra: \")\n",
    "palavra2 = input(\"Digite a segunda palavra: \")\n",
    "try:\n",
    "    palavra1.index(palavra2) \n",
    "    print(\"A segunda string é uma substring da primeira.\")        \n",
    "except ValueError:\n",
    "    print(\"A segunda string não é uma substring da primeira.\")"
   ]
  },
  {
   "cell_type": "markdown",
   "id": "abbc38fe",
   "metadata": {},
   "source": [
    "\n",
    "### Exercício 3: Verificação de Categoria de IMC\n",
    "\n",
    "**Instruções:**\n",
    "Escreva um programa que receba o peso e a altura de uma pessoa, calcule o IMC (Índice de Massa Corporal) e determine a categoria (baixo peso, peso normal, sobrepeso, obesidade).\n",
    "\n",
    "**Exemplo de Entrada e Saída:**\n",
    "- Entrada: peso = 70, altura = 1.75\n",
    "- Saída: \"Peso normal.\"\n"
   ]
  },
  {
   "cell_type": "code",
   "execution_count": null,
   "id": "20a31e30",
   "metadata": {},
   "outputs": [
    {
     "name": "stdout",
     "output_type": "stream",
     "text": [
      "peso normal\n"
     ]
    }
   ],
   "source": [
    "peso = float(input(\"Digite seu peso: \"))\n",
    "altura = float(input(\"Digite sua altura: \"))\n",
    "imc = peso / (altura * altura)\n",
    "match imc:\n",
    "    case imc if imc < 18.5:\n",
    "        print(\"Baixo peso\")\n",
    "    case imc if imc < 24.9:\n",
    "        print(\"Peso normal\")\n",
    "    case imc if imc < 29.9:\n",
    "        print(\"Sobrepeso\")\n",
    "    case _:\n",
    "        print(\"Obesidade\")"
   ]
  },
  {
   "cell_type": "markdown",
   "id": "ef77548e",
   "metadata": {},
   "source": [
    "\n",
    "### Exercício 4: Verificação de Ordem Alfabética\n",
    "\n",
    "**Instruções:**\n",
    "Escreva um programa que receba uma palavra e verifique se as letras estão em ordem alfabética.\n",
    "\n",
    "**Exemplo de Entrada e Saída:**\n",
    "- Entrada: \"amor\"\n",
    "- Saída: \"As letras estão em ordem alfabética.\"\n",
    "- Entrada: \"python\"\n",
    "- Saída: \"As letras não estão em ordem alfabética.\"\n"
   ]
  },
  {
   "cell_type": "code",
   "execution_count": 44,
   "id": "ecdb9b27",
   "metadata": {},
   "outputs": [
    {
     "name": "stdout",
     "output_type": "stream",
     "text": [
      "As letras não estão em ordem alfabética\n"
     ]
    }
   ],
   "source": [
    "palavra = input(\"Digite uma palavra: \")\n",
    "\n",
    "lista_ordenada = sorted(palavra)\n",
    "palavra_ordenada = ''.join(lista_ordenada)\n",
    "\n",
    "if palavra == palavra_ordenada:\n",
    "     print(\"As letras estão em ordem alfabética\")\n",
    "else:\n",
    "     print(\"As letras não estão em ordem alfabética\")"
   ]
  },
  {
   "cell_type": "markdown",
   "id": "ed53257a",
   "metadata": {},
   "source": [
    "\n",
    "### Exercício 5: Verificação de Classificação de Idade\n",
    "\n",
    "**Instruções:**\n",
    "Escreva um programa que receba a idade de uma pessoa e classifique-a em uma das seguintes categorias: criança, adolescente, adulto, idoso.\n",
    "\n",
    "**Exemplo de Entrada e Saída:**\n",
    "- Entrada: 10\n",
    "- Saída: \"Criança.\"\n",
    "- Entrada: 30\n",
    "- Saída: \"Adulto.\""
   ]
  },
  {
   "cell_type": "code",
   "execution_count": 23,
   "id": "605a6c15",
   "metadata": {},
   "outputs": [
    {
     "name": "stdout",
     "output_type": "stream",
     "text": [
      "Adulto\n"
     ]
    }
   ],
   "source": [
    "idade = int(input(\"Digite sua idade: \"))\n",
    "match idade:\n",
    "    case idade if idade < 12:\n",
    "        print(\"Criança\")\n",
    "    case idade if idade < 20:\n",
    "        print(\"Adolescente\")\n",
    "    case idade if idade < 60:\n",
    "        print(\"Adulto\")\n",
    "    case _:\n",
    "        print(\"Idoso\")"
   ]
  }
 ],
 "metadata": {
  "kernelspec": {
   "display_name": "Python 3",
   "language": "python",
   "name": "python3"
  },
  "language_info": {
   "codemirror_mode": {
    "name": "ipython",
    "version": 3
   },
   "file_extension": ".py",
   "mimetype": "text/x-python",
   "name": "python",
   "nbconvert_exporter": "python",
   "pygments_lexer": "ipython3",
   "version": "3.13.3"
  }
 },
 "nbformat": 4,
 "nbformat_minor": 5
}
