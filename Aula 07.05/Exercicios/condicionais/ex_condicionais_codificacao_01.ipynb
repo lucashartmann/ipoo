{
 "cells": [
  {
   "cell_type": "markdown",
   "id": "6eddbec3",
   "metadata": {},
   "source": [
    "\n",
    "### Exercício 1: Verificação de Idade\n",
    "\n",
    "**Instruções:**\n",
    "Escreva um programa que receba a idade de uma pessoa e imprima se ela é maior de idade (18 anos ou mais) ou menor de idade.\n",
    "\n",
    "**Exemplo de Entrada e Saída:**\n",
    "- Entrada: 20\n",
    "- Saída: \"Você é maior de idade.\"\n",
    "- Entrada: 15\n",
    "- Saída: \"Você é menor de idade.\"\n"
   ]
  },
  {
   "cell_type": "code",
   "execution_count": 2,
   "id": "a7625b3a",
   "metadata": {},
   "outputs": [
    {
     "name": "stdout",
     "output_type": "stream",
     "text": [
      "Você é maior de idade.\n"
     ]
    }
   ],
   "source": [
    "idade = int(input(\"Digite sua idade: \"))\n",
    "if idade >= 18:\n",
    "    print(\"Você é maior de idade.\")\n",
    "else:\n",
    "    print(\"Você é menor de idade.\")"
   ]
  },
  {
   "cell_type": "markdown",
   "id": "e3e1741e",
   "metadata": {},
   "source": [
    "\n",
    "### Exercício 2: Verificação de Par ou Ímpar\n",
    "\n",
    "**Instruções:**\n",
    "Escreva um programa que receba um número inteiro e imprima se ele é par ou ímpar.\n",
    "\n",
    "**Exemplo de Entrada e Saída:**\n",
    "- Entrada: 4\n",
    "- Saída: \"O número é par.\"\n",
    "- Entrada: 7\n",
    "- Saída: \"O número é ímpar.\"\n"
   ]
  },
  {
   "cell_type": "code",
   "execution_count": null,
   "id": "a7761326",
   "metadata": {},
   "outputs": [
    {
     "name": "stdout",
     "output_type": "stream",
     "text": [
      "O número é impar.\n"
     ]
    }
   ],
   "source": [
    "numero = int(input(\"Digite um número: \"))\n",
    "if numero % 2 == 0:\n",
    "    print(\"O número é par.\")\n",
    "else:\n",
    "    print(\"O número é impar.\")"
   ]
  },
  {
   "cell_type": "markdown",
   "id": "924b40b4",
   "metadata": {},
   "source": [
    "\n",
    "### Exercício 3: Verificação de Aprovação\n",
    "\n",
    "**Instruções:**\n",
    "Escreva um programa que receba a nota de um aluno e imprima se ele foi aprovado (nota 7 ou mais) ou reprovado (nota menor que 7).\n",
    "\n",
    "**Exemplo de Entrada e Saída:**\n",
    "- Entrada: 8\n",
    "- Saída: \"Você foi aprovado.\"\n",
    "- Entrada: 6\n",
    "- Saída: \"Você foi reprovado.\"\n"
   ]
  },
  {
   "cell_type": "code",
   "execution_count": 9,
   "id": "5221e638",
   "metadata": {},
   "outputs": [
    {
     "name": "stdout",
     "output_type": "stream",
     "text": [
      "Você foi reprovado.\n"
     ]
    }
   ],
   "source": [
    "nota = float(input(\"Digite a nota do aluno: \"))\n",
    "if nota >= 7:\n",
    "    print(\"Você foi aprovado.\")\n",
    "else:\n",
    "    print(\"Você foi reprovado.\")"
   ]
  },
  {
   "cell_type": "markdown",
   "id": "33342b30",
   "metadata": {},
   "source": [
    "\n",
    "### Exercício 4: Verificação de Palíndromo\n",
    "\n",
    "**Instruções:**\n",
    "Escreva um programa que receba uma string e verifique se ela é um palíndromo (lê-se da mesma forma de trás para frente). Imprima \"A string é um palíndromo.\" ou \"A string não é um palíndromo.\"\n",
    "\n",
    "**Exemplo de Entrada e Saída:**\n",
    "- Entrada: \"radar\"\n",
    "- Saída: \"A string é um palíndromo.\"\n",
    "- Entrada: \"python\"\n",
    "- Saída: \"A string não é um palíndromo.\"\n"
   ]
  },
  {
   "cell_type": "code",
   "execution_count": 11,
   "id": "b044ff66",
   "metadata": {},
   "outputs": [
    {
     "name": "stdout",
     "output_type": "stream",
     "text": [
      "A string é um palíndromo.\n"
     ]
    }
   ],
   "source": [
    "palavra = input(\"Digite uma palavra: \")\n",
    "palavra_reversed = palavra[::-1]\n",
    "if palavra == palavra_reversed:\n",
    "    print(\"A string é um palíndromo.\")\n",
    "else:\n",
    "    print(\"A string não é um palíndromo.\")"
   ]
  },
  {
   "cell_type": "markdown",
   "id": "8b52182b",
   "metadata": {},
   "source": [
    "\n",
    "### Exercício 5: Verificação de Vogal ou Consoante\n",
    "\n",
    "**Instruções:**\n",
    "Escreva um programa que receba um caractere e verifique se ele é uma vogal ou uma consoante. Imprima \"O caractere é uma vogal.\" ou \"O caractere é uma consoante.\"\n",
    "\n",
    "**Exemplo de Entrada e Saída:**\n",
    "- Entrada: \"a\"\n",
    "- Saída: \"O caractere é uma vogal.\"\n",
    "- Entrada: \"b\"\n",
    "- Saída: \"O caractere é uma consoante.\"\n"
   ]
  },
  {
   "cell_type": "code",
   "execution_count": null,
   "id": "36b2a368",
   "metadata": {},
   "outputs": [
    {
     "name": "stdout",
     "output_type": "stream",
     "text": [
      "A\n",
      "Invalido\n"
     ]
    }
   ],
   "source": [
    "vogal = [\"A\", \"E\", \"I\", \"O\", \"U\"]\n",
    "letra = input(\"Digite uma letra: \").upper()\n",
    "if letra.isalpha() and len(letra) == 1:\n",
    "    if letra in vogal:\n",
    "        print(\"O caractere é uma vogal.\")\n",
    "    else: \n",
    "        print(\"O caractere é uma consoante.\")\n",
    "else:\n",
    "    print(\"Invalido\")"
   ]
  },
  {
   "cell_type": "markdown",
   "id": "7726030a",
   "metadata": {},
   "source": [
    "\n",
    "### Exercício 6: Verificação de Senha\n",
    "\n",
    "**Instruções:**\n",
    "Escreva um programa que receba uma senha e verifique se ela é válida. A senha é considerada válida se tiver pelo menos 8 caracteres. Imprima \"Senha válida.\" ou \"Senha inválida.\"\n",
    "\n",
    "**Exemplo de Entrada e Saída:**\n",
    "- Entrada: \"senha123\"\n",
    "- Saída: \"Senha válida.\"\n",
    "- Entrada: \"senha\"\n",
    "- Saída: \"Senha inválida.\"\n"
   ]
  },
  {
   "cell_type": "code",
   "execution_count": null,
   "id": "6e97fe71",
   "metadata": {},
   "outputs": [],
   "source": [
    "senha = input(\"Digite uma senha: \")\n",
    "if len(senha) >= 8:\n",
    "    print(\"Senha válida.\")\n",
    "else:\n",
    "    print(\"Senha inválida.\")"
   ]
  }
 ],
 "metadata": {
  "kernelspec": {
   "display_name": "Python 3",
   "language": "python",
   "name": "python3"
  },
  "language_info": {
   "codemirror_mode": {
    "name": "ipython",
    "version": 3
   },
   "file_extension": ".py",
   "mimetype": "text/x-python",
   "name": "python",
   "nbconvert_exporter": "python",
   "pygments_lexer": "ipython3",
   "version": "3.13.3"
  }
 },
 "nbformat": 4,
 "nbformat_minor": 5
}
