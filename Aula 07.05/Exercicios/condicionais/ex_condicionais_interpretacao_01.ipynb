{
 "cells": [
  {
   "cell_type": "markdown",
   "id": "629c0272",
   "metadata": {},
   "source": [
    "### Exercício 1: Interpretação de Código - Verificação de Número Positivo ou Negativo\n",
    "\n",
    "**Código:**\n",
    "```python\n",
    "numero = int(input(\"Digite um número: \"))\n",
    "\n",
    "if numero >= 0:\n",
    "    print(\"O número é positivo.\")\n",
    "else:\n",
    "    print(\"O número é negativo.\")\n",
    "```\n",
    "\n",
    "**Instruções:**\n",
    "1. Explique o que o código faz.\n",
    "2. Dê exemplos de entrada e saída.\n",
    "3. Modifique o código para que ele também verifique se o número é zero e imprima \"O número é zero.\"\n"
   ]
  },
  {
   "cell_type": "code",
   "execution_count": 5,
   "id": "25f45eaa",
   "metadata": {},
   "outputs": [
    {
     "name": "stdout",
     "output_type": "stream",
     "text": [
      "O numero é zero\n"
     ]
    }
   ],
   "source": [
    "numero = int(input(\"Digite um número: \"))\n",
    "\n",
    "if numero > 0:\n",
    "    print(\"O número é positivo.\")\n",
    "elif numero == 0:\n",
    "    print(\"O numero é zero\")\n",
    "else:\n",
    "    print(\"O número é negativo.\")"
   ]
  },
  {
   "cell_type": "markdown",
   "id": "811ae57f",
   "metadata": {},
   "source": [
    "\n",
    "### Exercício 2: Interpretação de Código - Verificação de Dia da Semana\n",
    "\n",
    "**Código:**\n",
    "```python\n",
    "dia = input(\"Digite o nome do dia da semana: \")\n",
    "\n",
    "if dia == \"sábado\" or dia == \"domingo\":\n",
    "    print(\"É fim de semana.\")\n",
    "else:\n",
    "    print(\"É dia de semana.\")\n",
    "```\n",
    "\n",
    "**Instruções:**\n",
    "1. Explique o que o código faz.\n",
    "2. Dê exemplos de entrada e saída.\n",
    "3. Modifique o código para que ele também verifique se o dia é \"segunda-feira\" e imprima \"É segunda-feira, começo de semana!\"\n"
   ]
  },
  {
   "cell_type": "code",
   "execution_count": 6,
   "id": "a724d227",
   "metadata": {},
   "outputs": [
    {
     "name": "stdout",
     "output_type": "stream",
     "text": [
      "É segunda\n"
     ]
    }
   ],
   "source": [
    "dia = input(\"Digite o nome do dia da semana: \")\n",
    "\n",
    "if dia == \"sábado\" or dia == \"domingo\":\n",
    "    print(\"É fim de semana.\")\n",
    "elif dia == \"segunda-feira\":\n",
    "    print(\"É segunda\")\n",
    "else:\n",
    "    print(\"É dia de semana.\")"
   ]
  },
  {
   "cell_type": "markdown",
   "id": "43f8caca",
   "metadata": {},
   "source": [
    "\n",
    "### Exercício 3: Interpretação de Código - Verificação de Nota\n",
    "\n",
    "**Código:**\n",
    "```python\n",
    "nota = float(input(\"Digite a nota do aluno: \"))\n",
    "\n",
    "if nota >= 7:\n",
    "    print(\"Aprovado.\")\n",
    "else:\n",
    "    print(\"Reprovado.\")\n",
    "```\n",
    "\n",
    "**Instruções:**\n",
    "1. Explique o que o código faz.\n",
    "2. Dê exemplos de entrada e saída.\n",
    "3. Modifique o código para que ele também verifique se a nota é menor que 4 e imprima \"Reprovado por falta de frequência.\"\n"
   ]
  },
  {
   "cell_type": "code",
   "execution_count": 9,
   "id": "00ef5faf",
   "metadata": {},
   "outputs": [
    {
     "name": "stdout",
     "output_type": "stream",
     "text": [
      "Reprovado.\n"
     ]
    }
   ],
   "source": [
    "nota = float(input(\"Digite a nota do aluno: \"))\n",
    "\n",
    "if nota >= 7:\n",
    "    print(\"Aprovado.\")\n",
    "elif nota < 4:\n",
    "    print(\"Frequencia\")\n",
    "else:\n",
    "    print(\"Reprovado.\")"
   ]
  }
 ],
 "metadata": {
  "kernelspec": {
   "display_name": "Python 3",
   "language": "python",
   "name": "python3"
  },
  "language_info": {
   "codemirror_mode": {
    "name": "ipython",
    "version": 3
   },
   "file_extension": ".py",
   "mimetype": "text/x-python",
   "name": "python",
   "nbconvert_exporter": "python",
   "pygments_lexer": "ipython3",
   "version": "3.13.3"
  }
 },
 "nbformat": 4,
 "nbformat_minor": 5
}
