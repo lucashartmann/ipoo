{
 "cells": [
  {
   "cell_type": "markdown",
   "id": "9b1b617f",
   "metadata": {},
   "source": [
    "Problema 1\n",
    "----------\n",
    "\n",
    "usando:\n",
    "\n",
    "- números\n",
    "- strings\n",
    "- variáveis\n",
    "- operadores\n",
    "- função print()\n",
    "\n",
    "Escreva um programa em python que imprime uma lista de compras em 2 colunas.\n",
    "Na primeira coluna devem estar os nomes dos itens\n",
    "Na segunda coluna devem estar os valores dos itens\n",
    "\n",
    "Os nome de cada item deve estar armazenado em uma variável.\n",
    "Os valor correspondente de cada item deve estar armazenado em uma variável\n",
    "\n",
    "A lista deve conter 4 itens e seus respectivos valores\n",
    "\n",
    "Exemplo de saída dada por esse programa:\n",
    "\n",
    "```\n",
    "Maçã 5.6\n",
    "Manteiga 12.2\n",
    "Leite 5.1\n",
    "Pão 4.3\n",
    "```\n",
    "\n",
    "Você pode formatar a saída de outras formas também. Exemplo:\n",
    "```\n",
    "- Maçã = 5.6\n",
    "- Manteiga = 12.2\n",
    "- Leite = 5.1\n",
    "- Pão = 4.3\n",
    "```\n",
    "\n",
    "Ou...\n",
    "\n",
    "```\n",
    "Maçã = (R$5.6)\n",
    "Manteiga = (R$12.2)\n",
    "Leite = (R$5.1)\n",
    "Pão = (R$4.3)\n",
    "```\n",
    "\n",
    "Você escolhe como fazer.\n",
    "\n",
    "## Extra\n",
    "Acrescente ao final da listagem uma linha com o total do valor dos produtos. Por exemplo:\n",
    "\n",
    "```\n",
    "Total = 23.3\n",
    "```\n"
   ]
  },
  {
   "cell_type": "code",
   "execution_count": null,
   "id": "95d58efa",
   "metadata": {},
   "outputs": [
    {
     "name": "stdout",
     "output_type": "stream",
     "text": [
      "Produto: Maca, Preço: 1.2\n",
      "Produto: Laranja, Preço: 4.3\n",
      "Total: 5.5\n"
     ]
    }
   ],
   "source": [
    "class Produto:\n",
    "    def __init__(self, nome, preco):\n",
    "        self.nome = nome\n",
    "        self.preco = preco\n",
    "\n",
    "    def get_preco(self):\n",
    "        return self.preco\n",
    "\n",
    "    def __str__(self):\n",
    "        return f\"Produto: {self.nome}, Preço: ${self.preco}\"\n",
    "\n",
    "itens = []\n",
    "quant = int(input(\"Quantos itens deseja? \"))\n",
    "\n",
    "for i in range(quant):\n",
    "    nome = input(f\"Digite o nome do item {i}: \")\n",
    "    preco = float(input(f\"Digite o preço do item {i}: \"))\n",
    "    produto = Produto(nome, preco)\n",
    "    itens.append(produto)\n",
    "\n",
    "total = 0\n",
    "\n",
    "for produto in itens:\n",
    "   total = produto.get_preco() + total\n",
    "   print(produto)\n",
    "\n",
    "print(f\"Total: ${total}\")"
   ]
  }
 ],
 "metadata": {
  "kernelspec": {
   "display_name": "Python 3",
   "language": "python",
   "name": "python3"
  },
  "language_info": {
   "codemirror_mode": {
    "name": "ipython",
    "version": 3
   },
   "file_extension": ".py",
   "mimetype": "text/x-python",
   "name": "python",
   "nbconvert_exporter": "python",
   "pygments_lexer": "ipython3",
   "version": "3.13.2"
  }
 },
 "nbformat": 4,
 "nbformat_minor": 5
}
