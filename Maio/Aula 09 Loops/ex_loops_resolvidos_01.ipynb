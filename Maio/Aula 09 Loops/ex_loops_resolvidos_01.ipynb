{
 "cells": [
  {
   "cell_type": "markdown",
   "id": "79ecd9ee",
   "metadata": {},
   "source": [
    "# Exercícios de Programação com Loops `for` em Python\n",
    "\n",
    "Estes são 10 exercícios de programação utilizando loops `for` em Python. Os exercícios são apresentados em ordem de dificuldade crescente e incluem explicações introdutórias para novos conceitos.\n",
    "\n",
    "---\n",
    "\n",
    "## Exercício 1: Contagem Simples\n",
    "Escreva um programa que imprima os números de 1 a 10. Este exercício introduz o conceito básico de um loop `for` para contagem.\n",
    "\n",
    "```python\n",
    "for i in range(1, 11):\n",
    "    print(i)\n",
    "```\n",
    "\n",
    "---\n"
   ]
  },
  {
   "cell_type": "markdown",
   "id": "6cb94b49",
   "metadata": {},
   "source": [
    "\n",
    "## Exercício 2: Contagem com Passo Maior que 1\n",
    "Modifique o programa anterior para imprimir apenas os números ímpares de 1 a 10. Aqui, você aprenderá a usar o parâmetro de passo no `range`.\n",
    "\n",
    "```python\n",
    "for i in range(1, 11, 2):\n",
    "    print(i)\n",
    "```\n",
    "\n",
    "---\n"
   ]
  },
  {
   "cell_type": "markdown",
   "id": "745c6993",
   "metadata": {},
   "source": [
    "\n",
    "## Exercício 3: Iteração sobre uma Lista\n",
    "Crie uma lista com os nomes de cinco frutas e use um loop `for` para imprimir cada nome. Este exercício introduz a iteração sobre listas.\n",
    "\n",
    "```python\n",
    "frutas = [\"maçã\", \"banana\", \"laranja\", \"uva\", \"manga\"]\n",
    "for fruta in frutas:\n",
    "    print(fruta)\n",
    "```\n",
    "\n",
    "---\n"
   ]
  },
  {
   "cell_type": "markdown",
   "id": "a55b0e4b",
   "metadata": {},
   "source": [
    "\n",
    "## Exercício 4: Soma de Números\n",
    "Escreva um programa que calcule a soma dos números de 1 a 100. Aqui, você aprenderá a usar uma variável acumuladora.\n",
    "\n",
    "```python\n",
    "soma = 0\n",
    "for i in range(1, 101):\n",
    "    soma += i\n",
    "print(\"A soma é:\", soma)\n",
    "```\n",
    "\n",
    "---\n"
   ]
  },
  {
   "cell_type": "markdown",
   "id": "b8f07282",
   "metadata": {},
   "source": [
    "\n",
    "## Exercício 5: Contagem Regressiva\n",
    "Implemente um programa que imprima uma contagem regressiva de 10 a 1. Este exercício reforça o uso do `range` com valores decrescentes.\n",
    "\n",
    "```python\n",
    "for i in range(10, 0, -1):\n",
    "    print(i)\n",
    "```\n",
    "\n",
    "---\n"
   ]
  },
  {
   "cell_type": "markdown",
   "id": "dd62de96",
   "metadata": {},
   "source": [
    "\n",
    "## Exercício 6: Multiplicação de Elementos de uma Lista\n",
    "Dada uma lista de números `[2, 4, 6, 8]`, escreva um programa que imprima o dobro de cada número. Este exercício combina iteração sobre listas e operações matemáticas.\n",
    "\n",
    "```python\n",
    "numeros = [2, 4, 6, 8]\n",
    "for numero in numeros:\n",
    "    print(numero * 2)\n",
    "```\n",
    "\n",
    "---\n"
   ]
  },
  {
   "cell_type": "markdown",
   "id": "66e59e4c",
   "metadata": {},
   "source": [
    "\n",
    "## Exercício 7: Contagem de Caracteres em Strings\n",
    "Peça ao usuário para digitar uma palavra e use um loop `for` para contar quantas letras \"a\" existem na palavra. Este exercício introduz a iteração sobre strings.\n",
    "\n",
    "```python\n",
    "palavra = input(\"Digite uma palavra: \")\n",
    "contador = 0\n",
    "for letra in palavra:\n",
    "    if letra == \"a\":\n",
    "        contador += 1\n",
    "print(\"A palavra contém\", contador, \"letras 'a'.\")\n",
    "```\n",
    "\n",
    "---\n"
   ]
  },
  {
   "cell_type": "markdown",
   "id": "d92c54b4",
   "metadata": {},
   "source": [
    "\n",
    "## Exercício 8: Tabuada\n",
    "Escreva um programa que imprima a tabuada de multiplicação do número 5 (de 1 a 10). Este exercício reforça o uso de loops para cálculos repetitivos.\n",
    "\n",
    "```python\n",
    "for i in range(1, 11):\n",
    "    print(f\"5 x {i} = {5 * i}\")\n",
    "```\n",
    "\n",
    "---\n"
   ]
  },
  {
   "cell_type": "markdown",
   "id": "c9057d52",
   "metadata": {},
   "source": [
    "\n",
    "## Exercício 9: Soma de Elementos de uma Lista\n",
    "Dada uma lista de números `[1, 2, 3, 4, 5]`, escreva um programa que calcule a soma de todos os elementos. Este exercício reforça o uso de variáveis acumuladoras.\n",
    "\n",
    "```python\n",
    "numeros = [1, 2, 3, 4, 5]\n",
    "soma = 0\n",
    "for numero in numeros:\n",
    "    soma += numero\n",
    "print(\"A soma dos números é:\", soma)\n",
    "```\n",
    "\n",
    "---"
   ]
  }
 ],
 "metadata": {
  "language_info": {
   "name": "python"
  }
 },
 "nbformat": 4,
 "nbformat_minor": 5
}
