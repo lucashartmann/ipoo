{
 "cells": [
  {
   "cell_type": "markdown",
   "id": "c0b87be8",
   "metadata": {},
   "source": [
    "## 1. O que será impresso na tela?\n",
    "\n",
    "```python\n",
    "valor1 = \"Pipoca\"\n",
    "valor2 = \"Manteiga\"\n",
    "valor1 = 5.6\n",
    "valor2 = 12.2\n",
    "\n",
    "print(valor1, valor1)\n",
    "```\n"
   ]
  },
  {
   "cell_type": "markdown",
   "id": "d44d99bf",
   "metadata": {},
   "source": [
    "- Será impresso \n",
    "5.6 5.6"
   ]
  },
  {
   "cell_type": "markdown",
   "id": "6f54fe81",
   "metadata": {},
   "source": [
    "\n",
    "## 2. Exercício de Interpretação de Código Python\n",
    "\n",
    "Analise o código Python abaixo e determine o que será impresso no console para cada chamada da função `print()`.\n",
    "\n",
    "```python\n",
    "a = 10\n",
    "b = 20\n",
    "print(a)  # Chamada 1\n",
    "a = 30\n",
    "print(a)  # Chamada 2\n",
    "\n",
    "var1 = \"Olá\"\n",
    "Var1 = \"Mundo\"\n",
    "print(var1)  # Chamada 3\n",
    "print(Var1)  # Chamada 4\n",
    "\n",
    "x = 5\n",
    "y = 10\n",
    "print(x + y)  # Chamada 5\n",
    "print(x * y)  # Chamada 6\n",
    "\n",
    "numero = 42\n",
    "texto = \"A resposta é: \"\n",
    "print(texto + str(numero))  # Chamada 7\n",
    "```\n",
    "\n",
    "#### Perguntas:\n",
    "1. O que será impresso no console na Chamada 1?\n",
    "2. O que será impresso no console na Chamada 2?\n",
    "3. O que será impresso no console na Chamada 3?\n",
    "4. O que será impresso no console na Chamada 4?\n",
    "5. O que será impresso no console na Chamada 5?\n",
    "6. O que será impresso no console na Chamada 6?\n",
    "7. O que será impresso no console na Chamada 7?\n",
    "\n",
    "#### Observações:\n",
    "\n",
    "- Note como a função `print()` pode receber expressões e não apenas valores literais.\n",
    "\n",
    "\n"
   ]
  },
  {
   "cell_type": "markdown",
   "id": "42f3030a",
   "metadata": {},
   "source": [
    "1. 10\n",
    "2. 30\n",
    "3. Olá\n",
    "4. Mundo\n",
    "5. 15\n",
    "6. 50\n",
    "7. A resposta é  42"
   ]
  }
 ],
 "metadata": {
  "kernelspec": {
   "display_name": "Python 3",
   "language": "python",
   "name": "python3"
  },
  "language_info": {
   "codemirror_mode": {
    "name": "ipython",
    "version": 3
   },
   "file_extension": ".py",
   "mimetype": "text/x-python",
   "name": "python",
   "nbconvert_exporter": "python",
   "pygments_lexer": "ipython3",
   "version": "3.13.2"
  }
 },
 "nbformat": 4,
 "nbformat_minor": 5
}
