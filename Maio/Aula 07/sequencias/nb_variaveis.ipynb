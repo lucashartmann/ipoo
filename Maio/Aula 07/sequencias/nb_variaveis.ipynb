{
 "cells": [
  {
   "cell_type": "markdown",
   "id": "436ec697",
   "metadata": {},
   "source": [
    "# Literais, identificadores e variáveis"
   ]
  },
  {
   "cell_type": "markdown",
   "id": "a4cd8a68",
   "metadata": {},
   "source": [
    "## Literais\n",
    "\n",
    "Literais são valores representados explicitamente no programa. Podem ser números, strings, listas, valores lógicos e outros objetos. Agora veremos números e strings. Mais adiante veremos os outros.\n"
   ]
  },
  {
   "cell_type": "markdown",
   "id": "e3539394",
   "metadata": {},
   "source": [
    "### Números"
   ]
  },
  {
   "cell_type": "code",
   "execution_count": null,
   "id": "2423e147",
   "metadata": {},
   "outputs": [],
   "source": [
    "# Inteiros\n",
    "10"
   ]
  },
  {
   "cell_type": "code",
   "execution_count": null,
   "id": "4266672c",
   "metadata": {},
   "outputs": [],
   "source": [
    "# Fracionários - chamados Reais ou de Ponto Flutuante\n",
    "\n",
    "10.2"
   ]
  },
  {
   "cell_type": "markdown",
   "id": "fa7873a0",
   "metadata": {},
   "source": [
    "### Strings\n",
    "\n",
    "Uma *string* é qualquer letra, número ou símbolo que esteja sendo tratado como texto pelo programa. \n",
    "\n",
    "Strings são uma concatenação de caracteres - um ou mais caracteres colocados em sequência. \n",
    "\n",
    "Strings são escritas entre aspas simples ou duplas."
   ]
  },
  {
   "cell_type": "code",
   "execution_count": null,
   "id": "b54ea670",
   "metadata": {},
   "outputs": [],
   "source": [
    "'a'"
   ]
  },
  {
   "cell_type": "code",
   "execution_count": null,
   "id": "6e870d20",
   "metadata": {},
   "outputs": [],
   "source": [
    "'1'"
   ]
  },
  {
   "cell_type": "code",
   "execution_count": null,
   "id": "3c18efde",
   "metadata": {},
   "outputs": [],
   "source": [
    "'@'"
   ]
  },
  {
   "cell_type": "code",
   "execution_count": null,
   "id": "b1f3540b",
   "metadata": {},
   "outputs": [],
   "source": [
    "\"uma string de caracteres\""
   ]
  },
  {
   "cell_type": "code",
   "execution_count": null,
   "id": "1231757c",
   "metadata": {},
   "outputs": [],
   "source": [
    "'também uma string'"
   ]
  },
  {
   "cell_type": "code",
   "execution_count": null,
   "id": "d2026380",
   "metadata": {},
   "outputs": [],
   "source": [
    "'## (51) 98877-1122'"
   ]
  },
  {
   "cell_type": "markdown",
   "id": "d0853b01",
   "metadata": {},
   "source": [
    "## Identificadores\n",
    "\n",
    "São as palavras criadas pelo programador para dar nome a elementos dentro do programa, como variáveis e funções. "
   ]
  },
  {
   "cell_type": "markdown",
   "id": "c1f8a19b",
   "metadata": {},
   "source": [
    "Quando damos um nome a uma variável, como fizemos na aula anterior, estamos criando um identificador."
   ]
  },
  {
   "cell_type": "code",
   "execution_count": null,
   "id": "06f20a7c",
   "metadata": {},
   "outputs": [],
   "source": [
    "resposta = 10 * 5.000"
   ]
  },
  {
   "cell_type": "markdown",
   "id": "dd973513",
   "metadata": {},
   "source": [
    "agora podemos usar a palavra 'resposta' para identificar a variável que acabamos de declarar"
   ]
  },
  {
   "cell_type": "code",
   "execution_count": null,
   "id": "0ff4a43b",
   "metadata": {},
   "outputs": [],
   "source": [
    "# este identificador será substituido por 50.0 onde for usado\n",
    "resposta "
   ]
  },
  {
   "cell_type": "markdown",
   "id": "4e1dfa91",
   "metadata": {},
   "source": [
    "Depois, também vamos usar identificadores para dar nome a funções que criaremos\n",
    "\n",
    "Assim:"
   ]
  },
  {
   "cell_type": "code",
   "execution_count": null,
   "id": "38e7029f",
   "metadata": {},
   "outputs": [],
   "source": [
    "def uma_funcao():\n",
    "    print(10 * 6.000)"
   ]
  },
  {
   "cell_type": "markdown",
   "id": "bc4447d8",
   "metadata": {},
   "source": [
    "Usamos a palavra 'uma_funcao' para identificar uma nova função que  estávamos definindo (note a palavra `'def'`) antes do nome da função.\n",
    "\n",
    "Agora podemos usar esse nome para nos referirmos à função"
   ]
  },
  {
   "cell_type": "code",
   "execution_count": null,
   "id": "b550e9d7",
   "metadata": {},
   "outputs": [],
   "source": [
    "uma_funcao()"
   ]
  },
  {
   "cell_type": "markdown",
   "id": "f9c9ddee",
   "metadata": {},
   "source": [
    "### Identificadores em Python\n",
    "\n",
    "A linguagem Python tem restrições para o uso de identificadores.\n",
    "\n",
    "- Devem começar com uma letra ou sublinhado\n",
    "- Devem ter no máximo 256 caracteres\n",
    "- Não podem conter símbolos matemáticos (+, -, *, / e parenteses)\n",
    "- Após o primeiro caracterer podem ser usados números, cifrão, sublinhado e letras\n",
    "- Não podem ter acentuação nem espaços em branco"
   ]
  },
  {
   "cell_type": "markdown",
   "id": "e7474cb0",
   "metadata": {},
   "source": [
    "## Variáveis\n",
    "\n",
    "Variáveis são criadas na primeira vez que um valor é atribuído a elas. Não existe a etapa de \"declaração de variáveis\" como em outras linguagens.\n"
   ]
  },
  {
   "cell_type": "markdown",
   "id": "df018422",
   "metadata": {},
   "source": [
    "\n",
    "## Criando Strings\n",
    "\n",
    "Para criar uma string basta colocar o valor da string entre aspas duplas ou aspas simples."
   ]
  },
  {
   "cell_type": "markdown",
   "id": "e66e8fd7",
   "metadata": {},
   "source": [
    "No bloco de código abaixo, a variável chamada <code>texto</code> armazena a String <code>\"Oi, oi, oi!\"</code>.\n",
    "\n",
    "As aspas não fazem parte do valor da variável. Elas são parte da sintaxe do Python e são usadas apenas para indicar que o conteúdo que está entre elas é uma cadeia de caracteres, uma String."
   ]
  },
  {
   "cell_type": "code",
   "execution_count": null,
   "id": "6f4e6b1f",
   "metadata": {},
   "outputs": [],
   "source": [
    "texto = \"Oi, oi, oi!\""
   ]
  },
  {
   "cell_type": "markdown",
   "id": "fbe9444b",
   "metadata": {},
   "source": [
    "## Atribuição múltipla de valores\n",
    "\n",
    "Podemos atribuir vários valores a variáveis diferentes ao mesmo tempo, em uma só linha de código.\n"
   ]
  },
  {
   "cell_type": "markdown",
   "id": "9f211b32",
   "metadata": {},
   "source": [
    "Aqui vamos criar duas variáveis, chamadas nome e apelido. nome contém a string Gustavo\" e apelido contém a string \"profe\"."
   ]
  },
  {
   "cell_type": "code",
   "execution_count": null,
   "id": "20daf99b",
   "metadata": {},
   "outputs": [],
   "source": [
    "nome, apelido = \"Gustavo\", \"profe\"\n",
    "\n",
    "# essa linha é equivalente a:\n",
    "\n",
    "nome = \"Gustavo\"\n",
    "apelido = \"profe\""
   ]
  },
  {
   "cell_type": "code",
   "execution_count": null,
   "id": "5f51f80e",
   "metadata": {},
   "outputs": [],
   "source": [
    "# a variável x é criada no momento que\n",
    "# atribuímos o valor 10 a ela\n",
    "x = 100 "
   ]
  },
  {
   "cell_type": "markdown",
   "id": "f88c5dba",
   "metadata": {},
   "source": [
    "## Palavras reservadas\n",
    "\n",
    "Você não pode usar como identificar nenhuma das palavras reservadas de uma linguagem. Elas são usadas para identificar comandos e outros elementos sintáticos da linguagem.\n",
    "\n",
    "No caso do Python, as palavras reservadas são 33:"
   ]
  },
  {
   "cell_type": "code",
   "execution_count": null,
   "id": "403ce900",
   "metadata": {},
   "outputs": [],
   "source": [
    "import keyword\n",
    "keyword.kwlist"
   ]
  },
  {
   "cell_type": "markdown",
   "id": "aca7c8ee",
   "metadata": {},
   "source": [
    "## Símbolos especiais\n"
   ]
  },
  {
   "cell_type": "markdown",
   "id": "945a00dc",
   "metadata": {},
   "source": [
    "Estes são alguns símbolos que têm significado especial na linguagem - pertencem à sintaxe da linguagem.\n",
    "\n",
    "- `#` – É usado para iniciar um linha de comentário\n",
    "\n",
    "- `\\n` – É usado em Strings para indicar uma quebra de linha (nova linha) \n",
    "- `\\` – A contrabarra é usada para quebrar uma linha de código, permitindo escrever em duas ou mais linhas uma linha de código muito longa para ser escrita em uma linha só\n",
    "- `;` – É usado para separar linhas de código quando elas são escritas em uma mesma linha de texto\n",
    "\n",
    "- `:` – Usado para indicar o início de um bloco de código\n",
    "\n",
    "Além de todos os símbolos usados para efetuar operações matemáticas básicas, como `+`, `-`, `*`, `/`, `(` e `)`, e também operações lógicas booleanas e com conjuntos, como `&` e `|` entre outros."
   ]
  }
 ],
 "metadata": {
  "language_info": {
   "name": "python"
  }
 },
 "nbformat": 4,
 "nbformat_minor": 5
}
