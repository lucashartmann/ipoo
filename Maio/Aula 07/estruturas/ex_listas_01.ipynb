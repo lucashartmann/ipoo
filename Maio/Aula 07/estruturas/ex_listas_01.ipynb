{
 "cells": [
  {
   "cell_type": "markdown",
   "id": "05f890b0",
   "metadata": {},
   "source": [
    "# Exercícios de Leitura de Código com Listas\n",
    "\n",
    "Abaixo estão cinco exercícios para praticar a leitura e interpretação de código envolvendo listas em Python."
   ]
  },
  {
   "cell_type": "markdown",
   "id": "f37cbb34",
   "metadata": {},
   "source": [
    "### Exercício 1\n",
    "O que será impresso pelo seguinte código?\n",
    "```python\n",
    "numeros = [10, 20, 30, 40, 50]\n",
    "print(numeros[1] + numeros[-1])\n",
    "```"
   ]
  },
  {
   "cell_type": "markdown",
   "id": "3f0380f4",
   "metadata": {},
   "source": [
    "### Exercício 2\n",
    "Qual será o resultado após a execução do código abaixo?\n",
    "```python\n",
    "frutas = [\"maçã\", \"banana\", \"laranja\"]\n",
    "frutas.append(\"uva\")\n",
    "frutas.remove(\"banana\")\n",
    "print(frutas)\n",
    "```"
   ]
  },
  {
   "cell_type": "markdown",
   "id": "2bb865e4",
   "metadata": {},
   "source": [
    "### Exercício 3\n",
    "O que será exibido pelo seguinte código?\n",
    "```python\n",
    "lista = [1, 2, 3, 4, 5]\n",
    "for i in range(len(lista)):\n",
    "    lista[i] *= 2\n",
    "print(lista)\n",
    "```"
   ]
  },
  {
   "cell_type": "markdown",
   "id": "32d67e06",
   "metadata": {},
   "source": [
    "### Exercício 4\n",
    "Qual será a saída do código abaixo?\n",
    "```python\n",
    "nomes = [\"Ana\", \"Carlos\", \"Beatriz\"]\n",
    "print(nomes[0:2])\n",
    "```"
   ]
  },
  {
   "cell_type": "markdown",
   "id": "87c7b5cc",
   "metadata": {},
   "source": [
    "### Exercício 5\n",
    "O que será exibido pelo seguinte código?\n",
    "```python\n",
    "valores = [10, 20, 30]\n",
    "valores.insert(1, 15)\n",
    "print(valores)\n",
    "```"
   ]
  }
 ],
 "metadata": {
  "language_info": {
   "name": "python"
  }
 },
 "nbformat": 4,
 "nbformat_minor": 5
}
