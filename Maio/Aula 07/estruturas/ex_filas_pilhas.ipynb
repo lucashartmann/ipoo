{
 "cells": [
  {
   "cell_type": "markdown",
   "id": "d9341bc5",
   "metadata": {},
   "source": [
    "# Exercícios com Filas e Pilhas\n",
    "\n",
    "Estes exercícios utilizam filas e pilhas para manipulação de strings."
   ]
  },
  {
   "cell_type": "markdown",
   "id": "2e244440",
   "metadata": {},
   "source": [
    "### Exercício 1: Reverter Palavras em uma Frase\n",
    "Use uma pilha para reverter a ordem das palavras em uma frase fornecida pelo usuário. Por exemplo, a entrada `\"Eu gosto de Python\"` deve produzir a saída `\"Python de gosto Eu\"`."
   ]
  },
  {
   "cell_type": "markdown",
   "id": "42b07a4a",
   "metadata": {},
   "source": [
    "### Exercício 2: Simular Atendimento de Suporte\n",
    "Implemente uma fila para simular um sistema de atendimento ao cliente. Cada cliente é representado por seu nome. O programa deve permitir adicionar clientes à fila e atender o próximo cliente (removendo-o da fila)."
   ]
  },
  {
   "cell_type": "markdown",
   "id": "ec129223",
   "metadata": {},
   "source": [
    "### Exercício 3: Verificar Palíndromos\n",
    "Use uma pilha e uma fila para verificar se uma palavra fornecida pelo usuário é um palíndromo (lê-se da mesma forma de trás para frente). Por exemplo, `\"arara\"` é um palíndromo, mas `\"python\"` não é."
   ]
  },
  {
   "cell_type": "markdown",
   "id": "4ec332bb",
   "metadata": {},
   "source": [
    "### Exercício 4: Organizar Tarefas em Ordem Inversa\n",
    "Receba uma lista de tarefas e use uma pilha para exibir as tarefas na ordem inversa de entrada. Por exemplo, se as tarefas forem `[\"Lavar roupa\", \"Estudar\", \"Cozinhar\"]`, a saída deve ser:\n",
    "                ```\n",
    "                Cozinhar\n",
    "                Estudar\n",
    "                Lavar roupa\n",
    "                ```"
   ]
  },
  {
   "cell_type": "markdown",
   "id": "92debbe2",
   "metadata": {},
   "source": [
    "### Exercício 5: Gerenciar Mensagens de Chat\n",
    "Simule um sistema de mensagens de chat usando uma fila. As mensagens são adicionadas à fila e exibidas na ordem em que foram enviadas. O programa deve permitir adicionar mensagens e exibir a próxima mensagem na fila."
   ]
  }
 ],
 "metadata": {
  "language_info": {
   "name": "python"
  }
 },
 "nbformat": 4,
 "nbformat_minor": 5
}
