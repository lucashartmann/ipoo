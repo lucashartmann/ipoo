{
 "cells": [
  {
   "cell_type": "markdown",
   "id": "3a765386",
   "metadata": {},
   "source": [
    "# Exercícios com Tuplas\n",
    "\n",
    "Estes exercícios utilizam tuplas para manipulação de dados em Python."
   ]
  },
  {
   "cell_type": "markdown",
   "id": "6776b9d6",
   "metadata": {},
   "source": [
    "### Exercício 1: Desempacotamento de Tuplas\n",
    "Dada a tupla `pessoa = (\"João\", 25, \"Engenheiro\")`, escreva um código para desempacotar os valores em variáveis separadas e exibi-los."
   ]
  },
  {
   "cell_type": "markdown",
   "id": "a1e81028",
   "metadata": {},
   "source": [
    "### Exercício 2: Contar Ocorrências\n",
    "Dada a tupla `numeros = (1, 2, 3, 4, 1, 2, 1)`, escreva um código para contar quantas vezes o número 1 aparece na tupla."
   ]
  },
  {
   "cell_type": "markdown",
   "id": "11cfcc9d",
   "metadata": {},
   "source": [
    "### Exercício 3: Concatenar Tuplas\n",
    "Dadas as tuplas `tupla1 = (1, 2, 3)` e `tupla2 = (4, 5, 6)`, escreva um código para concatená-las em uma única tupla."
   ]
  },
  {
   "cell_type": "markdown",
   "id": "f00ac091",
   "metadata": {},
   "source": [
    "### Exercício 4: Verificar Existência de Elemento\n",
    "Dada a tupla `frutas = (\"maçã\", \"banana\", \"laranja\")`, escreva um código para verificar se a fruta \"uva\" está presente na tupla."
   ]
  },
  {
   "cell_type": "markdown",
   "id": "4ec698b7",
   "metadata": {},
   "source": [
    "### Exercício 5: Índice de um Elemento\n",
    "Dada a tupla `cidades = (\"São Paulo\", \"Rio de Janeiro\", \"Belo Horizonte\")`, escreva um código para encontrar o índice da cidade \"Rio de Janeiro\"."
   ]
  }
 ],
 "metadata": {
  "language_info": {
   "name": "python"
  }
 },
 "nbformat": 4,
 "nbformat_minor": 5
}
