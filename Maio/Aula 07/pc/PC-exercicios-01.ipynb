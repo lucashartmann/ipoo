{
 "cells": [
  {
   "cell_type": "markdown",
   "id": "041ba639",
   "metadata": {},
   "source": [
    "# Exercícios de Pensamento Computacional para Treinar a Concentração\n",
    "\n",
    "## Exercício 1: Sequência de Números\n",
    "Encontre o próximo número na sequência abaixo e explique seu raciocínio:\n",
    "```\n",
    "2, 4, 8, 16, 32, ?\n",
    "```\n"
   ]
  },
  {
   "cell_type": "markdown",
   "id": "638dbd31",
   "metadata": {},
   "source": [
    "- Cada número é o dobro do anterior:\n",
    "\n",
    "- 2 × 2 = 4\n",
    "- 4 × 2 = 8\n",
    "- 8 × 2 = 16\n",
    "- 16 × 2 = 32\n",
    "- 32 × 2 = 64\n",
    "\n",
    "- Resposta: 64"
   ]
  },
  {
   "cell_type": "markdown",
   "id": "53bf30b7",
   "metadata": {},
   "source": [
    "\n",
    "## Exercício 2: Palavras Codificadas\n",
    "Cada letra da palavra \"FOCO\" foi substituída por um número seguindo uma lógica. Descubra a lógica e decodifique a palavra \"011905131914\":\n",
    "```\n",
    "F = 06, O = 14, C = 03, O = 14\n",
    "```\n"
   ]
  },
  {
   "cell_type": "markdown",
   "id": "8abfaec7",
   "metadata": {},
   "source": [
    "Não tem o K,W,Y pois é o alfabeto brasileiro e não o americano\n",
    "\n",
    "A = 01\n",
    "B = 02\n",
    "C\n",
    "D\n",
    "E\n",
    "F\n",
    "G\n",
    "H\n",
    "I\n",
    "J\n",
    "L\n",
    "\n",
    "- 01 A\n",
    "- 19 T \n",
    "- 05 E \n",
    "- 13 N \n",
    "- 19 T \n",
    "- 14 O\n",
    "\n",
    "- Palavra: Atento"
   ]
  },
  {
   "cell_type": "markdown",
   "id": "470e8b1e",
   "metadata": {},
   "source": [
    "\n",
    "## Exercício 3: Labirinto de Instruções\n",
    "Você está em um tabuleiro 5x5 na posição inicial (1,1). Siga as instruções abaixo e diga em qual posição você termina:\n",
    "- Vá 2 passos para a direita.\n",
    "- Vá 3 passos para baixo.\n",
    "- Vá 1 passo para a esquerda.\n",
    "- Vá 1 passo para cima.\n"
   ]
  },
  {
   "cell_type": "markdown",
   "id": "8cdab562",
   "metadata": {},
   "source": [
    "2 passos para a direita\n",
    "\n",
    "(1,1) → (1,2) → (1,3)\n",
    "\n",
    "3 passos para baixo\n",
    "\n",
    "(1,3) → (2,3) → (3,3) → (4,3)\n",
    "\n",
    "1 passo para a esquerda\n",
    "\n",
    "(4,3) → (4,2)\n",
    "\n",
    "1 passo para cima\n",
    "\n",
    "(4,2) → (3,2)\n",
    "\n",
    "(3,2)"
   ]
  },
  {
   "cell_type": "markdown",
   "id": "003ce434",
   "metadata": {},
   "source": [
    "\n",
    "## Exercício 4: Padrões Visuais\n",
    "Observe o padrão abaixo e desenhe o próximo elemento:\n",
    "```\n",
    "▲, ▲▲, ▲▲▲, ?\n",
    "```\n"
   ]
  },
  {
   "cell_type": "markdown",
   "id": "b08290a5",
   "metadata": {},
   "source": [
    "▲▲▲▲"
   ]
  },
  {
   "cell_type": "markdown",
   "id": "487fe500",
   "metadata": {},
   "source": [
    "\n",
    "## Exercício 5: Problema de Lógica\n",
    "Três amigos (Ana, Bruno e Carla) estão sentados em uma mesa. Sabemos que:\n",
    "- Ana está à direita de Bruno.\n",
    "- Carla não está ao lado de Ana.\n",
    "Quem está sentado no meio?\n"
   ]
  },
  {
   "cell_type": "markdown",
   "id": "494828a1",
   "metadata": {},
   "source": [
    " Carla, Bruno, Ana\n",
    "\n",
    " Bruno "
   ]
  },
  {
   "cell_type": "markdown",
   "id": "d5515194",
   "metadata": {},
   "source": [
    "\n",
    "## Exercício 6: Contagem de Letras\n",
    "Quantas vezes a letra \"A\" aparece na frase abaixo? Concentre-se para não errar:\n",
    "```\n",
    "A aranha arranha a rã, mas a rã não arranha a aranha.\n",
    "```\n"
   ]
  },
  {
   "cell_type": "markdown",
   "id": "17e8e71b",
   "metadata": {},
   "source": [
    "1 vezes"
   ]
  },
  {
   "cell_type": "markdown",
   "id": "0b731a28",
   "metadata": {},
   "source": [
    "\n",
    "## Exercício 7: Código de Cores\n",
    "Você recebeu o seguinte código que associa cores a números:\n",
    "```\n",
    "Vermelho = 1, Azul = 2, Verde = 3, Amarelo = 4\n",
    "```\n",
    "Usando essa lógica, qual é a sequência numérica correspondente à ordem \"Verde, Vermelho, Amarelo, Azul\"?\n"
   ]
  },
  {
   "cell_type": "markdown",
   "id": "cc9c78b0",
   "metadata": {},
   "source": [
    "- 3, 1, 4, 2\n",
    "- 3142"
   ]
  },
  {
   "cell_type": "markdown",
   "id": "472446dd",
   "metadata": {},
   "source": [
    "\n",
    "## Exercício 8: Soma Oculta\n",
    "Resolva a expressão matemática abaixo, lembrando-se de seguir a ordem das operações (parênteses, multiplicação e divisão antes de soma e subtração):\n",
    "```\n",
    "3 + (2 x 5) - 4 + (6 ÷ 2)\n",
    "```\n",
    "Qual é o resultado final?"
   ]
  },
  {
   "cell_type": "markdown",
   "id": "572a5742",
   "metadata": {},
   "source": [
    "3 + 13 - 4 + 3\n",
    "\n",
    "\n",
    "12"
   ]
  }
 ],
 "metadata": {
  "language_info": {
   "name": "python"
  }
 },
 "nbformat": 4,
 "nbformat_minor": 5
}
