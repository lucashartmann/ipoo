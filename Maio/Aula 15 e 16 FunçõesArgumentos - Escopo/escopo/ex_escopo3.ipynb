{
 "cells": [
  {
   "cell_type": "markdown",
   "id": "68244779",
   "metadata": {},
   "source": [
    "# Exercícios sobre Escopo de Variáveis\n",
    "\n",
    "Este notebook contém exercícios para ajudar você a entender e praticar o conceito de escopo de variáveis em Python."
   ]
  },
  {
   "cell_type": "markdown",
   "id": "9e69eb76",
   "metadata": {},
   "source": [
    "## Exercício 1: Escopo Global vs Local\n",
    "\n",
    "Escreva uma função que declare uma variável local com o mesmo nome de uma variável global. Imprima ambas as variáveis para observar a diferença."
   ]
  },
  {
   "cell_type": "code",
   "execution_count": null,
   "id": "218fb43d",
   "metadata": {},
   "outputs": [],
   "source": [
    "# Exercício 1: Escopo Global vs Local\n",
    "\n",
    "# Variável global\n",
    "x = \"Eu sou uma variável global\"\n",
    "\n",
    "def teste_escopo():\n",
    "    # Variável local com o mesmo nome\n",
    "    x = \"Eu sou uma variável local\"\n",
    "    print(\"Dentro da função:\", x)\n",
    "\n",
    "# Chama a função\n",
    "teste_escopo()\n",
    "\n",
    "# Imprime a variável global\n",
    "print(\"Fora da função:\", x)"
   ]
  },
  {
   "cell_type": "markdown",
   "id": "cb4b1875",
   "metadata": {},
   "source": [
    "## Exercício 2: Modificando Variáveis Globais\n",
    "\n",
    "Crie uma função que modifique uma variável global usando a palavra-chave 'global'. Demonstre a mudança no valor da variável global."
   ]
  },
  {
   "cell_type": "code",
   "execution_count": null,
   "id": "22f7286d",
   "metadata": {},
   "outputs": [],
   "source": [
    "# Exercício 2: Modificando Variáveis Globais\n",
    "\n",
    "# Variável global\n",
    "contador = 0\n",
    "\n",
    "def incrementar_contador():\n",
    "    global contador\n",
    "    contador += 1\n",
    "    print(\"Dentro da função, contador:\", contador)\n",
    "\n",
    "# Chama a função várias vezes\n",
    "incrementar_contador()\n",
    "incrementar_contador()\n",
    "\n",
    "# Imprime a variável global\n",
    "print(\"Fora da função, contador:\", contador)"
   ]
  },
  {
   "cell_type": "markdown",
   "id": "868da015",
   "metadata": {},
   "source": [
    "## Exercício 3: Funções Aninhadas e Escopo Não Local\n",
    "\n",
    "Escreva uma função aninhada onde a função interna modifica uma variável da função externa usando a palavra-chave 'nonlocal'."
   ]
  },
  {
   "cell_type": "code",
   "execution_count": null,
   "id": "d703d726",
   "metadata": {},
   "outputs": [],
   "source": [
    "# Exercício 3: Funções Aninhadas e Escopo Não Local\n",
    "\n",
    "def funcao_externa():\n",
    "    var_externa = \"Estou na função externa\"\n",
    "\n",
    "    def funcao_interna():\n",
    "        nonlocal var_externa\n",
    "        var_externa = \"Fui modificada pela função interna\"\n",
    "        print(\"Dentro da função interna:\", var_externa)\n",
    "\n",
    "    funcao_interna()\n",
    "    print(\"Dentro da função externa:\", var_externa)\n",
    "\n",
    "# Chama a função externa\n",
    "funcao_externa()"
   ]
  },
  {
   "cell_type": "markdown",
   "id": "d132f835",
   "metadata": {},
   "source": [
    "## Exercício 4: Escopo em Loops\n",
    "\n",
    "Demonstre como variáveis declaradas dentro de um loop são acessíveis fora do loop. Discuta as implicações."
   ]
  },
  {
   "cell_type": "code",
   "execution_count": null,
   "id": "ebed4c17",
   "metadata": {},
   "outputs": [],
   "source": [
    "# Exercício 4: Escopo em Loops\n",
    "\n",
    "for i in range(3):\n",
    "    var_loop = f\"Iteração do loop {i}\"\n",
    "    print(var_loop)\n",
    "\n",
    "# Acessando a variável do loop fora do loop\n",
    "print(\"Fora do loop:\", var_loop)"
   ]
  },
  {
   "cell_type": "markdown",
   "id": "8bf09d33",
   "metadata": {},
   "source": [
    "## Exercício 5: Escopo com Argumentos Padrão\n",
    "\n",
    "Crie uma função com um argumento padrão que seja um objeto mutável (por exemplo, uma lista). Mostre como as alterações no objeto persistem entre chamadas da função."
   ]
  },
  {
   "cell_type": "code",
   "execution_count": null,
   "id": "7ffd16bd",
   "metadata": {},
   "outputs": [],
   "source": [
    "# Exercício 5: Escopo com Argumentos Padrão\n",
    "\n",
    "def adicionar_a_lista(valor, minha_lista=[]):\n",
    "    minha_lista.append(valor)\n",
    "    print(\"Lista dentro da função:\", minha_lista)\n",
    "    return minha_lista\n",
    "\n",
    "# Chama a função várias vezes\n",
    "lista1 = adicionar_a_lista(1)\n",
    "lista2 = adicionar_a_lista(2)\n",
    "\n",
    "# Observe que a mesma lista está sendo modificada\n",
    "print(\"Lista após várias chamadas:\", lista1)\n",
    "print(\"Lista após várias chamadas:\", lista2)"
   ]
  },
  {
   "cell_type": "markdown",
   "id": "5c2c0fe4",
   "metadata": {},
   "source": [
    "# Exercícios sobre Escopo de Variáveis\n",
    "\n",
    "Resolva os exercícios abaixo para praticar o conceito de escopo de variáveis em Python."
   ]
  },
  {
   "cell_type": "markdown",
   "id": "445eda00",
   "metadata": {},
   "source": [
    "## Exercício 1\n",
    "\n",
    "Crie uma função que defina uma variável local e tente acessá-la fora da função. Explique o erro que ocorre."
   ]
  },
  {
   "cell_type": "markdown",
   "id": "32e7682e",
   "metadata": {},
   "source": [
    "## Exercício 2\n",
    "\n",
    "Escreva um programa que utilize uma variável global e uma variável local com o mesmo nome. Mostre como o Python diferencia as duas variáveis."
   ]
  },
  {
   "cell_type": "markdown",
   "id": "694cf22f",
   "metadata": {},
   "source": [
    "## Exercício 3\n",
    "\n",
    "Implemente uma função que modifique o valor de uma variável global usando a palavra-chave `global`. Explique o comportamento observado."
   ]
  },
  {
   "cell_type": "markdown",
   "id": "3fc13a29",
   "metadata": {},
   "source": [
    "## Exercício 4\n",
    "\n",
    "Crie um programa que contenha uma função aninhada (função dentro de outra função). Mostre como o escopo das variáveis funciona nesse caso."
   ]
  },
  {
   "cell_type": "markdown",
   "id": "b3553ccf",
   "metadata": {},
   "source": [
    "## Exercício 5\n",
    "\n",
    "Escreva um programa que demonstre o uso de variáveis não locais (usando a palavra-chave `nonlocal`) em funções aninhadas."
   ]
  }
 ],
 "metadata": {
  "kernelspec": {
   "display_name": "Python 3",
   "language": "python",
   "name": "python3"
  },
  "language_info": {
   "codemirror_mode": {
    "name": "ipython",
    "version": 3
   },
   "file_extension": ".py",
   "mimetype": "text/x-python",
   "name": "python",
   "nbconvert_exporter": "python",
   "pygments_lexer": "ipython3",
   "version": "3.13.3"
  }
 },
 "nbformat": 4,
 "nbformat_minor": 5
}
