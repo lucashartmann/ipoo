{
 "cells": [
  {
   "cell_type": "markdown",
   "id": "8fee1b85",
   "metadata": {},
   "source": [
    "##  Escopo de Variáveis - Exercícios de Leitura de Código II"
   ]
  },
  {
   "cell_type": "markdown",
   "id": "af237554",
   "metadata": {},
   "source": [
    "1. Qual será a saída do seguinte código?\n",
    "```python\n",
    "def funcao():\n",
    "    x = 5\n",
    "    def interna():\n",
    "        nonlocal x\n",
    "        x += 1\n",
    "    interna()\n",
    "    print(x)\n",
    "funcao()\n",
    "```"
   ]
  },
  {
   "cell_type": "markdown",
   "id": "cfebe6cc",
   "metadata": {},
   "source": [
    "2. Leia o código abaixo e determine o valor de `z` após a execução do programa:\n",
    "```python\n",
    "z = 0\n",
    "def externa():\n",
    "    z = 10\n",
    "    def interna():\n",
    "        nonlocal z\n",
    "        z += 1\n",
    "    interna()\n",
    "    print(z)\n",
    "externa()\n",
    "print(z)\n",
    "```"
   ]
  },
  {
   "cell_type": "markdown",
   "id": "833e572f",
   "metadata": {},
   "source": [
    "3. Qual será a saída do seguinte código?\n",
    "```python\n",
    "x = 10\n",
    "def externa():\n",
    "    x = 20\n",
    "    def interna():\n",
    "        print(x)\n",
    "    interna()\n",
    "externa()\n",
    "print(x)\n",
    "```"
   ]
  }
 ],
 "metadata": {
  "language_info": {
   "name": "python"
  }
 },
 "nbformat": 4,
 "nbformat_minor": 5
}
