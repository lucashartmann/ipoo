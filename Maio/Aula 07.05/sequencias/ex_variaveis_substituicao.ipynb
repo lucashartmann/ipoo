{
 "cells": [
  {
   "cell_type": "markdown",
   "id": "21244235",
   "metadata": {},
   "source": [
    "### Exercício: Usando variáveis\n",
    "\n",
    "**Enunciado:**\n",
    "Você tem três variáveis: `a`, `b` e `c`. As variáveis `a` e `b` são números inteiros, e a variável `c` é uma string. Você deve escrever um programa em Python que faça as seguintes operações e imprima os resultados:\n",
    "\n",
    "1. Atribua o valor 5 à variável `a`.\n",
    "2. Atribua o valor 3 à variável `b`.\n",
    "3. Atribua a string \"Python\" à variável `c`.\n",
    "4. Imprima o valor de `a` mais `b`.\n",
    "5. Imprima o valor de `a` menos `b`.\n",
    "6. Imprima o valor de `a` multiplicado por `b`.\n",
    "7. Imprima o valor de `a` dividido por `b`.\n",
    "8. Imprima a string `c` concatenada com o valor de `a` convertido para string.\n",
    "\n",
    "**Exemplo de Saída Esperada:**\n",
    "```\n",
    "8\n",
    "2\n",
    "15\n",
    "1.6666666666666667\n",
    "Python5\n",
    "```\n",
    "\n",
    "**Instruções:**\n",
    "1. Crie as variáveis `a`, `b` e `c` com os valores especificados.\n",
    "2. Use a função `print()` para exibir os resultados das operações mencionadas.\n",
    "\n",
    "**Dica:** Lembre-se de converter os números para strings quando necessário para concatenar com a variável `c`. Use a função `str()`.\n",
    "\n",
    "Exemplo:\n",
    "\n",
    "```python\n",
    "x = 10.5\n",
    "x_convertido_para_string = str(x)\n",
    "\n",
    "print(x_convertido_para_string)\n",
    "\n",
    "print(\"Valor: \" + x_convertido_para_string)\n",
    "```\n"
   ]
  },
  {
   "cell_type": "code",
   "execution_count": 6,
   "id": "23c14025",
   "metadata": {},
   "outputs": [
    {
     "name": "stdout",
     "output_type": "stream",
     "text": [
      "8\n",
      "2\n",
      "15\n",
      "1.6666666666666667\n",
      "Python5\n"
     ]
    }
   ],
   "source": [
    "a = 5\n",
    "b = 3\n",
    "c = \"Python\"\n",
    "print(a + b)\n",
    "print(a - b)\n",
    "print(a * b)\n",
    "print(a / b)\n",
    "print(c + str(a))"
   ]
  }
 ],
 "metadata": {
  "kernelspec": {
   "display_name": "Python 3",
   "language": "python",
   "name": "python3"
  },
  "language_info": {
   "codemirror_mode": {
    "name": "ipython",
    "version": 3
   },
   "file_extension": ".py",
   "mimetype": "text/x-python",
   "name": "python",
   "nbconvert_exporter": "python",
   "pygments_lexer": "ipython3",
   "version": "3.13.2"
  }
 },
 "nbformat": 4,
 "nbformat_minor": 5
}
