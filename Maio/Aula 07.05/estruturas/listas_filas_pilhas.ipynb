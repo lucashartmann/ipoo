{
 "cells": [
  {
   "cell_type": "markdown",
   "id": "f99d3664",
   "metadata": {},
   "source": [
    "## Pilhas e Filas\n",
    "\n",
    "Listas em Python podem ser usadas para implementar estruturas de dados como filas e pilhas. Ambas são úteis para organizar e manipular dados de maneira controlada.\n",
    "\n",
    "Essas estruturas são amplamente utilizadas em algoritmos e resolução de problemas, como controle de tarefas, navegação em páginas da web (pilhas) e processamento de filas de mensagens (filas).\n",
    "\n",
    "### Pilhas (Stacks)\n",
    "Uma pilha segue o princípio **LIFO** (Last In, First Out), ou seja, o último elemento inserido é o primeiro a ser removido. Em Python, podemos usar os métodos `append` para adicionar elementos e `pop` para removê-los.\n",
    "\n",
    "#### Exemplo de Pilha:\n",
    "\n"
   ]
  },
  {
   "cell_type": "code",
   "execution_count": null,
   "id": "591da2cc",
   "metadata": {},
   "outputs": [],
   "source": [
    "# Criando uma pilha\n",
    "pilha = []\n",
    "\n",
    "# Adicionando elementos à pilha\n",
    "pilha.append(1)\n",
    "pilha.append(2)\n",
    "pilha.append(3)\n",
    "print(\"Pilha após inserções:\", pilha)  # Saída: [1, 2, 3]\n",
    "\n",
    "# Removendo elementos da pilha\n",
    "ultimo = pilha.pop()\n",
    "print(\"Elemento removido:\", ultimo)  # Saída: 3\n",
    "print(\"Pilha após remoção:\", pilha)  # Saída: [1, 2]"
   ]
  },
  {
   "cell_type": "markdown",
   "id": "7af46e31",
   "metadata": {},
   "source": [
    "\n",
    "### Filas (Queues)\n",
    "Uma fila segue o princípio **FIFO** (First In, First Out), ou seja, o primeiro elemento inserido é o primeiro a ser removido. Em Python, podemos usar listas para implementar filas, mas para maior eficiência, recomenda-se usar `collections.deque`.\n",
    "\n",
    "#### Exemplo de Fila:\n"
   ]
  },
  {
   "cell_type": "code",
   "execution_count": null,
   "id": "53262b4d",
   "metadata": {},
   "outputs": [],
   "source": [
    "from collections import deque\n",
    "\n",
    "# Criando uma fila\n",
    "fila = deque()\n",
    "\n",
    "# Adicionando elementos à fila\n",
    "fila.append(\"A\")\n",
    "fila.append(\"B\")\n",
    "fila.append(\"C\")\n",
    "print(\"Fila após inserções:\", list(fila))  # Saída: ['A', 'B', 'C']\n",
    "\n",
    "# Removendo elementos da fila\n",
    "primeiro = fila.popleft()\n",
    "print(\"Elemento removido:\", primeiro)  # Saída: 'A'\n",
    "print(\"Fila após remoção:\", list(fila))  # Saída: ['B', 'C']"
   ]
  },
  {
   "cell_type": "markdown",
   "id": "e449deee",
   "metadata": {},
   "source": [
    "\n",
    "### Resumo\n",
    "- **Pilha**: Use `append` para adicionar e `pop` para remover.\n",
    "- **Fila**: Use `append` para adicionar e `popleft` (de `deque`) para remover."
   ]
  }
 ],
 "metadata": {
  "kernelspec": {
   "display_name": "Python 3",
   "language": "python",
   "name": "python3"
  },
  "language_info": {
   "name": "python",
   "version": "3.13.3"
  }
 },
 "nbformat": 4,
 "nbformat_minor": 5
}
