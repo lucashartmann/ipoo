{
 "cells": [
  {
   "cell_type": "markdown",
   "id": "4f7b03d8",
   "metadata": {},
   "source": [
    "##  Escopo de Variáveis - Exercícios de Leitura de Código I"
   ]
  },
  {
   "cell_type": "markdown",
   "id": "f5a3b776",
   "metadata": {},
   "source": [
    "1. Leia o código abaixo e determine o valor de `x` após a execução do programa:\n",
    "```python\n",
    "x = 10\n",
    "def funcao():\n",
    "    x = 5\n",
    "funcao()\n",
    "print(x)\n",
    "```"
   ]
  },
  {
   "cell_type": "markdown",
   "id": "6a38729c",
   "metadata": {},
   "source": [
    "2. Qual será a saída do seguinte código?\n",
    "```python\n",
    "x = 10\n",
    "def funcao():\n",
    "    global x\n",
    "    x = 5\n",
    "funcao()\n",
    "print(x)\n",
    "```"
   ]
  },
  {
   "cell_type": "markdown",
   "id": "c1a72d07",
   "metadata": {},
   "source": [
    "3. O que acontece ao executar o código abaixo?\n",
    "```python\n",
    "x = 10\n",
    "def funcao():\n",
    "    print(x)\n",
    "funcao()\n",
    "```"
   ]
  },
  {
   "cell_type": "markdown",
   "id": "bb698f45",
   "metadata": {},
   "source": [
    "4. Qual será a saída do seguinte código?\n",
    "```python\n",
    "x = 10\n",
    "def funcao():\n",
    "    x = 5\n",
    "    print(x)\n",
    "funcao()\n",
    "print(x)\n",
    "```"
   ]
  },
  {
   "cell_type": "markdown",
   "id": "8abb333a",
   "metadata": {},
   "source": [
    "5. Leia o código abaixo e determine o valor de `y` após a execução do programa:\n",
    "```python\n",
    "def funcao():\n",
    "    y = 5\n",
    "funcao()\n",
    "print(y)\n",
    "```"
   ]
  },
  {
   "cell_type": "markdown",
   "id": "ec7404e7",
   "metadata": {},
   "source": [
    "6. Qual será a saída do seguinte código?\n",
    "```python\n",
    "x = 10\n",
    "def funcao():\n",
    "    x = x + 1\n",
    "funcao()\n",
    "```"
   ]
  },
  {
   "cell_type": "markdown",
   "id": "3b2e9b86",
   "metadata": {},
   "source": [
    "7. O que acontece ao executar o código abaixo?\n",
    "```python\n",
    "x = 10\n",
    "def funcao():\n",
    "    global x\n",
    "    x += 1\n",
    "funcao()\n",
    "print(x)\n",
    "```"
   ]
  }
 ],
 "metadata": {
  "language_info": {
   "name": "python"
  }
 },
 "nbformat": 4,
 "nbformat_minor": 5
}
