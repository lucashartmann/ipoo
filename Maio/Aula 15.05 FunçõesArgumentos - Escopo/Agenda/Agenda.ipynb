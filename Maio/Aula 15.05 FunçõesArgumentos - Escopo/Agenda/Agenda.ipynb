{
 "cells": [
  {
   "cell_type": "markdown",
   "id": "0206e992",
   "metadata": {},
   "source": [
    "Agenda de Endereços"
   ]
  },
  {
   "cell_type": "markdown",
   "id": "2c7dc3f6",
   "metadata": {},
   "source": [
    "O sistema será de uma agenda de endereços\n",
    "\n",
    "Ela será suportada por um 'map' do Python. Teremos 'registros' com a estrututa 'chave:valor' do  mapa.\n",
    "\n",
    "Onde:\n",
    "\n",
    "- chave: email\n",
    "- valor: dados da pessoa (Ex. nome, idade, endereco, favorito)\n",
    "\n",
    "Ele será acessado pela linha de comando em modo texto."
   ]
  },
  {
   "cell_type": "markdown",
   "id": "f8f6f7ef",
   "metadata": {},
   "source": [
    "- > python agenda.py listar\n",
    "- > python agenda.py consultar\n",
    "- > python agenda.py incluir\n",
    "- > python agenda.py apagar\n",
    "- > python agenda.py atualizar (email, nome, idade, endereco, [favorito])\n",
    "- > python agenda.py favoritar <email>"
   ]
  },
  {
   "cell_type": "code",
   "execution_count": 1,
   "id": "4e5e1359",
   "metadata": {},
   "outputs": [],
   "source": [
    "agenda = {}"
   ]
  },
  {
   "cell_type": "code",
   "execution_count": 2,
   "id": "53cbef5e",
   "metadata": {},
   "outputs": [],
   "source": [
    "def cadastrar(agenda, email, nome, idade, endereco, favorito=False):\n",
    "    if email not in agenda:\n",
    "        agenda[email] = [nome, idade, endereco, favorito]"
   ]
  },
  {
   "cell_type": "code",
   "execution_count": 46,
   "id": "dbf9ce31",
   "metadata": {},
   "outputs": [],
   "source": [
    "cadastrar(agenda, \"lucas@dfsdfdfd\", 'Lucas', 21, \"São Manuel\")\n",
    "cadastrar(agenda, \"fernando@dfdfd\", 'Lucas', 21, \"São Manuel\")"
   ]
  },
  {
   "cell_type": "code",
   "execution_count": 29,
   "id": "fc13ebd7",
   "metadata": {},
   "outputs": [],
   "source": [
    "def listar(agenda):\n",
    "    for email, dados in agenda.items():\n",
    "        print(f'''Email: {email}\n",
    "    Nome: {dados[0]}\n",
    "    Endereco: {dados[2]}\n",
    "    Idade: {dados[1]}\n",
    "    Favorito: {dados[3]}\n",
    "    ''')"
   ]
  },
  {
   "cell_type": "code",
   "execution_count": 26,
   "id": "6a4fd568",
   "metadata": {},
   "outputs": [
    {
     "name": "stdout",
     "output_type": "stream",
     "text": [
      "Email: lucas@dfsdfdfd\n",
      "    Nome: Lucas\n",
      "    Endereco: São Manuel\n",
      "    Idade: 21\n",
      "    Favorito: False\n",
      "        \n",
      "Email: fernando@dfdfd\n",
      "    Nome: Lucas\n",
      "    Endereco: São Manuel\n",
      "    Idade: 21\n",
      "    Favorito: False\n",
      "        \n"
     ]
    }
   ],
   "source": [
    "listar(agenda)"
   ]
  },
  {
   "cell_type": "code",
   "execution_count": 33,
   "id": "9eb9ee89",
   "metadata": {},
   "outputs": [],
   "source": [
    "def consultar(agenda, email):\n",
    "    dados = agenda[email]\n",
    "    print(f'''Email: {email}\n",
    "    Nome: {dados[0]}\n",
    "    Endereco: {dados[2]}\n",
    "    Idade: {dados[1]}\n",
    "    Favorito: {dados[3]}\n",
    "    ''')\n"
   ]
  },
  {
   "cell_type": "code",
   "execution_count": 34,
   "id": "c745cf62",
   "metadata": {},
   "outputs": [
    {
     "name": "stdout",
     "output_type": "stream",
     "text": [
      "Email: lucas@dfsdfdfd\n",
      "    Nome: Lucas\n",
      "    Endereco: São Manuel\n",
      "    Idade: 21\n",
      "    Favorito: False\n",
      "    \n"
     ]
    }
   ],
   "source": [
    "consultar(agenda, \"lucas@dfsdfdfd\")"
   ]
  },
  {
   "cell_type": "code",
   "execution_count": 36,
   "id": "22df7350",
   "metadata": {},
   "outputs": [],
   "source": [
    "def apagar(agenda, email):\n",
    "    del agenda[email]"
   ]
  },
  {
   "cell_type": "code",
   "execution_count": 40,
   "id": "9e1f2f45",
   "metadata": {},
   "outputs": [
    {
     "name": "stdout",
     "output_type": "stream",
     "text": [
      "Email: fernando@dfdfd\n",
      "    Nome: Lucas\n",
      "    Endereco: São Manuel\n",
      "    Idade: 21\n",
      "    Favorito: False\n",
      "    \n",
      "Email: lucas@dfsdfdfd\n",
      "    Nome: Lucas\n",
      "    Endereco: São Manuel\n",
      "    Idade: 21\n",
      "    Favorito: False\n",
      "    \n",
      "----- Apagando -----\n",
      "Email: fernando@dfdfd\n",
      "    Nome: Lucas\n",
      "    Endereco: São Manuel\n",
      "    Idade: 21\n",
      "    Favorito: False\n",
      "    \n"
     ]
    }
   ],
   "source": [
    "listar(agenda)\n",
    "print(\"----- Apagando -----\")\n",
    "apagar(agenda, \"lucas@dfsdfdfd\")\n",
    "listar(agenda)"
   ]
  },
  {
   "cell_type": "code",
   "execution_count": 42,
   "id": "99bcdf98",
   "metadata": {},
   "outputs": [],
   "source": [
    "def atualizar(agenda, email, nome, idade, endereco, favorito=False):\n",
    "    agenda[email] = [nome, idade, endereco, favorito]"
   ]
  },
  {
   "cell_type": "code",
   "execution_count": 47,
   "id": "45c9fd49",
   "metadata": {},
   "outputs": [
    {
     "name": "stdout",
     "output_type": "stream",
     "text": [
      "Email: fernando@dfdfd\n",
      "    Nome: Pedro\n",
      "    Endereco: São Manuel 99\n",
      "    Idade: 60\n",
      "    Favorito: False\n",
      "    \n",
      "----- Atualizando -----\n",
      "Email: fernando@dfdfd\n",
      "    Nome: Pedro\n",
      "    Endereco: São Manuel 99\n",
      "    Idade: 60\n",
      "    Favorito: False\n",
      "    \n"
     ]
    }
   ],
   "source": [
    "consultar(agenda, \"fernando@dfdfd\")\n",
    "print(\"----- Atualizando -----\")\n",
    "atualizar(agenda, \"fernando@dfdfd\", 'Pedro', 60, \"São Manuel 99\")\n",
    "consultar(agenda, \"fernando@dfdfd\")\n"
   ]
  },
  {
   "cell_type": "code",
   "execution_count": 49,
   "id": "e6366de3",
   "metadata": {},
   "outputs": [],
   "source": [
    "def favoritar(agenda, email):\n",
    "    agenda[email][3] = True"
   ]
  },
  {
   "cell_type": "code",
   "execution_count": 50,
   "id": "99ab2462",
   "metadata": {},
   "outputs": [
    {
     "name": "stdout",
     "output_type": "stream",
     "text": [
      "Email: fernando@dfdfd\n",
      "    Nome: Pedro\n",
      "    Endereco: São Manuel 99\n",
      "    Idade: 60\n",
      "    Favorito: False\n",
      "    \n",
      "----- favoritando -----\n",
      "Email: fernando@dfdfd\n",
      "    Nome: Pedro\n",
      "    Endereco: São Manuel 99\n",
      "    Idade: 60\n",
      "    Favorito: True\n",
      "    \n"
     ]
    }
   ],
   "source": [
    "consultar(agenda, \"fernando@dfdfd\")\n",
    "print(\"----- favoritando -----\")\n",
    "favoritar(agenda, \"fernando@dfdfd\")\n",
    "consultar(agenda, \"fernando@dfdfd\")\n"
   ]
  },
  {
   "cell_type": "code",
   "execution_count": null,
   "id": "066a98c9",
   "metadata": {},
   "outputs": [],
   "source": [
    "agenda = {}\n",
    "\n",
    "def cadastrar(agenda, email, nome, idade, endereco, favorito=False):\n",
    "    if email not in agenda:\n",
    "        agenda[email] = [nome, idade, endereco, favorito]\n",
    "\n",
    "def listar(agenda):\n",
    "    for email, dados in agenda.items():\n",
    "        print(f'''Email: {email}\n",
    "    Nome: {dados[0]}\n",
    "    Endereco: {dados[2]}\n",
    "    Idade: {dados[1]}\n",
    "    Favorito: {dados[3]}\n",
    "    ''')\n",
    "        \n",
    "def consultar(agenda, email):\n",
    "    dados = agenda[email]\n",
    "    print(f'''Email: {email}\n",
    "    Nome: {dados[0]}\n",
    "    Endereco: {dados[2]}\n",
    "    Idade: {dados[1]}\n",
    "    Favorito: {dados[3]}\n",
    "    ''')\n",
    "\n",
    "def apagar(agenda, email):\n",
    "    del agenda[email]\n",
    "\n",
    "def favoritar(agenda, email):\n",
    "    agenda[email][3] = True\n",
    "\n",
    "def atualizar(agenda, email, nome, idade, endereco, favorito=False):\n",
    "    agenda[email] = [nome, idade, endereco, favorito]\n"
   ]
  }
 ],
 "metadata": {
  "kernelspec": {
   "display_name": "Python 3",
   "language": "python",
   "name": "python3"
  },
  "language_info": {
   "codemirror_mode": {
    "name": "ipython",
    "version": 3
   },
   "file_extension": ".py",
   "mimetype": "text/x-python",
   "name": "python",
   "nbconvert_exporter": "python",
   "pygments_lexer": "ipython3",
   "version": "3.13.3"
  }
 },
 "nbformat": 4,
 "nbformat_minor": 5
}
