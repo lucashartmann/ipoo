{
 "cells": [
  {
   "cell_type": "markdown",
   "metadata": {},
   "source": [
    "# Exercícios sobre o Uso do Valor de Resposta de Funções\n",
    "\n",
    "Os exercícios abaixo têm como objetivo treinar o uso do valor de retorno de funções para realizar operações novas usando eles."
   ]
  },
  {
   "cell_type": "markdown",
   "metadata": {},
   "source": [
    "## Exercício 1\n",
    "\n",
    "Dada a função abaixo, escreva um programa que use o valor de retorno para calcular o dobro da soma de dois números.\n"
   ]
  },
  {
   "cell_type": "code",
   "execution_count": 27,
   "id": "10fe270a",
   "metadata": {},
   "outputs": [],
   "source": [
    "def soma(a, b):\n",
    "    return a + b"
   ]
  },
  {
   "cell_type": "markdown",
   "id": "8785664a",
   "metadata": {},
   "source": [
    "sua resposta:"
   ]
  },
  {
   "cell_type": "code",
   "execution_count": null,
   "id": "39a7b798",
   "metadata": {},
   "outputs": [
    {
     "name": "stdout",
     "output_type": "stream",
     "text": [
      "Soma: 6\n",
      "Dobro: 12\n"
     ]
    }
   ],
   "source": [
    "adicao = soma(2,4)\n",
    "dobro_adicao = adicao * 2\n",
    "print(\"Soma:\", adicao)\n",
    "print(\"Dobro:\", dobro_adicao)"
   ]
  },
  {
   "cell_type": "code",
   "execution_count": 29,
   "id": "b009e3a1",
   "metadata": {},
   "outputs": [
    {
     "name": "stdout",
     "output_type": "stream",
     "text": [
      "Dobro: 12\n"
     ]
    }
   ],
   "source": [
    "dobro = soma(2,4) * 2\n",
    "print(\"Dobro:\", dobro)"
   ]
  },
  {
   "cell_type": "code",
   "execution_count": 30,
   "id": "49fe6b3c",
   "metadata": {},
   "outputs": [
    {
     "name": "stdout",
     "output_type": "stream",
     "text": [
      "Dobro: 12\n"
     ]
    }
   ],
   "source": [
    "print(\"Dobro:\", (soma(2,4) * 2))"
   ]
  },
  {
   "cell_type": "markdown",
   "id": "02aeab2d",
   "metadata": {},
   "source": [
    "dar um nome à nova função"
   ]
  },
  {
   "cell_type": "code",
   "execution_count": 38,
   "id": "d7dcf295",
   "metadata": {},
   "outputs": [],
   "source": [
    "def dobro_da_soma():\n",
    "    soma_de_dois = soma(3, 5)\n",
    "    dobro_da_soma = 2 * soma_de_dois\n",
    "    print(dobro_da_soma)"
   ]
  },
  {
   "cell_type": "code",
   "execution_count": null,
   "id": "a9bcd4c2",
   "metadata": {},
   "outputs": [],
   "source": [
    "def dobro():\n",
    "    soma_de_dois = soma(3, 5)\n",
    "    dobro_da_soma = 2 * soma_de_dois\n",
    "    print(dobro_da_soma)"
   ]
  },
  {
   "cell_type": "markdown",
   "id": "1ced5418",
   "metadata": {},
   "source": [
    "generalizar a função"
   ]
  },
  {
   "cell_type": "code",
   "execution_count": 7,
   "id": "faddfd16",
   "metadata": {},
   "outputs": [],
   "source": [
    "def dobro_da_soma(a, b):\n",
    "    soma_de_dois = soma(a, b)\n",
    "    dobro_da_soma = 2 * soma_de_dois\n",
    "    return dobro_da_soma"
   ]
  },
  {
   "cell_type": "code",
   "execution_count": 9,
   "id": "e96a4ae5",
   "metadata": {},
   "outputs": [],
   "source": [
    "def dobro_da_soma(soma):\n",
    "    dobro_da_soma = 2 * soma\n",
    "    return dobro_da_soma"
   ]
  },
  {
   "cell_type": "markdown",
   "id": "3d19fd3f",
   "metadata": {},
   "source": [
    "uso:"
   ]
  },
  {
   "cell_type": "code",
   "execution_count": 8,
   "id": "31d2bdfd",
   "metadata": {},
   "outputs": [
    {
     "name": "stdout",
     "output_type": "stream",
     "text": [
      "Dobro: 14\n"
     ]
    }
   ],
   "source": [
    "dobro = dobro_da_soma(2,5)\n",
    "print(\"Dobro:\", dobro)"
   ]
  },
  {
   "cell_type": "code",
   "execution_count": 10,
   "id": "ba9d86b8",
   "metadata": {},
   "outputs": [
    {
     "name": "stdout",
     "output_type": "stream",
     "text": [
      "Dobro: 14\n"
     ]
    }
   ],
   "source": [
    "soma = 2 + 5\n",
    "dobro = dobro_da_soma(soma)\n",
    "print(\"Dobro:\", dobro)"
   ]
  },
  {
   "cell_type": "markdown",
   "metadata": {},
   "source": [
    "## Exercício 2\n",
    "\n",
    "Dada a função abaixo, escreva um programa que use o valor de retorno para verificar se o maior número de uma lista é par ou ímpar."
   ]
  },
  {
   "cell_type": "code",
   "execution_count": 11,
   "id": "1f282472",
   "metadata": {},
   "outputs": [],
   "source": [
    "def maior(lista):\n",
    "    return max(lista)"
   ]
  },
  {
   "cell_type": "markdown",
   "id": "00d2524a",
   "metadata": {},
   "source": [
    "sua resposta:"
   ]
  },
  {
   "cell_type": "code",
   "execution_count": null,
   "id": "16cfc1f2",
   "metadata": {},
   "outputs": [
    {
     "name": "stdout",
     "output_type": "stream",
     "text": [
      "O maior da lista é ímpar\n"
     ]
    }
   ],
   "source": [
    "lista_numeros = [1,2,3,4,5,10,25]\n",
    "maior_da_lista = maior(lista_numeros)\n",
    "if maior_da_lista % 2 == 0:\n",
    "    print(f\"{maior_da_lista} é par\")\n",
    "else:\n",
    "    print(f\"{maior_da_lista} é ímpar\")"
   ]
  },
  {
   "cell_type": "markdown",
   "metadata": {},
   "source": [
    "## Exercício 3\n",
    "\n",
    "Dada a função abaixo, escreva um programa que use o valor de retorno para contar quantas letras maiúsculas existem em uma string convertida para maiúsculas."
   ]
  },
  {
   "cell_type": "code",
   "execution_count": 15,
   "id": "4631e7fe",
   "metadata": {},
   "outputs": [],
   "source": [
    "def para_maiusculas(texto):\n",
    "    return texto.upper()"
   ]
  },
  {
   "cell_type": "markdown",
   "id": "73b0e1bc",
   "metadata": {},
   "source": [
    "sua resposta:"
   ]
  },
  {
   "cell_type": "code",
   "execution_count": 16,
   "id": "e95eb3e9",
   "metadata": {},
   "outputs": [
    {
     "name": "stdout",
     "output_type": "stream",
     "text": [
      "ROSANE possui 6 letras maiúsculas\n"
     ]
    }
   ],
   "source": [
    "texto = \"Rosane\"\n",
    "texto = para_maiusculas(texto)\n",
    "print(texto, \"possui\", len(texto), \"letras maiúsculas\")\n"
   ]
  },
  {
   "cell_type": "markdown",
   "metadata": {},
   "source": [
    "## Exercício 4\n",
    "\n",
    "Dada a função abaixo, escreva um programa que use o valor de retorno para calcular a soma dos quadrados de dois números.\n"
   ]
  },
  {
   "cell_type": "code",
   "execution_count": 18,
   "id": "d2df6024",
   "metadata": {},
   "outputs": [],
   "source": [
    "def quadrado(n):\n",
    "    return n ** 2"
   ]
  },
  {
   "cell_type": "markdown",
   "id": "9c1d6848",
   "metadata": {},
   "source": [
    "sua resposta:"
   ]
  },
  {
   "cell_type": "code",
   "execution_count": null,
   "id": "1d8872dd",
   "metadata": {},
   "outputs": [
    {
     "name": "stdout",
     "output_type": "stream",
     "text": [
      "Soma 13\n"
     ]
    }
   ],
   "source": [
    "soma_quadrado = quadrado(2) + quadrado(3)\n",
    "print(\"Soma\", soma)"
   ]
  },
  {
   "cell_type": "code",
   "execution_count": 31,
   "id": "5f67d6f6",
   "metadata": {},
   "outputs": [
    {
     "name": "stdout",
     "output_type": "stream",
     "text": [
      "13\n"
     ]
    }
   ],
   "source": [
    "print(quadrado(2) + quadrado(3))"
   ]
  },
  {
   "cell_type": "markdown",
   "metadata": {},
   "source": [
    "## Exercício 5\n",
    "\n",
    "Dada a função abaixo, escreva um programa que use o valor de retorno para calcular a área de um triângulo e verificar se ela é maior que 50."
   ]
  },
  {
   "cell_type": "code",
   "execution_count": 20,
   "id": "291f60a6",
   "metadata": {},
   "outputs": [],
   "source": [
    "def area_triangulo(base, altura):\n",
    "    return 0.5 * base * altura"
   ]
  },
  {
   "cell_type": "markdown",
   "id": "4d1b75f0",
   "metadata": {},
   "source": [
    "sua resposta:"
   ]
  },
  {
   "cell_type": "code",
   "execution_count": null,
   "id": "7d97563e",
   "metadata": {},
   "outputs": [
    {
     "name": "stdout",
     "output_type": "stream",
     "text": [
      "Área: 25.0 menor que 50\n"
     ]
    }
   ],
   "source": [
    "area = area_triangulo(10,5)\n",
    "if area > 50:\n",
    "    print(f\"Área: {area} maior que 50\")\n",
    "else: \n",
    "    print(f\"Área: {area} menor que 50\")"
   ]
  },
  {
   "cell_type": "code",
   "execution_count": 36,
   "id": "1851f600",
   "metadata": {},
   "outputs": [
    {
     "name": "stdout",
     "output_type": "stream",
     "text": [
      "Menor\n"
     ]
    }
   ],
   "source": [
    "area = area_triangulo(10,5)\n",
    "print(\"Maior\" if area > 50  else \"Menor\")"
   ]
  }
 ],
 "metadata": {
  "kernelspec": {
   "display_name": "Python 3",
   "language": "python",
   "name": "python3"
  },
  "language_info": {
   "codemirror_mode": {
    "name": "ipython",
    "version": 3
   },
   "file_extension": ".py",
   "mimetype": "text/x-python",
   "name": "python",
   "nbconvert_exporter": "python",
   "pygments_lexer": "ipython3",
   "version": "3.13.3"
  }
 },
 "nbformat": 4,
 "nbformat_minor": 5
}
