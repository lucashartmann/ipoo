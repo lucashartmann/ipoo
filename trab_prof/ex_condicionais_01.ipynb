{
 "cells": [
  {
   "cell_type": "markdown",
   "metadata": {},
   "source": [
    "\n",
    "### Exercício 1: Verificação de Idade\n",
    "\n",
    "**Instruções:**\n",
    "Escreva um programa que receba a idade de uma pessoa e imprima se ela é maior de idade (18 anos ou mais) ou menor de idade.\n",
    "\n",
    "**Exemplo de Entrada e Saída:**\n",
    "- Entrada: 20\n",
    "- Saída: \"Você é maior de idade.\"\n",
    "- Entrada: 15\n",
    "- Saída: \"Você é menor de idade.\"\n"
   ]
  },
  {
   "cell_type": "code",
   "execution_count": null,
   "metadata": {},
   "outputs": [],
   "source": []
  },
  {
   "cell_type": "markdown",
   "metadata": {},
   "source": [
    "\n",
    "### Exercício 2: Verificação de Par ou Ímpar\n",
    "\n",
    "**Instruções:**\n",
    "Escreva um programa que receba um número inteiro e imprima se ele é par ou ímpar.\n",
    "\n",
    "**Exemplo de Entrada e Saída:**\n",
    "- Entrada: 4\n",
    "- Saída: \"O número é par.\"\n",
    "- Entrada: 7\n",
    "- Saída: \"O número é ímpar.\"\n"
   ]
  },
  {
   "cell_type": "code",
   "execution_count": null,
   "metadata": {},
   "outputs": [],
   "source": []
  },
  {
   "cell_type": "markdown",
   "metadata": {},
   "source": [
    "\n",
    "### Exercício 3: Verificação de Aprovação\n",
    "\n",
    "**Instruções:**\n",
    "Escreva um programa que receba a nota de um aluno e imprima se ele foi aprovado (nota 7 ou mais) ou reprovado (nota menor que 7).\n",
    "\n",
    "**Exemplo de Entrada e Saída:**\n",
    "- Entrada: 8\n",
    "- Saída: \"Você foi aprovado.\"\n",
    "- Entrada: 6\n",
    "- Saída: \"Você foi reprovado.\"\n"
   ]
  },
  {
   "cell_type": "code",
   "execution_count": null,
   "metadata": {},
   "outputs": [],
   "source": []
  },
  {
   "cell_type": "markdown",
   "metadata": {},
   "source": [
    "\n",
    "### Exercício 4: Verificação de Palíndromo\n"
   ]
  },
  {
   "cell_type": "markdown",
   "metadata": {},
   "source": [
    "\n",
    "**Instruções:**\n",
    "Escreva um programa que receba uma string e verifique se ela é um palíndromo (lê-se da mesma forma de trás para frente). Imprima \"A string é um palíndromo.\" ou \"A string não é um palíndromo.\"\n",
    "\n",
    "**Exemplo de Entrada e Saída:**\n",
    "- Entrada: \"radar\"\n",
    "- Saída: \"A string é um palíndromo.\"\n",
    "- Entrada: \"python\"\n",
    "- Saída: \"A string não é um palíndromo.\"\n"
   ]
  },
  {
   "cell_type": "code",
   "execution_count": null,
   "metadata": {},
   "outputs": [],
   "source": []
  },
  {
   "cell_type": "markdown",
   "metadata": {},
   "source": [
    "\n",
    "### Exercício 5: Verificação de Vogal ou Consoante\n"
   ]
  },
  {
   "cell_type": "markdown",
   "metadata": {},
   "source": [
    "\n",
    "**Instruções:**\n",
    "Escreva um programa que receba um caractere e verifique se ele é uma vogal ou uma consoante. Imprima \"O caractere é uma vogal.\" ou \"O caractere é uma consoante.\"\n",
    "\n",
    "**Exemplo de Entrada e Saída:**\n",
    "- Entrada: \"a\"\n",
    "- Saída: \"O caractere é uma vogal.\"\n",
    "- Entrada: \"b\"\n",
    "- Saída: \"O caractere é uma consoante.\"\n"
   ]
  },
  {
   "cell_type": "code",
   "execution_count": null,
   "metadata": {},
   "outputs": [],
   "source": []
  },
  {
   "cell_type": "markdown",
   "metadata": {},
   "source": [
    "\n",
    "### Exercício 6: Verificação de Senha\n"
   ]
  },
  {
   "cell_type": "markdown",
   "metadata": {},
   "source": [
    "\n",
    "**Instruções:**\n",
    "Escreva um programa que receba uma senha e verifique se ela é válida. A senha é considerada válida se tiver pelo menos 8 caracteres. Imprima \"Senha válida.\" ou \"Senha inválida.\"\n",
    "\n",
    "**Exemplo de Entrada e Saída:**\n",
    "- Entrada: \"senha123\"\n",
    "- Saída: \"Senha válida.\"\n",
    "- Entrada: \"senha\"\n",
    "- Saída: \"Senha inválida.\"\n"
   ]
  },
  {
   "cell_type": "code",
   "execution_count": null,
   "metadata": {},
   "outputs": [],
   "source": []
  }
 ],
 "metadata": {
  "kernelspec": {
   "display_name": "Python 3",
   "language": "python",
   "name": "python3"
  },
  "language_info": {
   "codemirror_mode": {
    "name": "ipython",
    "version": 3
   },
   "file_extension": ".py",
   "mimetype": "text/x-python",
   "name": "python",
   "nbconvert_exporter": "python",
   "pygments_lexer": "ipython3",
   "version": "3.13.2"
  }
 },
 "nbformat": 4,
 "nbformat_minor": 2
}
