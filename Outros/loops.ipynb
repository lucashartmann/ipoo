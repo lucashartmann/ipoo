{
 "cells": [
  {
   "cell_type": "markdown",
   "id": "c2cfab19",
   "metadata": {},
   "source": [
    "## Loops\n",
    "\n",
    "Um loop repete um bloco de código várias vezes.\n",
    "\n",
    "Existem dois tipos principais de loops em Python: `for` e `while`. Vamos começar com o loop `for`."
   ]
  },
  {
   "cell_type": "markdown",
   "id": "a1779cb9",
   "metadata": {},
   "source": [
    "### Loop `for`\n",
    "\n",
    "O loop `for` é usado quando você sabe exatamente quantas vezes quer repetir algo. Ele é como uma lista de tarefas que você precisa fazer uma após a outra.\n",
    "\n",
    "Vamos ver um exemplo simples:"
   ]
  },
  {
   "cell_type": "code",
   "execution_count": 1,
   "id": "bf598838",
   "metadata": {},
   "outputs": [
    {
     "name": "stdout",
     "output_type": "stream",
     "text": [
      "Olá, mundo!\n",
      "Olá, mundo!\n",
      "Olá, mundo!\n",
      "Olá, mundo!\n",
      "Olá, mundo!\n"
     ]
    }
   ],
   "source": [
    "for i in range(5):\n",
    "    print(\"Olá, mundo!\")"
   ]
  },
  {
   "cell_type": "markdown",
   "id": "416eb47b",
   "metadata": {},
   "source": [
    "Neste exemplo, o loop `for` repete o bloco de código 5 vezes. A variável `i` assume os valores 0, 1, 2, 3 e 4, e a mensagem \"Olá, mundo!\" é impressa em cada iteração."
   ]
  },
  {
   "cell_type": "markdown",
   "id": "35eb52c7",
   "metadata": {},
   "source": [
    "### Loop `while`\n",
    "\n",
    "O loop `while` é usado quando você quer repetir algo até que uma condição seja falsa. Ele é como uma tarefa que você continua fazendo enquanto uma certa condição for verdadeira."
   ]
  },
  {
   "cell_type": "code",
   "execution_count": 2,
   "id": "98e1ef24",
   "metadata": {},
   "outputs": [
    {
     "name": "stdout",
     "output_type": "stream",
     "text": [
      "Olá, mundo!\n",
      "Olá, mundo!\n",
      "Olá, mundo!\n",
      "Olá, mundo!\n",
      "Olá, mundo!\n"
     ]
    }
   ],
   "source": [
    "contador = 0\n",
    "\n",
    "while contador < 5:\n",
    "    print(\"Olá, mundo!\")\n",
    "    contador += 1"
   ]
  },
  {
   "cell_type": "markdown",
   "id": "3fdbda24",
   "metadata": {},
   "source": [
    "Neste exemplo, o loop `while` repete o bloco de código enquanto a variável `contador` for menor que 5. A cada iteração, a mensagem \"Olá, mundo!\" é impressa e o valor de `contador` é incrementado em 1. Quando `contador` chega a 5, a condição se torna falsa e o loop para."
   ]
  },
  {
   "cell_type": "markdown",
   "id": "9ee35694",
   "metadata": {},
   "source": [
    "### Exemplo Prático: Contando de 1 a 10\n",
    "\n",
    "Vamos ver como podemos usar um loop `for` para contar de 1 a 10:"
   ]
  },
  {
   "cell_type": "code",
   "execution_count": 3,
   "id": "8370c17b",
   "metadata": {},
   "outputs": [
    {
     "name": "stdout",
     "output_type": "stream",
     "text": [
      "1\n",
      "2\n",
      "3\n",
      "4\n",
      "5\n",
      "6\n",
      "7\n",
      "8\n",
      "9\n",
      "10\n"
     ]
    }
   ],
   "source": [
    "for i in range(1, 11):\n",
    "    print(i)"
   ]
  },
  {
   "cell_type": "markdown",
   "id": "6df31ac1",
   "metadata": {},
   "source": [
    "Neste exemplo, o loop `for` começa em 1 e vai até 10. A variável `i` assume os valores 1, 2, 3, ..., 10, e cada valor é impresso."
   ]
  },
  {
   "cell_type": "markdown",
   "id": "807f4eaa",
   "metadata": {},
   "source": [
    "### Exemplo Prático: Pedindo Senha\n",
    "\n",
    "Vamos ver como podemos usar um loop `while` para pedir uma senha até que a senha correta seja digitada:"
   ]
  },
  {
   "cell_type": "code",
   "execution_count": 4,
   "id": "6356408a",
   "metadata": {},
   "outputs": [
    {
     "name": "stdout",
     "output_type": "stream",
     "text": [
      "Senha correta! Acesso permitido.\n"
     ]
    }
   ],
   "source": [
    "senha_correta = \"1234\"\n",
    "senha_digitada = \"\"\n",
    "\n",
    "while senha_digitada != senha_correta:\n",
    "    senha_digitada = input(\"Digite a senha: \")\n",
    "    if senha_digitada == senha_correta:\n",
    "        print(\"Senha correta! Acesso permitido.\")\n",
    "    else:\n",
    "        print(\"Senha incorreta. Tente novamente.\")"
   ]
  },
  {
   "cell_type": "markdown",
   "id": "d6f9e0e7",
   "metadata": {},
   "source": [
    "Neste exemplo, o loop `while` continua pedindo a senha até que a senha correta seja digitada. Se a senha digitada for correta, a mensagem \"Senha correta! Acesso permitido.\" é impressa e o loop para. Se a senha for incorreta, a mensagem \"Senha incorreta. Tente novamente.\" é impressa e o loop continua."
   ]
  }
 ],
 "metadata": {
  "kernelspec": {
   "display_name": "Python 3",
   "language": "python",
   "name": "python3"
  },
  "language_info": {
   "codemirror_mode": {
    "name": "ipython",
    "version": 3
   },
   "file_extension": ".py",
   "mimetype": "text/x-python",
   "name": "python",
   "nbconvert_exporter": "python",
   "pygments_lexer": "ipython3",
   "version": "3.13.2"
  }
 },
 "nbformat": 4,
 "nbformat_minor": 5
}
