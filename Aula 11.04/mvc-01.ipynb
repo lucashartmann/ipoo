{
 "cells": [
  {
   "cell_type": "markdown",
   "id": "8de3d807",
   "metadata": {},
   "source": [
    "## MVC\n",
    "\n",
    "Vamos novamente transformar passo-a-passo os trecho de código do programa abaixo em um programa escrito segundo a arquitetura MVC. \n",
    "\n",
    "Desta vez `seremos mais estritos` e cada operação de Model, View e Controller terá sua própria função.\n",
    "\n",
    "Para isso, vamos:\n",
    "\n",
    "1. transformar o código de cadastro de livro em um função\n",
    "    - como essa função afeta os dados do programa, ela faz parte da Model\n",
    "1. retirar da função o código que é de responsabilidade da View\n",
    "1. retirar da função o código que é de responsabilidade do Controller\n",
    "1. escrever um trecho de código (Controller) que usará a View e a Model para executar o cadastro de livros"
   ]
  },
  {
   "cell_type": "markdown",
   "id": "a9448dd0",
   "metadata": {},
   "source": [
    "## Inicialização dos dados da Model"
   ]
  },
  {
   "cell_type": "markdown",
   "id": "bfbfed86",
   "metadata": {},
   "source": [
    "Nossa model é uma list. \n",
    "Poderia ser um banco de dados\n",
    "ou um arquivo..."
   ]
  },
  {
   "cell_type": "code",
   "execution_count": null,
   "id": "88bf3208",
   "metadata": {},
   "outputs": [],
   "source": [
    "livros = [\n",
    "    \"DOM CASMURRO\",\n",
    "    \"O GUARANI\",\n",
    "    \"MEMÓRIAS PÓSTUMAS DE BRÁS CUBAS\",\n",
    "    \"A MORENINHA\",\n",
    "    \"VIDAS SECAS\",\n",
    "    \"O CORTIÇO\",\n",
    "    \"CAPITÃES DA AREIA\",\n",
    "    \"A HORA DA ESTRELA\",\n",
    "    \"IRACEMA\",\n",
    "    \"O PRIMO BASÍLIO\"\n",
    "]"
   ]
  },
  {
   "cell_type": "markdown",
   "id": "cc8242ac",
   "metadata": {},
   "source": [
    "## Código original\n",
    "\n",
    "Este é o código que faz o cadastro. Ele executa funções de Model, View e Controller sem distinção."
   ]
  },
  {
   "cell_type": "markdown",
   "id": "ba7af0d4",
   "metadata": {},
   "source": [
    "A *sequência* em si deste programa\n",
    "estaria codificada no `Controller`\n",
    "que é a parte do sistema\n",
    "que \"orquestra\" as operações\n",
    "necessárias (de `View` e `Model`)\n",
    "para a realização de um Use Case.\n"
   ]
  },
  {
   "cell_type": "code",
   "execution_count": null,
   "id": "ab160724",
   "metadata": {},
   "outputs": [],
   "source": [
    "livro_novo = input(\"Digite nome do livro: \").upper() # Pedido à View\n",
    "\n",
    "# Controller decidindo o que fazer\n",
    "if livro_novo not in livros:  # Acesso à model\n",
    "    livros.append(livro_novo) # Acesso à model\n",
    "else:\n",
    "    print(\"Livro já cadastrado\") # Pedido à View\n",
    "\n",
    "print(list(reversed(livros))) # # Pedido à View"
   ]
  },
  {
   "cell_type": "markdown",
   "id": "a3513b49",
   "metadata": {},
   "source": [
    "## Refatorando para MVC"
   ]
  },
  {
   "cell_type": "markdown",
   "id": "1ee14f81",
   "metadata": {},
   "source": [
    "Primeiro precisamos transformar o código de cadastro em uma função."
   ]
  },
  {
   "cell_type": "code",
   "execution_count": null,
   "id": "aaab6f04",
   "metadata": {},
   "outputs": [],
   "source": [
    "def cadastrar_livro():\n",
    "    livro_novo = input(\"Digite nome do livro: \").upper()\n",
    "\n",
    "    if livro_novo not in livros:\n",
    "        livros.append(livro_novo)\n",
    "    else:\n",
    "        print(\"Livro já cadastrado\")\n",
    "\n",
    "    print(list(reversed(livros))) "
   ]
  },
  {
   "cell_type": "markdown",
   "id": "53826242",
   "metadata": {},
   "source": [
    "## Separando a View\n",
    "\n",
    "Agora vamos separar o código que é de responsabilidade da View. A View é responsável por interagir com o usuário, ou seja, exibir informações e coletar entradas."
   ]
  },
  {
   "cell_type": "code",
   "execution_count": null,
   "id": "4952f289",
   "metadata": {},
   "outputs": [],
   "source": [
    "def exibir_mensagem(mensagem):\n",
    "    print(mensagem)\n",
    "\n",
    "def obter_entrada(mensagem):\n",
    "    return input(mensagem).upper()"
   ]
  },
  {
   "cell_type": "markdown",
   "id": "652a1bc7",
   "metadata": {},
   "source": [
    "## Separando a Model\n",
    "\n",
    "Agora vamos separar o código que é de responsabilidade da Model. A Model é responsável por gerenciar os dados do programa."
   ]
  },
  {
   "cell_type": "code",
   "execution_count": null,
   "id": "c14230e8",
   "metadata": {},
   "outputs": [],
   "source": [
    "def adicionar_livro(livro, lista_livros):\n",
    "    livro = livro.upper()\n",
    "    if livro not in lista_livros:\n",
    "        lista_livros.append(livro)\n",
    "        return True\n",
    "    return False"
   ]
  },
  {
   "cell_type": "code",
   "execution_count": 1,
   "id": "91614e18",
   "metadata": {},
   "outputs": [],
   "source": [
    "def excluir_livro(livro, lista_livros):\n",
    "    if livro in lista_livros:\n",
    "        lista_livros.remove(livro)\n",
    "        return True\n",
    "    else: \n",
    "        return False"
   ]
  },
  {
   "cell_type": "code",
   "execution_count": null,
   "id": "fa49a30b",
   "metadata": {},
   "outputs": [],
   "source": [
    "def possuiLivro(livro, lista_livros):\n",
    "    if livro in lista_livros:\n",
    "        return True\n",
    "    else:\n",
    "        return False"
   ]
  },
  {
   "cell_type": "code",
   "execution_count": null,
   "id": "490d71bb",
   "metadata": {},
   "outputs": [],
   "source": [
    "def pesquisar_livro(texto, lista_livros):\n",
    "    livro = texto.upper()\n",
    "    if livro in lista_livros:\n",
    "        return livro\n",
    "    else:\n",
    "        return None"
   ]
  },
  {
   "cell_type": "code",
   "execution_count": null,
   "id": "422f47a0",
   "metadata": {},
   "outputs": [],
   "source": [
    "def substituir_livro(novo_titulo, livro, lista_livros):\n",
    "    novo_livro = novo_titulo.upper()\n",
    "    if livro in lista_livros:\n",
    "        i = lista_livros.index[livro]\n",
    "        lista_livros[i] = novo_livro\n",
    "        return True\n",
    "    else:\n",
    "        return False"
   ]
  },
  {
   "cell_type": "markdown",
   "id": "7261973a",
   "metadata": {},
   "source": [
    "### Por que lista_livros é passada como parâmetro?\n",
    "\n",
    "Passar lista_livros como parâmetro para a função adicionar_livro() permite que a função seja mais genérica e reutilizável.\n",
    "\n",
    "- **Generalização**: A função não depende de uma variável global específica, podendo operar em qualquer lista de livros passada como argumento.\n",
    "- **Testabilidade**: Facilita a criação de testes unitários, pois podemos passar diferentes listas para verificar o comportamento da função.\n",
    "- **Isolamento**: Reduz o acoplamento entre a função e o restante do código, tornando o sistema mais modular e fácil de manter.\n",
    "\n",
    "Essa abordagem segue os princípios de design de software, dando maior flexibilidade e clareza ao código."
   ]
  },
  {
   "cell_type": "markdown",
   "id": "1e0f0d34",
   "metadata": {},
   "source": [
    "## Separando o Controller\n",
    "\n",
    "Por fim, vamos separar o código que é de responsabilidade do Controller. O Controller é responsável por orquestrar as operações entre a View e a Model."
   ]
  },
  {
   "cell_type": "code",
   "execution_count": null,
   "id": "0bb71715",
   "metadata": {},
   "outputs": [],
   "source": [
    "def cadastrar_livro_controller():\n",
    "    livro_novo = obter_entrada(\"Digite nome do livro: \")\n",
    "\n",
    "    if adicionar_livro(livro_novo, livros):\n",
    "        exibir_mensagem(\"Livro cadastrado com sucesso!\")\n",
    "    else:\n",
    "        exibir_mensagem(\"Erro. Livro já cadastrado\")\n",
    "\n",
    "    exibir_mensagem(list(reversed(livros)))"
   ]
  },
  {
   "cell_type": "code",
   "execution_count": null,
   "id": "769fbd41",
   "metadata": {},
   "outputs": [],
   "source": [
    "def remover_livro_controller():\n",
    "    livro = obter_entrada(\"Digite nome do livro: \")\n",
    "\n",
    "    if excluir_livro(livro, livros):\n",
    "        exibir_mensagem(\"Livro removido com sucesso!\")\n",
    "    else:\n",
    "        exibir_mensagem(\"Erro. Livro não está na lista\")\n",
    "\n",
    "    exibir_mensagem(list(reversed(livros)))"
   ]
  },
  {
   "cell_type": "code",
   "execution_count": null,
   "id": "c20a1c9a",
   "metadata": {},
   "outputs": [],
   "source": [
    "def pesquisar_livro_controller():\n",
    "    livro = obter_entrada(\"D\")"
   ]
  },
  {
   "cell_type": "code",
   "execution_count": null,
   "id": "408cbfed",
   "metadata": {},
   "outputs": [],
   "source": [
    "def hasLivro_livro_controller():"
   ]
  },
  {
   "cell_type": "code",
   "execution_count": null,
   "id": "612b27ce",
   "metadata": {},
   "outputs": [],
   "source": [
    "def substituir_livro_controller():"
   ]
  },
  {
   "cell_type": "markdown",
   "id": "c182f59f",
   "metadata": {},
   "source": [
    "## Outras Implementações para cadastrar_livro_controller\n",
    "\n",
    "Abaixo estão duas outras implementações possíveis para a função `cadastrar_livro_controller()` que respeitam a interface das funções já criadas."
   ]
  },
  {
   "cell_type": "markdown",
   "id": "e1fee908",
   "metadata": {},
   "source": [
    "Neste novo Controller usamos as mesmas funções:\n",
    "\n",
    "- adicionar_livro(livro, lista_livros) -> bool\n",
    "- exibir_mensagem(mensagem) -> None\n",
    "- obter_entrada(mensagem) -> str\n",
    "\n",
    "porém, controlamos a operação de cadastro de forma diferente: continuamos cadastrando livros `enquanto não for digitada a palavra 'SAIR'`."
   ]
  },
  {
   "cell_type": "code",
   "execution_count": null,
   "id": "90cd35a6",
   "metadata": {},
   "outputs": [],
   "source": [
    "def cadastrar_livro_controller_v2():\n",
    "    while True:\n",
    "        livro_novo = obter_entrada(\"Digite o nome do livro (ou 'SAIR' para encerrar): \")\n",
    "        if livro_novo == 'SAIR':\n",
    "            break\n",
    "\n",
    "        if adicionar_livro(livro_novo, livros):\n",
    "            exibir_mensagem(\"Livro cadastrado com sucesso!\")\n",
    "        else:\n",
    "            exibir_mensagem(\"Livro já cadastrado\")\n",
    "\n",
    "        exibir_mensagem(list(reversed(livros)))"
   ]
  },
  {
   "cell_type": "markdown",
   "id": "3c57ef6e",
   "metadata": {},
   "source": [
    "Nesta implementação, primeiro guardamos todos os livros a serem cadastrados em uma list auxiliar (um buffer) e só depois executamos as operações que afetam a model."
   ]
  },
  {
   "cell_type": "code",
   "execution_count": null,
   "id": "ce8daa41",
   "metadata": {},
   "outputs": [],
   "source": [
    "def cadastrar_livro_controller_v3():\n",
    "    livros_para_cadastrar = []\n",
    "    while True:\n",
    "        livro_novo = obter_entrada(\"Digite o nome do livro (ou 'FINALIZAR' para encerrar): \")\n",
    "        if livro_novo == 'FINALIZAR':\n",
    "            break\n",
    "        livros_para_cadastrar.append(livro_novo)\n",
    "\n",
    "    for livro in livros_para_cadastrar:\n",
    "        if adicionar_livro(livro, livros):\n",
    "            exibir_mensagem(f\"Livro '{livro}' cadastrado com sucesso!\")\n",
    "        else:\n",
    "            exibir_mensagem(f\"Livro '{livro}' já cadastrado\")\n",
    "\n",
    "    exibir_mensagem(list(reversed(livros)))"
   ]
  }
 ],
 "metadata": {
  "kernelspec": {
   "display_name": "Python 3",
   "language": "python",
   "name": "python3"
  },
  "language_info": {
   "codemirror_mode": {
    "name": "ipython",
    "version": 3
   },
   "file_extension": ".py",
   "mimetype": "text/x-python",
   "name": "python",
   "nbconvert_exporter": "python",
   "pygments_lexer": "ipython3",
   "version": "3.13.3"
  }
 },
 "nbformat": 4,
 "nbformat_minor": 5
}
