{
 "cells": [
  {
   "cell_type": "markdown",
   "id": "dc720d7f",
   "metadata": {},
   "source": [
    "## Desvios condicionais\n",
    "\n",
    "Imagine que você está em uma cozinha e quer fazer um bolo. Você precisa seguir uma receita, mas algumas etapas dependem de condições específicas. Por exemplo, se você tiver ovos, você pode fazer um bolo de chocolate. Se não tiver ovos, você pode fazer um bolo de banana. Essas decisões são como desvios condicionais em programação.\n",
    "\n",
    "Em Python, usamos a palavra-chave `if` (se) para criar essas decisões. Vamos ver um exemplo simples:\n"
   ]
  },
  {
   "cell_type": "code",
   "execution_count": 1,
   "id": "f099e67b",
   "metadata": {},
   "outputs": [
    {
     "name": "stdout",
     "output_type": "stream",
     "text": [
      "Você é menor de idade.\n"
     ]
    }
   ],
   "source": [
    "idade = 15\n",
    "\n",
    "if idade >= 18:\n",
    "    print(\"Você é maior de idade.\")\n",
    "else:\n",
    "    print(\"Você é menor de idade.\")\n"
   ]
  },
  {
   "cell_type": "markdown",
   "id": "1221f82a",
   "metadata": {},
   "source": [
    "\n",
    "Neste exemplo, o programa verifica se a variável `idade` é maior ou igual a 18. Se for verdadeiro, ele imprime \"Você é maior de idade.\" Se não for verdadeiro, ele imprime \"Você é menor de idade.\"\n",
    "\n",
    "Vamos detalhar essas etapas:\n",
    "\n",
    "1. **`if idade >= 18:`**: Essa é a *condição*. O programa verifica se a idade é maior ou igual a 18.\n",
    "2. **`print(\"Você é maior de idade.\")`**: Se a condição for verdadeira, o programa executa essa linha de código.\n",
    "3. **`else:`**: Isso significa \"senão\". Se a condição não for verdadeira, o programa executa o código abaixo.\n",
    "4. **`print(\"Você é menor de idade.\")`**: Se a condição não for verdadeira, o programa executa essa linha de código.\n",
    "\n",
    "Vamos ver outro exemplo:\n"
   ]
  },
  {
   "cell_type": "code",
   "execution_count": 2,
   "id": "68bad150",
   "metadata": {},
   "outputs": [
    {
     "name": "stdout",
     "output_type": "stream",
     "text": [
      "Vamos ao cinema.\n"
     ]
    }
   ],
   "source": [
    "tempo = \"chuvoso\"\n",
    "\n",
    "if tempo == \"ensolarado\":\n",
    "    print(\"Vamos à praia!\")\n",
    "else:\n",
    "    print(\"Vamos ao cinema.\")\n"
   ]
  },
  {
   "cell_type": "markdown",
   "id": "a5cd9c63",
   "metadata": {},
   "source": [
    "\n",
    "Neste exemplo, o programa verifica se a variável `tempo` é igual a \"ensolarado\". Se for verdadeiro, ele imprime \"Vamos à praia!\" Se não for verdadeiro, ele imprime \"Vamos ao cinema.\"\n",
    "\n",
    "Note como desvios condicionais são como caminhos que o programa pode seguir dependendo das condições que você define."
   ]
  }
 ],
 "metadata": {
  "kernelspec": {
   "display_name": "Python 3",
   "language": "python",
   "name": "python3"
  },
  "language_info": {
   "codemirror_mode": {
    "name": "ipython",
    "version": 3
   },
   "file_extension": ".py",
   "mimetype": "text/x-python",
   "name": "python",
   "nbconvert_exporter": "python",
   "pygments_lexer": "ipython3",
   "version": "3.13.2"
  }
 },
 "nbformat": 4,
 "nbformat_minor": 5
}
