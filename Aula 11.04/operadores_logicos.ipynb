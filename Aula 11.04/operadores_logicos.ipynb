{
 "cells": [
  {
   "cell_type": "markdown",
   "id": "6d18d216",
   "metadata": {},
   "source": [
    "## Operadores lógicos\n",
    "\n",
    "Agora que você já entende como usar desvios condicionais com `if` e `else` em Python, vamos aprender sobre operadores lógicos. \n",
    "\n",
    "Operadores lógicos nos ajudam a combinar várias condições em uma única expressão lógica. Isso é útil quando queremos verificar se mais de uma coisa é verdadeira ao mesmo tempo.\n",
    "\n",
    "Os principais operadores lógicos em Python são:\n",
    "\n",
    "1. **E lógico (`and`)**: Usado para verificar se duas condições são verdadeiras ao mesmo tempo.\n",
    "2. **OU lógico (`or`)**: Usado para verificar se pelo menos uma das condições é verdadeira.\n",
    "3. **NÃO lógico (`not`)**: Usado para inverter a verdade de uma condição.\n",
    "\n",
    "Vamos ver alguns exemplos:\n",
    "\n",
    "### Exemplo 1: Usando `and`"
   ]
  },
  {
   "cell_type": "code",
   "execution_count": 1,
   "id": "d5c644ef",
   "metadata": {},
   "outputs": [
    {
     "name": "stdout",
     "output_type": "stream",
     "text": [
      "Você pode dirigir.\n"
     ]
    }
   ],
   "source": [
    "idade = 20\n",
    "tem_carteira = True\n",
    "\n",
    "if idade >= 18 and tem_carteira:\n",
    "    print(\"Você pode dirigir.\")\n",
    "else:\n",
    "    print(\"Você não pode dirigir.\")"
   ]
  },
  {
   "cell_type": "markdown",
   "id": "2b731c03",
   "metadata": {},
   "source": [
    "Neste exemplo, o programa verifica se a idade é maior ou igual a 18 **e** (`and`) se a pessoa tem carteira de motorista. Ambos precisam ser verdadeiros para que a mensagem \"Você pode dirigir.\" seja impressa.\n",
    "\n",
    "### Exemplo 2: Usando `or`"
   ]
  },
  {
   "cell_type": "code",
   "execution_count": 7,
   "id": "3587844f",
   "metadata": {},
   "outputs": [
    {
     "name": "stdout",
     "output_type": "stream",
     "text": [
      "É fim de semana!\n"
     ]
    }
   ],
   "source": [
    "dia = \"domingo\"\n",
    "tempo = \"chuvoso\"\n",
    "\n",
    "if dia == \"sábado\" or dia == \"domingo\":\n",
    "    print(\"É fim de semana!\")\n",
    "else:\n",
    "    print(\"É dia de semana.\")"
   ]
  },
  {
   "cell_type": "markdown",
   "id": "fbfbf785",
   "metadata": {},
   "source": [
    "Neste exemplo, o programa verifica se o dia é \"sábado\" **ou** (`or`)\"domingo\". Se pelo menos uma dessas condições for verdadeira, a mensagem \"É fim de semana!\" será impressa.\n",
    "\n",
    "### Exemplo 3: Usando `not`"
   ]
  },
  {
   "cell_type": "code",
   "execution_count": 1,
   "id": "678dccaa",
   "metadata": {},
   "outputs": [
    {
     "name": "stdout",
     "output_type": "stream",
     "text": [
      "Vamos à praia!\n"
     ]
    }
   ],
   "source": [
    "esta_chovendo = False\n",
    "\n",
    "if not esta_chovendo:\n",
    "    print(\"Vamos à praia!\")\n",
    "else:\n",
    "    print(\"Vamos ao cinema.\")"
   ]
  },
  {
   "cell_type": "markdown",
   "id": "891a7fa1",
   "metadata": {},
   "source": [
    "Neste exemplo, o programa verifica se **não** (`not`) está chovendo. Se a condição `esta_chovendo` for falsa, a mensagem \"Vamos à praia!\" será impressa.\n",
    "\n",
    "### Comparando Strings"
   ]
  },
  {
   "cell_type": "code",
   "execution_count": 4,
   "id": "949e1cc2",
   "metadata": {},
   "outputs": [
    {
     "name": "stdout",
     "output_type": "stream",
     "text": [
      "Você escolheu uma fruta cítrica.\n"
     ]
    }
   ],
   "source": [
    "fruta = \"maçã\"\n",
    "\n",
    "if fruta == \"maçã\" or fruta == \"laranja\":\n",
    "    print(\"Você escolheu uma fruta cítrica.\")\n",
    "else:\n",
    "    print(\"Você escolheu outra fruta.\")"
   ]
  },
  {
   "cell_type": "markdown",
   "id": "b73dc363",
   "metadata": {},
   "source": [
    "Neste exemplo, o programa verifica se a variável `fruta` é igual a \"maçã\" **ou** \"laranja\". Se pelo menos uma dessas condições for verdadeira, a mensagem \"Você escolheu uma fruta cítrica.\" será impressa.\n",
    "\n",
    "### Exemplo com `and` e Strings"
   ]
  },
  {
   "cell_type": "code",
   "execution_count": 5,
   "id": "b730fb3e",
   "metadata": {},
   "outputs": [
    {
     "name": "stdout",
     "output_type": "stream",
     "text": [
      "Olá, Ana Silva! 2\n"
     ]
    }
   ],
   "source": [
    "nome = \"Ana\"\n",
    "sobrenome = \"Silva\"\n",
    "\n",
    "if nome == 2 and sobrenome == \"Silva\":\n",
    "    print(f\"Olá, Ana Silva! \")\n",
    "else:\n",
    "    print(\"Olá, visitante!\")"
   ]
  }
 ],
 "metadata": {
  "kernelspec": {
   "display_name": "Python 3",
   "language": "python",
   "name": "python3"
  },
  "language_info": {
   "codemirror_mode": {
    "name": "ipython",
    "version": 3
   },
   "file_extension": ".py",
   "mimetype": "text/x-python",
   "name": "python",
   "nbconvert_exporter": "python",
   "pygments_lexer": "ipython3",
   "version": "3.13.3"
  }
 },
 "nbformat": 4,
 "nbformat_minor": 5
}
